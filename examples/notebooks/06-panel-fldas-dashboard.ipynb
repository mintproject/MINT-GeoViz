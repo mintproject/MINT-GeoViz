{
 "cells": [
  {
   "cell_type": "markdown",
   "metadata": {},
   "source": [
    "# FLDAS Explorer Dashboard\n",
    "Modified: Jun 13, 2019"
   ]
  },
  {
   "cell_type": "code",
   "execution_count": null,
   "metadata": {},
   "outputs": [],
   "source": [
    "%load_ext autoreload\n",
    "%autoreload 2\n",
    "\n",
    "import os, sys, time\n",
    "import datetime as dt\n",
    "import numpy as np\n",
    "import scipy as sp\n",
    "import pandas as pd\n",
    "import geopandas as gpd\n",
    "import intake,param\n",
    "    \n",
    "from pathlib import Path\n",
    "from pprint import pprint as pp\n",
    "p = print \n",
    "\n",
    "from sklearn.externals import joblib\n",
    "import pdb\n",
    "\n",
    "from tqdm import tqdm, trange\n",
    "import ipywidgets as iw\n",
    "\n",
    "import matplotlib.pyplot as plt\n",
    "%matplotlib inline\n",
    "\n",
    "# ignore warnings\n",
    "import warnings\n",
    "if not sys.warnoptions:\n",
    "    warnings.simplefilter('ignore')\n",
    "    \n",
    "# Don't generate bytecode\n",
    "sys.dont_write_bytecode = True"
   ]
  },
  {
   "cell_type": "code",
   "execution_count": null,
   "metadata": {},
   "outputs": [],
   "source": [
    "import holoviews as hv\n",
    "import xarray as xr\n",
    "import xarray.ufuncs as xu\n",
    "\n",
    "from holoviews import opts\n",
    "from holoviews.operation.datashader import datashade, shade, dynspread, rasterize\n",
    "from holoviews.streams import Stream, param\n",
    "from holoviews import streams\n",
    "import geoviews as gv\n",
    "import geoviews.feature as gf\n",
    "from geoviews import tile_sources as gvts\n",
    "\n",
    "import geopandas as gpd\n",
    "import cartopy.crs as ccrs\n",
    "import cartopy.feature as cf\n",
    "\n",
    "hv.notebook_extension('bokeh')\n",
    "hv.Dimension.type_formatters[np.datetime64] = '%Y-%m-%d'"
   ]
  },
  {
   "cell_type": "code",
   "execution_count": null,
   "metadata": {},
   "outputs": [],
   "source": [
    "# Add the utils directory to the search path\n",
    "UTILS_DIR = Path('../utils').absolute()\n",
    "assert UTILS_DIR.exists()\n",
    "if str(UTILS_DIR) not in sys.path:\n",
    "    sys.path.insert(0, str(UTILS_DIR))\n",
    "    print(f\"Added {str(UTILS_DIR)} to sys.path\")\n",
    "\n",
    "pp(sys.path)\n",
    "    "
   ]
  },
  {
   "cell_type": "code",
   "execution_count": null,
   "metadata": {},
   "outputs": [],
   "source": [
    "#import utils\n",
    "import hv_utils as  hvu"
   ]
  },
  {
   "cell_type": "code",
   "execution_count": null,
   "metadata": {},
   "outputs": [],
   "source": [
    "# Grab registered bokeh renderer\n",
    "print(\"Currently available renderers: \", *hv.Store.renderers.keys())\n",
    "renderer = hv.renderer('bokeh')"
   ]
  },
  {
   "cell_type": "markdown",
   "metadata": {},
   "source": [
    "## Vector Tile overlay creation helpers\n",
    "Modified: Jun 8, 2019"
   ]
  },
  {
   "cell_type": "code",
   "execution_count": null,
   "metadata": {},
   "outputs": [],
   "source": [
    "VECTILE_CACHE={}\n",
    "from VectorTile import VectorTile"
   ]
  },
  {
   "cell_type": "markdown",
   "metadata": {},
   "source": [
    "Quick example"
   ]
  },
  {
   "cell_type": "code",
   "execution_count": null,
   "metadata": {},
   "outputs": [],
   "source": [
    "lat, lon = 48.8566101, 2.3514992\n",
    "z = 15\n",
    "vtile = VectorTile.from_latlonz(lat, lon, z)\n",
    "vtile.info()\n",
    "\n",
    "gdf = vtile.to_gdf()\n",
    "# display(gdf.head())\n",
    "\n",
    "ndoverlay = vtile.to_ndoverlay()\n",
    "# display(ndoverlay)"
   ]
  },
  {
   "cell_type": "markdown",
   "metadata": {},
   "source": [
    "Modified: Jun 16, 2019"
   ]
  },
  {
   "cell_type": "code",
   "execution_count": null,
   "metadata": {},
   "outputs": [],
   "source": [
    "vtile.fetch_zooms()"
   ]
  },
  {
   "cell_type": "markdown",
   "metadata": {},
   "source": [
    "## Set default holoviews style options"
   ]
  },
  {
   "cell_type": "code",
   "execution_count": null,
   "metadata": {},
   "outputs": [],
   "source": [
    "%opts Image [colorbar=True, tools=['hover'], active_tools=['wheel_zoom']] Curve [tools=['hover']]"
   ]
  },
  {
   "cell_type": "code",
   "execution_count": null,
   "metadata": {},
   "outputs": [],
   "source": [
    "opts.defaults(\n",
    "    opts.Image(active_tools=['wheel_zoom'], tools=['hover'], colorbar=True),\n",
    "    opts.Curve(active_tools=['wheel_zoom'], tools=['hover']),\n",
    "    opts.Scatter(active_tools=['wheel_zoom'], tools=['hover']),\n",
    "    opts.HLine(active_tools=['wheel_zoom'], tools=['hover']),\n",
    "\n",
    "    opts.RGB(active_tools=['wheel_zoom'], tools=['hover']),\n",
    "    opts.Overlay(active_tools=['wheel_zoom']),\n",
    ")\n"
   ]
  },
  {
   "cell_type": "markdown",
   "metadata": {},
   "source": [
    "---\n",
    "## Load Datasets"
   ]
  },
  {
   "cell_type": "code",
   "execution_count": null,
   "metadata": {},
   "outputs": [],
   "source": [
    "# Southern Africa Dataset\n",
    "fpath_sa = '/home/hayley/data/mint/FLDAS/FLDAS_NOAH01_A_SA_D.001/2019/04/FLDAS_NOAH01_A_SA_D.A201904*.001.nc'\n",
    "fpath_ea = '/home/hayley/data/mint/FLDAS/FLDAS_NOAH01_A_EA_D.001/2019/04/FLDAS_NOAH01_A_EA_D.A201904*.001.nc'\n",
    "ds_sa = xr.open_mfdataset(fpath_sa)\n",
    "ds_sa = ds_sa.drop_dims('bnds')\n",
    "\n",
    "ds_ea = xr.open_mfdataset(fpath_ea)\n",
    "ds_ea = ds_ea.drop_dims('bnds')\n",
    "\n",
    "         \n",
    "# print(ds_ea)\n",
    "# print(ds_sa)"
   ]
  },
  {
   "cell_type": "code",
   "execution_count": null,
   "metadata": {},
   "outputs": [],
   "source": [
    "xrd_ea = ds_ea.persist()\n",
    "xrd_sa = ds_sa.persist()"
   ]
  },
  {
   "cell_type": "code",
   "execution_count": null,
   "metadata": {},
   "outputs": [],
   "source": [
    "# data variable list\n",
    "varnames_ea = list(ds_ea.data_vars.keys())\n",
    "varnames_sa = list(ds_sa.data_vars.keys())\n",
    "varnames = varnames_ea\n",
    "varname = varnames[3]\n",
    "print(varname)\n",
    "\n",
    "#set height, width for images (for plotting)\n",
    "H_IMG, W_IMG = 400, 400\n",
    "\n",
    "# create holoviews dataset containers \n",
    "kdims = ['X','Y','time']\n",
    "hvd_ea = hv.Dataset(xrd_ea, kdims)\n",
    "hvd_sa = hv.Dataset(xrd_sa, kdims)\n"
   ]
  },
  {
   "cell_type": "code",
   "execution_count": null,
   "metadata": {},
   "outputs": [],
   "source": [
    "# colormaps\n",
    "## discretize it conveniently using holoview's \"color_level\" option\n",
    "t_fixed = '2019-04-05'\n",
    "varname = varnames[5] \n",
    "print(\"Selecting a datavariable at a fixed time point: \", t_fixed, varname)\n",
    "\n",
    "# timg_ea = hvd_ea.select(time=t_fixed).to(gv.Image, kdims=['X', 'Y'], vdims=varname) #this returns a holomap, not a hv.Image object\n",
    "# To construct an hv.Image object, we need to pass in the xr.DataArray (ie. one value variable)\n",
    "print(xrd_ea[varname].isel(time=3) )\n",
    "timg_ea = gv.Image(xrd_ea[varname].isel(time=3) , ['X','Y'], crs=ccrs.PlateCarree()) #Opt: vdims=varname\n",
    "timg_sa = gv.Image(xrd_sa[varname].isel(time=3) , ['X','Y'], crs=ccrs.PlateCarree()) #Opt: vdims=varname\n",
    "# print(timg_sa)\n",
    "# gv.tile_sources.Wikipedia * timg_ea.opts(alpha=0.5,width=W_IMG, height=H_IMG) #+ timg_sa.opts(width=W_IMG, height=H_IMG)"
   ]
  },
  {
   "cell_type": "markdown",
   "metadata": {},
   "source": [
    "## Basemap tile\n",
    "Modified: Jun 13, 2019\n",
    "\n",
    "We need to handle the projection from latlon to web mercator (which is what the hv.tiles expect).\n"
   ]
  },
  {
   "cell_type": "code",
   "execution_count": null,
   "metadata": {},
   "outputs": [],
   "source": [
    "\n",
    "H,W = 500,500\n",
    "# basemap = gvts.EsriImagery\n",
    "# basemap\n",
    "wmts_url = 'https://maps.wikimedia.org/osm-intl/{Z}/{X}/{Y}@2x.png'\n",
    "\n",
    "basemap = gv.tile_sources.EsriImagery"
   ]
  },
  {
   "cell_type": "code",
   "execution_count": null,
   "metadata": {},
   "outputs": [],
   "source": [
    "%%opts WMTS [width=W, height=H]\n",
    "\n",
    "basemap * timg_ea\n",
    "\n",
    "# gvts.EsriNatGeo*timg_ea"
   ]
  },
  {
   "cell_type": "markdown",
   "metadata": {},
   "source": [
    "---\n",
    "## Add LatLon Tab selector stream\n",
    " Modified: Jun 16, 2019\n",
    "\n",
    "- Fetch the lat,lon location from the mouse location"
   ]
  },
  {
   "cell_type": "code",
   "execution_count": null,
   "metadata": {},
   "outputs": [],
   "source": [
    "from holoviews.streams import Tap, Selection1D, PointerXY, RangeXY"
   ]
  },
  {
   "cell_type": "code",
   "execution_count": null,
   "metadata": {},
   "outputs": [],
   "source": [
    "# point_src = timg_ea\n",
    "# pointxy = PointerXY(name='pt_latlon', \n",
    "#                     x=0., y=0.,source=point_src)\n",
    "# pointxy.print_param_values()\n",
    "# selection = Selection1D(source=timg_ea)\n"
   ]
  },
  {
   "cell_type": "markdown",
   "metadata": {},
   "source": [
    "Modified: Jun 17, 2019"
   ]
  },
  {
   "cell_type": "code",
   "execution_count": null,
   "metadata": {},
   "outputs": [],
   "source": [
    "# tseries_opts = {\n",
    "    \n",
    "def cb_tseries(xrd, varname, x, y, method='nearest'):\n",
    "    tseries = xrd[varname].sel(X=x, Y=y,method=method)\n",
    "    tseries_label = f\"Time Series at Lon,Lat = ({x:.2f},{y:.2f}) \"\n",
    "    scatter = hv.Scatter(tseries)\n",
    "    curve = hv.Curve(tseries)\n",
    "\n",
    "    mean = hvu.extract_item(tseries.mean())\n",
    "    mean_line = hv.HLine(mean, label='tseries_mean')\n",
    "    t_midpoint = pd.Timestamp(hvu.extract_item(tseries.coords['time'][len(tseries)//2]))\n",
    "    mean_label = hv.Labels([(t_midpoint, mean, f'mean: {mean:.3f}')])\n",
    "    layout = (\n",
    "        curve.opts(alpha=0.5, line_width=1) \n",
    "        * scatter.opts(width=W, padding=0.2, size=5) \n",
    "        * mean_line.opts(color='black', alpha=0.5, line_width=1) \n",
    "        * mean_label.opts(text_font_size='8pt',text_alpha=0.5)\n",
    "    )\n",
    "    layout.label=tseries_label\n",
    "    return layout\n",
    "    \n",
    "    \n",
    "    "
   ]
  },
  {
   "cell_type": "markdown",
   "metadata": {},
   "source": [
    "---\n",
    "## Add another callback. \n",
    "Modified: Jun 17, 2019\n",
    "\n",
    "- On LatLon selection, compute the statistics of the current `varname` at `latlon_selected` across time.\n"
   ]
  },
  {
   "cell_type": "code",
   "execution_count": null,
   "metadata": {},
   "outputs": [],
   "source": [
    "def cb_tstats(xrd, varname, x, y, \n",
    "              method='nearest',\n",
    "             show_as_timestamp=True,\n",
    "             decimals=3):\n",
    "    tseries = xrd[varname].sel(X=x, Y=y,method=method)\n",
    "    df = hvu.get_stats(tseries, \n",
    "                       show_as_timestamp=show_as_timestamp,\n",
    "                       decimals=decimals)\n",
    "    \n",
    "    # Add metadata on selected latlon point\n",
    "#     df['point_idx'] = index[0]#\n",
    "    df['lat'] = y\n",
    "    df['lon'] = x\n",
    "    \n",
    "    cols = df.columns.to_list()\n",
    "    cols = cols[-2:] + cols[:-2]\n",
    "    df = df[cols]\n",
    "    label = f\"Time Series Stats at Lon,Lat = ({x:.2f},{y:.2f}) \"\n",
    "    return hv.Table(df, label=label)\n",
    "################################################################################\n",
    "    # Cleanup for table's aesthetics\n",
    "    # Coerce object type to datetime objs\n",
    "#     df = df.T\n",
    "#     if show_as_timestamp:\n",
    "#         df.loc['argmin'] = pd.Timestamp(df.loc['argmin'])\n",
    "#         pdb.set_trace()\n",
    "#         display(df.loc['argmin'])\n",
    "\n",
    "#         df.loc['argmax'] = pd.to_datetime(df.loc['argmax'])\n",
    "#     df = df.reset_index()\n",
    "\n",
    "#     return hv.Table(df.values, 'stat', 'value')\n",
    "################################################################################\n"
   ]
  },
  {
   "cell_type": "code",
   "execution_count": null,
   "metadata": {},
   "outputs": [],
   "source": [
    "cb_tstats(xrd_ea, varname, 40,10)"
   ]
  },
  {
   "cell_type": "code",
   "execution_count": null,
   "metadata": {},
   "outputs": [],
   "source": [
    "curve_opts = {'framewise':True}\n",
    "varname = varnames[1]\n",
    "# timg_ea +\\\n",
    "# hv.DynamicMap(lambda x,y: get_tseries(xrd_ea, varname, x, y,curve_opts=curve_opts),\n",
    "#               streams=[pointxy])"
   ]
  },
  {
   "cell_type": "markdown",
   "metadata": {},
   "source": [
    "---\n",
    "## Combine the two callbacks for LatLon Tab selector\n",
    "Modified: Jun 17, 2019"
   ]
  },
  {
   "cell_type": "code",
   "execution_count": null,
   "metadata": {},
   "outputs": [],
   "source": [
    "def cb_latlon_tab(xrd, varname, x, y, **kwargs):\n",
    "    \"\"\"\n",
    "    Creates a hv.Overlay object with two elements\n",
    "    - layout = tseries + table\n",
    "    where \n",
    "        - tseries: itself an overlay with scatter, curve, hline and a text for \n",
    "        the time series data at the selected LonLat location\n",
    "        - table: contains basic statistics of the time series data at the selected location\n",
    "    Args:\n",
    "    - xrd (xarray.Dataset)\n",
    "    - varname (str)\n",
    "    - x (int): index to xrd's 'X' dim\n",
    "    - y (int): index to xrd's 'Y' dim\n",
    "    \n",
    "    kwargs:\n",
    "    - method (str): xarray's .sel method. Default: 'nearest'\n",
    "    - show_as_teimstamp (bool): if True, the table will show time data as time rather than an index\n",
    "    - decimals (int): number of decimals to kwarg to np.around() for float point display\n",
    "    \n",
    "    Returns\n",
    "    - layout (hv.Overlay)\n",
    "    \"\"\"\n",
    "    # Get the kwarg values\n",
    "    method = kwargs.get('method', 'nearest')\n",
    "    show_as_timestamp = kwargs.get('show_as_timestamp', True)\n",
    "    decimals = kwargs.get('decimals', 3)\n",
    "    \n",
    "    # Get hv elements\n",
    "    tseries = cb_tseries(xrd, varname, x, y, method=method)\n",
    "    tstats = cb_tstats(xrd, varname, x, y, \n",
    "                       method=method, show_as_timestamp=show_as_timestamp, decimals=decimals)\n",
    "    # todo:\n",
    "    # - add the selection1d stream on the scatter plot\n",
    "#     tseries_selection = Selection1D...\n",
    "    \n",
    "    return (tseries + tstats)\n"
   ]
  },
  {
   "cell_type": "code",
   "execution_count": null,
   "metadata": {},
   "outputs": [],
   "source": [
    "# cb_latlon_tab(xrd_ea, varname, 40,10)\n",
    "dmap_latlon_tab = hv.DynamicMap(\n",
    "    lambda x,y, **kwargs: cb_latlon_tab(xrd_ea, varname, x,y, **kwargs),\n",
    "    streams=[tap_latlon]\n",
    ")\n",
    "layout = timg_ea + dmap_latlon_tab.collate()\n",
    "layout.opts(\n",
    "    opts.Image(**img_opts),\n",
    "    opts.Curve(**curve_opts),\n",
    "    opts.Table(**tbl_opts)\n",
    "    \n",
    ").cols(1)"
   ]
  },
  {
   "cell_type": "markdown",
   "metadata": {},
   "source": [
    "---\n",
    "## Add a Selection1D stream to the time-series scatter plot\n",
    "- Upon click, show the image (of the value of the current variable at the current latlon) at that time point selected by this Selection1D stream"
   ]
  },
  {
   "cell_type": "code",
   "execution_count": null,
   "metadata": {},
   "outputs": [],
   "source": [
    "tseries = cb_tseries(xrd_ea, varname, 40, 10, method='nearest')"
   ]
  },
  {
   "cell_type": "code",
   "execution_count": null,
   "metadata": {},
   "outputs": [],
   "source": [
    "from ipywidgets import Output\n",
    "out = Output()\n",
    "\n",
    "@out.capture(clear_output=True)\n",
    "def listener(*args, **kwargs):\n",
    "    print('Scatter selector listener called')\n",
    "    print(args)\n",
    "    print(kwargs)\n",
    "\n",
    "tscatter_selection = Selection1D(source=tseries.Scatter.I)\n",
    "tscatter_selection.add_subscriber(listener)\n",
    "out"
   ]
  },
  {
   "cell_type": "code",
   "execution_count": null,
   "metadata": {},
   "outputs": [],
   "source": [
    "def get_img(xrd, varname, tidx):\n",
    "    \"\"\"\n",
    "    Returns a hv.Image of xarray dataset's variable named `varname` at `tidx`th time\n",
    "    Args:\n",
    "    - xrd (xarray dataset)\n",
    "    - varname (str)\n",
    "    - tidx (int)\n",
    "    Returns:\n",
    "    - img (hv.Image)\n",
    "    \"\"\"\n",
    "    return gv.Image(xrd[varname].isel(time=tidx), ['X','Y'], varname)\n",
    "# get_img(xrd_ea, varname, 0)"
   ]
  },
  {
   "cell_type": "code",
   "execution_count": null,
   "metadata": {},
   "outputs": [],
   "source": [
    "%%opts Scatter [tools=['tap']] {+framewise}\n",
    "@out.capture(clear_output=True)\n",
    "def cb_tscatter(xrd, varname, index):\n",
    "    print('cb_tscatter called. Selected indices: ', index)\n",
    "    if not index:\n",
    "        index = [0] #todo: current tindex\n",
    "    tidx = index[0]\n",
    "    return get_img(xrd, varname, tidx)"
   ]
  },
  {
   "cell_type": "code",
   "execution_count": null,
   "metadata": {},
   "outputs": [],
   "source": [
    "dmap_tselection = hv.DynamicMap(\n",
    "    lambda index: cb_tscatter(xrd_ea, varname, index),\n",
    "    streams=[tscatter_selection])"
   ]
  },
  {
   "cell_type": "code",
   "execution_count": null,
   "metadata": {},
   "outputs": [],
   "source": [
    "(tseries + (basemap*dmap_tselection)).cols(1)\n",
    "    "
   ]
  },
  {
   "cell_type": "code",
   "execution_count": null,
   "metadata": {},
   "outputs": [],
   "source": [
    "out"
   ]
  },
  {
   "cell_type": "code",
   "execution_count": null,
   "metadata": {},
   "outputs": [],
   "source": [
    "tscatter_selection.event(index=[15])"
   ]
  },
  {
   "cell_type": "code",
   "execution_count": null,
   "metadata": {},
   "outputs": [],
   "source": [
    "tscatter_selection"
   ]
  },
  {
   "cell_type": "code",
   "execution_count": null,
   "metadata": {},
   "outputs": [],
   "source": []
  },
  {
   "cell_type": "markdown",
   "metadata": {},
   "source": [
    "---\n",
    "## Add RangeXY linked stream\n",
    "Modified: Jun 16, 2019\n",
    "\n",
    "- Fetch the x and y ranges of the current view\n",
    "    - Fetch appropriate vector tile"
   ]
  },
  {
   "cell_type": "code",
   "execution_count": null,
   "metadata": {},
   "outputs": [],
   "source": [
    "range_src = timg_ea\n",
    "x_range, y_range = hvu.lbrt2ranges(range_src.bounds.lbrt())"
   ]
  },
  {
   "cell_type": "code",
   "execution_count": null,
   "metadata": {},
   "outputs": [],
   "source": [
    "rangexy = RangeXY(x_range = x_range,\n",
    "                  y_range = y_range,\n",
    "                  source=timg_ea)"
   ]
  },
  {
   "cell_type": "code",
   "execution_count": null,
   "metadata": {},
   "outputs": [],
   "source": [
    "# rangexy.print_param_values()"
   ]
  },
  {
   "cell_type": "code",
   "execution_count": null,
   "metadata": {},
   "outputs": [],
   "source": [
    "def cb_rangexy(x_range, y_range):\n",
    "    lbrt = hvu.ranges2lbrt(x_range, y_range)\n",
    "    print(f'x_range: {x_range}')\n",
    "    print(f'y_range: {y_range}')\n",
    "    print(f'lbrt: ', lbrt)\n",
    "    \n",
    "    df = pd.DataFrame( [lbrt], columns='min_x min_y max_x max_y'.split() )\n",
    "    return hv.Table( df)\n"
   ]
  },
  {
   "cell_type": "code",
   "execution_count": null,
   "metadata": {},
   "outputs": [],
   "source": [
    "# (\n",
    "#     timg_ea + \\\n",
    "#     hv.DynamicMap(cb_rangexy, streams=[rangexy])\n",
    "# ).cols(1)\n"
   ]
  },
  {
   "cell_type": "markdown",
   "metadata": {},
   "source": [
    "---\n",
    "## Add regional statistics computation\n",
    "Modified: Jun 16, 2019\n"
   ]
  },
  {
   "cell_type": "code",
   "execution_count": null,
   "metadata": {},
   "outputs": [],
   "source": []
  },
  {
   "cell_type": "code",
   "execution_count": null,
   "metadata": {},
   "outputs": [],
   "source": []
  },
  {
   "cell_type": "code",
   "execution_count": null,
   "metadata": {},
   "outputs": [],
   "source": []
  },
  {
   "cell_type": "code",
   "execution_count": null,
   "metadata": {},
   "outputs": [],
   "source": []
  },
  {
   "cell_type": "code",
   "execution_count": null,
   "metadata": {},
   "outputs": [],
   "source": []
  },
  {
   "cell_type": "code",
   "execution_count": null,
   "metadata": {},
   "outputs": [],
   "source": []
  },
  {
   "cell_type": "code",
   "execution_count": null,
   "metadata": {},
   "outputs": [],
   "source": []
  },
  {
   "cell_type": "code",
   "execution_count": null,
   "metadata": {},
   "outputs": [],
   "source": []
  },
  {
   "cell_type": "code",
   "execution_count": null,
   "metadata": {},
   "outputs": [],
   "source": []
  },
  {
   "cell_type": "markdown",
   "metadata": {},
   "source": [
    "---\n",
    "## Putting the streams together\n",
    "Modified: Jun 16, 2019"
   ]
  },
  {
   "cell_type": "code",
   "execution_count": null,
   "metadata": {},
   "outputs": [],
   "source": [
    "# Set style opts\n",
    "curve_opts = {'framewise':True}\n",
    "img_opts = dict(width=W, height=H,\n",
    "                axiswise=True, framewise=False,\n",
    "               tools=['hover'],\n",
    "               active_tools=['wheel_zoom'])\n",
    "tbl_opts = dict(width = W)\n",
    "varname = varnames[1]\n",
    "\n",
    "# Define streams\n",
    "## Tab stream and  dmap\n",
    "tap_latlon = Tap(name='tap_latlon', x = 0.0, y=0.0, source=timg_ea)\n",
    "dmap_latlon_tab = hv.DynamicMap(\n",
    "    lambda x,y, **kwargs: cb_latlon_tab(xrd_ea, varname, x,y, **kwargs),\n",
    "    streams=[tap_latlon]\n",
    ")\n",
    "\n",
    "## Range stream and dmap\n",
    "range_src = timg_ea\n",
    "x_range, y_range = hvu.lbrt2ranges(range_src.bounds.lbrt())\n",
    "rangexy = RangeXY(x_range = x_range,\n",
    "                  y_range = y_range,\n",
    "                  source=timg_ea)\n",
    "dmap_range_tbl = hv.DynamicMap(cb_rangexy, streams=[rangexy])\n",
    "\n",
    "## Putting all together\n",
    "layout = timg_ea + dmap_latlon_tab.collate()\n",
    "layout.opts(\n",
    "    opts.Image(**img_opts),\n",
    "    opts.Curve(**curve_opts),\n",
    "    opts.Table(**tbl_opts) \n",
    ").cols(1)\n",
    "  \n"
   ]
  },
  {
   "cell_type": "code",
   "execution_count": null,
   "metadata": {},
   "outputs": [],
   "source": [
    "timg_ea + dmap_tseries + dmap_tstats"
   ]
  },
  {
   "cell_type": "markdown",
   "metadata": {},
   "source": [
    "\n",
    "---\n",
    "## Panel Dashboards\n",
    "Modified: Jun 10, 2019\n"
   ]
  },
  {
   "cell_type": "code",
   "execution_count": null,
   "metadata": {},
   "outputs": [],
   "source": [
    "# import param\n",
    "import panel as pn\n",
    "pn.extension()\n",
    "# from holoviews.streams import Params\n",
    "from geoviews.tile_sources import EsriImagery\n",
    "from colorcet import palette"
   ]
  },
  {
   "cell_type": "code",
   "execution_count": null,
   "metadata": {},
   "outputs": [],
   "source": [
    "#dataset: hvd_ea, hvd_sa\n",
    "xr_datasets = {\n",
    "    'EA': xrd_ea,\n",
    "    'SA': xrd_sa\n",
    "}\n",
    "\n",
    "hv_datasets = {\n",
    "    'EA': hvd_ea,\n",
    "    'SA': hvd_sa\n",
    "}\n",
    "april = pd.date_range('2019-04-01', periods=30)"
   ]
  },
  {
   "cell_type": "code",
   "execution_count": null,
   "metadata": {},
   "outputs": [],
   "source": [
    "# create dmap \n",
    "xrd_ea_small = xrd_ea.isel(time=[3,4])\n",
    "xrd_sa_small = xrd_sa.isel(time=[3,4])\n",
    "\n",
    "## Wrong: this creates holomaps\n",
    "# dmap_ea_small = hv.Dataset(xrd_ea_small, kdims).to(hv.Image, ['X','Y'], varname, label='EA')\n",
    "# dmap_sa_small = hv.Dataset(xrd_sa_small, kdims).to(hv.Image, ['X','Y'], varname, label='SA')\n",
    "\n",
    "# datashade opts\n",
    "from colorcet import fire\n",
    "dopts = dict(width=W, height=H,\n",
    "#             x_sampling=0.5, \n",
    "#             y_sampling=0.5,\n",
    "            )\n",
    "\n",
    "img_opts = dict(width=W, height=H,\n",
    "                axiswise=True, framewise=False,\n",
    "               tools=['hover'],\n",
    "               active_tools=['wheel_zoom'])\n"
   ]
  },
  {
   "cell_type": "markdown",
   "metadata": {},
   "source": [
    "## FLDASExplorer with panel\n",
    "Modified: Jun 13, 2019"
   ]
  },
  {
   "cell_type": "code",
   "execution_count": null,
   "metadata": {},
   "outputs": [],
   "source": [
    "import datetime as dt\n",
    "\n",
    "class FLDASExplorer(param.Parameterized):\n",
    "    region = param.ObjectSelector(default='EA', objects=['EA', 'SA'])\n",
    "    varname = param.ObjectSelector(default=varnames[0],objects=varnames)\n",
    "    time = param.Date(dt.datetime(2019,4,1), bounds=(dt.datetime(2019, 4, 1), dt.datetime(2019, 4, 30)))\n",
    "    alpha = param.Number(default=1.0, bounds=(0.0,1.0))\n",
    "#     cmap = param.ObjectSelector(default='fire', objects=['fire'])\n",
    "\n",
    "                                                    \n",
    "    @param.depends('region', 'varname', 'time')#, 'alpha')#, 'cmap')\n",
    "    def view(self):\n",
    "        xrd = xrd_ea if self.region == 'EA' else xrd_sa\n",
    "        img = gv.Image(xrd.sel(time=self.time)[self.varname], ['X','Y'], crs=ccrs.PlateCarree())    \n",
    "        \n",
    "    #     datashade returns a hv.DynamicMap which dynamically re-renders this img as we zoom/pan\n",
    "        return basemap*datashade(img.opts(**img_opts), \n",
    "                                 cmap=fire,#self.cmap, \n",
    "#                                  alpha=self.alpha,\n",
    "                                 **dopts)\n"
   ]
  },
  {
   "cell_type": "code",
   "execution_count": null,
   "metadata": {},
   "outputs": [],
   "source": [
    "explorer = FLDASExplorer()\n",
    "# img_dmap = hv.DynamicMap(explorer.view)\n",
    "app = pn.Row( explorer.param, explorer.view)"
   ]
  },
  {
   "cell_type": "code",
   "execution_count": null,
   "metadata": {},
   "outputs": [],
   "source": [
    "app.servable()"
   ]
  },
  {
   "cell_type": "markdown",
   "metadata": {},
   "source": [
    "todo: \n",
    "    - add a time slider and link it to the time input box widget\n",
    "    - handle projection better (for the basemap and the latlon- data)\n",
    "    - change panel pane's width and height for the image layout\n",
    "    - geo statistics overlay using raster(...) and datashader operations\n",
    "   "
   ]
  },
  {
   "cell_type": "code",
   "execution_count": null,
   "metadata": {},
   "outputs": [],
   "source": [
    "basemap"
   ]
  },
  {
   "cell_type": "code",
   "execution_count": null,
   "metadata": {},
   "outputs": [],
   "source": []
  },
  {
   "cell_type": "code",
   "execution_count": null,
   "metadata": {},
   "outputs": [],
   "source": []
  },
  {
   "cell_type": "code",
   "execution_count": null,
   "metadata": {},
   "outputs": [],
   "source": []
  },
  {
   "cell_type": "code",
   "execution_count": null,
   "metadata": {},
   "outputs": [],
   "source": []
  },
  {
   "cell_type": "code",
   "execution_count": null,
   "metadata": {},
   "outputs": [],
   "source": []
  }
 ],
 "metadata": {
  "kernelspec": {
   "display_name": "Python [conda env:earthml]",
   "language": "python",
   "name": "conda-env-earthml-py"
  },
  "language_info": {
   "codemirror_mode": {
    "name": "ipython",
    "version": 3
   },
   "file_extension": ".py",
   "mimetype": "text/x-python",
   "name": "python",
   "nbconvert_exporter": "python",
   "pygments_lexer": "ipython3",
   "version": "3.7.1"
  }
 },
 "nbformat": 4,
 "nbformat_minor": 2
}
