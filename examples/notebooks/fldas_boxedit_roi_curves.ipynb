{
 "cells": [
  {
   "cell_type": "code",
   "execution_count": null,
   "metadata": {},
   "outputs": [],
   "source": []
  },
  {
   "cell_type": "code",
   "execution_count": null,
   "metadata": {},
   "outputs": [],
   "source": [
    "%load_ext autoreload\n",
    "%autoreload 2\n",
    "\n",
    "import os, sys, time\n",
    "import datetime as dt\n",
    "import numpy as np\n",
    "import scipy as sp\n",
    "import pandas as pd\n",
    "import geopandas as gpd\n",
    "import intake,param\n",
    "    \n",
    "from pathlib import Path\n",
    "from pprint import pprint as pp\n",
    "p = print \n",
    "\n",
    "from sklearn.externals import joblib\n",
    "import pdb\n",
    "\n",
    "from tqdm import tqdm, trange\n",
    "import ipywidgets as iw\n",
    "\n",
    "import matplotlib.pyplot as plt\n",
    "%matplotlib inline\n",
    "\n",
    "# ignore warnings\n",
    "import warnings\n",
    "if not sys.warnoptions:\n",
    "    warnings.simplefilter('ignore')\n",
    "    \n",
    "# Don't generate bytecode\n",
    "sys.dont_write_bytecode = True"
   ]
  },
  {
   "cell_type": "code",
   "execution_count": null,
   "metadata": {},
   "outputs": [],
   "source": [
    "import holoviews as hv\n",
    "import xarray as xr\n",
    "import xarray.ufuncs as xu\n",
    "\n",
    "from holoviews import opts\n",
    "from holoviews.util import Dynamic\n",
    "from holoviews.operation.datashader import datashade, shade, dynspread, rasterize\n",
    "\n",
    "from holoviews.streams import Stream, param\n",
    "from holoviews import streams\n",
    "import geoviews as gv\n",
    "import geoviews.feature as gf\n",
    "from geoviews import tile_sources as gvts\n",
    "\n",
    "import panel as pn\n",
    "\n",
    "import geopandas as gpd\n",
    "import cartopy.crs as ccrs\n",
    "import cartopy.feature as cf\n",
    "\n",
    "\n",
    "hv.notebook_extension('bokeh')\n",
    "hv.Dimension.type_formatters[np.datetime64] = '%Y-%m-%d'\n",
    "pn.extension()\n",
    "\n",
    "# set pandas dataframe float precision \n",
    "pd.set_option('display.precision',2)\n"
   ]
  },
  {
   "cell_type": "code",
   "execution_count": null,
   "metadata": {},
   "outputs": [],
   "source": [
    "# Add the utils directory to the search path\n",
    "UTILS_DIR = Path('../utils').absolute()\n",
    "assert UTILS_DIR.exists()\n",
    "if str(UTILS_DIR) not in sys.path:\n",
    "    sys.path.insert(0, str(UTILS_DIR))\n",
    "    print(f\"Added {str(UTILS_DIR)} to sys.path\")    "
   ]
  },
  {
   "cell_type": "code",
   "execution_count": null,
   "metadata": {},
   "outputs": [],
   "source": [
    "import utils as u\n",
    "import hv_utils as  hvu\n"
   ]
  },
  {
   "cell_type": "code",
   "execution_count": null,
   "metadata": {},
   "outputs": [],
   "source": []
  },
  {
   "cell_type": "code",
   "execution_count": null,
   "metadata": {},
   "outputs": [],
   "source": [
    "mro = u.get_mro"
   ]
  },
  {
   "cell_type": "code",
   "execution_count": null,
   "metadata": {},
   "outputs": [],
   "source": [
    "# Grab registered bokeh renderer\n",
    "print(\"Currently available renderers: \", *hv.Store.renderers.keys())\n",
    "renderer = hv.renderer('bokeh')"
   ]
  },
  {
   "cell_type": "markdown",
   "metadata": {},
   "source": [
    "## Set default holoviews style options"
   ]
  },
  {
   "cell_type": "code",
   "execution_count": null,
   "metadata": {},
   "outputs": [],
   "source": [
    "%opts Image [colorbar=True, tools=['hover'], active_tools=['wheel_zoom']] Curve [tools=['hover']]"
   ]
  },
  {
   "cell_type": "code",
   "execution_count": null,
   "metadata": {},
   "outputs": [],
   "source": [
    "opts.defaults(\n",
    "    opts.WMTS(active_tools=['wheel_zoom']),\n",
    "    opts.Image(active_tools=['wheel_zoom'], tools=['hover'], colorbar=True),\n",
    "    opts.Curve(active_tools=['wheel_zoom'], tools=['hover']),\n",
    "    opts.Scatter(active_tools=['wheel_zoom'], tools=['hover']),\n",
    "    opts.HLine(active_tools=['wheel_zoom'], tools=['hover']),\n",
    "\n",
    "    opts.RGB(active_tools=['wheel_zoom']),\n",
    "    opts.Overlay(active_tools=['wheel_zoom']),\n",
    ")\n"
   ]
  },
  {
   "cell_type": "code",
   "execution_count": null,
   "metadata": {},
   "outputs": [],
   "source": [
    "H,W = 500,500"
   ]
  },
  {
   "cell_type": "markdown",
   "metadata": {},
   "source": [
    "---\n",
    "## Load Datasets"
   ]
  },
  {
   "cell_type": "code",
   "execution_count": null,
   "metadata": {},
   "outputs": [],
   "source": [
    "# Southern Africa Dataset\n",
    "data_dir = Path.home()/'data'\n",
    "fpath_sa = str(\n",
    "    data_dir/'mint/FLDAS/FLDAS_NOAH01_A_SA_D.001/2019/04/FLDAS_NOAH01_A_SA_D.A201904*.001.nc'\n",
    ")\n",
    "fpath_ea = str(\n",
    "    data_dir/'mint/FLDAS/FLDAS_NOAH01_A_EA_D.001/2019/04/FLDAS_NOAH01_A_EA_D.A201904*.001.nc'\n",
    ")\n",
    "ds_sa = xr.open_mfdataset(fpath_sa)\n",
    "ds_sa = ds_sa.drop_dims('bnds')\n",
    "\n",
    "ds_ea = xr.open_mfdataset(fpath_ea)\n",
    "ds_ea = ds_ea.drop_dims('bnds')\n",
    "\n",
    "         \n",
    "# print(ds_ea)\n",
    "# print(ds_sa)"
   ]
  },
  {
   "cell_type": "code",
   "execution_count": null,
   "metadata": {},
   "outputs": [],
   "source": [
    "xrd_ea = ds_ea.persist()\n",
    "xrd_sa = ds_sa.persist()"
   ]
  },
  {
   "cell_type": "code",
   "execution_count": null,
   "metadata": {},
   "outputs": [],
   "source": [
    "# data variable list\n",
    "varnames_ea = list(ds_ea.data_vars.keys())\n",
    "varnames_sa = list(ds_sa.data_vars.keys())\n",
    "varnames = varnames_ea\n",
    "varname = varnames[3]\n",
    "print(varname)\n",
    "\n",
    "# create holoviews dataset containers \n",
    "kdims = ['X','Y','time']\n",
    "hvd_ea = hv.Dataset(xrd_ea, kdims)\n",
    "hvd_sa = hv.Dataset(xrd_sa, kdims)\n"
   ]
  },
  {
   "cell_type": "code",
   "execution_count": null,
   "metadata": {},
   "outputs": [],
   "source": [
    "# colormaps\n",
    "## discretize it conveniently using holoview's \"color_level\" option\n",
    "t_fixed = '2019-04-05'\n",
    "varname = varnames[5] \n",
    "print(\"Selecting a datavariable at a fixed time point: \", t_fixed, varname)\n",
    "\n",
    "# timg_ea = hvd_ea.select(time=t_fixed).to(gv.Image, kdims=['X', 'Y'], vdims=varname) #this returns a holomap, not a hv.Image object\n",
    "# To construct an hv.Image object, we need to pass in the xr.DataArray (ie. one value variable)\n",
    "print(xrd_ea[varname].isel(time=3) )\n",
    "timg_ea = gv.Image(xrd_ea[varname].isel(time=3) , ['X','Y'], crs=ccrs.PlateCarree()) #Opt: vdims=varname\n",
    "timg_sa = gv.Image(xrd_sa[varname].isel(time=3) , ['X','Y'], crs=ccrs.PlateCarree()) #Opt: vdims=varname\n",
    "# print(timg_sa)\n",
    "# gv.tile_sources.Wikipedia * timg_ea.opts(alpha=0.5,width=W_IMG, height=H_IMG) #+ timg_sa.opts(width=W_IMG, height=H_IMG)"
   ]
  },
  {
   "cell_type": "markdown",
   "metadata": {},
   "source": [
    "## Basemap tile\n",
    "\n",
    "We need to handle the projection from latlon to web mercator (which is what the hv.tiles expect).\n"
   ]
  },
  {
   "cell_type": "code",
   "execution_count": null,
   "metadata": {},
   "outputs": [],
   "source": [
    "wmts_url = 'https://maps.wikimedia.org/osm-intl/{Z}/{X}/{Y}@2x.png'\n",
    "basemap = gv.tile_sources.EsriImagery"
   ]
  },
  {
   "cell_type": "markdown",
   "metadata": {},
   "source": [
    "---\n",
    "## Back to FLDAS\n",
    "Modified: Jun 25, 2019\n",
    "\n",
    "Combining holoviews objects with Bokeh models for custome interactive visualization\n"
   ]
  },
  {
   "cell_type": "code",
   "execution_count": null,
   "metadata": {},
   "outputs": [],
   "source": [
    "# Set extra style opts (in addition to default from above)\n",
    "W_IMG = 500; H_IMG = 500\n",
    "W_PLOT = 300; H_PLOT = 300"
   ]
  },
  {
   "cell_type": "code",
   "execution_count": null,
   "metadata": {},
   "outputs": [],
   "source": [
    "scatter_opts = dict(width=W_PLOT, height=H_PLOT,\n",
    "                    tools=['hover', 'tap'], \n",
    "                    framewise = True)\n",
    "curve_opts = dict(width=W_PLOT, height=H_PLOT,\n",
    "                  framewise=True)\n",
    "img_opts = dict(width=W_IMG, height=H_IMG,\n",
    "                axiswise=True, \n",
    "                framewise=False,\n",
    "                tools=['hover', 'tap'],\n",
    "                colorbar=True\n",
    "               )\n",
    "wmts_opts = dict(width=W_IMG, height=H_IMG)\n",
    "\n",
    "tbl_opts = dict(width = W_PLOT)\n",
    "\n",
    "# datashader opts\n",
    "ds_opts = dict(width=W_IMG, height=H_IMG,\n",
    "#             x_sampling=0.5, \n",
    "#             y_sampling=0.5,\n",
    "            )"
   ]
  },
  {
   "cell_type": "markdown",
   "metadata": {},
   "source": [
    "---\n",
    "## Clean BoxEdit from Scratch\n",
    "Modified: Jun 26, 2019\n",
    "\n",
    "- Incoporating HoloMap and DynamicMap objects\n",
    "    - [src](http://holoviews.org/user_guide/Live_Data.html)"
   ]
  },
  {
   "cell_type": "code",
   "execution_count": null,
   "metadata": {},
   "outputs": [],
   "source": [
    "xrd=xrd_ea\n",
    "varname=varnames[7]\n",
    "t = '2019-04-10'\n",
    "time_values = xrd.get_index('time')\n",
    "# time_values = pd.date_range('2019-04-01', '2019-04-30', freq='D')\n",
    "\n",
    "data = xrd[varname]#.sel(time=t)\n",
    "hvd = gv.Dataset(data, ['X','Y','time'], varname, crs=ccrs.PlateCarree())\n",
    "\n",
    "def get_timg(time):\n",
    "    data = xrd[varname].sel(time=time)\n",
    "    return gv.Image(data, ['X','Y'], varname, crs=ccrs.PlateCarree())\n",
    "dmap_timg = datashade(hv.DynamicMap(get_timg, kdims='time'),\n",
    "                      **ds_opts)\n",
    "# dmap_timg = hv.DynamicMap(lambda time: datashade(get_timg(time), **ds_opts, dynamic=False), kdims='time')"
   ]
  },
  {
   "cell_type": "code",
   "execution_count": null,
   "metadata": {},
   "outputs": [],
   "source": [
    "print(dmap_timg)\n",
    "dmap_timg.redim.values(time=time_values)"
   ]
  },
  {
   "cell_type": "code",
   "execution_count": null,
   "metadata": {},
   "outputs": [],
   "source": [
    "print(dmap_timg)\n",
    "dmap_timg.redim.values(time=time_values)"
   ]
  },
  {
   "cell_type": "code",
   "execution_count": null,
   "metadata": {},
   "outputs": [],
   "source": [
    "pn.panel(dmap_timg.redim.values(time=time_values))"
   ]
  },
  {
   "cell_type": "code",
   "execution_count": null,
   "metadata": {},
   "outputs": [],
   "source": [
    "# dmap_realized = dmap_timg.redim.values(time=time_values)\n",
    "dmap_realized = dmap_timg.redim.values(time=[dt.datetime(2019,4,t) for t in range(1,31)])\n",
    "dmap_realized.dimension_values('time')\n",
    "pn.panel(dmap_realized)"
   ]
  },
  {
   "cell_type": "code",
   "execution_count": null,
   "metadata": {},
   "outputs": [],
   "source": [
    "# Set BoxEdit stream\n",
    "polys = gv.Polygons([], crs=ccrs.PlateCarree())\n",
    "box_stream = streams.BoxEdit(source=polys)\n",
    "dmap = dmap_timg * polys"
   ]
  },
  {
   "cell_type": "code",
   "execution_count": null,
   "metadata": {},
   "outputs": [],
   "source": [
    "def get_empty_tplot():\n",
    "    # Set empty tplot and vlines\n",
    "    dummy_df = pd.DataFrame({'time': time_values, \n",
    "                             varname:np.zeros(len(time_values))})\n",
    "    empty_tplot= hv.Curve(dummy_df, 'time', varname).opts(line_alpha=0.)\n",
    "    return empty_tplot\n",
    "\n",
    "def get_hvmap_vlines(vline_opts={}):\n",
    "    # Set empty tplot and vlines\n",
    "    empty_tplot= get_empty_tplot()\n",
    "    vlines = hv.HoloMap({t: hv.VLine(t).opts(**vline_opts) for t in time_values},\n",
    "                        kdims='time')\n",
    "#     return empty_tplot * vlines\n",
    "    return vlines\n",
    "\n",
    "empty_tplot = get_empty_tplot()\n",
    "# vlines = get_hvmap_vlines(dict(color='green')) \n",
    "vlines = hv.DynamicMap(lambda time: empty_tplot * hv.VLine(time), kdims='time') \n",
    "vlines.opts(opts.Curve(bgcolor=(0,0,0,0)))\n",
    "# vlines = hv.DynamicMap(lambda time: empty_tplot * hv.VLine(time) *dmap_roi_curves, kdims='time') \n",
    "\n",
    "print(vlines)"
   ]
  },
  {
   "cell_type": "code",
   "execution_count": null,
   "metadata": {},
   "outputs": [],
   "source": [
    "if any( not (mro(t)[0] == dt.datetime) for t in time_values):\n",
    "    t2 = list(map(lambda t: t.to_pydatetime(),time_values))\n",
    "    print('converted timevalues to python datetime object')\n",
    "    \n",
    "# t2"
   ]
  },
  {
   "cell_type": "code",
   "execution_count": null,
   "metadata": {},
   "outputs": [],
   "source": [
    "mro(t0)[0],mro(t0.to_pydatetime())\n",
    "d0 = t0.to_pydatetime()\n",
    "mro(d0),mro(d0)[0] == dt.datetime"
   ]
  },
  {
   "cell_type": "code",
   "execution_count": null,
   "metadata": {},
   "outputs": [],
   "source": [
    "dmap_realized = dmap_timg.redim.values(time=[dt.datetime(2019,4,t) for t in range(1,31)])\n",
    "v = vlines.redim.values(time=[dt.datetime(2019,4,t) for t in range(1,31)])\n",
    "polys*dmap_realized + v"
   ]
  },
  {
   "cell_type": "code",
   "execution_count": null,
   "metadata": {},
   "outputs": [],
   "source": [
    "# p = pn.panel(dmap + vlines*empty_tplot)"
   ]
  },
  {
   "cell_type": "markdown",
   "metadata": {},
   "source": [
    "Success!!!"
   ]
  },
  {
   "cell_type": "code",
   "execution_count": null,
   "metadata": {},
   "outputs": [],
   "source": [
    "def roi_curves(data):\n",
    "    if not data or not any(len(d) for d in data.values()):\n",
    "        return hv.NdOverlay({0: empty_tplot})\n",
    "    curves = {}\n",
    "    data = zip(data['x0'], data['x1'], data['y0'], data['y1'])\n",
    "    for i, (x0,x1,y0,y1) in enumerate(data):\n",
    "        selection = hv.Dataset( xrd[varname].sel(X=slice(x0,x1), Y=slice(y0,y1)), kdims=['X','Y','time'])\n",
    "        curves[i] = hv.Curve(selection.aggregate('time', np.nanmean), 'time', varname)\n",
    "    return hv.NdOverlay(curves, label='roi_curves')\n",
    "\n",
    "dmap_roi_curves = hv.DynamicMap(roi_curves, streams=[box_stream])"
   ]
  },
  {
   "cell_type": "code",
   "execution_count": null,
   "metadata": {},
   "outputs": [],
   "source": [
    "print(dmap_roi_curves)\n",
    "v*dmap_roi_curves "
   ]
  },
  {
   "cell_type": "code",
   "execution_count": null,
   "metadata": {},
   "outputs": [],
   "source": [
    "# will it finally work?\n",
    "layout=basemap*dmap_realized *polys + v*dmap_roi_curves"
   ]
  },
  {
   "cell_type": "code",
   "execution_count": null,
   "metadata": {},
   "outputs": [],
   "source": [
    "# layout.opts(\n",
    "#     opts.Curve(width=400,framewise=True),\n",
    "#     opts.VLine(color='black'),\n",
    "#     opts.Polygons(fill_alpha=0.2, line_color='white', fill_color='orange'), \n",
    "# )"
   ]
  },
  {
   "cell_type": "code",
   "execution_count": null,
   "metadata": {},
   "outputs": [],
   "source": [
    "pn.panel(layout).servable()"
   ]
  },
  {
   "cell_type": "markdown",
   "metadata": {},
   "source": [
    "woohoo!!!!! I can go to bed now:D"
   ]
  },
  {
   "cell_type": "code",
   "execution_count": null,
   "metadata": {},
   "outputs": [],
   "source": [
    "test_rois = {'x0': [28.484264530634945, 23.75232112846949], \n",
    "             'y0': [5.161857571360065, -4.790934173611567], \n",
    "             'x1': [39.80125756910407, 35.76445237820839], \n",
    "             'y1': [16.341892860897076, 10.938420208725127]}\n",
    "# test_rois\n",
    "box_stream.event(data=test_rois)\n",
    "# box_stream.event(data={})"
   ]
  },
  {
   "cell_type": "code",
   "execution_count": null,
   "metadata": {},
   "outputs": [],
   "source": [
    "trange"
   ]
  },
  {
   "cell_type": "code",
   "execution_count": null,
   "metadata": {},
   "outputs": [],
   "source": [
    "trange = list(map(pd.Timestamp, hvd_ea.range('time')))\n",
    "class Time(param.Parameterized):\n",
    "    \n",
    "    time= param.Date(trange[0], bounds=trange)\n",
    "    "
   ]
  },
  {
   "cell_type": "code",
   "execution_count": null,
   "metadata": {},
   "outputs": [],
   "source": [
    "# time stream\n",
    "tparam = Time()\n",
    "tparam\n",
    "stream = streams.Params(tparam)\n",
    "twidget =pn.panel(tparam.param\n",
    "         , widgets={'time': pn.widgets.DateSlider})"
   ]
  },
  {
   "cell_type": "code",
   "execution_count": null,
   "metadata": {},
   "outputs": [],
   "source": [
    "## better way\n",
    "\n",
    "from holoviews.streams import Stream, param\n",
    "\n",
    "# Trial1: use datetime as time input/key\n",
    "Time = Stream.define('Time', t=0.0)\n",
    "Time = streams.Stream.define('Time', time=param.Date(trange[0], bounds=trange, doc='a time parameter'))\n"
   ]
  },
  {
   "cell_type": "code",
   "execution_count": null,
   "metadata": {},
   "outputs": [],
   "source": [
    "tparam = Time()\n",
    "twidget =pn.panel(tparam.param\n",
    "         , widgets={'time': pn.widgets.DateSlider})\n",
    "print(tparam)\n",
    "hv.help(Time)"
   ]
  },
  {
   "cell_type": "code",
   "execution_count": null,
   "metadata": {},
   "outputs": [],
   "source": [
    "#Take 2: use time index (integer btw 0 and 30)\n",
    "Tidx = streams.Stream.define(\n",
    "    'Tidx', time=param.Integer(0, bounds=(0,30)))\n",
    "tidx_stream = Tidx()\n",
    "tidx_stream\n",
    "tidx_widget = pn.panel(tidx_stream.param)\n",
    "# display(tidx_widget)\n",
    "\n",
    "dmap_tidx_debug = hv.DynamicMap(hvu.get_debug_div,\n",
    "                                streams=[tidx_stream])\n",
    "# display(tidx_widget)\n",
    "pn.Row(tidx_widget, dmap_tidx_debug).servable()"
   ]
  },
  {
   "cell_type": "code",
   "execution_count": null,
   "metadata": {},
   "outputs": [],
   "source": [
    "u.nprint(tparam, twidget.objects)"
   ]
  },
  {
   "cell_type": "code",
   "execution_count": null,
   "metadata": {},
   "outputs": [],
   "source": [
    "dmap_debug = hv.DynamicMap( hvu.get_debug_div, streams=[tparam, box_stream])"
   ]
  },
  {
   "cell_type": "code",
   "execution_count": null,
   "metadata": {},
   "outputs": [],
   "source": [
    "dmap_vline = hv.DynamicMap(lambda time: hv.VLine(time), streams=[tparam])"
   ]
  },
  {
   "cell_type": "code",
   "execution_count": null,
   "metadata": {},
   "outputs": [],
   "source": [
    "dmap_img = hv.DynamicMap(get_timg, streams=[tparam])\n",
    "dmap = dmap_img * polys\n",
    "\n"
   ]
  },
  {
   "cell_type": "code",
   "execution_count": null,
   "metadata": {},
   "outputs": [],
   "source": [
    "twidget = pn.panel(tparam.param, widgets={'time': pn.widgets.DateSlider})\n",
    "\n",
    "pn.Row( twidget,\n",
    "       (dmap + dmap_debug+dmap_vline).cols(1)\n",
    "    ).servable()"
   ]
  },
  {
   "cell_type": "code",
   "execution_count": null,
   "metadata": {},
   "outputs": [],
   "source": [
    "tparam.event(time=pd.Timestamp('2019-04-05'))"
   ]
  },
  {
   "cell_type": "code",
   "execution_count": null,
   "metadata": {},
   "outputs": [],
   "source": [
    "# pointxy = streams.PointerXY(source=\n",
    "# debug = hv.DynamicMap(hvu.get_debug_div,"
   ]
  },
  {
   "cell_type": "code",
   "execution_count": null,
   "metadata": {},
   "outputs": [],
   "source": [
    "# pn.panel(tparam.param)"
   ]
  },
  {
   "cell_type": "code",
   "execution_count": null,
   "metadata": {},
   "outputs": [],
   "source": [
    "# tparam\n"
   ]
  },
  {
   "cell_type": "code",
   "execution_count": null,
   "metadata": {},
   "outputs": [],
   "source": [
    "# tparam.trigger(tparam)"
   ]
  },
  {
   "cell_type": "code",
   "execution_count": null,
   "metadata": {},
   "outputs": [],
   "source": [
    "# len(tparam.subscribers), tparam.subscribers"
   ]
  },
  {
   "cell_type": "code",
   "execution_count": null,
   "metadata": {},
   "outputs": [],
   "source": []
  }
 ],
 "metadata": {
  "kernelspec": {
   "display_name": "Python [conda env:earthml]",
   "language": "python",
   "name": "conda-env-earthml-py"
  },
  "language_info": {
   "codemirror_mode": {
    "name": "ipython",
    "version": 3
   },
   "file_extension": ".py",
   "mimetype": "text/x-python",
   "name": "python",
   "nbconvert_exporter": "python",
   "pygments_lexer": "ipython3",
   "version": "3.7.3"
  }
 },
 "nbformat": 4,
 "nbformat_minor": 2
}
