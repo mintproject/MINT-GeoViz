{
 "cells": [
  {
   "cell_type": "markdown",
   "metadata": {},
   "source": [
    "\n",
    "# Xarray Workbook 1\n",
    "Modified: May 28, 2019"
   ]
  },
  {
   "cell_type": "markdown",
   "metadata": {},
   "source": [
    "\n",
    "This is my sketchpad to understand xr.DataArray and xr.Dataset constructors.\n",
    "\n",
    "Keys:\n",
    "    - `xarray`'s main motivation is to model after `netcdf` format\n",
    "    - it handles pandas's limitation on 2D (or 3D at max) dataframe\n",
    "    - it maintains the `pandas`'s named dimensions idea\n",
    "    - we can think of it as a multidimensional array(`numpy.ndarray`) with named dimensions\n",
    "    - each dimension has a `name` and `tick-marks`. These tick-marks are called `coordinates`. `numpy` doesn't have this feature, so all of its indexing is by integer/order based. In `xarray`, since we have a name for each dimension (ie. axis) as well as a list of coordinates (ie. tick-marks) for each dimension (again, ie. axis), we can refer to a value in the xrray DataArray container with more semantic-aware indexing\n",
    "   "
   ]
  },
  {
   "cell_type": "markdown",
   "metadata": {},
   "source": [
    "|xrray overview|\n",
    "|-|\n",
    "|<img src=\"../images/xarray_overview.png\" alt=\"xarray_overview\" width=\"1000\"/>|"
   ]
  },
  {
   "cell_type": "markdown",
   "metadata": {},
   "source": [
    "## Overview of data structures in `xarray`\n"
   ]
  },
  {
   "cell_type": "markdown",
   "metadata": {},
   "source": [
    "\n",
    "|`xr.Variable`| `xr.DataArray`| `xr.Dataset`|\n",
    "|-|-|-|\n",
    "<img src=\"../images/xr_variable_overview.png\" alt=\"xr_variable\" width=\"700\"/> | <img src=\"../images/xr_dataarray_overview.png\" alt=\"xr_dataarray\" width=\"700\"/> | <img src=\"../images/xr_dataset_overview.png\" alt=\"xr_dataset\" width=\"700\"/> | "
   ]
  },
  {
   "cell_type": "markdown",
   "metadata": {},
   "source": [
    "### More details\n",
    "- xr.DataArray, xr.Dataset: [doc](http://xarray.pydata.org/en/stable/data-structures.html)\n",
    "- "
   ]
  },
  {
   "cell_type": "code",
   "execution_count": null,
   "metadata": {},
   "outputs": [],
   "source": [
    "arr = np.array(np.matrix('0, 10; 1, 11; 2, 12'))\n",
    "nprint(arr.shape, arr)\n",
    "# np.c_[df, ['a','b','c']] #have you tried this?"
   ]
  },
  {
   "cell_type": "markdown",
   "metadata": {},
   "source": [
    "## Simplest DataArray Constructor"
   ]
  },
  {
   "cell_type": "code",
   "execution_count": null,
   "metadata": {},
   "outputs": [],
   "source": [
    "xarr = xr.DataArray(arr)\n",
    "print(xarr)\n",
    "\n",
    "# 1. more meaning ful dimension name\n",
    "renamed = xarr.rename(dim_0='date', dim_1='station_id')\n",
    "nprint('renamed', renamed)"
   ]
  },
  {
   "cell_type": "markdown",
   "metadata": {},
   "source": [
    "Note `xarray` and `numpy` follow the same dimention assignment order. Dim0 is along the rows, Dim1 is along the columns"
   ]
  },
  {
   "cell_type": "code",
   "execution_count": null,
   "metadata": {},
   "outputs": [],
   "source": [
    "renamed.coords"
   ]
  },
  {
   "cell_type": "code",
   "execution_count": null,
   "metadata": {},
   "outputs": [],
   "source": [
    "# Let's assign some coordinates\n",
    "coords = {\n",
    "    'date': ['2019-01-01', '2019-01-02', '2019-01-03'],\n",
    "    'station_id': ['LA', 'SF']\n",
    "    \n",
    "}"
   ]
  },
  {
   "cell_type": "code",
   "execution_count": null,
   "metadata": {},
   "outputs": [],
   "source": [
    "new_xarr = renamed.assign_coords(**coords)\n",
    "print(new_xarr)"
   ]
  },
  {
   "cell_type": "code",
   "execution_count": null,
   "metadata": {},
   "outputs": [],
   "source": [
    "# I can store any relevant metadata as 'attrs'\n",
    "new_xarr.attrs"
   ]
  },
  {
   "cell_type": "code",
   "execution_count": null,
   "metadata": {},
   "outputs": [],
   "source": [
    "new_xarr.attrs.update(unit='km')\n",
    "new_xarr.attrs.update(description='US State Daily Temperature Flux')\n",
    "new_xarr.attrs.update(collector='NASA')\n",
    "new_xarr.attrs.update(last_updated='2019-05-28')\n",
    "new_xarr.attrs.update(license='MIT')\n",
    "\n",
    "\n",
    "pprint(new_xarr.attrs)"
   ]
  },
  {
   "cell_type": "markdown",
   "metadata": {},
   "source": [
    "## Let's specify these parameters at the construction time"
   ]
  },
  {
   "cell_type": "code",
   "execution_count": null,
   "metadata": {},
   "outputs": [],
   "source": [
    "meta = new_xarr.attrs.copy()\n",
    "nprint('meta data', meta)"
   ]
  },
  {
   "cell_type": "code",
   "execution_count": null,
   "metadata": {},
   "outputs": [],
   "source": [
    "xarr2 = xr.DataArray(arr, \n",
    "                     dims = ['time', 'state'],\n",
    "                     # coords as a list of tuples: each tuple = (dimname, coord_values)\n",
    "                     # this results in setting coordinate name same as its dimension's name\n",
    "                     # To set coord's name specifically, use a dictionary format\n",
    "                     #   eg: coords = {coord_name1: coord_vals1, coord_name2, coord_vals2}\n",
    "                     #   In this case, dimensions must be provided explicitly\n",
    "                     #   See example below\n",
    "                     coords=[('time', pd.date_range('2019-01-01', periods=3)),\n",
    "                             ('state', ['LA', 'SF'])],\n",
    "                     attrs=meta,\n",
    "                     name='US state example data array'\n",
    "                    )\n",
    "print(xarr2)"
   ]
  },
  {
   "cell_type": "markdown",
   "metadata": {},
   "source": [
    "## `Dimensions` and their `coordinates` \n",
    "DataArray Constructor\n",
    "```\n",
    "darr = xr.DataArray(\n",
    "        data,\n",
    "        dims=['dimname0', 'dimname1'],\n",
    "        coords=\n",
    "        attrs=\n",
    "        name=\n",
    ")\n",
    "```"
   ]
  },
  {
   "cell_type": "markdown",
   "metadata": {},
   "source": [
    "### Coordinates\n",
    "1. A dictionary of form {'coordname': coord1, 'coordname2': coords2, ...}  \n",
    "    - This requires the `dims` to be explicitly provided"
   ]
  },
  {
   "cell_type": "code",
   "execution_count": null,
   "metadata": {},
   "outputs": [],
   "source": [
    "coords = {'coord1': pd.date_range('2019-05-05', periods=3),\n",
    "          'coord2': ['LA','SF']\n",
    "         }\n",
    "darr = xr.DataArray(arr, \n",
    "             dims=['time', 'state'], # this will error because they `dims` must be a subset of `coords.keys()`\n",
    "                    # when `coords` is given as a dictionary. Now I see why `coords` keyword is specified before \n",
    "                    # `dims`\n",
    "             coords=coords,\n",
    "            )\n",
    "print(darr)"
   ]
  },
  {
   "cell_type": "code",
   "execution_count": null,
   "metadata": {},
   "outputs": [],
   "source": [
    "# Let's fix the dimension names so that it works.\n",
    "darr = xr.DataArray(arr,\n",
    "                    coords=coords,\n",
    "                    dims=['coord1', 'coord2'])\n",
    "print(darr)"
   ]
  },
  {
   "cell_type": "markdown",
   "metadata": {},
   "source": [
    "The advantage of using dictionary format for the `coords` is that we can specify extra coordinates that are about the dimensions (ie. axes).\n"
   ]
  },
  {
   "cell_type": "code",
   "execution_count": null,
   "metadata": {},
   "outputs": [],
   "source": [
    "darr = xr.DataArray(arr, \n",
    "             dims=['time', 'state'],\n",
    "             coords={\n",
    "                 'time': pd.date_range('2019-05-05', periods=3),\n",
    "                 'state': ['LA', 'SF'],\n",
    "                 'const': 17 # more on this extra (dimension-independent) coordinate later\n",
    "             }\n",
    "            )\n",
    "print(darr)"
   ]
  },
  {
   "cell_type": "markdown",
   "metadata": {},
   "source": [
    "But those dimension-independent coordinates have constraints: \n",
    "- a coordinate must have a value of a non-iterable datatype (eg. 15, 0.01, etc but not [1,2,3]). \n",
    "    - It can have a name not in `dims`\n",
    "- If a coordinate's value is an iterable, it's \n",
    "- If a coordinate can have a name that is not in `dims`, but its value must be a tuple (or other iterable) following the tuple constructor format for a coordinate that has a cooresponding dimension. \n",
    "    - Eg: coord3 = ('extra_coordname', ('dimname0', [1,2,3]))\n",
    "\n",
    "Their usecases will be explained in more details later."
   ]
  },
  {
   "cell_type": "code",
   "execution_count": null,
   "metadata": {},
   "outputs": [],
   "source": [
    "# This is okay\n",
    "darr = xr.DataArray(arr, \n",
    "             dims=['time', 'state'],\n",
    "             coords={\n",
    "                 'time': pd.date_range('2019-05-05', periods=3),\n",
    "                 'state': ['LA', 'SF'],\n",
    "                 'coord3': 'hihi' # try any other non-iterable datatypes: 0.01,'a', 'hihi'\n",
    "             }\n",
    "            )\n",
    "print(darr)"
   ]
  },
  {
   "cell_type": "code",
   "execution_count": null,
   "metadata": {},
   "outputs": [],
   "source": [
    "# This is not okay\n",
    "darr = xr.DataArray(arr, \n",
    "             dims=['time', 'state'],\n",
    "             coords={\n",
    "                 'time': pd.date_range('2019-05-05', periods=3),\n",
    "                 'state': ['LA', 'SF'],\n",
    "                 'coord3': [0.01,1] # doesn't work because the value is an iterable \n",
    "             }\n",
    "            )\n",
    "print(darr)"
   ]
  },
  {
   "cell_type": "code",
   "execution_count": null,
   "metadata": {},
   "outputs": [],
   "source": [
    "# This is okay\n",
    "darr = xr.DataArray(arr, \n",
    "             dims=['time', 'state'],\n",
    "             coords={\n",
    "                 'time': pd.date_range('2019-05-05', periods=3),\n",
    "                 'state': ['LA', 'SF'],\n",
    "                 'coord3': ('time', [1,2,3]) # this works because 'time' is one of the dimensions\n",
    "                 #but fails if the length of the iterable doesn't match 'time's length, eg. [1,2,3,4]. Try it.\n",
    "             }\n",
    "            )\n",
    "print(darr)"
   ]
  },
  {
   "cell_type": "code",
   "execution_count": null,
   "metadata": {},
   "outputs": [],
   "source": [
    "# This is okay\n",
    "darr = xr.DataArray(arr, \n",
    "             dims=['time', 'state'],\n",
    "             coords={\n",
    "                 'time': pd.date_range('2019-05-05', periods=3),\n",
    "                 'state': ['LA', 'SF'],\n",
    "                 'coord3': ( ('time', 'state'), np.random.randn(6).reshape(3,2)) \n",
    "                 # okay because 'time' and 'state' are dimension names\n",
    "             }\n",
    "            )\n",
    "print(darr)"
   ]
  },
  {
   "cell_type": "markdown",
   "metadata": {},
   "source": [
    "### `xr.DataArray` constructor from `pd.DataFrame`\n",
    "Precedant of propagating DataArray properties at construction time\n",
    "    - args to the `xr.DataArray` constructor\n",
    "    - non-specified arguments will be filled in from the `pandas` object"
   ]
  },
  {
   "cell_type": "code",
   "execution_count": null,
   "metadata": {},
   "outputs": [],
   "source": [
    "df = pd.DataFrame(arr, columns=['LA', 'SF'], index=pd.date_range('2020-01-01', periods=3))\n",
    "df"
   ]
  },
  {
   "cell_type": "code",
   "execution_count": null,
   "metadata": {},
   "outputs": [],
   "source": [
    "darr = xr.DataArray(df)"
   ]
  },
  {
   "cell_type": "code",
   "execution_count": null,
   "metadata": {},
   "outputs": [],
   "source": [
    "darr"
   ]
  },
  {
   "cell_type": "markdown",
   "metadata": {},
   "source": [
    "Notice that `df`'s index is set to the first dimension (which is named `dim_0` by default)'s coordinate, and `df`'s column names to the coordinate of the second dimension (`dim_1`).\n",
    "\n",
    "Let's try providing dimension names."
   ]
  },
  {
   "cell_type": "code",
   "execution_count": null,
   "metadata": {},
   "outputs": [],
   "source": [
    "darr = xr.DataArray(df, dims=['time', 'state'])\n",
    "print(darr)"
   ]
  },
  {
   "cell_type": "markdown",
   "metadata": {},
   "source": [
    "What if the input `pd.DataFrame` instance has default index and column names?\n"
   ]
  },
  {
   "cell_type": "code",
   "execution_count": null,
   "metadata": {},
   "outputs": [],
   "source": [
    "df = pd.DataFrame(arr)\n",
    "print(df)"
   ]
  },
  {
   "cell_type": "code",
   "execution_count": null,
   "metadata": {},
   "outputs": [],
   "source": [
    "darr = xr.DataArray(df)\n",
    "print(darr)"
   ]
  },
  {
   "cell_type": "markdown",
   "metadata": {},
   "source": [
    "Same rule applies. That is, we use the input `df`'s index and columnnames to fill in non-specified filed for the new xr.DataArray object.\n",
    "\n",
    "Let's see if specifying the coordinates correctly take a precedance over the input `df`'s index and columns."
   ]
  },
  {
   "cell_type": "code",
   "execution_count": null,
   "metadata": {},
   "outputs": [],
   "source": [
    "darr = xr.DataArray(df,\n",
    "                    coords=[('time', pd.date_range('2021-01-01',periods=3)),\n",
    "                            ('state', ['LA', 'SF'])],\n",
    "                    #dims=['time', 'state'] # optional, as it's redundant\n",
    "                   )\n",
    "print(darr)\n",
    "\n",
    "                            "
   ]
  },
  {
   "cell_type": "markdown",
   "metadata": {},
   "source": [
    "Notice that the coordinates are set from the direct input arguments to `xr.DataArray` constructor."
   ]
  },
  {
   "cell_type": "markdown",
   "metadata": {},
   "source": [
    "### `xr.DataArray.rename` method\n",
    "- returns a **new** xr.DataArray with the same (**NOT** a copied version of) data and modification on the properties"
   ]
  },
  {
   "cell_type": "code",
   "execution_count": null,
   "metadata": {},
   "outputs": [],
   "source": [
    "print(darr)"
   ]
  },
  {
   "cell_type": "code",
   "execution_count": null,
   "metadata": {},
   "outputs": [],
   "source": [
    "new_darr = darr.rename(state='us_state')\n",
    "print(new_darr)"
   ]
  },
  {
   "cell_type": "code",
   "execution_count": null,
   "metadata": {},
   "outputs": [],
   "source": [
    "print(darr is new_darr)"
   ]
  },
  {
   "cell_type": "code",
   "execution_count": null,
   "metadata": {},
   "outputs": [],
   "source": [
    "# see that the underlying data is copied as well\n",
    "print(darr.values is new_darr.values) # same as print(id(darr.values) == id(new_darr.values))"
   ]
  },
  {
   "cell_type": "markdown",
   "metadata": {},
   "source": [
    "Suprise?! Is this really true?"
   ]
  },
  {
   "cell_type": "code",
   "execution_count": null,
   "metadata": {},
   "outputs": [],
   "source": [
    "print(id(darr.values) == id(new_darr.values))"
   ]
  },
  {
   "cell_type": "code",
   "execution_count": null,
   "metadata": {},
   "outputs": [],
   "source": [
    "# Let's see if changes in one array is reflected on the `renamed` DataArray's underlying data"
   ]
  },
  {
   "cell_type": "code",
   "execution_count": null,
   "metadata": {},
   "outputs": [],
   "source": [
    "print(darr.values)"
   ]
  },
  {
   "cell_type": "code",
   "execution_count": null,
   "metadata": {},
   "outputs": [],
   "source": [
    "darr.values[0,0] = -100\n",
    "nprint(darr.values)\n",
    "nprint(new_darr.values)"
   ]
  },
  {
   "cell_type": "markdown",
   "metadata": {},
   "source": [
    "Okay. This is worthwhile to remember. \n",
    "\n",
    "> xr.DataArray.rename() will return a **new** instance with properties changed (eg. dimension names, coordinate values),\n",
    "but the new instance will have to the **same** handle to the original dataarray's `values`(ie. the underlying data)!!\n",
    "\n",
    "This means, changing the underlying data in one instance is directly reflected on the other instance. Nice in that the data is copied, but if we truely want a new instance, we need to figure out what's the right way to deep copy the underlying data."
   ]
  },
  {
   "cell_type": "markdown",
   "metadata": {},
   "source": [
    "## xarray's Dataset class\n",
    "Keys:\n",
    "- a variable is either `data_variable` (`data_var`) or `coordinate_variable`(`coords`)\n",
    "\n",
    "    For example, in the diagram below, `temperature` and `precipitation` are `data variable` and all other arrays are `coordinate variables`\n",
    "    <img src=\"../assets/xr_dataset_structure.png\" alt=\"xr_dataset\" width=\"500\"/>\n",
    "\n",
    "\n",
    "- multi-dimensional equivalent of a pd.Datafrmae + labelled axes\n",
    "- a dict-link container of labelled arrays (ie.xr.DataArray objects) with *aligned* dimensions\n",
    "- designed as an in-memory representation of the data model from the netCDF file format\n",
    "\n",
    "4 main properties of a Dataset object\n",
    "- dims: a dictionary mapping from dimension names to the fixed length of each dimension, eg: `{'dim0': 4, 'dim1': 3}`\n",
    "- data_vars: a dict-link container of DataArrays corresponding to variables\n",
    "- coords: a dict-link contain of DataArrays intended to label points used in `data_vars`\n",
    "- attrs: OrderedDict to hold arbitrary metadata\n",
    "\n",
    "- (xarray) `data_var` : `coord` = 'vdims' : 'kdims' (holoviews)\n",
    "- How to decide whether a variable belongs to `data_vars` or `coords`\"\n",
    "    - coordinates indicate constant/fixed/independed quantities \n",
    "    - varying/measured/dependednt quantities belongs to data\n",
    "- recall `coords.keys()` is a superset of `dims`\n",
    "\n",
    "<img src=\"../assets/create_dataset.png\" alt=\"create_dataset\" width=\"650\"/>"
   ]
  },
  {
   "cell_type": "code",
   "execution_count": null,
   "metadata": {},
   "outputs": [],
   "source": [
    "temp = 70+10*np.random.randn(2,3,4)\n",
    "precip = 5+2*np.random.randn(2,3,4)\n",
    "lon = [[-99.81, -99.44, -99.23], \n",
    "       [-99.79, -99.34, -99.12]]\n",
    "lat = [[42.24, 42.21, 42.19],\n",
    "       [42.63, 42.59, 42.44]]"
   ]
  },
  {
   "cell_type": "markdown",
   "metadata": {},
   "source": [
    "```python\n",
    "data_vars = {\n",
    "    'temperature': xr.DataArray(data=temp,\n",
    "                                coords = [('x', [x_tick1, x_tick2]),\n",
    "                                          ('y', [y_tick1, y_tick2, y_tick3]),\n",
    "                                          ('t', [t_tick1, t_tick3, t_tick3, t_tick4])],\n",
    "                                dims = ['x','y','time'], # optional as it's redundant\n",
    "                                attrs = temp_metadata,\n",
    "                                name = temp_name\n",
    "                               ),\n",
    "    'precipitation': xr.DataArray(data = precip,\n",
    "                                  coords = [('x', [x_tick1, x_tick2]),\n",
    "                                          ('y', [y_tick1, y_tick2, y_tick3]),\n",
    "                                          ('time', [t_tick1, t_tick3, t_tick3, t_tick4])],\n",
    "                                  dims = ['x','y','time'], # optional as it's redundant\n",
    "                                 ),\n",
    "}\n",
    "```\n",
    "\n",
    "Note that we don't really know what to use to tickmark values for `x` and `y` coordinates. These are very general coordinates, to indicate the general two dimensional space, and no semantics attached. So, we use the second syntax (which only requires a list of dimension names ('x', 'y', 't') and the underlying data for the data_variable) to construct each data variable:\n",
    "\n",
    "```python\n",
    "    {\"varname\": (`dims`, `underlying_data`),\n",
    "    \"varname2\": (`dims`, `underlying_data`)}\n",
    "    \n",
    "```\n"
   ]
  },
  {
   "cell_type": "code",
   "execution_count": null,
   "metadata": {},
   "outputs": [],
   "source": [
    "data_vars = {\n",
    "    'temperature': (['x','y','time'], temp),\n",
    "    'percipitation': (['x','y','time'], precip),\n",
    "}                             \n",
    "coord_vars = {\n",
    "    'lon': (['x','y'], lon),\n",
    "    'lat': (['x','y'], lat),\n",
    "    \n",
    "    # this is the last case (for the general coordinate variables, ie. x,y,t in our case\n",
    "#     'x': [val1, val2] <-- what to put in..? whatever is, not very meaningful\n",
    "#     'y': [ycoord1, ycoord2] <-- what to put in...? so we don't explicitly express these two\n",
    "    'time': pd.date_range('2019-05-28', periods=4),\n",
    "    'reference_time': pd.Timestamp('2019-05-27')\n",
    "}\n",
    "    "
   ]
  },
  {
   "cell_type": "code",
   "execution_count": null,
   "metadata": {},
   "outputs": [],
   "source": [
    "ds = xr.Dataset(\n",
    "    data_vars=data_vars,\n",
    "                \n",
    "    #coords should've named coord_vars, in my opinion\n",
    "    coords = coord_vars\n",
    ")"
   ]
  },
  {
   "cell_type": "code",
   "execution_count": null,
   "metadata": {},
   "outputs": [],
   "source": [
    "ds"
   ]
  },
  {
   "cell_type": "markdown",
   "metadata": {},
   "source": [
    "Pretty interesting. This is well-connected to the ideas behind holoviews `kdims` and `vdims`."
   ]
  },
  {
   "cell_type": "code",
   "execution_count": null,
   "metadata": {},
   "outputs": [],
   "source": []
  },
  {
   "cell_type": "markdown",
   "metadata": {},
   "source": [
    "# Resources\n",
    "- Pangeo architecture: [slides](https://is.gd/t9Rtqn)\n",
    "    - Bring computation to the data (big data)\n",
    "    - Uses `xarray`  which is supported by `Dask` in the backend\n",
    "- Great tutorial on how to use OPeNDAP server with GES DISC (NASA's open data portal)\n",
    "    - [link](https://is.gd/V4RJMS)\n",
    "- xarray: read opendap data\n",
    "    - [doc](http://xarray.pydata.org/en/stable/io.html#opendap)\n",
    "    - use xarray.open_dataset() for password-protected Opendap files: [link](https://github.com/pydata/xarray/issues/1068)\n",
    "    <img src=\"xarray-opendap2.png\" alt=\"xarray-opendap\" width=\"500\"/>\n",
    "- xarray general tutorials\n",
    "    - [liasa](http://pure.iiasa.ac.at/id/eprint/14952/1/xarray-tutorial-egu2017-answers.pdf)\n",
    "    \n"
   ]
  }
 ],
 "metadata": {
  "kernelspec": {
   "display_name": "Python [conda env:earthml]",
   "language": "python",
   "name": "conda-env-earthml-py"
  },
  "language_info": {
   "codemirror_mode": {
    "name": "ipython",
    "version": 3
   },
   "file_extension": ".py",
   "mimetype": "text/x-python",
   "name": "python",
   "nbconvert_exporter": "python",
   "pygments_lexer": "ipython3",
   "version": "3.7.1"
  }
 },
 "nbformat": 4,
 "nbformat_minor": 2
}
