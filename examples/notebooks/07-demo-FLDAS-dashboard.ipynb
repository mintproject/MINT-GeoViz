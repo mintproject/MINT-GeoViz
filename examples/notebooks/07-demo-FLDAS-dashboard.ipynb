{
 "cells": [
  {
   "cell_type": "markdown",
   "metadata": {},
   "source": [
    "# FLDAS Explorer Dashboard\n",
    "Modified: Jun 17, 2019"
   ]
  },
  {
   "cell_type": "code",
   "execution_count": null,
   "metadata": {},
   "outputs": [],
   "source": [
    "%load_ext autoreload\n",
    "%autoreload 2\n",
    "\n",
    "import os, sys, time\n",
    "import datetime as dt\n",
    "import numpy as np\n",
    "import scipy as sp\n",
    "import pandas as pd\n",
    "import geopandas as gpd\n",
    "import intake,param\n",
    "    \n",
    "from pathlib import Path\n",
    "from pprint import pprint as pp\n",
    "p = print \n",
    "\n",
    "from sklearn.externals import joblib\n",
    "import pdb\n",
    "\n",
    "from tqdm import tqdm, trange\n",
    "import ipywidgets as iw\n",
    "\n",
    "import matplotlib.pyplot as plt\n",
    "%matplotlib inline\n",
    "\n",
    "# ignore warnings\n",
    "import warnings\n",
    "if not sys.warnoptions:\n",
    "    warnings.simplefilter('ignore')\n",
    "    \n",
    "# Don't generate bytecode\n",
    "sys.dont_write_bytecode = True"
   ]
  },
  {
   "cell_type": "code",
   "execution_count": null,
   "metadata": {},
   "outputs": [],
   "source": [
    "import holoviews as hv\n",
    "import xarray as xr\n",
    "import xarray.ufuncs as xu\n",
    "\n",
    "from holoviews import opts\n",
    "from holoviews.operation.datashader import datashade, shade, dynspread, rasterize\n",
    "from holoviews.streams import Stream, param\n",
    "from holoviews import streams\n",
    "import geoviews as gv\n",
    "import geoviews.feature as gf\n",
    "from geoviews import tile_sources as gvts\n",
    "\n",
    "import geopandas as gpd\n",
    "import cartopy.crs as ccrs\n",
    "import cartopy.feature as cf\n",
    "\n",
    "hv.notebook_extension('bokeh')\n",
    "hv.Dimension.type_formatters[np.datetime64] = '%Y-%m-%d'"
   ]
  },
  {
   "cell_type": "code",
   "execution_count": null,
   "metadata": {},
   "outputs": [],
   "source": [
    "# Add the utils directory to the search path\n",
    "UTILS_DIR = Path('../utils').absolute()\n",
    "assert UTILS_DIR.exists()\n",
    "if str(UTILS_DIR) not in sys.path:\n",
    "    sys.path.insert(0, str(UTILS_DIR))\n",
    "    print(f\"Added {str(UTILS_DIR)} to sys.path\")    "
   ]
  },
  {
   "cell_type": "code",
   "execution_count": null,
   "metadata": {},
   "outputs": [],
   "source": [
    "#import utils\n",
    "import hv_utils as  hvu"
   ]
  },
  {
   "cell_type": "code",
   "execution_count": null,
   "metadata": {},
   "outputs": [],
   "source": [
    "# Grab registered bokeh renderer\n",
    "print(\"Currently available renderers: \", *hv.Store.renderers.keys())\n",
    "renderer = hv.renderer('bokeh')"
   ]
  },
  {
   "cell_type": "markdown",
   "metadata": {},
   "source": [
    "## Set default holoviews style options"
   ]
  },
  {
   "cell_type": "code",
   "execution_count": null,
   "metadata": {},
   "outputs": [],
   "source": [
    "%opts Image [colorbar=True, tools=['hover'], active_tools=['wheel_zoom']] Curve [tools=['hover']]"
   ]
  },
  {
   "cell_type": "code",
   "execution_count": null,
   "metadata": {},
   "outputs": [],
   "source": [
    "opts.defaults(\n",
    "    opts.WMTS(active_tools=['wheel_zoom']),\n",
    "    opts.Image(active_tools=['wheel_zoom'], tools=['hover'], colorbar=True),\n",
    "    opts.Curve(active_tools=['wheel_zoom'], tools=['hover']),\n",
    "    opts.Scatter(active_tools=['wheel_zoom'], tools=['hover']),\n",
    "    opts.HLine(active_tools=['wheel_zoom'], tools=['hover']),\n",
    "\n",
    "    opts.RGB(active_tools=['wheel_zoom'], tools=['hover']),\n",
    "    opts.Overlay(active_tools=['wheel_zoom']),\n",
    ")\n"
   ]
  },
  {
   "cell_type": "code",
   "execution_count": null,
   "metadata": {},
   "outputs": [],
   "source": [
    "H,W = 500,500"
   ]
  },
  {
   "cell_type": "markdown",
   "metadata": {},
   "source": [
    "---\n",
    "## Load Datasets"
   ]
  },
  {
   "cell_type": "code",
   "execution_count": null,
   "metadata": {},
   "outputs": [],
   "source": [
    "# Southern Africa Dataset\n",
    "fpath_sa = '/home/hayley/data/mint/FLDAS/FLDAS_NOAH01_A_SA_D.001/2019/04/FLDAS_NOAH01_A_SA_D.A201904*.001.nc'\n",
    "fpath_ea = '/home/hayley/data/mint/FLDAS/FLDAS_NOAH01_A_EA_D.001/2019/04/FLDAS_NOAH01_A_EA_D.A201904*.001.nc'\n",
    "ds_sa = xr.open_mfdataset(fpath_sa)\n",
    "ds_sa = ds_sa.drop_dims('bnds')\n",
    "\n",
    "ds_ea = xr.open_mfdataset(fpath_ea)\n",
    "ds_ea = ds_ea.drop_dims('bnds')\n",
    "\n",
    "         \n",
    "# print(ds_ea)\n",
    "# print(ds_sa)"
   ]
  },
  {
   "cell_type": "code",
   "execution_count": null,
   "metadata": {},
   "outputs": [],
   "source": [
    "xrd_ea = ds_ea.persist()\n",
    "xrd_sa = ds_sa.persist()"
   ]
  },
  {
   "cell_type": "code",
   "execution_count": null,
   "metadata": {},
   "outputs": [],
   "source": [
    "# data variable list\n",
    "varnames_ea = list(ds_ea.data_vars.keys())\n",
    "varnames_sa = list(ds_sa.data_vars.keys())\n",
    "varnames = varnames_ea\n",
    "varname = varnames[3]\n",
    "print(varname)\n",
    "\n",
    "# create holoviews dataset containers \n",
    "kdims = ['X','Y','time']\n",
    "hvd_ea = hv.Dataset(xrd_ea, kdims)\n",
    "hvd_sa = hv.Dataset(xrd_sa, kdims)\n"
   ]
  },
  {
   "cell_type": "code",
   "execution_count": null,
   "metadata": {},
   "outputs": [],
   "source": [
    "# colormaps\n",
    "## discretize it conveniently using holoview's \"color_level\" option\n",
    "t_fixed = '2019-04-05'\n",
    "varname = varnames[5] \n",
    "print(\"Selecting a datavariable at a fixed time point: \", t_fixed, varname)\n",
    "\n",
    "# timg_ea = hvd_ea.select(time=t_fixed).to(gv.Image, kdims=['X', 'Y'], vdims=varname) #this returns a holomap, not a hv.Image object\n",
    "# To construct an hv.Image object, we need to pass in the xr.DataArray (ie. one value variable)\n",
    "print(xrd_ea[varname].isel(time=3) )\n",
    "timg_ea = gv.Image(xrd_ea[varname].isel(time=3) , ['X','Y'], crs=ccrs.PlateCarree()) #Opt: vdims=varname\n",
    "timg_sa = gv.Image(xrd_sa[varname].isel(time=3) , ['X','Y'], crs=ccrs.PlateCarree()) #Opt: vdims=varname\n",
    "# print(timg_sa)\n",
    "# gv.tile_sources.Wikipedia * timg_ea.opts(alpha=0.5,width=W_IMG, height=H_IMG) #+ timg_sa.opts(width=W_IMG, height=H_IMG)"
   ]
  },
  {
   "cell_type": "markdown",
   "metadata": {},
   "source": [
    "## Basemap tile\n",
    "\n",
    "We need to handle the projection from latlon to web mercator (which is what the hv.tiles expect).\n"
   ]
  },
  {
   "cell_type": "code",
   "execution_count": null,
   "metadata": {},
   "outputs": [],
   "source": [
    "wmts_url = 'https://maps.wikimedia.org/osm-intl/{Z}/{X}/{Y}@2x.png'\n",
    "basemap = gv.tile_sources.EsriImagery"
   ]
  },
  {
   "cell_type": "code",
   "execution_count": null,
   "metadata": {},
   "outputs": [],
   "source": [
    "%%opts WMTS [width=W, height=H]\n",
    "# basemap * timg_ea\n",
    "# gvts.EsriNatGeo*timg_ea"
   ]
  },
  {
   "cell_type": "markdown",
   "metadata": {},
   "source": [
    "---\n",
    "## Add Callbacks \n",
    "\n",
    "### LatLon Tab selector stream\n",
    "\n",
    "Fetch the lat,lon location from the mouse location"
   ]
  },
  {
   "cell_type": "code",
   "execution_count": null,
   "metadata": {},
   "outputs": [],
   "source": [
    "from holoviews.streams import Tap, Selection1D, PointerXY, RangeXY"
   ]
  },
  {
   "cell_type": "code",
   "execution_count": null,
   "metadata": {},
   "outputs": [],
   "source": [
    "# Defne time sereis scatter point selector stream\n",
    "# tscatter_selection = Selection1D(source=tseries.Scatter.I)"
   ]
  },
  {
   "cell_type": "code",
   "execution_count": null,
   "metadata": {},
   "outputs": [],
   "source": [
    "################################\n",
    "from ipywidgets import Output\n",
    "out = Output()\n",
    "\n",
    "@out.capture(clear_output=True)\n",
    "def listener(*args, **kwargs):\n",
    "    print('Scatter selector listener called')\n",
    "    print(args)\n",
    "    print(kwargs)\n",
    "################################\n",
    "# tscatter_selection = Selection1D(source=tseries.Scatter.I)\n",
    "# tscatter_selection.add_subscriber(listener)\n",
    "out\n",
    "################################"
   ]
  },
  {
   "cell_type": "code",
   "execution_count": null,
   "metadata": {},
   "outputs": [],
   "source": [
    "def cb_tscatter(xrd, varname, index):\n",
    "    print('cb_tscatter called. Selected indices: ', index)\n",
    "    if not index:\n",
    "        index = [0] #todo: current tindex\n",
    "    tidx = index[0]\n",
    "    return hvu.get_img(xrd, varname, tidx)"
   ]
  },
  {
   "cell_type": "code",
   "execution_count": null,
   "metadata": {},
   "outputs": [],
   "source": [
    "# tseries_opts = {\n",
    "    \n",
    "def cb_tseries(xrd, varname, x, y, method='nearest'):\n",
    "    print(f'x,y: {x,y}')\n",
    "    tseries = xrd[varname].sel(X=x, Y=y,method=method)\n",
    "    tseries_label = f\"Time Series at Lon,Lat = ({x:.2f},{y:.2f}) \"\n",
    "    \n",
    "    # Time series as Scatter and Curve\n",
    "    scatter = hv.Scatter(tseries)\n",
    "    curve = hv.Curve(tseries)\n",
    "    \n",
    "    # Link a stream to the scatter to enable Tab selection\n",
    "    scatter_stream = Selection1D(source=scatter)\n",
    "    scatter_stream.add_subscriber(listener) # for debug\n",
    "    dmap_scatter_stream = hv.DynamicMap(\n",
    "        lambda index: cb_tscatter(xrd, varname, index),\n",
    "        streams=[scatter_stream])\n",
    "    \n",
    "    # Add HLine at mean over time\n",
    "    mean = hvu.extract_item(tseries.mean())\n",
    "    print(mean)\n",
    "    mean_line = hv.HLine(mean, label='tseries_mean')\n",
    "    t_midpoint = pd.Timestamp(hvu.extract_item(tseries.coords['time'][len(tseries)//2]))\n",
    "    mean_label = hv.Labels([(t_midpoint, mean, f'mean: {mean:.3f}')])\n",
    "    \n",
    "    # Put together to an Overlay\n",
    "    overlay = (\n",
    "        curve.opts(alpha=0.5, line_width=1) \n",
    "        * scatter.opts(width=W, padding=0.2, size=5) \n",
    "        * mean_line.opts(color='black', alpha=0.5, line_width=1)\n",
    "        * mean_label.opts(text_font_size='8pt',text_alpha=0.5)\n",
    "    ) + dmap_scatter_stream\n",
    "    return overlay.relabel(tseries_label)\n",
    "\n",
    "\n",
    "    "
   ]
  },
  {
   "cell_type": "markdown",
   "metadata": {},
   "source": [
    "---\n",
    "### Add another callback for time series statistics\n",
    "- On LatLon selection, compute the statistics of the current `varname` at `latlon_selected` across time.\n"
   ]
  },
  {
   "cell_type": "code",
   "execution_count": null,
   "metadata": {},
   "outputs": [],
   "source": [
    "def cb_tstats(xrd, varname, x, y, \n",
    "              method='nearest',\n",
    "             show_as_timestamp=True,\n",
    "             decimals=3):\n",
    "    tseries = xrd[varname].sel(X=x, Y=y,method=method)\n",
    "    df = hvu.get_stats(tseries, \n",
    "                       show_as_timestamp=show_as_timestamp,\n",
    "                       decimals=decimals)\n",
    "    \n",
    "    # Add metadata on selected latlon point\n",
    "#     df['point_idx'] = index[0]#\n",
    "    df['lat'] = y\n",
    "    df['lon'] = x\n",
    "    \n",
    "    cols = df.columns.to_list()\n",
    "    cols = cols[-2:] + cols[:-2]\n",
    "    df = df[cols]\n",
    "    label = f\"Time Series Stats at Lon,Lat = ({x:.2f},{y:.2f}) \"\n",
    "    return hv.Table(df, label=label)"
   ]
  },
  {
   "cell_type": "markdown",
   "metadata": {},
   "source": [
    "---\n",
    "## Combine the two callbacks for LatLon Tab selector\n"
   ]
  },
  {
   "cell_type": "code",
   "execution_count": null,
   "metadata": {},
   "outputs": [],
   "source": [
    "def cb_latlon_tab(xrd, varname, x, y, **kwargs):\n",
    "    \"\"\"\n",
    "    Creates a hv.Overlay object with two elements\n",
    "    - layout = tseries + table\n",
    "    where \n",
    "        - tseries: itself an overlay with scatter, curve, hline and a text for \n",
    "        the time series data at the selected LonLat location\n",
    "        - table: contains basic statistics of the time series data at the selected location\n",
    "    Args:\n",
    "    - xrd (xarray.Dataset)\n",
    "    - varname (str)\n",
    "    - x (int): index to xrd's 'X' dim\n",
    "    - y (int): index to xrd's 'Y' dim\n",
    "    \n",
    "    kwargs:\n",
    "    - method (str): xarray's .sel method. Default: 'nearest'\n",
    "    - show_as_teimstamp (bool): if True, the table will show time data as time rather than an index\n",
    "    - decimals (int): number of decimals to kwarg to np.around() for float point display\n",
    "    \n",
    "    Returns\n",
    "    - layout (hv.Overlay)\n",
    "    \"\"\"\n",
    "    # Get the kwarg values\n",
    "    method = kwargs.get('method', 'nearest')\n",
    "    show_as_timestamp = kwargs.get('show_as_timestamp', True)\n",
    "    decimals = kwargs.get('decimals', 3)\n",
    "    \n",
    "    # Get hv elements\n",
    "    tseries = cb_tseries(xrd, varname, x, y, method=method)\n",
    "    tstats = cb_tstats(xrd, varname, x, y, \n",
    "                       method=method, show_as_timestamp=show_as_timestamp, decimals=decimals)\n",
    "    return (tseries+ tstats)\n"
   ]
  },
  {
   "cell_type": "markdown",
   "metadata": {},
   "source": [
    "---\n",
    "## Add a callback for RangeXY stream\n",
    "- Fetch the x and y ranges of the current view\n",
    "    - todo: Fetch appropriate vector tile"
   ]
  },
  {
   "cell_type": "code",
   "execution_count": null,
   "metadata": {},
   "outputs": [],
   "source": [
    "def cb_rangexy(x_range, y_range):\n",
    "    lbrt = hvu.ranges2lbrt(x_range, y_range)\n",
    "    print(f'x_range: {x_range}')\n",
    "    print(f'y_range: {y_range}')\n",
    "    print(f'lbrt: ', lbrt)\n",
    "    \n",
    "    df = pd.DataFrame( [lbrt], columns='min_x min_y max_x max_y'.split() )\n",
    "    return hv.Table( df)\n"
   ]
  },
  {
   "cell_type": "markdown",
   "metadata": {},
   "source": [
    "---\n",
    "## Putting the streams together\n"
   ]
  },
  {
   "cell_type": "markdown",
   "metadata": {},
   "source": [
    "## FLDASExplorer with panel\n",
    "Modified: Jun 13, 2019"
   ]
  },
  {
   "cell_type": "code",
   "execution_count": null,
   "metadata": {},
   "outputs": [],
   "source": [
    "import datetime as dt\n",
    "\n",
    "class FLDASExplorer(param.Parameterized):\n",
    "    region = param.ObjectSelector(default='EA', objects=['EA', 'SA'])\n",
    "    varname = param.ObjectSelector(default=varnames[0],objects=varnames)\n",
    "    time = param.Date(dt.datetime(2019,4,1), bounds=(dt.datetime(2019, 4, 1), dt.datetime(2019, 4, 30)))\n",
    "    alpha = param.Number(default=1.0, bounds=(0.0,1.0))\n",
    "#     cmap = param.ObjectSelector(default='fire', objects=['fire'])\n",
    "\n",
    "                                                    \n",
    "    @param.depends('region', 'varname', 'time')#, 'alpha')#, 'cmap')\n",
    "    def view(self):\n",
    "        xrd = xrd_ea if self.region == 'EA' else xrd_sa\n",
    "        img = gv.Image(xrd.sel(time=self.time)[self.varname], ['X','Y'], crs=ccrs.PlateCarree())    \n",
    "        \n",
    "    #     datashade returns a hv.DynamicMap which dynamically re-renders this img as we zoom/pan\n",
    "        return basemap*datashade(img.opts(**img_opts), \n",
    "                                 cmap=fire,#self.cmap, \n",
    "#                                  alpha=self.alpha,\n",
    "                                 **dopts)\n"
   ]
  },
  {
   "cell_type": "code",
   "execution_count": null,
   "metadata": {},
   "outputs": [],
   "source": [
    "explorer = FLDASExplorer()\n",
    "# img_dmap = hv.DynamicMap(explorer.view)\n",
    "app = pn.Row( explorer.param, explorer.view)"
   ]
  },
  {
   "cell_type": "code",
   "execution_count": null,
   "metadata": {},
   "outputs": [],
   "source": [
    "app.servable()"
   ]
  },
  {
   "cell_type": "markdown",
   "metadata": {},
   "source": [
    "## Before panel...\n",
    "- currently no `datashade` applied to the img(ie.`timg_ea`)"
   ]
  },
  {
   "cell_type": "code",
   "execution_count": null,
   "metadata": {},
   "outputs": [],
   "source": [
    "# Set extra style opts (in addition to default from above)\n",
    "scatter_opts = dict(width=W, height=H,\n",
    "                    tools=['hover', 'tap'], \n",
    "                    framewise = True)\n",
    "curve_opts = dict(width=W, height=H,\n",
    "                  framewise=True)\n",
    "img_opts = dict(width=W, height=H,\n",
    "                axiswise=True, \n",
    "                framewise=False,\n",
    "               )\n",
    "tbl_opts = dict(width = W)"
   ]
  },
  {
   "cell_type": "code",
   "execution_count": null,
   "metadata": {},
   "outputs": [],
   "source": [
    "# These will be panel params\n",
    "varname = varnames[1]\n",
    "xrd = xrd_ea\n",
    "tidx = 10\n",
    "# Get timg given xrd (region), varname, time point\n",
    "timg = hvu.get_img(xrd, varname, tidx)"
   ]
  },
  {
   "cell_type": "code",
   "execution_count": null,
   "metadata": {},
   "outputs": [],
   "source": [
    "# Define streams\n",
    "## On main image: LatLon Tab stream\n",
    "tap_latlon = Tap(name='tap_latlon', x = 0.0, y=0.0, source=timg)\n",
    "dmap_tseries = hv.DynamicMap(\n",
    "    lambda x,y, **kwargs: cb_latlon_tab(xrd, varname, x,y, **kwargs),\n",
    "    streams=[tap_latlon]\n",
    ")\n",
    "\n",
    "## Range stream and dmap\n",
    "# range_src = timg_ea\n",
    "# x_range, y_range = hvu.lbrt2ranges(range_src.bounds.lbrt())\n",
    "# rangexy = RangeXY(x_range = x_range,\n",
    "#                   y_range = y_range,\n",
    "#                   source=timg_ea)\n",
    "# dmap_range_tbl = hv.DynamicMap(cb_rangexy, streams=[rangexy])\n",
    "\n",
    "## Putting all together\n",
    "layout = (basemap * timg_ea) + dmap_tseries.collate()\n",
    "layout.opts(\n",
    "    opts.Image(**img_opts),\n",
    "    opts.Scatter(**scatter_opts),\n",
    "    opts.Curve(**curve_opts),\n",
    "    opts.Table(**tbl_opts) \n",
    ").cols(1)\n",
    "  "
   ]
  },
  {
   "cell_type": "markdown",
   "metadata": {},
   "source": [
    "## FLDASExplorer with panel\n"
   ]
  },
  {
   "cell_type": "code",
   "execution_count": null,
   "metadata": {},
   "outputs": [],
   "source": [
    "# datashader opts\n",
    "dopts = dict(width=W, height=H,\n",
    "#             x_sampling=0.5, \n",
    "#             y_sampling=0.5,\n",
    "            )\n",
    "\n",
    "class FLDASExplorer(param.Parameterized):\n",
    "    region = param.ObjectSelector(default='EA', objects=['EA', 'SA'])\n",
    "    varname = param.ObjectSelector(default=varnames[0],objects=varnames)\n",
    "    time = param.Date(dt.datetime(2019,4,1), bounds=(dt.datetime(2019, 4, 1), dt.datetime(2019, 4, 30)))\n",
    "    alpha = param.Number(default=1.0, bounds=(0.0,1.0))\n",
    "#     cmap = param.ObjectSelector(default='fire', objects=['fire'])\n",
    "\n",
    "                                                    \n",
    "    @param.depends('region', 'varname', 'time')#, 'alpha')#, 'cmap')\n",
    "    def view(self):\n",
    "        xrd = xrd_ea if self.region == 'EA' else xrd_sa\n",
    "        img = gv.Image(xrd.sel(time=self.time)[self.varname], ['X','Y'], crs=ccrs.PlateCarree())    \n",
    "        \n",
    "    #     datashade returns a hv.DynamicMap which dynamically re-renders this img as we zoom/pan\n",
    "        return basemap*datashade(img.opts(**img_opts), \n",
    "                                 cmap=fire,#self.cmap, \n",
    "#                                  alpha=self.alpha,\n",
    "                                 **dopts)\n"
   ]
  },
  {
   "cell_type": "code",
   "execution_count": null,
   "metadata": {},
   "outputs": [],
   "source": [
    "explorer = FLDASExplorer()\n",
    "# img_dmap = hv.DynamicMap(explorer.view)\n",
    "app = pn.Row( explorer.param, explorer.view)"
   ]
  },
  {
   "cell_type": "code",
   "execution_count": null,
   "metadata": {},
   "outputs": [],
   "source": [
    "app.servable()"
   ]
  },
  {
   "cell_type": "code",
   "execution_count": null,
   "metadata": {},
   "outputs": [],
   "source": []
  }
 ],
 "metadata": {
  "kernelspec": {
   "display_name": "Python [conda env:earthml]",
   "language": "python",
   "name": "conda-env-earthml-py"
  },
  "language_info": {
   "codemirror_mode": {
    "name": "ipython",
    "version": 3
   },
   "file_extension": ".py",
   "mimetype": "text/x-python",
   "name": "python",
   "nbconvert_exporter": "python",
   "pygments_lexer": "ipython3",
   "version": "3.7.3"
  }
 },
 "nbformat": 4,
 "nbformat_minor": 2
}
