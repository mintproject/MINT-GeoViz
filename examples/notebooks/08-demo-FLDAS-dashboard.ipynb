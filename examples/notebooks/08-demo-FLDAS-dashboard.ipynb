{
 "cells": [
  {
   "cell_type": "markdown",
   "metadata": {},
   "source": [
    "# FLDAS Explorer Dashboard\n",
    "Modified: Jun 17, 2019"
   ]
  },
  {
   "cell_type": "code",
   "execution_count": null,
   "metadata": {},
   "outputs": [],
   "source": [
    "%load_ext autoreload\n",
    "%autoreload 2\n",
    "\n",
    "import os, sys, time\n",
    "import datetime as dt\n",
    "import numpy as np\n",
    "import scipy as sp\n",
    "import pandas as pd\n",
    "import geopandas as gpd\n",
    "import intake,param\n",
    "    \n",
    "from pathlib import Path\n",
    "from pprint import pprint as pp\n",
    "p = print \n",
    "\n",
    "from sklearn.externals import joblib\n",
    "import pdb\n",
    "\n",
    "from tqdm import tqdm, trange\n",
    "import ipywidgets as iw\n",
    "\n",
    "import matplotlib.pyplot as plt\n",
    "%matplotlib inline\n",
    "\n",
    "# ignore warnings\n",
    "import warnings\n",
    "if not sys.warnoptions:\n",
    "    warnings.simplefilter('ignore')\n",
    "    \n",
    "# Don't generate bytecode\n",
    "sys.dont_write_bytecode = True"
   ]
  },
  {
   "cell_type": "code",
   "execution_count": null,
   "metadata": {},
   "outputs": [],
   "source": [
    "import holoviews as hv\n",
    "import xarray as xr\n",
    "import xarray.ufuncs as xu\n",
    "\n",
    "from holoviews import opts\n",
    "from holoviews.util import Dynamic\n",
    "from holoviews.operation.datashader import datashade, shade, dynspread, rasterize, aggregate\n",
    "\n",
    "from holoviews.streams import Stream, param\n",
    "from holoviews import streams\n",
    "import geoviews as gv\n",
    "import geoviews.feature as gf\n",
    "from geoviews import tile_sources as gvts\n",
    "\n",
    "import panel as pn\n",
    "\n",
    "import geopandas as gpd\n",
    "import cartopy.crs as ccrs\n",
    "import cartopy.feature as cf\n",
    "\n",
    "\n",
    "hv.notebook_extension('bokeh')\n",
    "hv.Dimension.type_formatters[np.datetime64] = '%Y-%m-%d'\n",
    "pn.extension()"
   ]
  },
  {
   "cell_type": "code",
   "execution_count": null,
   "metadata": {},
   "outputs": [],
   "source": [
    "# Add the utils directory to the search path\n",
    "UTILS_DIR = Path('../utils').absolute()\n",
    "assert UTILS_DIR.exists()\n",
    "if str(UTILS_DIR) not in sys.path:\n",
    "    sys.path.insert(0, str(UTILS_DIR))\n",
    "    print(f\"Added {str(UTILS_DIR)} to sys.path\")    "
   ]
  },
  {
   "cell_type": "code",
   "execution_count": null,
   "metadata": {},
   "outputs": [],
   "source": [
    "#import utils\n",
    "import hv_utils as  hvu"
   ]
  },
  {
   "cell_type": "code",
   "execution_count": null,
   "metadata": {},
   "outputs": [],
   "source": [
    "# Grab registered bokeh renderer\n",
    "print(\"Currently available renderers: \", *hv.Store.renderers.keys())\n",
    "renderer = hv.renderer('bokeh')"
   ]
  },
  {
   "cell_type": "markdown",
   "metadata": {},
   "source": [
    "## Set default holoviews style options"
   ]
  },
  {
   "cell_type": "code",
   "execution_count": null,
   "metadata": {},
   "outputs": [],
   "source": [
    "%opts Image [colorbar=True, tools=['hover'], active_tools=['wheel_zoom']] Curve [tools=['hover']]"
   ]
  },
  {
   "cell_type": "code",
   "execution_count": null,
   "metadata": {},
   "outputs": [],
   "source": [
    "opts.defaults(\n",
    "    opts.WMTS(active_tools=['wheel_zoom']),\n",
    "    opts.Image(active_tools=['wheel_zoom'], tools=['hover'], colorbar=True),\n",
    "    opts.Curve(active_tools=['wheel_zoom'], tools=['hover']),\n",
    "    opts.Scatter(active_tools=['wheel_zoom'], tools=['hover']),\n",
    "    opts.HLine(active_tools=['wheel_zoom'], tools=['hover']),\n",
    "\n",
    "    opts.RGB(active_tools=['wheel_zoom']),\n",
    "    opts.Overlay(active_tools=['wheel_zoom']),\n",
    ")\n"
   ]
  },
  {
   "cell_type": "code",
   "execution_count": null,
   "metadata": {},
   "outputs": [],
   "source": [
    "H,W = 500,500"
   ]
  },
  {
   "cell_type": "markdown",
   "metadata": {},
   "source": [
    "---\n",
    "## Load Datasets"
   ]
  },
  {
   "cell_type": "code",
   "execution_count": null,
   "metadata": {},
   "outputs": [],
   "source": [
    "# Southern Africa Dataset\n",
    "data_dir = Path.home()/'data'\n",
    "fpath_sa = str(\n",
    "    data_dir/'mint/FLDAS/FLDAS_NOAH01_A_SA_D.001/2019/04/FLDAS_NOAH01_A_SA_D.A201904*.001.nc'\n",
    ")\n",
    "fpath_ea = str(\n",
    "    data_dir/'mint/FLDAS/FLDAS_NOAH01_A_EA_D.001/2019/04/FLDAS_NOAH01_A_EA_D.A201904*.001.nc'\n",
    ")\n",
    "ds_sa = xr.open_mfdataset(fpath_sa)\n",
    "ds_sa = ds_sa.drop_dims('bnds')\n",
    "\n",
    "ds_ea = xr.open_mfdataset(fpath_ea)\n",
    "ds_ea = ds_ea.drop_dims('bnds')\n",
    "\n",
    "         \n",
    "# print(ds_ea)\n",
    "# print(ds_sa)"
   ]
  },
  {
   "cell_type": "code",
   "execution_count": null,
   "metadata": {},
   "outputs": [],
   "source": [
    "xrd_ea = ds_ea.persist()\n",
    "xrd_sa = ds_sa.persist()"
   ]
  },
  {
   "cell_type": "code",
   "execution_count": null,
   "metadata": {},
   "outputs": [],
   "source": [
    "# data variable list\n",
    "varnames_ea = list(ds_ea.data_vars.keys())\n",
    "varnames_sa = list(ds_sa.data_vars.keys())\n",
    "varnames = varnames_ea\n",
    "varname = varnames[3]\n",
    "print(varname)\n",
    "\n",
    "# create holoviews dataset containers \n",
    "kdims = ['X','Y','time']\n",
    "hvd_ea = hv.Dataset(xrd_ea, kdims)\n",
    "hvd_sa = hv.Dataset(xrd_sa, kdims)\n"
   ]
  },
  {
   "cell_type": "code",
   "execution_count": null,
   "metadata": {},
   "outputs": [],
   "source": [
    "# colormaps\n",
    "## discretize it conveniently using holoview's \"color_level\" option\n",
    "t_fixed = '2019-04-05'\n",
    "varname = varnames[5] \n",
    "print(\"Selecting a datavariable at a fixed time point: \", t_fixed, varname)\n",
    "\n",
    "# timg_ea = hvd_ea.select(time=t_fixed).to(gv.Image, kdims=['X', 'Y'], vdims=varname) #this returns a holomap, not a hv.Image object\n",
    "# To construct an hv.Image object, we need to pass in the xr.DataArray (ie. one value variable)\n",
    "print(xrd_ea[varname].isel(time=3) )\n",
    "timg_ea = gv.Image(xrd_ea[varname].isel(time=3) , ['X','Y'], crs=ccrs.PlateCarree()) #Opt: vdims=varname\n",
    "timg_sa = gv.Image(xrd_sa[varname].isel(time=3) , ['X','Y'], crs=ccrs.PlateCarree()) #Opt: vdims=varname\n",
    "# print(timg_sa)\n",
    "# gv.tile_sources.Wikipedia * timg_ea.opts(alpha=0.5,width=W_IMG, height=H_IMG) #+ timg_sa.opts(width=W_IMG, height=H_IMG)"
   ]
  },
  {
   "cell_type": "markdown",
   "metadata": {},
   "source": [
    "## Basemap tile\n",
    "\n",
    "We need to handle the projection from latlon to web mercator (which is what the hv.tiles expect).\n"
   ]
  },
  {
   "cell_type": "code",
   "execution_count": null,
   "metadata": {},
   "outputs": [],
   "source": [
    "wmts_url = 'https://maps.wikimedia.org/osm-intl/{Z}/{X}/{Y}@2x.png'\n",
    "basemap = gv.tile_sources.EsriImagery"
   ]
  },
  {
   "cell_type": "markdown",
   "metadata": {},
   "source": [
    "---\n",
    "## Add Callbacks \n",
    "\n",
    "### LatLon Tab selector stream\n",
    "\n",
    "Fetch the lat,lon location from the mouse location"
   ]
  },
  {
   "cell_type": "code",
   "execution_count": null,
   "metadata": {},
   "outputs": [],
   "source": [
    "from holoviews.streams import Tap, Selection1D, PointerXY, RangeXY"
   ]
  },
  {
   "cell_type": "code",
   "execution_count": null,
   "metadata": {},
   "outputs": [],
   "source": [
    "# Defne time sereis scatter point selector stream\n",
    "# tscatter_selection = Selection1D(source=tseries.Scatter.I)"
   ]
  },
  {
   "cell_type": "code",
   "execution_count": null,
   "metadata": {},
   "outputs": [],
   "source": [
    "def cb_rangexy(x_range, y_range):\n",
    "    lbrt = hvu.ranges2lbrt(x_range, y_range)\n",
    "    print(f'x_range: {x_range}')\n",
    "    print(f'y_range: {y_range}')\n",
    "    print(f'lbrt: ', lbrt)\n",
    "    \n",
    "    df = pd.DataFrame( [lbrt], columns='min_x min_y max_x max_y'.split() )\n",
    "    return hv.Table( df)\n"
   ]
  },
  {
   "cell_type": "markdown",
   "metadata": {},
   "source": [
    "---\n",
    "## Putting the streams together\n"
   ]
  },
  {
   "cell_type": "markdown",
   "metadata": {},
   "source": [
    "## FLDASExplorer with panel\n",
    "Modified: Jun 13, 2019"
   ]
  },
  {
   "cell_type": "code",
   "execution_count": null,
   "metadata": {},
   "outputs": [],
   "source": [
    "# Set extra style opts (in addition to default from above)\n",
    "W_IMG = 400; H_IMG = 400\n",
    "W_PLOT = 800; H_PLOT = 300"
   ]
  },
  {
   "cell_type": "code",
   "execution_count": null,
   "metadata": {},
   "outputs": [],
   "source": [
    "scatter_opts = dict(width=W_PLOT, height=H_PLOT,\n",
    "                    tools=['hover', 'tap'], \n",
    "                    framewise = True)\n",
    "curve_opts = dict(width=W_PLOT, height=H_PLOT,\n",
    "                  framewise=True)\n",
    "img_opts = dict(width=W_IMG, height=H_IMG,\n",
    "                axiswise=True, \n",
    "                framewise=False,\n",
    "                tools=['hover', 'tap'],\n",
    "                colorbar=True\n",
    "               )\n",
    "wmts_opts = dict(width=W_IMG, height=H_IMG)\n",
    "\n",
    "tbl_opts = dict(width = W_PLOT)\n",
    "\n",
    "# datashader opts\n",
    "ds_opts = dict(width=W_IMG, height=H_IMG,\n",
    "#             x_sampling=0.5, \n",
    "#             y_sampling=0.5,\n",
    "            )"
   ]
  },
  {
   "cell_type": "code",
   "execution_count": null,
   "metadata": {},
   "outputs": [],
   "source": [
    "import datetime as dt\n",
    "\n",
    "\n",
    "trange = list(map(pd.Timestamp, hvd_ea.range('time')))\n",
    "basemap.opts(**wmts_opts)\n",
    "\n",
    "class FLDASExplorer(param.Parameterized):\n",
    "\n",
    "    ################################################################################\n",
    "    ## Parameters\n",
    "    ################################################################################\n",
    "    region = param.ObjectSelector(default='EA', objects=['EA', 'SA'])\n",
    "    varname = param.ObjectSelector(default=varnames[0],objects=varnames)\n",
    "    time = param.Date(trange[14], bounds=trange)\n",
    "#     time_slider= param.Date(trange[0], bounds=trange)\n",
    "\n",
    "\n",
    "    ################################################################################\n",
    "    ## Initialize instance\n",
    "    ################################################################################\n",
    "    def __init__(self):\n",
    "        super().__init__()\n",
    "        self._init_streams()\n",
    "        self._init_debug_box()\n",
    "        self._set_dyn_main()\n",
    "        self._set_dyn_funcs()\n",
    "        \n",
    "        \n",
    "    ################################################################################\n",
    "    ## Initialize Link streams inbetween static components\n",
    "    ################################################################################\n",
    "    @param.depends('region', 'varname', 'time', watch=True)\n",
    "    def _set_dyn_main(self):\n",
    "        print(\"Setting main plot dynamically...\")\n",
    "        print('\\tTime: ', self.time, type(self.time))\n",
    "        dmap_img = hv.DynamicMap(self.get_main_img)\n",
    "        dyn_img = datashade(Dynamic(dmap_img),**ds_opts)\n",
    "\n",
    "        self.dyn_main = basemap * dyn_img\n",
    "    \n",
    "        # must relink the streams \n",
    "        self.dyn_img = dyn_img\n",
    "        self.tap_stream.source = self.dyn_img\n",
    "    \n",
    "    def _set_dyn_funcs(self):\n",
    "        # todo: add set_dyn_main\n",
    "        \n",
    "        self.dyn_tseries = hv.DynamicMap(self.cb_tseries, streams=[self.tap_stream] )\n",
    "        self.dyn_tstats = hv.DynamicMap(self.cb_tstats, streams=[self.tap_stream])\n",
    "        self.dyn_second_plot = basemap* datashade(hv.DynamicMap(self.cb_second_plot, streams=[self.sel_stream]),\n",
    "                              **ds_opts)\n",
    "        \n",
    "        \n",
    "    def _init_streams(self):\n",
    "        self.tap_stream = Tap(name='tap_latlon', x=35.0, y=0.0)#, source=self.main_plot)\n",
    "        self.sel_stream = Selection1D()\n",
    "        self.dummy = Tap(name='dummy', x=0, y=0)\n",
    "        self.streams = [self.tap_stream, self.sel_stream]\n",
    "        print(\"Created initial tap and selection1d stream instances...\")\n",
    "\n",
    "    def _init_debug_box(self):\n",
    "        print(\"Initialing a debug box...\")\n",
    "        self.debug_box = hv.Div(\"\"\"\n",
    "        <h1 style='color:blue;border:1px solid blue'>Debug Box</h1>\n",
    "        \"\"\")\n",
    "        self.debug_dmap = hv.DynamicMap(self.get_updated_debug_box, \n",
    "                                       streams=self.streams)\n",
    "        print('Initiated debug_dmap with current streams to debug_box')\n",
    "        \n",
    "    def get_updated_debug_box(self, *args, **kwargs):\n",
    "        hvu.append_to_div(self.debug_box, str(args))\n",
    "        hvu.append_to_div(self.debug_box, str(kwargs))\n",
    "        return self.debug_box\n",
    "    \n",
    "    \n",
    "    ################################################################################\n",
    "    ## Dynamic Building Blocks (hv.DynamicMaps)\n",
    "    ################################################################################        \n",
    "    @param.depends('region', 'varname', 'time')#, watch=True)\n",
    "    def get_main_img(self):\n",
    "        print(\"Getting a new main img...\")\n",
    "        print(f'\\tTime: {self.time}, Region: {self.region}')\n",
    "        xrd = xrd_ea if self.region == 'EA' else xrd_sa\n",
    "        img = hvu.get_img(xrd, self.varname, self.time)\n",
    "        # debug\n",
    "        \n",
    "        return img.relabel(self.varname).opts(**img_opts)\n",
    "\n",
    "        \n",
    "    ################################################################################\n",
    "    ## Link streams Callbacks\n",
    "    ################################################################################\n",
    "    @param.depends('region', 'varname')\n",
    "    def cb_tseries(self, x, y, method='nearest'):\n",
    "        \"\"\"\n",
    "        Affects:\n",
    "        - Until the first time this callback  called by the instance, there is no\n",
    "        self.tscatter attribute \n",
    "        - Everytime it is called, self.tscatter is updated to the new scatter plot \n",
    "        object that resides in the caller hv.DynamicMap.plot instance\n",
    "            - The reason to maintain which self.tscatter we use is to \n",
    "        \"\"\"\n",
    "        print(f'cb_tseries is called. x,y: {x,y, self.region,self.varname}\"')\n",
    "        xrd = xrd_ea if self.region == 'EA' else xrd_sa  \n",
    "        tseries = xrd[self.varname].sel(X=x, Y=y, method=method)\n",
    "        tseries_label = f\"Time Series for {self.varname} at Lon,Lat = ({x:.2f},{y:.2f}) \"\n",
    "\n",
    "        # Time series as Scatter and Curve\n",
    "        print('\\tself.scatter is updated')\n",
    "        self.tscatter = hv.Scatter(tseries, label=self.varname)\n",
    "        curve = hv.Curve(tseries)\n",
    "\n",
    "        # Important! Connect the self.sel_stream to this new tscatter\n",
    "        print(\"\\tself.sel_stream's source is changed to the new self.tscatter object\")\n",
    "        self.sel_stream.source = self.tscatter\n",
    "\n",
    "        # Add HLine at mean over time\n",
    "        mean = hvu.extract_item(tseries.mean())\n",
    "        mean_line = hv.HLine(mean, label='tseries_mean')\n",
    "        t_midpoint = pd.Timestamp(hvu.extract_item(tseries.coords['time'][len(tseries)//2]))\n",
    "        mean_label = hv.Labels([(t_midpoint, mean, f'mean: {mean:.3f}')])\n",
    "\n",
    "        # Put together to an Overlay\n",
    "        overlay = (\n",
    "            curve.opts(alpha=0.5, line_width=2, **curve_opts) \n",
    "            * self.tscatter.opts(padding=0.2, size=10, **scatter_opts) \n",
    "            * mean_line.opts(color='black', alpha=0.5, line_width=1)\n",
    "            * mean_label.opts(text_font_size='8pt',text_alpha=0.5)\n",
    "        ) \n",
    "        overlay = overlay.relabel(tseries_label)\n",
    "#         self.overlay = overlay\n",
    "\n",
    "        return overlay #vs. self.overlay\n",
    "    \n",
    "    @param.depends('region', 'varname')\n",
    "    def cb_tstats(self, x, y, \n",
    "                  method='nearest',show_as_timestamp=True, decimals=3):\n",
    "        print(f\"cb_tstats is called: {x, y, self.region, self.varname}\")\n",
    "        xrd = xrd_ea if self.region == 'EA' else xrd_sa  \n",
    "        tseries = xrd[self.varname].sel(X=x, Y=y, method=method)\n",
    "        df = hvu.get_stats(tseries, \n",
    "                           show_as_timestamp=show_as_timestamp, decimals=decimals)\n",
    "\n",
    "        # Add metadata on selected latlon point\n",
    "    #     df['point_idx'] = index[0]#\n",
    "        df['lat'] = y\n",
    "        df['lon'] = x\n",
    "\n",
    "        cols = df.columns.to_list()\n",
    "        cols = cols[-2:] + cols[:-2]\n",
    "        df = df[cols]\n",
    "        label = f\"Time Series Stats for {self.varname} at Lon,Lat = ({x:.2f},{y:.2f}) \"\n",
    "        print(\"\\tUpdated self.tstats_table\")\n",
    "        self.tstats_table = hv.Table(df, label=label).opts(**tbl_opts)\n",
    "        return self.tstats_table\n",
    "    \n",
    "    @param.depends('region', 'varname')\n",
    "    def cb_second_plot(self, index):\n",
    "        print('Callback from the scatter plot is called. Selected indices: ', index)\n",
    "        if not index:\n",
    "            index = [0] #todo: current tindex\n",
    "        tidx = index[0]\n",
    "        \n",
    "        xrd = xrd_ea if self.region == 'EA' else xrd_sa \n",
    "        img = hvu.get_img(xrd, self.varname, tidx)\n",
    "        label = f\"{self.varname} on {self.time.strftime('%Y/%m/%d')}\"\n",
    "        return img\n",
    "#         dmap_second = hv.DynamicMap(img)\n",
    "#         dyn_second = datashade(Dynamic(dmap_second), **dopts)\n",
    "# #         pdb.set_trace()\n",
    "#         return  basemap * dyn_second\n",
    "    \n",
    "\n",
    "    ################################################################################\n",
    "    ## Build views\n",
    "    ################################################################################\n",
    "    @param.depends('region', 'varname', 'time')\n",
    "    def view(self):\n",
    "        row1 = (self.dyn_main + self.dyn_second_plot).opts(\n",
    "            opts.Image(**img_opts))\n",
    "        row2 = self.dyn_tseries.opts(\n",
    "            opts.Scatter(**scatter_opts),\n",
    "            opts.Curve(**curve_opts))\n",
    "        row3 = self.dyn_tstats.opts(opts.Table(**tbl_opts) )\n",
    "\n",
    "        return pn.Column(row1, row2, row3)"
   ]
  },
  {
   "cell_type": "code",
   "execution_count": null,
   "metadata": {},
   "outputs": [],
   "source": [
    "explorer = FLDASExplorer()\n",
    "widgets = pn.Param(explorer.param, widgets={\n",
    "#     'time_slider': pn.widgets.DateSlider,\n",
    "    'time': pn.widgets.DatePicker\n",
    "})\n",
    "# widgets"
   ]
  },
  {
   "cell_type": "code",
   "execution_count": null,
   "metadata": {},
   "outputs": [],
   "source": [
    "pn.Column(explorer.param, explorer.view)"
   ]
  },
  {
   "cell_type": "code",
   "execution_count": null,
   "metadata": {},
   "outputs": [],
   "source": [
    "# row1 = pn.Row( widgets, explorer.dyn_main, explorer.dyn_second_plot\n",
    "# #               pn.Column (explorer.dyn_tstats, explorer.dyn_tseries )\n",
    "#              )\n",
    "# row2 = pn.Row(pn.Spacer(width=300), explorer.dyn_tseries)\n",
    "# pn.Column(row1, row2)#.servable()\n"
   ]
  },
  {
   "cell_type": "code",
   "execution_count": null,
   "metadata": {},
   "outputs": [],
   "source": [
    "# app = pn.Row( explorer.param, explorer.view)\n",
    "# app = pn.Column( explorer.param, \n",
    "#                 pn.panel(explorer.build_main_plot),\n",
    "#                 pn.panel( explorer.build_tseries_plot), \n",
    "#                 pn.panel( explorer.build_second_plot),\n",
    "# #                 pn.panel( explorer.build_tstats_table),\n",
    "#                )"
   ]
  },
  {
   "cell_type": "code",
   "execution_count": null,
   "metadata": {},
   "outputs": [],
   "source": [
    "# app.servable()\n"
   ]
  },
  {
   "cell_type": "markdown",
   "metadata": {},
   "source": [
    "---\n",
    "## Arrange widgets \n",
    "Modified: Jun 19, 2019"
   ]
  },
  {
   "cell_type": "code",
   "execution_count": null,
   "metadata": {},
   "outputs": [],
   "source": [
    "title = \"\"\"#MINT Interactive Visualization for Spatiotemporal Data\"\"\"\n",
    "instruction = \"\"\"\n",
    "This is a demo of an interactive visualization for a large set of spatiotemporal data. \n",
    "Here we use the FLDAS NOAH01 daily data in Southern Africa (SA) and Eastern Africa (EA) for the month of April in 2019.\n",
    "This demo supports a **correct** visualization of a **large** dataset without falling into common visualization [mistakes](#) \n",
    "such as overplotting and deceptive colormapping via [Datashader]() and [Colorcet]().\n",
    "\n",
    "\n",
    "## Instructions\n",
    "\n",
    "1. Dataset selection\n",
    "\n",
    "    - dropdown boxes: choose `region`, `variable`, `time`  of interest\n",
    "    - To specify `time`, a user can either type a specific time to the `Time` input box\n",
    "    or use the time slider to navigate through multiple time points\n",
    "\n",
    "2. All maps are responsive to user inputs from the mouse or trackpad.\n",
    "\n",
    "    - pan or zoom: navigate the map\n",
    "    - mouse hover or click: get its value or see through multiple time points at a specific (Lat, Lon)\n",
    "    - drag or box-select: compute zonal statistics in the selected area\n",
    "\n",
    "3. The time-series plot also supports interactivity\n",
    "\n",
    "    - pan, zoom, mouse-hover as above\n",
    "    - click on a point: allows to see the data at the current timepoint over the entire region\n",
    "\n",
    "## Suggestions?\n",
    "We would like to know what kind of functionalities users are most interested in.  \n",
    "Please drop a line for requests, and we'll start working on adding supports for popular requests!\n",
    "\n",
    "## Questions?\n",
    "Please feel free to contact haejinso@usc.edu for any questions.\n",
    "\"\"\"\n",
    "\n",
    "viz_title = \"\"\"#FLDAS Explorer POC\"\"\"\n",
    "tseries_title = \"\"\"##Time Series Analysis\"\"\"\n",
    "\n"
   ]
  },
  {
   "cell_type": "code",
   "execution_count": null,
   "metadata": {},
   "outputs": [],
   "source": [
    "W_HEADER = 300 + W_IMG*2\n",
    "texts = pn.Column( pn.Pane(title, width=W_HEADER),\n",
    "          pn.Pane(instruction, width=W_HEADER))\n",
    "viz_title = pn.Pane(viz_title)\n",
    "tseries_title = pn.Pane(tseries_title)\n",
    "\n"
   ]
  },
  {
   "cell_type": "code",
   "execution_count": null,
   "metadata": {},
   "outputs": [],
   "source": [
    "# # OLD\n",
    "# # Viz main panel components\n",
    "# header = pn.Column(texts,viz_title)\n",
    "# viz_panel = pn.Column(explorer.view)\n",
    "# row1 = pn.Row( widgets, explorer.dyn_main, explorer.dyn_second_plot)\n",
    "# row2 = pn.Row( tseries_title)\n",
    "# row3 = pn.Row(pn.Spacer(width=300), explorer.dyn_tseries)\n",
    "# row4 = pn.Row(pn.Spacer(width=300), explorer.dyn_tstats)\n",
    "# pn.Column(header,row1, row2, row3, row4).servable()"
   ]
  },
  {
   "cell_type": "code",
   "execution_count": null,
   "metadata": {},
   "outputs": [],
   "source": [
    "# main panel components\n",
    "header = pn.Column(texts,viz_title)\n",
    "viz_panel = pn.Column(explorer.view)"
   ]
  },
  {
   "cell_type": "code",
   "execution_count": null,
   "metadata": {},
   "outputs": [],
   "source": [
    "row1 = pn.Row(widgets, viz_panel)\n",
    "pn.Column(header, row1).servable()"
   ]
  },
  {
   "cell_type": "code",
   "execution_count": null,
   "metadata": {},
   "outputs": [],
   "source": [
    "# row1 = pn.Row(widgets) explorer.dyn_main, explorer.dyn_second_plot)\n",
    "# row2 = pn.Row( tseries_title)\n",
    "# row3 = pn.Row(pn.Spacer(width=300), explorer.dyn_tseries)\n",
    "# row4 = pn.Row(pn.Spacer(width=300), explorer.dyn_tstats)\n",
    "# pn.Column(header,row1, row2, row3, row4).servable()"
   ]
  },
  {
   "cell_type": "code",
   "execution_count": null,
   "metadata": {},
   "outputs": [],
   "source": []
  }
 ],
 "metadata": {
  "kernelspec": {
   "display_name": "Python [conda env:earthml]",
   "language": "python",
   "name": "conda-env-earthml-py"
  },
  "language_info": {
   "codemirror_mode": {
    "name": "ipython",
    "version": 3
   },
   "file_extension": ".py",
   "mimetype": "text/x-python",
   "name": "python",
   "nbconvert_exporter": "python",
   "pygments_lexer": "ipython3",
   "version": "3.7.3"
  }
 },
 "nbformat": 4,
 "nbformat_minor": 2
}
