{
 "cells": [
  {
   "cell_type": "code",
   "execution_count": null,
   "metadata": {},
   "outputs": [],
   "source": [
    "import os\n",
    "from pathlib import Path\n",
    "data_dir = Path('/Users/hayley/data/mint/econ/')\n",
    "fpaths = []\n",
    "for f in data_dir.iterdir():\n",
    "    if f.suffix != '.txt':\n",
    "        continue\n",
    "    fpaths.append(str(f))\n",
    "fpaths\n"
   ]
  },
  {
   "cell_type": "code",
   "execution_count": null,
   "metadata": {},
   "outputs": [],
   "source": [
    "def merge_csv(*args):\n",
    "    for fpath in args:\n",
    "        \n",
    "        # check if header is reasonable\n",
    "        "
   ]
  },
  {
   "cell_type": "code",
   "execution_count": null,
   "metadata": {},
   "outputs": [],
   "source": [
    "f = '/Users/hayley/data/mint/econ/MINTcropsimplebase.txt'\n",
    "# outname =...\n",
    "with open(outfile, 'w') as w:\n",
    "    w.write(csv_header)"
   ]
  },
  {
   "cell_type": "code",
   "execution_count": null,
   "metadata": {},
   "outputs": [],
   "source": [
    "def merge(fpaths, outfile='merged.txt', verbose=False):\n",
    "    suffix = fpaths[0].split('.')[-1]\n",
    "    if outfile.split('.')[-1] != suffix:\n",
    "        print(f\"Output file's suffix will be set to {'.'+suffix}\")\n",
    "        outfile = ''.join(outfile.split('.')[:-1])+'.'+suffix\n",
    "    print(\"outfile: \", outfile)\n",
    "    \n",
    "    writer = open(outfile, 'w+')\n",
    "    header = read_header(fpaths[0])\n",
    "    writer.write(header)\n",
    "    for f in fpaths:\n",
    "        if verbose:\n",
    "            print(\"=\"*80)\n",
    "            print(f)\n",
    "        with open(f,'r') as reader:\n",
    "            for i,line in enumerate(reader):\n",
    "                if i == 0:\n",
    "                    assert line == header\n",
    "                    continue\n",
    "                writer.write(line)\n",
    "                if verbose:\n",
    "                    print(i, line)\n",
    "    writer.close()\n",
    "\n",
    "        \n",
    "merge(fpaths, outfile='merge.csv')"
   ]
  },
  {
   "cell_type": "code",
   "execution_count": null,
   "metadata": {},
   "outputs": [],
   "source": [
    "def read_header(fpath):\n",
    "    with open(fpath, 'r') as f:\n",
    "        for i, line in enumerate(f):\n",
    "            if i>0: break\n",
    "            header = line\n",
    "    return header\n",
    "\n",
    "def check_header(fpath, header):\n",
    "    \"\"\"\n",
    "    Check if the file at `fpath` has the first line == `header`\n",
    "    \"\"\"\n",
    "    h = read_header(fpath)\n",
    "    return h == header\n",
    "\n",
    "\n",
    "def test_reader_header():\n",
    "    hs = []\n",
    "    for i,fpath in enumerate(fpaths):\n",
    "        print('\\n\\nfpath: ', fpath)\n",
    "        print('header: ', read_header(fpath))\n",
    "        hs.append(read_header(fpath))\n",
    "        \n",
    "        if i==0: \n",
    "            continue\n",
    "        else:\n",
    "            print(hs[i-1] == hs[i])\n",
    "test_reader_header()\n",
    "        "
   ]
  },
  {
   "cell_type": "code",
   "execution_count": null,
   "metadata": {},
   "outputs": [],
   "source": []
  }
 ],
 "metadata": {
  "kernelspec": {
   "display_name": "Python 3",
   "language": "python",
   "name": "python3"
  },
  "language_info": {
   "codemirror_mode": {
    "name": "ipython",
    "version": 3
   },
   "file_extension": ".py",
   "mimetype": "text/x-python",
   "name": "python",
   "nbconvert_exporter": "python",
   "pygments_lexer": "ipython3",
   "version": "3.7.3"
  }
 },
 "nbformat": 4,
 "nbformat_minor": 2
}
