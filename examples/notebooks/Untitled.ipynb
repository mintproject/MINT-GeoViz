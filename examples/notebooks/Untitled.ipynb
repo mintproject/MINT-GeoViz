{
 "cells": [
  {
   "cell_type": "code",
   "execution_count": null,
   "metadata": {},
   "outputs": [],
   "source": []
  },
  {
   "cell_type": "code",
   "execution_count": null,
   "metadata": {},
   "outputs": [],
   "source": [
    "%load_ext autoreload\n",
    "%autoreload 2\n",
    "\n",
    "import os, sys, time\n",
    "import datetime as dt\n",
    "import numpy as np\n",
    "import scipy as sp\n",
    "import pandas as pd\n",
    "import geopandas as gpd\n",
    "import intake,param\n",
    "    \n",
    "from pathlib import Path\n",
    "from pprint import pprint as pp\n",
    "p = print \n",
    "\n",
    "from sklearn.externals import joblib\n",
    "import pdb\n",
    "\n",
    "from tqdm import tqdm, trange\n",
    "import ipywidgets as iw\n",
    "\n",
    "import matplotlib.pyplot as plt\n",
    "%matplotlib inline\n",
    "\n",
    "# ignore warnings\n",
    "import warnings\n",
    "if not sys.warnoptions:\n",
    "    warnings.simplefilter('ignore')\n",
    "    \n",
    "# Don't generate bytecode\n",
    "sys.dont_write_bytecode = True"
   ]
  },
  {
   "cell_type": "code",
   "execution_count": null,
   "metadata": {},
   "outputs": [],
   "source": [
    "import holoviews as hv\n",
    "import xarray as xr\n",
    "import xarray.ufuncs as xu\n",
    "\n",
    "from holoviews import opts\n",
    "from holoviews.operation.datashader import datashade, shade, dynspread, rasterize\n",
    "from holoviews.streams import Stream, param\n",
    "from holoviews import streams\n",
    "import geoviews as gv\n",
    "import geoviews.feature as gf\n",
    "from geoviews import tile_sources as gvts\n",
    "\n",
    "import geopandas as gpd\n",
    "import cartopy.crs as ccrs\n",
    "import cartopy.feature as cf\n",
    "\n",
    "hv.notebook_extension('bokeh')\n",
    "hv.Dimension.type_formatters[np.datetime64] = '%Y-%m-%d'"
   ]
  },
  {
   "cell_type": "code",
   "execution_count": null,
   "metadata": {},
   "outputs": [],
   "source": [
    "# Add the utils directory to the search path\n",
    "UTILS_DIR = Path('../utils').absolute()\n",
    "assert UTILS_DIR.exists()\n",
    "if str(UTILS_DIR) not in sys.path:\n",
    "    sys.path.insert(0, str(UTILS_DIR))\n",
    "    print(f\"Added {str(UTILS_DIR)} to sys.path\")    "
   ]
  },
  {
   "cell_type": "code",
   "execution_count": null,
   "metadata": {},
   "outputs": [],
   "source": [
    "#import utils\n",
    "import hv_utils as  hvu"
   ]
  },
  {
   "cell_type": "code",
   "execution_count": null,
   "metadata": {},
   "outputs": [],
   "source": [
    "# Grab registered bokeh renderer\n",
    "print(\"Currently available renderers: \", *hv.Store.renderers.keys())\n",
    "renderer = hv.renderer('bokeh')"
   ]
  },
  {
   "cell_type": "markdown",
   "metadata": {},
   "source": [
    "## Set default holoviews style options"
   ]
  },
  {
   "cell_type": "code",
   "execution_count": null,
   "metadata": {},
   "outputs": [],
   "source": [
    "IMG_H = 300; IMG_W = 300\n",
    "CURVE_H = 200; CURVE_W = 300"
   ]
  },
  {
   "cell_type": "code",
   "execution_count": null,
   "metadata": {},
   "outputs": [],
   "source": [
    "%opts Image [colorbar=True, tools=['hover'], active_tools=['wheel_zoom']] Curve [tools=['hover']]"
   ]
  },
  {
   "cell_type": "code",
   "execution_count": null,
   "metadata": {},
   "outputs": [],
   "source": [
    "opts.defaults(\n",
    "    opts.WMTS(active_tools=['wheel_zoom'],\n",
    "              width=IMG_W, height=IMG_H),\n",
    "    opts.Image(active_tools=['wheel_zoom'], tools=['hover'], colorbar=True,\n",
    "              width=IMG_W, height=IMG_H),\n",
    "    opts.Curve(active_tools=['wheel_zoom'], tools=['hover'],\n",
    "               width=CURVE_W, height=CURVE_H),\n",
    "    opts.Scatter(active_tools=['wheel_zoom'], tools=['hover'],\n",
    "                width=CURVE_W, height=CURVE_H),\n",
    "    opts.HLine(active_tools=['wheel_zoom'], tools=['hover']),\n",
    "    opts.RGB(active_tools=['wheel_zoom'], tools=['hover'],\n",
    "             width=IMG_W, height=IMG_H),\n",
    "    opts.Overlay(active_tools=['wheel_zoom'],\n",
    "                width=IMG_W, height=IMG_H),\n",
    ")\n",
    "\n",
    "img_opts = dict(active_tools=['wheel_zoom'], tools=['hover'], colorbar=True,\n",
    "              width=IMG_W, height=IMG_H)\n",
    "curve_opts = dict(active_tools=['wheel_zoom'], tools=['hover'],\n",
    "               width=CURVE_W, height=CURVE_H)\n",
    "scatter_opts = dict(active_tools=['wheel_zoom'], tools=['hover'],\n",
    "                width=CURVE_W, height=CURVE_H)\n",
    "hline_opts = dict(active_tools=['wheel_zoom'], tools=['hover'])\n",
    "overlay_opts = dict(active_tools=['wheel_zoom'], width=IMG_W, height=IMG_H)\n"
   ]
  },
  {
   "cell_type": "code",
   "execution_count": null,
   "metadata": {},
   "outputs": [],
   "source": []
  },
  {
   "cell_type": "markdown",
   "metadata": {},
   "source": [
    "---\n",
    "## Load Datasets"
   ]
  },
  {
   "cell_type": "code",
   "execution_count": null,
   "metadata": {},
   "outputs": [],
   "source": [
    "# Southern Africa Dataset\n",
    "\n",
    "fpath_sa = Path.home()/'data/mint/FLDAS/FLDAS_NOAH01_A_SA_D.001/2019/04/FLDAS_NOAH01_A_SA_D.A201904*.001.nc'\n",
    "fpath_ea = Path.home()/'data/mint/FLDAS/FLDAS_NOAH01_A_EA_D.001/2019/04/FLDAS_NOAH01_A_EA_D.A201904*.001.nc'\n",
    "fpath_sa = str(fpath_sa)\n",
    "fpath_ea = str(fpath_ea)\n",
    "ds_sa = xr.open_mfdataset(fpath_sa)\n",
    "ds_sa = ds_sa.drop_dims('bnds')\n",
    "\n",
    "ds_ea = xr.open_mfdataset(fpath_ea)\n",
    "ds_ea = ds_ea.drop_dims('bnds')\n",
    "\n",
    "         \n",
    "# print(ds_ea)\n",
    "# print(ds_sa)"
   ]
  },
  {
   "cell_type": "code",
   "execution_count": null,
   "metadata": {},
   "outputs": [],
   "source": [
    "xrd_ea = ds_ea.persist()\n",
    "xrd_sa = ds_sa.persist()"
   ]
  },
  {
   "cell_type": "code",
   "execution_count": null,
   "metadata": {},
   "outputs": [],
   "source": [
    "# data variable list\n",
    "varnames_ea = list(ds_ea.data_vars.keys())\n",
    "varnames_sa = list(ds_sa.data_vars.keys())\n",
    "varnames = varnames_ea\n",
    "varname = varnames[3]\n",
    "print(varname)\n",
    "\n",
    "# create holoviews dataset containers \n",
    "kdims = ['X','Y','time']\n",
    "hvd_ea = hv.Dataset(xrd_ea, kdims)\n",
    "hvd_sa = hv.Dataset(xrd_sa, kdims)\n"
   ]
  },
  {
   "cell_type": "code",
   "execution_count": null,
   "metadata": {},
   "outputs": [],
   "source": [
    "# colormaps\n",
    "## discretize it conveniently using holoview's \"color_level\" option\n",
    "t_fixed = '2019-04-05'\n",
    "varname = varnames[5] \n",
    "print(\"Selecting a datavariable at a fixed time point: \", t_fixed, varname)\n",
    "\n",
    "# timg_ea = hvd_ea.select(time=t_fixed).to(gv.Image, kdims=['X', 'Y'], vdims=varname) #this returns a holomap, not a hv.Image object\n",
    "# To construct an hv.Image object, we need to pass in the xr.DataArray (ie. one value variable)\n",
    "print(xrd_ea[varname].isel(time=3) )\n",
    "timg_ea = gv.Image(xrd_ea[varname].isel(time=3) , ['X','Y'], crs=ccrs.PlateCarree()) #Opt: vdims=varname\n",
    "timg_sa = gv.Image(xrd_sa[varname].isel(time=3) , ['X','Y'], crs=ccrs.PlateCarree()) #Opt: vdims=varname\n",
    "# print(timg_sa)\n",
    "# gv.tile_sources.Wikipedia * timg_ea.opts(alpha=0.5,width=W_IMG, height=H_IMG) #+ timg_sa.opts(width=W_IMG, height=H_IMG)"
   ]
  },
  {
   "cell_type": "markdown",
   "metadata": {},
   "source": [
    "## Basemap tile\n",
    "\n",
    "We need to handle the projection from latlon to web mercator (which is what the hv.tiles expect).\n"
   ]
  },
  {
   "cell_type": "code",
   "execution_count": null,
   "metadata": {},
   "outputs": [],
   "source": [
    "wmts_url = 'https://maps.wikimedia.org/osm-intl/{Z}/{X}/{Y}@2x.png'\n",
    "basemap = gv.tile_sources.EsriImagery"
   ]
  },
  {
   "cell_type": "code",
   "execution_count": null,
   "metadata": {},
   "outputs": [],
   "source": [
    "# %%opts WMTS [width=IMG_W, height=IMG_H]\n",
    "# basemap * timg_ea\n",
    "# gvts.EsriNatGeo*timg_ea"
   ]
  },
  {
   "cell_type": "markdown",
   "metadata": {},
   "source": [
    "---\n",
    "## Add Callbacks \n",
    "\n",
    "### PolyEdit stream\n",
    "\n",
    "Draw a polygon with mouse clicks"
   ]
  },
  {
   "cell_type": "code",
   "execution_count": null,
   "metadata": {},
   "outputs": [],
   "source": [
    "from holoviews.streams import *"
   ]
  },
  {
   "cell_type": "markdown",
   "metadata": {},
   "source": [
    "---\n",
    "### `hv.Box` constructors\n",
    "Modified: Jun 20, 2019"
   ]
  },
  {
   "cell_type": "code",
   "execution_count": null,
   "metadata": {},
   "outputs": [],
   "source": [
    "center_xs = np.arange(5)\n",
    "center_ys = [1,3,6,9,12]\n",
    "sizes = [1, 1, 1, 2, 2]\n",
    "df_boxes = pd.DataFrame( {'x': center_xs, 'y': center_ys, 'size': sizes}) \n",
    "df_boxes"
   ]
  },
  {
   "cell_type": "markdown",
   "metadata": {},
   "source": [
    "- `hv.Box(x,y, length)`: square box of length=length, centered at x,y\n",
    "- `hv.Box(x,y, (w,h))`: box of width=w, height=h, centered at x,y\n",
    "- `hv.Box(x,y, size, aspect)`: a box of height=size, width=aspect*size, centered at x,y\n",
    "- `hv.Box(x,y, length, orientation)`: rotate the box by orientation [rad] anti-clockwise\n",
    "\n",
    "Note: the last argument is actually a keyword argument of `spec`.\n",
    "For example, `hv.Box(1,1,spec=(1,2))` is the same as `hv.Box(1,1, (1,2))`."
   ]
  },
  {
   "cell_type": "code",
   "execution_count": null,
   "metadata": {},
   "outputs": [],
   "source": [
    "%opts Box (color='red', line_width=3)\n",
    "geom_overlay_opts = dict(show_grid=True, padding=0.2, aspect='equal',show_legend=True )"
   ]
  },
  {
   "cell_type": "code",
   "execution_count": null,
   "metadata": {},
   "outputs": [],
   "source": [
    "(\n",
    "    hv.Box( 0,0,2 )\n",
    "    * hv.Box(0,0,1).opts(color='blue') \n",
    "    * hv.Box(0,0,1, aspect=1.5).opts(color='lightblue')\n",
    "\n",
    "    * hv.Box(0,0,0.5, orientation=np.pi/6).opts(color='green')\n",
    ").opts(**geom_overlay_opts)"
   ]
  },
  {
   "cell_type": "markdown",
   "metadata": {},
   "source": [
    "---\n",
    "## hv.Ellipse constructor\n",
    "Creates a circle or ellipse"
   ]
  },
  {
   "cell_type": "markdown",
   "metadata": {},
   "source": [
    " The constructors look very similar to hv.Box constructor\n",
    "- `hv.Ellipse(x,y, size)`: a circle of diameter=size centered at x,y. (ie. its radius=size/2)\n",
    "- `hv.Ellipse(x,y, (width_xaxis, width_yaxis) )`: an ellipse with xaxis of length=width_xaxis \n",
    "        and yaxis of length=width_yaxis\n",
    "- `hv.Ellipse(x,y,size, aspect)`: an ellipse with yaxis_width=size, width_xaxis=aspect*size\n",
    "\n",
    "Note: the last argument is actually a keyword argument of `spec`.\n",
    "For example, `hv.Ellipse(x,y,size)` is equivalent to `hv.Ellipse(x,y, spec=size`.\n"
   ]
  },
  {
   "cell_type": "code",
   "execution_count": null,
   "metadata": {},
   "outputs": [],
   "source": [
    "%opts Ellipse (line_width=3)'"
   ]
  },
  {
   "cell_type": "code",
   "execution_count": null,
   "metadata": {},
   "outputs": [],
   "source": [
    "(\n",
    "    hv.Ellipse( 0,1,0.5).opts(color='black')\n",
    "    * hv.Ellipse(0,1,0.5, aspect=2).opts(color='red')\n",
    "    * hv.Ellipse(0,1, (2,1), label='ellipse (2,1)').opts(color='blue')\n",
    "    * hv.Ellipse(0,1, (2,1), orientation=np.pi/3).opts(color='green')\n",
    ").opts(**geom_overlay_opts)"
   ]
  },
  {
   "cell_type": "markdown",
   "metadata": {},
   "source": [
    "## hv.Polygon constructor\n",
    "Create a polygon \n",
    "- from data array: numpy array, geopandas (with `geom` column that stores shapely shapes)\n",
    "- from a file (eg.shapefile, geojson?)"
   ]
  },
  {
   "cell_type": "markdown",
   "metadata": {},
   "source": [
    "Polygons = a contiguous filled area in a 2D space as a list of polygon geometries\n",
    "- accepts  a list of arrays, dataframes, a dictionary of columns, etc\n",
    "- supports `holes` key to represent empty interior regions"
   ]
  },
  {
   "cell_type": "code",
   "execution_count": null,
   "metadata": {},
   "outputs": [],
   "source": [
    "data = {('x','y'): [ (0., 1., "
   ]
  },
  {
   "cell_type": "code",
   "execution_count": null,
   "metadata": {},
   "outputs": [],
   "source": [
    "path = [(0,0), (0,2), (2,3), (3,0)]\n",
    "path2 = [ (1,0), (0,1), (2,2), (2,1) ]\n",
    "\n",
    "paths = [path, path2]\n",
    "vals = [0.1, 0.9]\n",
    "data = dict("
   ]
  },
  {
   "cell_type": "code",
   "execution_count": null,
   "metadata": {},
   "outputs": [],
   "source": [
    "hv.Polygons(paths, "
   ]
  },
  {
   "cell_type": "code",
   "execution_count": null,
   "metadata": {},
   "outputs": [],
   "source": []
  },
  {
   "cell_type": "markdown",
   "metadata": {},
   "source": [
    "---\n",
    "## hv.Polygon constructor\n",
    "- hv.Polygon([data_dict1, data_dict2, ...]) where each `data_dict` is a dictionary representation of a shape item (like JSON-format). Each `data_dict` has key,value of\n",
    "    - `('x','y') -> shape data, eg:`hv.Box(0.,0.,2).array()"
   ]
  },
  {
   "cell_type": "code",
   "execution_count": null,
   "metadata": {},
   "outputs": [],
   "source": [
    "hv.Box(0,0,2).array()"
   ]
  },
  {
   "cell_type": "code",
   "execution_count": null,
   "metadata": {},
   "outputs": [],
   "source": [
    "shape1 = {('x','y'): hv.Box(0.5,0.5,1).array(),\n",
    "          'z': 1}\n",
    "shape2 = {('x','y'): hv.Box(3,1.5, (2,1)).array(),\n",
    "          'z': 2}\n",
    "shape3 = {('x','y'): hv.Ellipse(5,5,2).array(),\n",
    "          'z':3}\n",
    "\n",
    "poly_data = [shape1, shape2, shape3]"
   ]
  },
  {
   "cell_type": "code",
   "execution_count": null,
   "metadata": {},
   "outputs": [],
   "source": [
    "polys = hv.Polygons(poly_data, vdims='z')"
   ]
  },
  {
   "cell_type": "code",
   "execution_count": null,
   "metadata": {},
   "outputs": [],
   "source": [
    "\n"
   ]
  },
  {
   "cell_type": "code",
   "execution_count": null,
   "metadata": {},
   "outputs": [],
   "source": [
    "# Define a subscriber to the polyedit stream\n",
    "from ipywidgets import Output\n",
    "out = Output()\n"
   ]
  },
  {
   "cell_type": "code",
   "execution_count": null,
   "metadata": {},
   "outputs": [],
   "source": [
    "@out.capture(clear_output=True)\n",
    "def listener(*args, **kwargs):\n",
    "    print(args)\n",
    "    print(kwargs)\n",
    "    "
   ]
  },
  {
   "cell_type": "code",
   "execution_count": null,
   "metadata": {},
   "outputs": [],
   "source": []
  },
  {
   "cell_type": "code",
   "execution_count": null,
   "metadata": {},
   "outputs": [],
   "source": [
    "# Try if the stream works\n",
    "# poly_opts = opts.Polygons(active_tools=['poly_edit'], fill_alpha=0.7)\n",
    "poly_opts = opts.Polygons(active_tools=['poly_draw'], fill_alpha=0.7)\n",
    "\n",
    "# Add the polyedit stream to hv.Polygons\n",
    "# shared=True allows the same tool to be used to edit multiple polygon objects\n",
    "poly_edit_kws = dict(vertex_style={'color':'red'},\n",
    "                    shared=True)\n",
    "poly_edit = PolyEdit(source=polys, **poly_edit_kws)\n",
    "poly_edit.add_subscriber(listener)\n",
    "\n",
    "\n",
    "# Add the polydraw stream to hv.Polygons\n",
    "polydraw = PolyDraw(source=polys)"
   ]
  },
  {
   "cell_type": "code",
   "execution_count": null,
   "metadata": {},
   "outputs": [],
   "source": [
    "polys.opts(active_tools=['poly_draw'])\n"
   ]
  },
  {
   "cell_type": "code",
   "execution_count": null,
   "metadata": {},
   "outputs": [],
   "source": [
    "path = hv.Path([[(1, 5), (9, 5)]])\n",
    "poly = hv.Polygons([[(2, 2), (5, 8), (8, 2)]])\n",
    "path_stream = streams.PolyDraw(source=path, drag=True, show_vertices=True)\n",
    "poly_stream = streams.PolyDraw(source=poly, drag=True, num_objects=4,\n",
    "                               show_vertices=True, styles={\n",
    "                                   'fill_color': ['red', 'green', 'blue']\n",
    "                               })\n",
    "\n",
    "(path * poly).opts(\n",
    "    opts.Path(color='red', height=400, line_width=5, width=400),\n",
    "    opts.Polygons(fill_alpha=0.3, active_tools=['poly_draw']))"
   ]
  },
  {
   "cell_type": "code",
   "execution_count": null,
   "metadata": {},
   "outputs": [],
   "source": [
    "path_stream.element\n"
   ]
  },
  {
   "cell_type": "code",
   "execution_count": null,
   "metadata": {},
   "outputs": [],
   "source": [
    "poly_stream.element"
   ]
  },
  {
   "cell_type": "markdown",
   "metadata": {},
   "source": [
    "---\n",
    "Pointdraw"
   ]
  },
  {
   "cell_type": "code",
   "execution_count": null,
   "metadata": {},
   "outputs": [],
   "source": [
    "data = ([0, 0.5, 1], [0, 0.5, 0], ['red', 'green', 'blue'])\n",
    "\n",
    "points = hv.Points(data, vdims='color').redim.range(x=(-.1, 1.1), y=(-.1, 1.1))\n",
    "points.columns()"
   ]
  },
  {
   "cell_type": "markdown",
   "metadata": {},
   "source": [
    "---\n",
    "## Bounds\n",
    "Modified: Jun 22, 2019\n"
   ]
  },
  {
   "cell_type": "code",
   "execution_count": null,
   "metadata": {},
   "outputs": [],
   "source": [
    "from holoviews.streams import *"
   ]
  },
  {
   "cell_type": "code",
   "execution_count": null,
   "metadata": {},
   "outputs": [],
   "source": [
    "box_stream = BoundsXY(name='box', source = timg_ea)"
   ]
  },
  {
   "cell_type": "code",
   "execution_count": null,
   "metadata": {},
   "outputs": [],
   "source": [
    "timg_ea.opts(**img_opts)"
   ]
  },
  {
   "cell_type": "markdown",
   "metadata": {},
   "source": [
    "---\n"
   ]
  },
  {
   "cell_type": "code",
   "execution_count": null,
   "metadata": {},
   "outputs": [],
   "source": [
    "fpath = '/Users/hayley/Playground/Pyvizsuite/holoviews/examples/assets/twophoton.npz'\n",
    "data = np.load(fpath)\n",
    "calcium_array = data['Calcium']"
   ]
  },
  {
   "cell_type": "code",
   "execution_count": null,
   "metadata": {},
   "outputs": [],
   "source": [
    "ds = hv.Dataset((np.arange(50), np.arange(111), np.arange(62), calcium_array),\n",
    "                ['Time', 'x', 'y'], 'Fluorescence')"
   ]
  },
  {
   "cell_type": "code",
   "execution_count": null,
   "metadata": {},
   "outputs": [],
   "source": [
    "polys = hv.Polygons([])\n",
    "box_stream = streams.BoxEdit(source=polys)\n",
    "\n",
    "def roi_curves(data):\n",
    "    if not data or not any(len(d) for d in data.values()):\n",
    "        return hv.NdOverlay({0: hv.Curve([], 'Time', 'Fluorescence')})\n",
    "    \n",
    "    curves = {}\n",
    "    data = zip(data['x0'], data['x1'], data['y0'], data['y1'])\n",
    "    for i, (x0, x1, y0, y1) in enumerate(data):\n",
    "        selection = ds.select(x=(x0, x1), y=(y0, y1))\n",
    "        curves[i] = hv.Curve(selection.aggregate('Time', np.mean))\n",
    "    return hv.NdOverlay(curves)\n",
    "\n",
    "hlines = hv.HoloMap({i: hv.VLine(i) for i in range(50)}, 'Time')\n",
    "dmap = hv.DynamicMap(roi_curves, streams=[box_stream])"
   ]
  },
  {
   "cell_type": "code",
   "execution_count": null,
   "metadata": {},
   "outputs": [],
   "source": [
    "im = ds.to(hv.Image, ['x', 'y'], dynamic=True)\n",
    "layout = (im * polys + dmap * hlines).opts(\n",
    "    opts.Curve(width=400, framewise=True), \n",
    "    opts.Polygons(fill_alpha=0.2, line_color='white'), \n",
    "    opts.VLine(color='black',alpha=1.))\n"
   ]
  },
  {
   "cell_type": "code",
   "execution_count": null,
   "metadata": {},
   "outputs": [],
   "source": [
    "print(layout)"
   ]
  },
  {
   "cell_type": "code",
   "execution_count": null,
   "metadata": {},
   "outputs": [],
   "source": [
    "comp1 = im*polys;print(comp1)\n",
    "comp2 = dmap * hlines; print(comp2)"
   ]
  },
  {
   "cell_type": "code",
   "execution_count": null,
   "metadata": {},
   "outputs": [],
   "source": [
    "print(im); print(polys)"
   ]
  },
  {
   "cell_type": "code",
   "execution_count": null,
   "metadata": {},
   "outputs": [],
   "source": [
    "print(dmap);print(hlines)"
   ]
  },
  {
   "cell_type": "code",
   "execution_count": null,
   "metadata": {},
   "outputs": [],
   "source": [
    "print(comp2)\n",
    "# layout\n"
   ]
  },
  {
   "cell_type": "code",
   "execution_count": null,
   "metadata": {},
   "outputs": [],
   "source": [
    "print(dmap)"
   ]
  },
  {
   "cell_type": "code",
   "execution_count": null,
   "metadata": {},
   "outputs": [],
   "source": []
  },
  {
   "cell_type": "code",
   "execution_count": null,
   "metadata": {},
   "outputs": [],
   "source": [
    "## debug purpose\n",
    "def get_debug_div(*args, **kwargs):\n",
    "    content = f'<p> args: {str(args)} </p>'\n",
    "    content += \"\"\"\n",
    "    <p> kwargs:  </p>\n",
    "    <ul>\n",
    "    \"\"\"\n",
    "    for k,v in kwargs.items():\n",
    "        content += f'<li>{k}: {v}</li>'\n",
    "    content += '</ul>'\n",
    "    return hv.Div(content)\n",
    "\n",
    "# Dynamically create the debug div with the stream of interest\n",
    "# dmap_debug = hv.DynamicMap(get_debug_div, streams=[box_stream])"
   ]
  },
  {
   "cell_type": "code",
   "execution_count": null,
   "metadata": {},
   "outputs": [],
   "source": [
    "varname = varnames[7]\n",
    "region = 'EA'\n",
    "xrd = xrd_ea\n",
    "# Given region and varname\n",
    "ds = gv.Dataset(xrd[varname], ['X','Y','time'], varname, crs=ccrs.PlateCarree())"
   ]
  },
  {
   "cell_type": "code",
   "execution_count": null,
   "metadata": {},
   "outputs": [],
   "source": [
    "dmap = datashade(ds.to(gv.Image, ['X','Y'], varname, crs=ccrs.PlateCarree(), \n",
    "                       dynamic=True)\n",
    "                )\n",
    "# dmap = ds.to(gv.Image, ['X','Y'], varname, crs=ccrs.PlateCarree(), dynamic=True)\n",
    "\n",
    "print(dmap)\n",
    "dmap"
   ]
  },
  {
   "cell_type": "code",
   "execution_count": null,
   "metadata": {},
   "outputs": [],
   "source": [
    "polys = gv.Polygons([], crs=ccrs.PlateCarree())\n",
    "boxes_stream = BoxEdit(source=polys)"
   ]
  },
  {
   "cell_type": "code",
   "execution_count": null,
   "metadata": {},
   "outputs": [],
   "source": [
    "# boxes_stream\n",
    "\n",
    "# debug box for boxes stream\n",
    "dmap_debug = hv.DynamicMap(get_debug_div, streams=[boxes_stream])"
   ]
  },
  {
   "cell_type": "code",
   "execution_count": null,
   "metadata": {},
   "outputs": [],
   "source": [
    "def roi_curves(data):\n",
    "    if not data or not any(len(d) for d in data.values()):\n",
    "        return hv.NdOverlay({0: hv.Curve([], 'time', varname)})\n",
    "#     pdb.set_trace()\n",
    "    curves = {}\n",
    "    data = zip(data['x0'], data['x1'], data['y0'], data['y1'])\n",
    "    for i, (x0,x1,y0,y1) in enumerate(data):\n",
    "        selection = ds.select(X=(x0,x1), Y=(y0,y1))\n",
    "        curves[i] = hv.Curve(selection.aggregate('time', np.nanmean), 'time', varname)\n",
    "#         pdb.set_trace()\n",
    "    return hv.NdOverlay(curves)\n",
    "\n",
    "                               "
   ]
  },
  {
   "cell_type": "code",
   "execution_count": null,
   "metadata": {},
   "outputs": [],
   "source": [
    "dmap_roi_curves = hv.DynamicMap(roi_curves, streams=[boxes_stream])\n"
   ]
  },
  {
   "cell_type": "code",
   "execution_count": null,
   "metadata": {},
   "outputs": [],
   "source": [
    "time_values = xrd.get_index('time')\n",
    "# time_values = trange\n",
    "empty_tplot = hv.Curve( \n",
    "    (time_values, np.empty(len(time_values))), \n",
    "    'time', varname).opts(line_alpha=0.)\n",
    "vlines = hv.HoloMap({t: empty_tplot * hv.VLine(t) for t in time_values},\n",
    "                   kdims='time')\n",
    "vlines*dmap_roi_curves"
   ]
  },
  {
   "cell_type": "code",
   "execution_count": null,
   "metadata": {},
   "outputs": [],
   "source": [
    "trange = list(map(pd.Timestamp, hvd_ea.range('time')))\n",
    "trange\n",
    "\n",
    "hvd_ea.range('time')"
   ]
  },
  {
   "cell_type": "code",
   "execution_count": null,
   "metadata": {},
   "outputs": [],
   "source": [
    "layout = (\n",
    "    dmap*polys \n",
    "    + dmap_roi_curves#*vlines\n",
    "    + dmap_debug\n",
    ").cols(2)\n",
    "    \n",
    "layout.opts(\n",
    "    opts.Curve(framewise=True),\n",
    "    opts.VLine(color='black'),\n",
    ")"
   ]
  },
  {
   "cell_type": "code",
   "execution_count": null,
   "metadata": {},
   "outputs": [],
   "source": [
    "dmap.kdims"
   ]
  },
  {
   "cell_type": "code",
   "execution_count": null,
   "metadata": {},
   "outputs": [],
   "source": [
    "type(dmap.redim.values(time=[trange[0]]))\n"
   ]
  },
  {
   "cell_type": "code",
   "execution_count": null,
   "metadata": {},
   "outputs": [],
   "source": [
    "dmap.select(time=trange[0])"
   ]
  },
  {
   "cell_type": "code",
   "execution_count": null,
   "metadata": {},
   "outputs": [],
   "source": [
    "hv.VLine(t.to_datetime64())"
   ]
  },
  {
   "cell_type": "code",
   "execution_count": null,
   "metadata": {},
   "outputs": [],
   "source": [
    "t = pd.Timestamp('2019-04-01')"
   ]
  },
  {
   "cell_type": "code",
   "execution_count": null,
   "metadata": {},
   "outputs": [],
   "source": [
    "t\n"
   ]
  },
  {
   "cell_type": "code",
   "execution_count": null,
   "metadata": {},
   "outputs": [],
   "source": [
    "t.to_datetime64()"
   ]
  },
  {
   "cell_type": "code",
   "execution_count": null,
   "metadata": {},
   "outputs": [],
   "source": [
    "c = hv.Curve([],[])"
   ]
  },
  {
   "cell_type": "code",
   "execution_count": null,
   "metadata": {},
   "outputs": [],
   "source": [
    "hvplot = renderer.get_plot(c)\n"
   ]
  },
  {
   "cell_type": "code",
   "execution_count": null,
   "metadata": {},
   "outputs": [],
   "source": [
    "f = hvplot.state\n"
   ]
  },
  {
   "cell_type": "code",
   "execution_count": null,
   "metadata": {},
   "outputs": [],
   "source": [
    "f.xaxis."
   ]
  },
  {
   "cell_type": "code",
   "execution_count": null,
   "metadata": {},
   "outputs": [],
   "source": [
    "c.print_param_values()"
   ]
  },
  {
   "cell_type": "code",
   "execution_count": null,
   "metadata": {},
   "outputs": [],
   "source": [
    "hv.help(hv.Curve)"
   ]
  },
  {
   "cell_type": "code",
   "execution_count": null,
   "metadata": {},
   "outputs": [],
   "source": [
    "from bokeh.models import DatetimeTickFormatter"
   ]
  },
  {
   "cell_type": "code",
   "execution_count": null,
   "metadata": {},
   "outputs": [],
   "source": [
    "f.xaxis.formatter = DatetimeTickFormatter()"
   ]
  },
  {
   "cell_type": "code",
   "execution_count": null,
   "metadata": {},
   "outputs": [],
   "source": [
    "display(c)\n",
    "c.opts(opts.Curve(xformatter=DatetimeTickFormatter(hours=[\"%d %B %Y\"],\n",
    "        days=[\"%d %B %Y\"],\n",
    "        months=[\"%d %B %Y\"],\n",
    "        years=[\"%d %B %Y\"],\n",
    "    )))"
   ]
  },
  {
   "cell_type": "code",
   "execution_count": null,
   "metadata": {},
   "outputs": [],
   "source": [
    "f,#f.xaxis.formatter"
   ]
  },
  {
   "cell_type": "code",
   "execution_count": null,
   "metadata": {},
   "outputs": [],
   "source": [
    "f.xaxis.formatter = DatetimeTickFormatter()"
   ]
  },
  {
   "cell_type": "code",
   "execution_count": null,
   "metadata": {},
   "outputs": [],
   "source": [
    "f.xaxis.formatter"
   ]
  },
  {
   "cell_type": "code",
   "execution_count": null,
   "metadata": {},
   "outputs": [],
   "source": []
  },
  {
   "cell_type": "code",
   "execution_count": null,
   "metadata": {},
   "outputs": [],
   "source": []
  },
  {
   "cell_type": "code",
   "execution_count": null,
   "metadata": {},
   "outputs": [],
   "source": []
  },
  {
   "cell_type": "code",
   "execution_count": null,
   "metadata": {},
   "outputs": [],
   "source": []
  },
  {
   "cell_type": "code",
   "execution_count": null,
   "metadata": {},
   "outputs": [],
   "source": []
  },
  {
   "cell_type": "code",
   "execution_count": null,
   "metadata": {},
   "outputs": [],
   "source": []
  },
  {
   "cell_type": "code",
   "execution_count": null,
   "metadata": {},
   "outputs": [],
   "source": []
  }
 ],
 "metadata": {
  "kernelspec": {
   "display_name": "Python [conda env:earthml]",
   "language": "python",
   "name": "conda-env-earthml-py"
  },
  "language_info": {
   "codemirror_mode": {
    "name": "ipython",
    "version": 3
   },
   "file_extension": ".py",
   "mimetype": "text/x-python",
   "name": "python",
   "nbconvert_exporter": "python",
   "pygments_lexer": "ipython3",
   "version": "3.7.3"
  }
 },
 "nbformat": 4,
 "nbformat_minor": 2
}
