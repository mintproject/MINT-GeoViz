{
 "cells": [
  {
   "cell_type": "markdown",
   "metadata": {},
   "source": [
    "<img src=\"https://mintproject.github.io/MINT_USERGUIDE/Figures/mint-logo-vertical.png\" width=\"100\">\n",
    "\n",
    "# netCDF tutorial\n",
    "\n",
    "## Table of content\n",
    "[Purpose](#purpose)  \n",
    "[Example data](#example)  \n",
    "[Package requirements](#package)  \n",
    "[Getting familiar with NetCDF](#netcdf)  \n",
    "[Importing Variables](#var)\n",
    "\n",
    "## <a name='purpose'>Purpose</a>\n",
    "\n",
    "This interactive Jupyter Notebook guides the reader through the steps of opening, reading, and importing variables from a file in the NetCDF format. \n",
    "\n",
    "To know more about NetCDF, visit [https://www.unidata.ucar.edu/software/netcdf/](https://www.unidata.ucar.edu/software/netcdf/). \n",
    "\n",
    "## <a name='example'>Example data</a>\n",
    "\n",
    "This Notebook uses a monthly file from the FLDAS FLDAS_NOAH01_C_EA_M.001 resource, which can be accessed from the MINT Data Catalog.\n",
    "\n",
    "## <a name=\"package\"> Package requirements </a>\n",
    "This tutorial uses the [xarray](#http://xarray.pydata.org/en/stable/) Python package.  \n",
    "Installation instructions are available [here](#http://xarray.pydata.org/en/stable/installing.html)\n",
    "\n",
    "Import packages"
   ]
  },
  {
   "cell_type": "code",
   "execution_count": null,
   "metadata": {},
   "outputs": [],
   "source": [
    "import xarray as xr\n",
    "import numpy as np\n",
    "import pandas as pd"
   ]
  },
  {
   "cell_type": "markdown",
   "metadata": {},
   "source": [
    "## <a name='netcdf'> Getting familiar with NetCDF </a>\n",
    "\n",
    "To open a dataset:"
   ]
  },
  {
   "cell_type": "code",
   "execution_count": null,
   "metadata": {},
   "outputs": [],
   "source": [
    "# Set the file name\n",
    "file = 'FLDAS_NOAH01_C_EA_M.A201501.001.nc'\n",
    "# Open with xarray\n",
    "nc_fid = xr.open_dataset(file)"
   ]
  },
  {
   "cell_type": "markdown",
   "metadata": {},
   "source": [
    "The content of the netCDF is stored in a dictionary-like structure that contains:\n",
    "- dimensions of the variables within the dataset: latitude,longitude,time and bounds\n",
    "- coordinates\n",
    "- the variables in the file and associated dimensions. In this case the data is oragnized in arrays of dimenstion (time, Y,X)\n",
    "- File attributes: information about the file, including conventions, history, title..."
   ]
  },
  {
   "cell_type": "code",
   "execution_count": null,
   "metadata": {},
   "outputs": [],
   "source": [
    "nc_fid"
   ]
  },
  {
   "cell_type": "markdown",
   "metadata": {},
   "source": [
    "To get the values of the coordinates, use:"
   ]
  },
  {
   "cell_type": "code",
   "execution_count": null,
   "metadata": {},
   "outputs": [],
   "source": [
    "lon = nc_fid.coords['X'].values\n",
    "lat = nc_fid.coords['Y'].values"
   ]
  },
  {
   "cell_type": "markdown",
   "metadata": {},
   "source": [
    "# <a name='var'> Importing Variables </a>\n",
    "\n",
    "Variables are one layer down the top dictionary. To access them:  \n",
    "`netcdfname.VarName` or `netcdfname['VarName']`. The second method is useful when the variable name contains a '.'\n",
    "\n",
    "Let's look at the precipitation variable:"
   ]
  },
  {
   "cell_type": "code",
   "execution_count": null,
   "metadata": {},
   "outputs": [],
   "source": [
    "nc_fid.Rainf_f_tavg"
   ]
  },
  {
   "cell_type": "markdown",
   "metadata": {},
   "source": [
    "Each variables contain:\n",
    "- coordinates (same as coordinates from the file)\n",
    "- values, stored in a numpy array\n",
    "- attributes, including a standard name, long name, units...\n",
    "\n",
    "To access the values, use the following command:"
   ]
  },
  {
   "cell_type": "code",
   "execution_count": null,
   "metadata": {},
   "outputs": [],
   "source": [
    "P = nc_fid.Rainf_f_tavg.values\n",
    "\n",
    "P"
   ]
  },
  {
   "cell_type": "markdown",
   "metadata": {},
   "source": [
    "You can slice the array as any numpy array. For instance, to get all the data between 6 and 8°N and 23 and 27°E, use:"
   ]
  },
  {
   "cell_type": "code",
   "execution_count": null,
   "metadata": {},
   "outputs": [],
   "source": [
    "min_lat = 6\n",
    "max_lat = 8\n",
    "min_lon = 23\n",
    "max_lon = 27\n",
    "\n",
    "# Get the bounding box indices\n",
    "idx_x = np.arange(np.where(lon>min_lon)[0][0],np.where(lon<max_lon)[0][-1],1)\n",
    "idx_y = np.arange(np.where(lat>min_lat)[0][0],np.where(lat<max_lat)[0][-1],1)\n",
    "\n",
    "P_slice = P[:,idx_y,:]\n",
    "P_slice = P[:,:,idx_x]\n",
    "\n",
    "P_slice"
   ]
  },
  {
   "cell_type": "markdown",
   "metadata": {},
   "source": [
    "To take the mean of the array:"
   ]
  },
  {
   "cell_type": "code",
   "execution_count": null,
   "metadata": {},
   "outputs": [],
   "source": [
    "P_slice_mean = np.nanmean(P_slice)\n",
    "P_slice_mean"
   ]
  }
 ],
 "metadata": {
  "kernelspec": {
   "display_name": "Python 3",
   "language": "python",
   "name": "python3"
  },
  "language_info": {
   "codemirror_mode": {
    "name": "ipython",
    "version": 3
   },
   "file_extension": ".py",
   "mimetype": "text/x-python",
   "name": "python",
   "nbconvert_exporter": "python",
   "pygments_lexer": "ipython3",
   "version": "3.6.7"
  }
 },
 "nbformat": 4,
 "nbformat_minor": 2
}
