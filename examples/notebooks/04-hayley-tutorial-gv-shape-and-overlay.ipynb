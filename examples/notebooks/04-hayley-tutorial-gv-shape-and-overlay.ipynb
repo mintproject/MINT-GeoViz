{
 "cells": [
  {
   "cell_type": "markdown",
   "metadata": {},
   "source": [
    "# Geoviews Shape and Overlay \n",
    "Modified: Jun 6, 2019\n",
    "\n",
    "- Goal: Incorporate vector tile services to geoviews project   \n",
    "\n",
    "Overview:\n",
    "1. geoview shape with shapely.geometry objects\n",
    "2. create a hv.NdOverlay with a dictionary of gv.Shape objects\n",
    "3. create a cmap cycler to color each shape by index\n",
    "4. view it in a global basetile\n",
    "5. add a latlon stream (from a basemap) to get a vectorile (from the tile service or cache) and plot the ndoverlay\n",
    "object on top of the same basemap"
   ]
  },
  {
   "cell_type": "code",
   "execution_count": null,
   "metadata": {},
   "outputs": [],
   "source": [
    "%load_ext autoreload\n",
    "%autoreload 2\n",
    "\n",
    "import os, sys, time, math, json, requests\n",
    "import numpy as np\n",
    "import scipy as sp\n",
    "import pandas as pd\n",
    "import intake\n",
    "    \n",
    "from pathlib import Path\n",
    "from pprint import pprint as pp\n",
    "p = print \n",
    "\n",
    "from sklearn.externals import joblib\n",
    "import pdb\n",
    "\n",
    "import matplotlib.pyplot as plt\n",
    "%matplotlib inline\n",
    "\n",
    "# ignore warnings\n",
    "import warnings\n",
    "if not sys.warnoptions:\n",
    "    warnings.simplefilter('ignore')\n",
    "    \n",
    "# Don't generate bytecode\n",
    "sys.dont_write_bytecode = True"
   ]
  },
  {
   "cell_type": "code",
   "execution_count": null,
   "metadata": {},
   "outputs": [],
   "source": [
    "import holoviews as hv\n",
    "import xarray as xr\n",
    "\n",
    "from holoviews import opts\n",
    "from holoviews.operation.datashader import datashade, shade, dynspread, rasterize\n",
    "from holoviews.streams import Stream, param\n",
    "import geoviews as gv\n",
    "import geoviews.feature as gf\n",
    "from geoviews import tile_sources as gvts\n",
    "\n",
    "\n",
    "import geopandas as gpd\n",
    "import cartopy.crs as ccrs\n",
    "import cartopy.feature as cf\n",
    "\n",
    "hv.notebook_extension('bokeh')\n",
    "hv.Dimension.type_formatters[np.datetime64] = '%Y-%m-%d'"
   ]
  },
  {
   "cell_type": "code",
   "execution_count": null,
   "metadata": {},
   "outputs": [],
   "source": [
    "import math\n",
    "\n",
    "class VectorTile():\n",
    "\n",
    "    @staticmethod\n",
    "    def deg2tile_xy(lat_deg, lon_deg, zoom):\n",
    "        \"\"\"\n",
    "        Lat,Lon, z to tile numbers (xtile, ytile)\n",
    "        - src: https://is.gd/mjvdR7\n",
    "        \"\"\"\n",
    "        lat_rad = math.radians(lat_deg)\n",
    "        n = 2.0 ** zoom\n",
    "        xtile = int((lon_deg + 180.0) / 360.0 * n)\n",
    "        ytile = int((1.0 - math.log(math.tan(lat_rad) + (1 / math.cos(lat_rad))) / math.pi) / 2.0 * n)\n",
    "        return (xtile, ytile)\n",
    "\n",
    "    @staticmethod\n",
    "    def tile_xyz2deg(xtile, ytile, zoom):\n",
    "        \"\"\"\n",
    "        Tile numbers to lat/lon in degree\n",
    "        This returns the NW-corner of the square. \n",
    "        Use the function with xtile+1 and/or ytile+1 to get the other corners. \n",
    "        With xtile+0.5 & ytile+0.5 it will return the center of the tile.\n",
    "        - src: https://is.gd/mjvdR7\n",
    "        \"\"\"\n",
    "        n = 2.0 ** zoom\n",
    "        lon_deg = xtile / n * 360.0 - 180.0\n",
    "        lat_rad = math.atan(math.sinh(math.pi * (1 - 2 * ytile / n)))\n",
    "        lat_deg = math.degrees(lat_rad)\n",
    "        return (lat_deg, lon_deg)"
   ]
  },
  {
   "cell_type": "code",
   "execution_count": null,
   "metadata": {},
   "outputs": [],
   "source": [
    "import json\n",
    "\n",
    "VECTILE_CACHE = {}\n",
    "def get_vectile_gdf_at_xyz(xtile, ytile, z,\n",
    "                    size=256,layer='all',\n",
    "                    fformat='json', \n",
    "                    cache_dir='../data/vectile_cache/'):\n",
    "    \"\"\"\n",
    "    Given xtile, ytile and z(oom level), \n",
    "    request the vector tile from nextzen vector tile endpoint\n",
    "    \n",
    "    If the tile was requested before and is saved, \n",
    "    it will check the current python session's cache, then the local\n",
    "    disk to read the tile from memory.\n",
    "    \n",
    "    If not cached, it will send a request to the vector tile server,\n",
    "    save the tile data both in python memory and local disk.\n",
    "    \n",
    "    Returns geopandas.DataFrame that contains some meta data like osm_id \n",
    "    and most importantly) geometries\n",
    "    \n",
    "    Args:\n",
    "    - xtile, ytile, z (int)\n",
    "    - size (int) : currently only supports 256 because of the latlon->tile\n",
    "        conversion calculation is constrained to that size\n",
    "    - fformat (str): currently it must be json because I don't know\n",
    "        how to read mvt or topojson formats to geopandas.DataFrame\n",
    "        \n",
    "    \"\"\"\n",
    "    #check if VEC_CACHE object exists in global namespace\n",
    "    global VECTILE_CACHE\n",
    "    try:\n",
    "        VECTILE_CACHE\n",
    "    except NameError:\n",
    "        VECTILE_CACHE = {}\n",
    "        \n",
    "    cache_key = (size,layer,z,xtile,ytile)\n",
    "    # Check if this tile is in python session memory\n",
    "    # If so, read from the memory, otherwise read from the disk\n",
    "    if VECTILE_CACHE.get( cache_key ):\n",
    "        if VECTILE_CACHE[cache_key].get('loaded'):\n",
    "            \"Reading from python session memory...\"\n",
    "            return VECTILE_CACHE[cache_key].get('dframe') #geopandas.gdf\n",
    "        else:\n",
    "            \"Reading from disk cache...\"\n",
    "            return gpd.GeoDataFrame.read_file(VECTILE_CACHE[cache_key].get('fpath'))\n",
    "    \n",
    "    # Request a new tile\n",
    "    print(\"Not in cache, sending request to vector tile service...\")\n",
    "    tile_url = f'https://tile.nextzen.org/tilezen/vector/v1/{size}/{layer}/{z}/{xtile}/{ytile}.{fformat}?api_key=GpjLSbvrQsa98MgMMuodzw'\n",
    "    r = requests.get(url=tile_url)\n",
    "    if not r.ok:\n",
    "        raise ValueError('reponse not ok: ', r.status_code)\n",
    "    data = r.json()\n",
    "    \n",
    "    # Write to disk\n",
    "    fdir = (Path(cache_dir) / f'{size}/{layer}/{z}/{xtile}/').resolve()\n",
    "    if not fdir.exists():\n",
    "        fdir.mkdir(parents=True)\n",
    "        print(f'{fdir} created')\n",
    "    fpath = fdir/ f'{ytile}.{fformat}'\n",
    "    print('Saving to: ', fpath)\n",
    "    with open(fpath, 'w') as f:\n",
    "        json.dump(data,f)\n",
    "        \n",
    "    while not fpath.exists():\n",
    "        time.sleep(0.3)\n",
    "    if fpath.exists():\n",
    "        gdf = gpd.read_file(fpath)\n",
    "    else:\n",
    "        raise IOError('File was not correctly written to disk: ', fpath)\n",
    "    \n",
    "    # Write to cache\n",
    "    VECTILE_CACHE[cache_key] = {\n",
    "        'loaded': True,\n",
    "        'dframe': gdf,\n",
    "        'fpath': str(fpath)\n",
    "    }\n",
    "    return gdf\n",
    "\n",
    "\n",
    "def get_vectile_overlay_at_xyz(xtile, ytile, z, **kwargs):\n",
    "    \"\"\"\n",
    "    Fetches the vector tile (from python cache or from the local disk or from the web service <- search order)\n",
    "    and returns a NdOverlay of Shape Elements with a numeric index\n",
    "    \n",
    "    args:\n",
    "    - xtile, ytile, z (int)\n",
    "\n",
    "        \n",
    "    kwargs:    \n",
    "    - colors (iterable): to be used to generate a itertools.cycle to cycle through \n",
    "        color values\n",
    "        eg: color=bokeh.palettes.Category20_10\n",
    "    - size: (default is 256) \n",
    "    - layer: (default is 'all')\n",
    "    - fformat: (default is 'json')  \n",
    "    - cache_dir: (default is '../data/vectile_cache/')\n",
    "    \"\"\"\n",
    "\n",
    "    gdf = get_vectile_gdf_at_xyz(xtile, ytile, z, **kwargs)\n",
    "    \n",
    "    # colormap iterator\n",
    "    import itertools\n",
    "    from bokeh.palettes import Category20_10\n",
    "\n",
    "    colors = kwargs.get('colors', Category20_10)\n",
    "    cmap_cycler = itertools.cycle(colors)\n",
    "    \n",
    "    # return ndoverlay of each shape\n",
    "    return hv.NdOverlay( {i:gv.Shape(geom).opts(fill_color=c) for i, (geom, c) in enumerate( zip(gdf.geometry, cmap_cycler) ) })\n",
    "\n",
    "def get_vectile_overlay_at_latlon(lat, lon, z, **kwargs):\n",
    "    \"\"\"\n",
    "    Args:\n",
    "    - lat, lon (float): lat lon in degrees\n",
    "    - z (int): zoom level\n",
    "    \"\"\"\n",
    "    xtile, ytile = VectorTile.deg2tile_xy(lat, lon,z)\n",
    "    return get_vectile_overlay_at_xyz(xtile, ytile, z, **kwargs)  \n",
    "\n",
    "def relabel_overlay(ndOverlay, labels):\n",
    "    \"\"\"\n",
    "    ndOverlay is indexed by integer\n",
    "    length of hv elements in the overlay must equal to the length of labels\n",
    "    \"\"\"\n",
    "    relabeled = hv.NdOverlay({i: ndOverlay[i].relabel(labels[i]) for i in range(len(ndOverlay))})\n",
    "    return relabeled\n",
    "\n",
    "## Tests\n",
    "def test_get_vectile_gdf_at_xyz():\n",
    "    x,y,z=(38229, 34597,16)\n",
    "    gdf = get_vectile_gdf_at_xyz(x,y,z)\n",
    "    vectile_overlay = hv.NdOverlay({i:gv.Shape(geom) for i,geom in enumerate(gdf.geometry)})\n",
    "    display(vectile_overlay)\n",
    "    \n",
    "\n",
    "def test_get_vectile_overlay_at_xyz():\n",
    "#     xtile=19293\n",
    "#     ytile=24641\n",
    "    \n",
    "    xtile, ytile = (38420, 33268)\n",
    "    z=10\n",
    "    display(get_vectile_overlay_at_xyz(xtile, ytile,z))\n",
    "    \n",
    "    \n",
    "def test_get_vectile_overlay_at_latlon():\n",
    "#     lat, lon = (40.709792012434946, -74.0203857421875)\n",
    "#     lat, lon = (-10, 30)\n",
    "    lon, lat = 31.05, -2.75\n",
    "    z=16\n",
    "    display(get_vectile_overlay_at_latlon(lat, lon, z))\n",
    "    \n",
    "    \n",
    "    "
   ]
  },
  {
   "cell_type": "markdown",
   "metadata": {},
   "source": [
    "## Simple Maptile xyz viewer\n",
    "https://jsfiddle.net/api/post/library/pure/"
   ]
  },
  {
   "cell_type": "markdown",
   "metadata": {},
   "source": [
    "## Test 1\n"
   ]
  },
  {
   "cell_type": "code",
   "execution_count": null,
   "metadata": {},
   "outputs": [],
   "source": [
    "z = 12\n",
    "lon,lat = (22.35, -11.45)\n",
    "xtile, ytile = VectorTile.deg2tile_xy(lat, lon, z)\n",
    "\n",
    "\n",
    "print(\"xtile, ytile: \", xtile, ytile)"
   ]
  },
  {
   "cell_type": "code",
   "execution_count": null,
   "metadata": {},
   "outputs": [],
   "source": [
    "temp = get_vectile_gdf_at_xyz(xtile, ytile, z)"
   ]
  },
  {
   "cell_type": "code",
   "execution_count": null,
   "metadata": {},
   "outputs": [],
   "source": [
    "temp\n"
   ]
  },
  {
   "cell_type": "markdown",
   "metadata": {},
   "source": [
    "## Test 2"
   ]
  },
  {
   "cell_type": "code",
   "execution_count": null,
   "metadata": {},
   "outputs": [],
   "source": [
    "z, xtile, ytile = 14,8030,5424\n",
    "temp = get_vectile_gdf_at_xyz(xtile, ytile, z)\n",
    "temp"
   ]
  },
  {
   "cell_type": "code",
   "execution_count": null,
   "metadata": {},
   "outputs": [],
   "source": [
    "temp.plot()"
   ]
  },
  {
   "cell_type": "code",
   "execution_count": null,
   "metadata": {},
   "outputs": [],
   "source": [
    "lat, lon = VectorTile.tile_xyz2deg(xtile, ytile, z)\n",
    "print(lat,lon)\n",
    "\n",
    "get_vectile_overlay_at_xyz(xtile, ytile,z)"
   ]
  },
  {
   "cell_type": "markdown",
   "metadata": {},
   "source": [
    "## Test 3: Khartoum"
   ]
  },
  {
   "cell_type": "markdown",
   "metadata": {},
   "source": [
    "<img src=\"../assets/khartoum_maptile_info.png\" alt=\"khartoum_maptile_info\" width=\"1000\"/>"
   ]
  },
  {
   "cell_type": "markdown",
   "metadata": {},
   "source": [
    "1. get_vectile_gdf_at_xyz()"
   ]
  },
  {
   "cell_type": "code",
   "execution_count": null,
   "metadata": {},
   "outputs": [],
   "source": [
    "k_lat, k_lon = 15.509138, 32.550624\n",
    "z = 10\n",
    "k_xtile, k_ytile = VectorTile.deg2tile_xy(k_lat, k_lon, z)\n",
    "print(kx, ky)\n",
    "k_gdf = get_vectile_gdf_at_xyz(k_xtile, k_ytile, z)\n",
    "k_gdf.plot()"
   ]
  },
  {
   "cell_type": "markdown",
   "metadata": {},
   "source": [
    "2. get_vectile_overlay_at_xyz"
   ]
  },
  {
   "cell_type": "code",
   "execution_count": null,
   "metadata": {},
   "outputs": [],
   "source": [
    "k_overlay2 = get_vectile_overlay_at_xyz(k_xtile, k_ytile,z)"
   ]
  },
  {
   "cell_type": "code",
   "execution_count": null,
   "metadata": {},
   "outputs": [],
   "source": [
    "k_overlay2"
   ]
  },
  {
   "cell_type": "code",
   "execution_count": null,
   "metadata": {},
   "outputs": [],
   "source": [
    "print(k_overlay2)"
   ]
  },
  {
   "cell_type": "code",
   "execution_count": null,
   "metadata": {},
   "outputs": [],
   "source": [
    "# We can index into the hv.Ndoverlay object with integer indexing (as to a dictionary)\n",
    "# for i in range(len(k_overlay2[::2])):\n",
    "#     s = k_overlay2[i].opts.hover(\n",
    "#     display(s.name, s.label, s)"
   ]
  },
  {
   "cell_type": "code",
   "execution_count": null,
   "metadata": {},
   "outputs": [],
   "source": []
  },
  {
   "cell_type": "code",
   "execution_count": null,
   "metadata": {},
   "outputs": [],
   "source": []
  },
  {
   "cell_type": "code",
   "execution_count": null,
   "metadata": {},
   "outputs": [],
   "source": []
  },
  {
   "cell_type": "markdown",
   "metadata": {},
   "source": [
    "3. get_vectile_overlay_at_latlon"
   ]
  },
  {
   "cell_type": "code",
   "execution_count": null,
   "metadata": {},
   "outputs": [],
   "source": [
    "k_overlay = get_vectile_overlay_at_latlon(k_lat, k_lon, z)\n",
    "k_overlay"
   ]
  },
  {
   "cell_type": "code",
   "execution_count": null,
   "metadata": {},
   "outputs": [],
   "source": []
  },
  {
   "cell_type": "code",
   "execution_count": null,
   "metadata": {},
   "outputs": [],
   "source": []
  },
  {
   "cell_type": "code",
   "execution_count": null,
   "metadata": {},
   "outputs": [],
   "source": [
    "geom = "
   ]
  },
  {
   "cell_type": "code",
   "execution_count": null,
   "metadata": {},
   "outputs": [],
   "source": [
    "s = k_overlay[9]\n",
    "s.print_param_values()"
   ]
  },
  {
   "cell_type": "code",
   "execution_count": null,
   "metadata": {},
   "outputs": [],
   "source": [
    "s.data\n"
   ]
  },
  {
   "cell_type": "code",
   "execution_count": null,
   "metadata": {},
   "outputs": [],
   "source": [
    "s.data['geometry']"
   ]
  },
  {
   "cell_type": "code",
   "execution_count": null,
   "metadata": {},
   "outputs": [],
   "source": [
    "# temp = gv.Shape(k_gdf.iloc[, kdims=['Longitude', 'Latitude'], vdims=\n",
    "gv.Shape(k_gdf.iloc[[9]])"
   ]
  },
  {
   "cell_type": "code",
   "execution_count": null,
   "metadata": {},
   "outputs": [],
   "source": [
    "k_gdf.columns"
   ]
  },
  {
   "cell_type": "code",
   "execution_count": null,
   "metadata": {},
   "outputs": [],
   "source": [
    "s.label = '9'\n"
   ]
  },
  {
   "cell_type": "code",
   "execution_count": null,
   "metadata": {},
   "outputs": [],
   "source": [
    "s.relabel('id9')"
   ]
  },
  {
   "cell_type": "code",
   "execution_count": null,
   "metadata": {},
   "outputs": [],
   "source": [
    "relabel_overlay(k_overlay, k_gdf['name:en'])"
   ]
  },
  {
   "cell_type": "code",
   "execution_count": null,
   "metadata": {},
   "outputs": [],
   "source": [
    "k_gdf['name:en']\n"
   ]
  },
  {
   "cell_type": "code",
   "execution_count": null,
   "metadata": {},
   "outputs": [],
   "source": []
  }
 ],
 "metadata": {
  "kernelspec": {
   "display_name": "Python [conda env:earthml]",
   "language": "python",
   "name": "conda-env-earthml-py"
  },
  "language_info": {
   "codemirror_mode": {
    "name": "ipython",
    "version": 3
   },
   "file_extension": ".py",
   "mimetype": "text/x-python",
   "name": "python",
   "nbconvert_exporter": "python",
   "pygments_lexer": "ipython3",
   "version": "3.7.1"
  }
 },
 "nbformat": 4,
 "nbformat_minor": 2
}
