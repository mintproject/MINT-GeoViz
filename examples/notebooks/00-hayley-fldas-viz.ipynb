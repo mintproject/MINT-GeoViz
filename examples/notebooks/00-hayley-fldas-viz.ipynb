{
 "cells": [
  {
   "cell_type": "markdown",
   "metadata": {},
   "source": [
    "# `hv.Holomaps` with FLDAS dataset\n",
    "Modified: Jun 2, 2019\n",
    "\n",
    "Eastern & Southern Africa fldas data"
   ]
  },
  {
   "cell_type": "code",
   "execution_count": null,
   "metadata": {},
   "outputs": [],
   "source": [
    "%load_ext autoreload\n",
    "%autoreload 2\n",
    "\n",
    "import os, sys, time\n",
    "import numpy as np\n",
    "import scipy as sp\n",
    "import pandas as pd\n",
    "import geopandas as gpd\n",
    "import intake,param\n",
    "    \n",
    "from pathlib import Path\n",
    "from pprint import pprint as pp\n",
    "p = print \n",
    "\n",
    "from sklearn.externals import joblib\n",
    "import pdb\n",
    "\n",
    "from tqdm import tqdm, trange\n",
    "import ipywidgets as iw\n",
    "\n",
    "import matplotlib.pyplot as plt\n",
    "%matplotlib inline\n",
    "\n",
    "# ignore warnings\n",
    "import warnings\n",
    "if not sys.warnoptions:\n",
    "    warnings.simplefilter('ignore')\n",
    "    \n",
    "# Don't generate bytecode\n",
    "sys.dont_write_bytecode = True"
   ]
  },
  {
   "cell_type": "code",
   "execution_count": null,
   "metadata": {},
   "outputs": [],
   "source": [
    "import holoviews as hv\n",
    "import xarray as xr\n",
    "\n",
    "from holoviews import opts\n",
    "from holoviews.operation.datashader import datashade, shade, dynspread, rasterize\n",
    "from holoviews.streams import Stream, param\n",
    "from holoviews import streams\n",
    "import geoviews as gv\n",
    "import geoviews.feature as gf\n",
    "from geoviews import tile_sources as gvts\n",
    "\n",
    "import geopandas as gpd\n",
    "import cartopy.crs as ccrs\n",
    "import cartopy.feature as cf\n",
    "\n",
    "hv.notebook_extension('bokeh')\n",
    "hv.Dimension.type_formatters[np.datetime64] = '%Y-%m-%d'"
   ]
  },
  {
   "cell_type": "code",
   "execution_count": null,
   "metadata": {},
   "outputs": [],
   "source": [
    "# Add the utils directory to the search path\n",
    "UTILS_DIR = Path('../utils').absolute()\n",
    "assert UTILS_DIR.exists()\n",
    "if str(UTILS_DIR) not in sys.path:\n",
    "    sys.path.insert(0, str(UTILS_DIR))\n",
    "    print(f\"Added {str(UTILS_DIR)} to sys.path\")\n",
    "\n",
    "pp(sys.path)\n",
    "    "
   ]
  },
  {
   "cell_type": "code",
   "execution_count": null,
   "metadata": {},
   "outputs": [],
   "source": [
    "from utils import get_mro as mro, nprint, dict2json, display_dict2json, is_valid_url\n",
    "import utils"
   ]
  },
  {
   "cell_type": "markdown",
   "metadata": {},
   "source": [
    "### Use holoview's colormaps module\n",
    "<img src=\"../assets/hv_colormaps.jpg\" alt=\"holoviews-colormaps\" width=\"600\"/>"
   ]
  },
  {
   "cell_type": "code",
   "execution_count": null,
   "metadata": {},
   "outputs": [],
   "source": [
    "from holoviews.plotting import list_cmaps\n",
    "# list_cmaps(provider='colorcet', category='Sequential')"
   ]
  },
  {
   "cell_type": "code",
   "execution_count": null,
   "metadata": {},
   "outputs": [],
   "source": [
    "# Grab registered bokeh renderer\n",
    "print(\"Currently available renderers: \", *hv.Store.renderers.keys())\n",
    "renderer = hv.renderer('bokeh')"
   ]
  },
  {
   "cell_type": "markdown",
   "metadata": {},
   "source": [
    "## Vector Tile overlay creation helpers\n",
    "Modified: Jun 8, 2019"
   ]
  },
  {
   "cell_type": "code",
   "execution_count": null,
   "metadata": {},
   "outputs": [],
   "source": [
    "from VectorTile import VectorTile"
   ]
  },
  {
   "cell_type": "markdown",
   "metadata": {},
   "source": [
    "Quick example"
   ]
  },
  {
   "cell_type": "code",
   "execution_count": null,
   "metadata": {},
   "outputs": [],
   "source": [
    "lat, lon = 48.8566101, 2.3514992\n",
    "z = 15\n",
    "vtile = VectorTile.from_latlon(lat, lon, z)\n",
    "vtile.info()\n",
    "\n",
    "gdf = vtile.to_gdf()\n",
    "# display(gdf.head())\n",
    "\n",
    "ndoverlay = vtile.to_ndoverlay()\n",
    "# display(ndoverlay)"
   ]
  },
  {
   "cell_type": "markdown",
   "metadata": {},
   "source": [
    "## Set default holoviews style options"
   ]
  },
  {
   "cell_type": "code",
   "execution_count": null,
   "metadata": {},
   "outputs": [],
   "source": [
    "%opts Image [colorbar=True, tools=['hover']] Curve [tools=['hover']]"
   ]
  },
  {
   "cell_type": "markdown",
   "metadata": {},
   "source": [
    "---\n",
    "## Load Datasets"
   ]
  },
  {
   "cell_type": "code",
   "execution_count": null,
   "metadata": {},
   "outputs": [],
   "source": [
    "# Southern Africa Dataset\n",
    "fpath_sa = '/home/hayley/data/mint/FLDAS/FLDAS_NOAH01_A_SA_D.001/2019/04/FLDAS_NOAH01_A_SA_D.A201904*.001.nc'\n",
    "fpath_ea = '/home/hayley/data/mint/FLDAS/FLDAS_NOAH01_A_EA_D.001/2019/04/FLDAS_NOAH01_A_EA_D.A201904*.001.nc'\n",
    "ds_sa = xr.open_mfdataset(fpath_sa)\n",
    "ds_sa = ds_sa.drop_dims('bnds')\n",
    "\n",
    "ds_ea = xr.open_mfdataset(fpath_ea)\n",
    "ds_ea = ds_ea.drop_dims('bnds')\n",
    "\n",
    "         \n",
    "# print(ds_ea)\n",
    "# print(ds_sa)"
   ]
  },
  {
   "cell_type": "code",
   "execution_count": null,
   "metadata": {},
   "outputs": [],
   "source": [
    "xrd_ea = ds_ea.persist()\n",
    "xrd_sa = ds_sa.persist()"
   ]
  },
  {
   "cell_type": "code",
   "execution_count": null,
   "metadata": {},
   "outputs": [],
   "source": [
    "# data variable list\n",
    "varnames_ea = list(ds_ea.data_vars.keys())\n",
    "varnames_sa = list(ds_sa.data_vars.keys())\n",
    "varnames = varnames_ea\n",
    "varname = varnames[3]\n",
    "print(varname)\n",
    "\n",
    "#set height, width for images (for plotting)\n",
    "H_IMG, W_IMG = 400, 400\n",
    "\n",
    "# create holoviews dataset containers \n",
    "kdims = ['X','Y','time']\n",
    "hvd_ea = hv.Dataset(xrd_ea, kdims)\n",
    "hvd_sa = hv.Dataset(xrd_sa, kdims)\n"
   ]
  },
  {
   "cell_type": "code",
   "execution_count": null,
   "metadata": {},
   "outputs": [],
   "source": [
    "# Simple example of `hv.dim()` funnction to transform dimensions\n",
    "# Useful to transform a dimension before mapping it to a visual attribute for plotting custromization\n",
    "# src: http://holoviews.org/user_guide/Style_Mapping.html\n",
    "hv.dim('X').apply(hvd_sa)\n",
    "hv.dim('time').apply(hvd_sa)"
   ]
  },
  {
   "cell_type": "code",
   "execution_count": null,
   "metadata": {},
   "outputs": [],
   "source": [
    "# basemap tile\n",
    "basemap = gvts.EsriNatGeo\n",
    "basemap *timg_ea"
   ]
  },
  {
   "cell_type": "code",
   "execution_count": null,
   "metadata": {},
   "outputs": [],
   "source": [
    "# colormaps\n",
    "## discretize it conveniently using holoview's \"color_level\" option\n",
    "t_fixed = '2019-04-05'\n",
    "varname = varnames[5] \n",
    "print(\"Selecting a datavariable at a fixed time point: \", t_fixed, varname)\n",
    "\n",
    "# timg_ea = hvd_ea.select(time=t_fixed).to(gv.Image, kdims=['X', 'Y'], vdims=varname) #this returns a holomap, not a hv.Image object\n",
    "# To construct an hv.Image object, we need to pass in the xr.DataArray (ie. one value variable)\n",
    "print(xrd_ea[varname].isel(time=3) )\n",
    "timg_ea = hv.Image(xrd_ea[varname].isel(time=3) , ['X','Y']) #Opt: vdims=varname\n",
    "timg_sa = hv.Image(xrd_sa[varname].isel(time=3) , ['X','Y']) #Opt: vdims=varname\n",
    "# print(timg_sa)\n",
    "# timg_ea.opts(width=W_IMG, height=H_IMG)"
   ]
  },
  {
   "cell_type": "code",
   "execution_count": null,
   "metadata": {},
   "outputs": [],
   "source": [
    "# Now let's see how we can use holoview's plotting.opts function with `cmap` and `color_level` keywords to \n",
    "# categorize the values to certain number of color_levels easily\n",
    "\n",
    "( \n",
    "    timg_ea.relabel('default, continuous level cmapping').opts(cmap='PiYG') + \\\n",
    "    timg_ea.relabel('5 color levels').opts(cmap='PiYG', color_levels=5) + \\\n",
    "    timg_ea.relabel('11 color levels').opts(cmap='PiYG', color_levels=11)\n",
    ").opts(width=300,height=300).cols(3)\n"
   ]
  },
  {
   "cell_type": "code",
   "execution_count": null,
   "metadata": {},
   "outputs": [],
   "source": [
    "# create dmap \n",
    "xrd_ea_small = xrd_ea.isel(time=[3,4])\n",
    "xrd_sa_small = xrd_sa.isel(time=[3,4])\n",
    "\n",
    "## Wrong: this creates holomaps\n",
    "# dmap_ea_small = hv.Dataset(xrd_ea_small, kdims).to(hv.Image, ['X','Y'], varname, label='EA')\n",
    "# dmap_sa_small = hv.Dataset(xrd_sa_small, kdims).to(hv.Image, ['X','Y'], varname, label='SA')\n",
    "\n",
    "# datashade opts\n",
    "from colorcet import fire\n",
    "dopts = dict(width=500, height=500,\n",
    "            x_sampling=0.5, \n",
    "            y_sampling=0.5)\n",
    "\n",
    "img_opts = dict(width=500, height=500,\n",
    "                axiswise=True, framewise=False)\n"
   ]
  },
  {
   "cell_type": "code",
   "execution_count": null,
   "metadata": {},
   "outputs": [],
   "source": [
    "def get_img(tidx, varname, region='EA'):\n",
    "    xrd = xrd_ea if region == 'EA' else xrd_sa\n",
    "    img = hv.Image(xrd.isel(time=tidx)[varname], ['X','Y'])    \n",
    "    \n",
    "#     datashade returns a hv.DynamicMap which dynamically re-renders this img as we zoom/pan\n",
    "    return img.opts(**img_opts) #, cmap=fire, **dopts)\n",
    "\n",
    "    # hover info\n",
    "def get_hover_info(tidx, varname, region='EA'):\n",
    "    xrd = xrd_ea if region == 'EA' else xrd_sa\n",
    "    img = hv.Image(xrd.isel(time=tidx)[varname], ['X','Y'])\n",
    "    return rasterize(img, width=10, height=10, streams=[streams.RangeXY])\n",
    "                           \n",
    "\n",
    "    "
   ]
  },
  {
   "cell_type": "code",
   "execution_count": null,
   "metadata": {},
   "outputs": [],
   "source": [
    "agg_img = rasterize(timg_ea, width=100, height=100, streams=[streams.RangeXY])"
   ]
  },
  {
   "cell_type": "code",
   "execution_count": null,
   "metadata": {},
   "outputs": [],
   "source": [
    "agg_dmap  = hv.DynamicMap(lambda tidx, varname: get_hover_info(tidx, varname, 'EA'),\n",
    "                    kdims=['tidx', 'varname'])\n",
    "# print(agg_dmap)\n",
    "agg_dmap.redim.values(tidx=[0,1,2], varname=varnames[:2])"
   ]
  },
  {
   "cell_type": "code",
   "execution_count": null,
   "metadata": {},
   "outputs": [],
   "source": [
    "def realize(t_vals, v_vals):\n",
    "#     return datashade( \n",
    "#         dmap_ea.redim.range(tidx=(3,5)).redim.values(varname=varnames[0:3])\n",
    "#     ) * agg_dmap.redim.values(tidx=t_vals, varname=v_vals)\n",
    "    return agg_dmap.redim.values(tidx=t_vals, varname=v_vals)"
   ]
  },
  {
   "cell_type": "code",
   "execution_count": null,
   "metadata": {},
   "outputs": [],
   "source": [
    "realize([0,1,2], varnames[::2])"
   ]
  },
  {
   "cell_type": "code",
   "execution_count": null,
   "metadata": {},
   "outputs": [],
   "source": [
    "dmap_ea = hv.DynamicMap(lambda tidx, varname: get_img(tidx, varname, 'EA'),\n",
    "                        kdims=['tidx', 'varname'])\n",
    "dmap_varnames = dmap_ea.redim.range(tidx=(3,5))\n",
    "temp = dmap_ea.redim.range(tidx=(3,5)).redim.values(varname=varnames[0:3])\n"
   ]
  },
  {
   "cell_type": "code",
   "execution_count": null,
   "metadata": {},
   "outputs": [],
   "source": [
    "dmap_varnames.redim.values(varname=varnames[::2])\n"
   ]
  },
  {
   "cell_type": "code",
   "execution_count": null,
   "metadata": {},
   "outputs": [],
   "source": [
    "temp = dmap_ea.redim.range(tidx=(3,5)).redim.values(varname=varnames[0:3])\n",
    "\n",
    "dsed = datashade(temp) \n",
    "print(dsed[3,varnames[0]])\n",
    "plot = renderer.get_plot(dsed)\n",
    "print(plot)"
   ]
  },
  {
   "cell_type": "code",
   "execution_count": null,
   "metadata": {},
   "outputs": [],
   "source": [
    "stream = streams.RangeXY(source=dsed)\n",
    "rasterize("
   ]
  },
  {
   "cell_type": "code",
   "execution_count": null,
   "metadata": {},
   "outputs": [],
   "source": [
    "otemp = temp + temp.opts('RGB', width=300, height=300)\n",
    "otemp.opts(\n",
    "    opts.RGB(axiswise=True)\n",
    ")"
   ]
  },
  {
   "cell_type": "code",
   "execution_count": null,
   "metadata": {},
   "outputs": [],
   "source": [
    "%%opts RGB  {+axiswise -framewise}\n",
    "\n",
    "hmap_ea = hv.HoloMap(\n",
    "    {(tidx, varname): get_img(tidx, varname, 'EA') \n",
    "     for tidx in range(0,2) for varname in varnames[:2]},\n",
    "    kdims=['tidx', 'varname']\n",
    ")\n",
    "hmap_ea.layout()"
   ]
  },
  {
   "cell_type": "code",
   "execution_count": null,
   "metadata": {},
   "outputs": [],
   "source": [
    "@out_debug.capture(clear_output=True)\n",
    "def show():\n",
    "    display(\n",
    "        hv.Curve([1,2,3])+\\\n",
    "        hmap_ea.grid()\n",
    "    )\n",
    "#         hmap_ea.opts(framewise=True).grid()\n",
    "    \n",
    "    \n",
    "                        "
   ]
  },
  {
   "cell_type": "code",
   "execution_count": null,
   "metadata": {},
   "outputs": [],
   "source": [
    "dmap_ea = hv.DynamicMap(lambda tidx, varname: get_img(tidx, varname, 'EA'), \n",
    "                        kdims=['tidx', 'varname'])    \n",
    "dmap_sa = hv.DynamicMap(lambda tidx, varname: get_img(tidx, varname, 'SA'), \n",
    "                        kdims=['tidx', 'varname'])    "
   ]
  },
  {
   "cell_type": "code",
   "execution_count": null,
   "metadata": {},
   "outputs": [],
   "source": [
    "dmap_ea.redim.values(tidx=[0,10,20,30],\n",
    "                     varname=varnames[::8]\n",
    "                    )"
   ]
  },
  {
   "cell_type": "code",
   "execution_count": null,
   "metadata": {},
   "outputs": [],
   "source": [
    "print(dmap_ea_small)"
   ]
  },
  {
   "cell_type": "code",
   "execution_count": null,
   "metadata": {},
   "outputs": [],
   "source": [
    "temp = datashade(dmap_ea_small)\n",
    "print(temp)"
   ]
  },
  {
   "cell_type": "markdown",
   "metadata": {},
   "source": [
    "Wow, this is really powerful. I love that I didn't need to categorize the values to 5 or 11 levels myself -> no new data variable for the result, so memory efficient too."
   ]
  },
  {
   "cell_type": "markdown",
   "metadata": {},
   "source": [
    "## cycle colormaps\n",
    "Modified: Jun 7, 2019"
   ]
  },
  {
   "cell_type": "code",
   "execution_count": null,
   "metadata": {},
   "outputs": [],
   "source": [
    "# gdf\n",
    "# gdf = get_vectile_gdf\n",
    "# lat, lon, z = -5, 37, 9\n",
    "# print(utils.get_latlon('paris, france'))\n",
    "z = 16\n",
    "lat, lon = utils.get_latlon('paris, france')\n",
    "      "
   ]
  },
  {
   "cell_type": "code",
   "execution_count": null,
   "metadata": {},
   "outputs": [],
   "source": [
    "gdf = get_vectile_gdf_at_latlon(lat, lon, z)\n",
    "print(len(gdf))\n",
    "display(gdf.head())"
   ]
  },
  {
   "cell_type": "code",
   "execution_count": null,
   "metadata": {},
   "outputs": [],
   "source": [
    "addr = input('Enter query address: ')\n",
    "lat, lon = utils.get_latlon(addr)\n",
    "print('lat, lon: ', lat, lon)\n",
    "z = int(input('Enter zoom level [0,16]:'))\n",
    "shapes = get_vectile_overlay_at_latlon(lat,lon, z)\n",
    "shapes\n",
    "\n",
    "# try:\n",
    "# addr: national museum of scotland, edinburgh, scotland\n",
    "# lat, lon:  55.9470714 -3.18933554234473\n"
   ]
  },
  {
   "cell_type": "code",
   "execution_count": null,
   "metadata": {},
   "outputs": [],
   "source": [
    "shapes = get_vectile_overlay_at_latlon(lat,lon, z=16)\n"
   ]
  },
  {
   "cell_type": "code",
   "execution_count": null,
   "metadata": {},
   "outputs": [],
   "source": [
    "shapes"
   ]
  },
  {
   "cell_type": "code",
   "execution_count": null,
   "metadata": {},
   "outputs": [],
   "source": [
    "# hv.DynamicMap(get_vectile_overlay_at_latlon, kdims=['lat', 'lon', 'z']).\n",
    "# redim.values(lat=["
   ]
  },
  {
   "cell_type": "markdown",
   "metadata": {},
   "source": [
    "## A list of Lat, Lon data for world cities\n",
    "Modified: Jun 7, 2019\n",
    "- Plot a table of word citiy location data\n",
    "and link the table with a DynamicMap that shows the vector tiles at that location \n",
    "(with default zoom of 14(?) \n"
   ]
  },
  {
   "cell_type": "code",
   "execution_count": null,
   "metadata": {},
   "outputs": [],
   "source": [
    "latlons = pd.read_csv('/home/hayley/data/latlon/worldcities.csv')\n",
    "latlons = latlons[['city_ascii', 'lat', 'lng', 'country']]"
   ]
  },
  {
   "cell_type": "code",
   "execution_count": null,
   "metadata": {},
   "outputs": [],
   "source": [
    "sample_latlons = latlons.sample(frac=0.01)\n",
    "len(sample_latlons)"
   ]
  },
  {
   "cell_type": "code",
   "execution_count": null,
   "metadata": {},
   "outputs": [],
   "source": [
    "sample_latlons = (\n",
    "    sample_latlons\n",
    "    .rename({'city_ascii':'city'}, axis='columns')\n",
    "    .sort_values(by='country')\n",
    "#     .reset_index()\n",
    ")"
   ]
  },
  {
   "cell_type": "code",
   "execution_count": null,
   "metadata": {},
   "outputs": [],
   "source": [
    "latlon_table = hv.Table(sample_latlons, \n",
    "                        kdims = ['country', 'city', 'lat', 'lng'],\n",
    "                        label='city_latlon')#.opts(selectable=True)"
   ]
  },
  {
   "cell_type": "code",
   "execution_count": null,
   "metadata": {},
   "outputs": [],
   "source": [
    "latlon_table#.opts(tools=['tap'])"
   ]
  },
  {
   "cell_type": "code",
   "execution_count": null,
   "metadata": {},
   "outputs": [],
   "source": [
    "df = pd.DataFrame(np.random.rand(100,3), columns=['1','2','3'])\n",
    "\n",
    "table = hv.Table(data=df)\n",
    "sel = hv.streams.Selection1D(source=table)\n",
    "table"
   ]
  },
  {
   "cell_type": "code",
   "execution_count": null,
   "metadata": {},
   "outputs": [],
   "source": [
    "sel1 = hv.streams.Selection1D(source=table)\n",
    "sel2 = hv.streams.Selection1D(source=table)\n"
   ]
  },
  {
   "cell_type": "code",
   "execution_count": null,
   "metadata": {},
   "outputs": [],
   "source": [
    "print(sel1.contents, sel2.contents)"
   ]
  },
  {
   "cell_type": "code",
   "execution_count": null,
   "metadata": {},
   "outputs": [],
   "source": [
    "def get_vectile_from_index(table, index, z=14):\n",
    "    \"\"\"\n",
    "    Args:\n",
    "        - table (hv.Table)\n",
    "        - index (int): table row index \n",
    "    Returns:\n",
    "        - hv.ndoverlay of gv.shape\n",
    "    \"\"\"\n",
    "    country, city, lat, lon = table.iloc[index].array().flatten()\n",
    "    vectile = VectorTile.from_latlon(lat,lon,z)\n",
    "    ndoverlay = vectile.to_ndoverlay()\n",
    "    return ndoverlay.relabel(group=country, label=city)\n",
    "\n",
    "def get_vectiles_from_inds(table, index, z=14):\n",
    "    \"\"\"\n",
    "    index (list): a list of table row index\n",
    "    Returns a hv.DynamicMap of vectile-ndoverlay objects (one ndoverlay for latlon location)\n",
    "        - kdims of the dmap is ['country', 'city']\n",
    "    \"\"\"\n",
    "    \n",
    "    if not index: #no selection \n",
    "        return hv.DynamicMap({})\n",
    "    return hv.DynamicMap( {(country, city): get_vectile_overlay_from_index(table, i, z)\n",
    "                           for (country, city, _, _) in table.iloc[i].array().flatten()\n",
    "                           for i in tqdm(index)},\n",
    "                         kdims=['country', 'city'],\n",
    "                        )\n",
    "\n",
    "#     for i in tqdm(index):\n",
    "#         lat, lon = latlon_table['lat'][i], latlon_table['lng'][i]\n",
    "#         country, city = latlon_table['country'][i], latlon_table['city'][i]\n",
    "#         overlay.append(get_vectile_overlay_at_latlon(lat,lon,z))\n",
    "#     return hv.Overlay(overlay)"
   ]
  },
  {
   "cell_type": "code",
   "execution_count": null,
   "metadata": {},
   "outputs": [],
   "source": [
    "stream = hv.streams.Selection1D(source=latlon_table)"
   ]
  },
  {
   "cell_type": "code",
   "execution_count": null,
   "metadata": {},
   "outputs": [],
   "source": [
    "stream.contents"
   ]
  },
  {
   "cell_type": "code",
   "execution_count": null,
   "metadata": {},
   "outputs": [],
   "source": [
    "get_vectile_from_index(latlon_table, 1)        \n",
    "    "
   ]
  },
  {
   "cell_type": "code",
   "execution_count": null,
   "metadata": {},
   "outputs": [],
   "source": [
    "out = iw.Output(layout={'border': '1px solid black'})\n",
    "# out.capture(clear_output=True, wait=True)\n",
    "# (\n",
    "#     hv.DynamicMap(get_vectile_overlay_from_index, kdims='index')\n",
    "#     .redim.range(index=(0,len(latlon_table)-1))\n",
    "# ).opts(width=600, height=600)"
   ]
  },
  {
   "cell_type": "code",
   "execution_count": null,
   "metadata": {},
   "outputs": [],
   "source": [
    "out"
   ]
  },
  {
   "cell_type": "markdown",
   "metadata": {},
   "source": [
    "\n",
    "Modified: Jun 8, 2019"
   ]
  },
  {
   "cell_type": "code",
   "execution_count": null,
   "metadata": {},
   "outputs": [],
   "source": [
    "@out.capture(clear_output=True, wait=True)\n",
    "def test_get_vectile_overlay_from_index():\n",
    "#     data = np.array([\n",
    "#         ['Algeria', 'El Bayadh', 33.6904, 1.01],\n",
    "#         ['Argentina', 'San Lorenzo', -28.12, -58.77],\n",
    "#         ['Australia', 'Bicheno', -41.8784, 148.2886],\n",
    "#         ['Australia', 'Carnarvon', -24.8998, 113.6501],\n",
    "#         ['Azerbaijan', 'Agdam', 40.9053, 45.5564],\n",
    "#         ['France', 'Paris', 48.8566101, 2.3514992]\n",
    "#     ], dtype=object) #dtype=object is important. It prevents the floats to be casted as a string\n",
    "# #     table = hv.Table(data, kdims = ['country', 'city', 'lat', 'lon'])  \n",
    "    \n",
    "    table=latlon_table\n",
    "    vectile = get_vectile_overlay_from_index(table, 28, z=15)\n",
    "\n",
    "    display((basemap*vectile).opts(width=500, height=500) + table)\n",
    "test_get_vectile_overlay_from_index()"
   ]
  },
  {
   "cell_type": "markdown",
   "metadata": {},
   "source": [
    "WOOHOO!!!!!! IT WORKS!"
   ]
  },
  {
   "cell_type": "code",
   "execution_count": null,
   "metadata": {},
   "outputs": [],
   "source": [
    "%%opts Shape (alpha=1)\n",
    "@out.capture(clear_output=True, wait=True)\n",
    "def test_get_vectile_overlay_from_index():\n",
    "    data = np.array([\n",
    "        ['Algeria', 'El Bayadh', 33.6904, 1.01],\n",
    "        ['Argentina', 'San Lorenzo', -28.12, -58.77],\n",
    "        ['Australia', 'Bicheno', -41.8784, 148.2886],\n",
    "        ['Australia', 'Carnarvon', -24.8998, 113.6501],\n",
    "        ['Azerbaijan', 'Agdam', 40.9053, 45.5564],\n",
    "        ['France', 'Paris', 48.8566101, 2.3514992],\n",
    "        ['South Korea', 'Jeonju', 35.8242715, 127.1480657 ],\n",
    "        ['United States', 'USC', 4.0254818, -118.284388537815],\n",
    "        ['China', 'Shanghai', 1.2252985, 121.4890497],\n",
    "        ['United States', 'Kansas', 39.115386,-94.608631]\n",
    "    ], dtype=object) #dtype=object is important. It prevents the floats to be casted as a string\n",
    "    table = hv.Table(data, kdims = ['country', 'city', 'lat', 'lon'])    \n",
    "    vectile = get_vectile_from_index(table, -1, z=12)\n",
    "#     display( (basemap * vectile).opts(width=500, height=500) + table)\n",
    "    display( vectile.opts(width=500, height=500) + table)\n",
    "\n",
    "    \n",
    "test_get_vectile_overlay_from_index()"
   ]
  },
  {
   "cell_type": "markdown",
   "metadata": {},
   "source": [
    "## If the Selection1D works...\n",
    "Modified: Jun 8, 2019"
   ]
  },
  {
   "cell_type": "code",
   "execution_count": null,
   "metadata": {},
   "outputs": [],
   "source": [
    "gv.Tiles(url, name=\"VectorTile\")\n"
   ]
  },
  {
   "cell_type": "code",
   "execution_count": null,
   "metadata": {},
   "outputs": [],
   "source": [
    "        self.tile_url = f'https://tile.nextzen.org/tilezen/vector/v1/{self.size}/{self.layer}/{self.z}/{self.xtile}/{self.ytile}.{self.fformat}?api_key=GpjLSbvrQsa98MgMMuodzw'\n"
   ]
  },
  {
   "cell_type": "code",
   "execution_count": null,
   "metadata": {},
   "outputs": [],
   "source": [
    "url = 'https://tile.nextzen.org/tilezen/vector/v1/256/all/{Z}/{X}/{Y}.json?api_key=GpjLSbvrQsa98MgMMuodzw'"
   ]
  },
  {
   "cell_type": "code",
   "execution_count": null,
   "metadata": {},
   "outputs": [],
   "source": [
    "gv.Tiles("
   ]
  },
  {
   "cell_type": "code",
   "execution_count": null,
   "metadata": {},
   "outputs": [],
   "source": []
  },
  {
   "cell_type": "code",
   "execution_count": null,
   "metadata": {},
   "outputs": [],
   "source": [
    "base"
   ]
  },
  {
   "cell_type": "markdown",
   "metadata": {},
   "source": [
    "## Panel Dashboards\n",
    "Modified: Jun 10, 2019\n"
   ]
  },
  {
   "cell_type": "code",
   "execution_count": null,
   "metadata": {},
   "outputs": [],
   "source": [
    "# import param\n",
    "import panel as pn\n",
    "# from holoviews.streams import Params\n",
    "from geoviews.tile_sources import EsriImagery\n",
    "from colorcet import palette"
   ]
  },
  {
   "cell_type": "code",
   "execution_count": null,
   "metadata": {},
   "outputs": [],
   "source": [
    "#dataset: hvd_ea, hvd_sa\n",
    "xr_datasets = {\n",
    "    'EA': xrd_ea,\n",
    "    'SA': xrd_sa\n",
    "}\n",
    "\n",
    "hv_datasets = {\n",
    "    'EA': hvd_ea,\n",
    "    'SA': hvd_sa\n",
    "}\n",
    "april = pd.date_range('2019-04-01', periods=30)\n",
    "\n",
    "# options\n",
    "## datashade option\n"
   ]
  },
  {
   "cell_type": "code",
   "execution_count": null,
   "metadata": {},
   "outputs": [],
   "source": [
    "\n",
    "out_debug = iw.Output(layout={'border': '1px solid black'})\n",
    "out_debug"
   ]
  },
  {
   "cell_type": "code",
   "execution_count": null,
   "metadata": {},
   "outputs": [],
   "source": [
    "@out_debug.capture(clear_output=True)\n",
    "class FLDASExplorer(param.Parameterized):\n",
    "    region = param.ObjectSelector(default =  'Southern Africa',\n",
    "                                  objects=['Eastern Africa', 'Southern Africa', 'all'])\n",
    "    variable = param.ObjectSelector(default='SoilMoi00_10cm_tavg', \n",
    "                                    objects=varnames)\n",
    "    cmap = param.ObjectSelector('fire', objects=['fire','bgy','bgyw','bmy','gray','kbc'])\n",
    "    \n",
    "    dopts = dict(\n",
    "        x_sampling=0.5,\n",
    "        y_sampling=0.5,\n",
    "        width=500,\n",
    "        height=500)\n",
    "    \n",
    "    iopts = dict()\n",
    "    \n",
    "#     @param.depends('region', 'variable')\n",
    "#     def load_data(self):\n",
    "    def make_view(self, **kwargs):\n",
    "        print(self.region, self.variable)\n",
    "\n",
    "        hvd = hvd_ea if self.region == 'Eastern Africa' else hvd_sa\n",
    "        img_dmap = hvd.to(hv.Image, ['X','Y'], self.variable)\n",
    "        \n",
    "\n",
    "        return datashade(img_dmap,\n",
    "                         cmap=self.cmap,\n",
    "                         **dopts)\n",
    "        \n",
    "\n",
    "explorer = FLDASExplorer()\n",
    "dmap = explorer.make_view()\n",
    "display(pn.Row(explorer.param, dmap))"
   ]
  },
  {
   "cell_type": "code",
   "execution_count": null,
   "metadata": {},
   "outputs": [],
   "source": [
    "april = pd.date_range('2019-04-01', periods=30)\n",
    "\n",
    "datashade(hvd_ea.to(hv.Image, ['X','Y'], varname))"
   ]
  },
  {
   "cell_type": "code",
   "execution_count": null,
   "metadata": {},
   "outputs": [],
   "source": [
    "hv.Image.range"
   ]
  },
  {
   "cell_type": "markdown",
   "metadata": {},
   "source": [
    "## FLDASExplorer with panel\n",
    "Modified: Jun 13, 2019"
   ]
  },
  {
   "cell_type": "code",
   "execution_count": null,
   "metadata": {},
   "outputs": [],
   "source": [
    "import datetime as dt\n",
    "\n",
    "class FLDASExplorer(param.Parameterized):\n",
    "    region = param.ObjectSelector(default='EA', objects=['EA', 'SA'])\n",
    "    varname = param.ObjectSelector(default=varnames[0],objects=varnames)\n",
    "    time = param.Date(dt.datetime(2019,4,1), bounds=(dt.datetime(2019, 4, 1), dt.datetime(2019, 4, 30)))\n",
    "    \n",
    "    @param.depends('region', 'varname', 'time')\n",
    "    def view(self):\n",
    "        xrd = xrd_ea if self.region == 'EA' else xrd_sa\n",
    "        img = hv.Image(xrd.sel(time=self.time)[self.varname], ['X','Y'])    \n",
    "\n",
    "    #     datashade returns a hv.DynamicMap which dynamically re-renders this img as we zoom/pan\n",
    "        return datashade(img.opts(**img_opts), cmap=fire, **dopts)\n"
   ]
  },
  {
   "cell_type": "code",
   "execution_count": null,
   "metadata": {},
   "outputs": [],
   "source": [
    "explorer = FLDASExplorer()\n",
    "# img_dmap = hv.DynamicMap(explorer.view)\n",
    "app = pn.Row( explorer.param, explorer.view)"
   ]
  },
  {
   "cell_type": "code",
   "execution_count": null,
   "metadata": {},
   "outputs": [],
   "source": [
    "app.servable()"
   ]
  },
  {
   "cell_type": "code",
   "execution_count": null,
   "metadata": {},
   "outputs": [],
   "source": []
  },
  {
   "cell_type": "code",
   "execution_count": null,
   "metadata": {},
   "outputs": [],
   "source": []
  },
  {
   "cell_type": "code",
   "execution_count": null,
   "metadata": {},
   "outputs": [],
   "source": []
  },
  {
   "cell_type": "code",
   "execution_count": null,
   "metadata": {},
   "outputs": [],
   "source": []
  },
  {
   "cell_type": "code",
   "execution_count": null,
   "metadata": {},
   "outputs": [],
   "source": []
  },
  {
   "cell_type": "code",
   "execution_count": null,
   "metadata": {},
   "outputs": [],
   "source": []
  },
  {
   "cell_type": "code",
   "execution_count": null,
   "metadata": {},
   "outputs": [],
   "source": []
  },
  {
   "cell_type": "markdown",
   "metadata": {},
   "source": [
    "### Generate a varname dropdown box\n",
    "Modified: Jun 3, 2019"
   ]
  },
  {
   "cell_type": "code",
   "execution_count": null,
   "metadata": {},
   "outputs": [],
   "source": [
    "%%opts Image [width=600, height=600]\n",
    "var_tmap = gv.Dataset(xrd_ea, kdims=kdims, vdims=varname, crs=ccrs.PlateCarree()).to(gv.Image, kdims=['X','Y'], vdims=varname)\n",
    "var_tmap.redim(X='Lon', Y='Lat')"
   ]
  },
  {
   "cell_type": "code",
   "execution_count": null,
   "metadata": {},
   "outputs": [],
   "source": [
    "def get_var_tmap(xr_dataset, varname, label=None, cmap=None):\n",
    "    if label is None:\n",
    "        label = varname\n",
    "    tmap = gv.Dataset(xr_dataset, kdims=kdims, vdims=varname).to(gv.Image, kdims=['X','Y'], vdims=varname, label=label).redim(X='Lon', Y='Lat')\n",
    "    print('type of tmap before datashade: ', type(tmap))\n",
    "    print('\\t\\t after datashade: ', type(tmap))\n",
    "    tmap = datashade(tmap, cmap=cmap)\n",
    "    return tmap\n",
    "\n",
    "def get_var_timg(xr_dataset, varname, t_idx, label=None, cmap=None):\n",
    "    if label is None:\n",
    "        label = varname  \n",
    "    timg = gv.Dataset(xr_dataset.isel(time=t_idx), kdims=['X','Y'], vdims=varname).to(gv.Image, kdims=['X','Y'], vdims=varname, label=label).redim(X='Lon', Y='Lat')\n",
    "    print('type of timg before datashade: ', type(timg))\n",
    "    print('\\t\\t after datashade: ', type(timg))\n",
    "    timg = datashade(timg, cmap=cmap)\n",
    "    return timg\n",
    "\n",
    "\n",
    "def test_get_timg():\n",
    "    varname = varnames[1]\n",
    "    t_idx = 1\n",
    "    from matplotlib.cm import viridis\n",
    "\n",
    "    timg = get_var_timg(xrd_ea, varname, t_idx, cmap=viridis)\n",
    "    \n",
    "    print('varname: ', varname, 't_idx: ', t_idx)\n",
    "    display(timg)\n",
    "    "
   ]
  },
  {
   "cell_type": "code",
   "execution_count": null,
   "metadata": {},
   "outputs": [],
   "source": [
    "%%opts Image [width=600, height=600, tools=['hover']]\n",
    "test_get_timg()"
   ]
  },
  {
   "cell_type": "markdown",
   "metadata": {},
   "source": [
    "Let's add a base landscape vector features\n"
   ]
  },
  {
   "cell_type": "code",
   "execution_count": null,
   "metadata": {},
   "outputs": [],
   "source": [
    "# %%opts Image [global_extent=True, height=600, width=600] (alpha=0.7) Image.EA (cmap='kbc') Image.SA (cmap='fire')\n",
    "sq_cmaps = list_cmaps(provider='colorcet', category='Sequential')\n",
    "varname = varnames[1]\n",
    "t_idx = 1\n",
    "timg_ea = get_var_timg(xrd_ea, varname, t_idx, label='EA', cmap=c_cm.kbc)\n",
    "timg_sa = get_var_timg(xrd_sa, varname, t_idx, label='SA', cmap=c_cm.fire)\n",
    "\n"
   ]
  },
  {
   "cell_type": "code",
   "execution_count": null,
   "metadata": {},
   "outputs": [],
   "source": [
    "overlay = timg_ea + timg_sa\n",
    "print(overlay)"
   ]
  },
  {
   "cell_type": "code",
   "execution_count": null,
   "metadata": {},
   "outputs": [],
   "source": [
    "# Let's see the current plot.state of timg_ea andn timg_sa\n",
    "plot_ea = renderer.get_plot(timg_ea)\n",
    "plot_sa = renderer.get_plot(timg_sa)"
   ]
  },
  {
   "cell_type": "code",
   "execution_count": null,
   "metadata": {},
   "outputs": [],
   "source": [
    "def print_plot_state(hvElem, renderer):\n",
    "    plot = renderer.get_plot(hvElem)\n",
    "    print(\"Plot state: \")\n",
    "    plot.print_param_values()\n",
    "    \n",
    "def print_param_state(hvElem):\n",
    "    print(\"param values: \")\n",
    "    hvElem.print_param_values()\n",
    "    \n",
    "def print_all_states(hvElem, renderer):\n",
    "    print(\"=\"*80)\n",
    "    print_param_state(hvElem)\n",
    "    \n",
    "    print(\"=\"*80)\n",
    "    print_plot_state(hvElem, renderer)\n",
    "    \n",
    "def test_print_param_state():\n",
    "    print_param_state(timg_sa)\n",
    "def test_print_plot_state():\n",
    "    print_plot_state( timg_sa, renderer)\n",
    "def test_print_all_states():\n",
    "    print_all_states(timg_sa, renderer)   \n",
    "    \n",
    "# test_print_param_state()\n",
    "# test_print_plot_state()\n",
    "# test_print_all_states()\n"
   ]
  },
  {
   "cell_type": "code",
   "execution_count": null,
   "metadata": {},
   "outputs": [],
   "source": [
    "tmap_ea = get_var_tmap(xrd_ea, varname, label='EA', cmap=c_cm.kbc)\n",
    "tmap_sa = get_var_tmap(xrd_sa, varname, label='SA', cmap=c_cm.fire)"
   ]
  },
  {
   "cell_type": "code",
   "execution_count": null,
   "metadata": {},
   "outputs": [],
   "source": [
    "%%opts RGB [global_extent=False, height=500, width=500, tools=['hover']] (alpha=0.7) \n",
    "temp = (tmap_ea + tmap_sa).opts(width=500, height=500)\n",
    "temp\n"
   ]
  },
  {
   "cell_type": "code",
   "execution_count": null,
   "metadata": {},
   "outputs": [],
   "source": [
    "# Get tiles\n",
    "tile = gvts.EsriImagery"
   ]
  },
  {
   "cell_type": "code",
   "execution_count": null,
   "metadata": {},
   "outputs": [],
   "source": [
    "%%opts RGB [global_extent=False, height=H_IMG, width=W_IMG, tools=['hover']] (alpha=0.7) \n",
    "tile * tmap_ea * tmap_sa * gf.coastline"
   ]
  },
  {
   "cell_type": "markdown",
   "metadata": {},
   "source": [
    "---\n",
    "## TODO: \n",
    "Modified: Jun 4, 2019\n",
    "- [ ] add latlon PointXY stream -> plot across time for this particular variable\n",
    "- [ ] datashader statistics on a selected region by adding an extra layer on top of this:)\n",
    "- [ ] Work with osm and spacenet dataset"
   ]
  },
  {
   "cell_type": "code",
   "execution_count": null,
   "metadata": {},
   "outputs": [],
   "source": [
    "lon,lat = (22.35, -11.45)\n",
    "pt = gv.Points([ (lon,lat) ], ['X', 'Y'])\n",
    "LonLat = Stream.define('LonLat', X=22.35, Y=-11.45)\n",
    "\n",
    "pt_stream = LonLat()\n",
    "print(pt_stream.X, pt_stream.Y)"
   ]
  },
  {
   "cell_type": "code",
   "execution_count": null,
   "metadata": {},
   "outputs": [],
   "source": [
    "tmap_ea * pt.opts(size=10, color='r')"
   ]
  },
  {
   "cell_type": "code",
   "execution_count": null,
   "metadata": {},
   "outputs": [],
   "source": [
    "# PointerXY, a Linked Stream, to get a 2D dataview across Lat or Lon at the specific location and time\n",
    "# We can explicitly add a source to the stream by passing the source object (eg. holompas, image) as an \n",
    "# argument to 'source' at the construction time of the Linked Stream object\n",
    "pointer = streams.PointerXY(source=tmap_ea)\n",
    "print(pointer.source is tmap_ea)"
   ]
  },
  {
   "cell_type": "code",
   "execution_count": null,
   "metadata": {},
   "outputs": [],
   "source": [
    "# Let's see if it works\n",
    "hv.DynamicMap(lambda x,y: hv.Points([(x,y)]).opts(size=10, framewise=True), streams=[pointer])"
   ]
  },
  {
   "cell_type": "markdown",
   "metadata": {},
   "source": [
    "Awesome!\n"
   ]
  },
  {
   "cell_type": "markdown",
   "metadata": {},
   "source": [
    "We can add the pointer stream to its original plot source (ie. `tmap_ea`)\n",
    "def tmap_and_pointer("
   ]
  },
  {
   "cell_type": "code",
   "execution_count": null,
   "metadata": {},
   "outputs": [],
   "source": [
    "tmap_ea.redim.values(time=pd.date_range('2019-04-13', '2019-04-20'))"
   ]
  },
  {
   "cell_type": "code",
   "execution_count": null,
   "metadata": {},
   "outputs": [],
   "source": [
    "hv.Dataset(xrd_ea.sel(X=lon, Y=lat, method='nearest'), 'time')"
   ]
  },
  {
   "cell_type": "code",
   "execution_count": null,
   "metadata": {},
   "outputs": [],
   "source": [
    "def get_tseries_at_lon_lat(lon, lat):\n",
    "    return (\n",
    "        hv.Curve(xrd_ea.sel(X=lon, Y=lat, method='nearest'), 'time', varname)\n",
    "        .relabel(f'Lon: {lon}, Lat: {lat}')\n",
    "        .opts(width=1000, framewise=True)\n",
    "    )\n"
   ]
  },
  {
   "cell_type": "code",
   "execution_count": null,
   "metadata": {},
   "outputs": [],
   "source": [
    "def test_get_tseries_at_lon_lat():\n",
    "    lon, lat = 35, -5\n",
    "    display(get_tseries_at_lon_lat(lon, lat))\n",
    "test_get_tseries_at_lon_lat()"
   ]
  },
  {
   "cell_type": "code",
   "execution_count": null,
   "metadata": {},
   "outputs": [],
   "source": [
    "dmap = hv.DynamicMap(get_tseries_at_lon_lat, streams = [pointer.rename(x='lon', y='lat')])"
   ]
  },
  {
   "cell_type": "code",
   "execution_count": null,
   "metadata": {},
   "outputs": [],
   "source": [
    "dmap.streams[0].source is pointer.source\n"
   ]
  },
  {
   "cell_type": "code",
   "execution_count": null,
   "metadata": {},
   "outputs": [],
   "source": [
    "tmap_sa"
   ]
  },
  {
   "cell_type": "code",
   "execution_count": null,
   "metadata": {},
   "outputs": [],
   "source": [
    "tmap_ea + dmap.opts(xticks=30)"
   ]
  },
  {
   "cell_type": "markdown",
   "metadata": {},
   "source": [
    "The timeseries at a specific lat,lon is working! nice:)"
   ]
  },
  {
   "cell_type": "markdown",
   "metadata": {},
   "source": [
    "## Basemap + EA, SA variable data + timeseries at lon/lat \n",
    "Modified: Jun 6, 2019\n",
    "\n",
    "Let's put these together. Then we will \n",
    "- [ ] add another interactivity to select an area on the timage map and compute some meaning statistics on that region \n",
    "    - [ ] Use datashader's functionality here?\n",
    "    \n",
    "- [ ] take a look at the osm vector tile data (on the 2D space) \n",
    "- [ ] compute infrastructure distribution of \n",
    "    - [ ] the entire area\n",
    "    - [ ] selected area\n",
    "    \n",
    "---\n",
    "## Extra todos:\n",
    "Modified: Jun 7, 2019\n",
    "- [ ] if any of the coordinate of the pointer stream is out of bound, all tseries values should be zeros\n",
    "\n",
    " "
   ]
  },
  {
   "cell_type": "markdown",
   "metadata": {},
   "source": [
    "1. Putting things together"
   ]
  },
  {
   "cell_type": "code",
   "execution_count": null,
   "metadata": {},
   "outputs": [],
   "source": [
    "(\n",
    "    (tile * tmap_ea).opts(width=1000,height=700) + \\\n",
    "    dmap.opts(xticks=30)\n",
    ").cols(1)"
   ]
  },
  {
   "cell_type": "code",
   "execution_count": null,
   "metadata": {},
   "outputs": [],
   "source": [
    "    "
   ]
  },
  {
   "cell_type": "code",
   "execution_count": null,
   "metadata": {},
   "outputs": [],
   "source": []
  },
  {
   "cell_type": "code",
   "execution_count": null,
   "metadata": {},
   "outputs": [],
   "source": []
  },
  {
   "cell_type": "code",
   "execution_count": null,
   "metadata": {},
   "outputs": [],
   "source": []
  },
  {
   "cell_type": "code",
   "execution_count": null,
   "metadata": {},
   "outputs": [],
   "source": []
  },
  {
   "cell_type": "code",
   "execution_count": null,
   "metadata": {},
   "outputs": [],
   "source": []
  },
  {
   "cell_type": "code",
   "execution_count": null,
   "metadata": {},
   "outputs": [],
   "source": []
  },
  {
   "cell_type": "code",
   "execution_count": null,
   "metadata": {},
   "outputs": [],
   "source": []
  },
  {
   "cell_type": "code",
   "execution_count": null,
   "metadata": {},
   "outputs": [],
   "source": []
  },
  {
   "cell_type": "code",
   "execution_count": null,
   "metadata": {},
   "outputs": [],
   "source": []
  },
  {
   "cell_type": "code",
   "execution_count": null,
   "metadata": {},
   "outputs": [],
   "source": []
  },
  {
   "cell_type": "code",
   "execution_count": null,
   "metadata": {},
   "outputs": [],
   "source": []
  },
  {
   "cell_type": "code",
   "execution_count": null,
   "metadata": {},
   "outputs": [],
   "source": []
  },
  {
   "cell_type": "code",
   "execution_count": null,
   "metadata": {},
   "outputs": [],
   "source": []
  },
  {
   "cell_type": "code",
   "execution_count": null,
   "metadata": {},
   "outputs": [],
   "source": []
  },
  {
   "cell_type": "code",
   "execution_count": null,
   "metadata": {},
   "outputs": [],
   "source": []
  },
  {
   "cell_type": "code",
   "execution_count": null,
   "metadata": {},
   "outputs": [],
   "source": [
    "def get_tseries(xrd, varname, lon,lat):\n",
    "    tseries = xrd[varname].sel(X=lon, Y=lat, method='nearest')\n",
    "    return gv.Dataset(tseries, 'time', varname).to(hv.Curve)\n"
   ]
  },
  {
   "cell_type": "code",
   "execution_count": null,
   "metadata": {},
   "outputs": [],
   "source": [
    "renamed_stream = LonLat().rename(X='lon', Y='lat')\n",
    "# dmap_tseries = hv.DynamicMap(get_tseries, streams=[pt_stream.rename(X='lon', Y='lat')])\n",
    "dmap_tseries = hv.DynamicMap(lambda lon,lat: get_tseries(xrd_ea, varnames[1], lon, lat), \n",
    "                            streams=[renamed_stream])"
   ]
  },
  {
   "cell_type": "code",
   "execution_count": null,
   "metadata": {},
   "outputs": [],
   "source": [
    "dmap_tseries.opts(width=800, height=500)"
   ]
  },
  {
   "cell_type": "code",
   "execution_count": null,
   "metadata": {},
   "outputs": [],
   "source": [
    "lons, lats, times = map(np.array, ds_ea[varname].coords.values())"
   ]
  },
  {
   "cell_type": "code",
   "execution_count": null,
   "metadata": {},
   "outputs": [],
   "source": [
    "\n",
    "for i,(lon,lat) in enumerate(zip(lons[::10],lats[::10])):\n",
    "    if i>9:\n",
    "        break\n",
    "    print(i, \"lon,lat: \", lon,lat)\n",
    "    dmap_tseries.event(lon=lon, lat=lat)\n",
    "    time.sleep(3)\n",
    "    \n",
    "        "
   ]
  },
  {
   "cell_type": "code",
   "execution_count": null,
   "metadata": {},
   "outputs": [],
   "source": [
    "dmap_tseries"
   ]
  },
  {
   "cell_type": "code",
   "execution_count": null,
   "metadata": {},
   "outputs": [],
   "source": [
    "\n",
    "for i,(lon,lat) in enumerate(zip(lons[::10],lats[::10])):\n",
    "    if i>5:\n",
    "        break\n",
    "    print(i, \"lon,lat: \", lon,lat)\n",
    "    dmap_tseries.event(lon=lon, lat=lat)\n",
    "    time.sleep(1)\n",
    "    "
   ]
  },
  {
   "cell_type": "code",
   "execution_count": null,
   "metadata": {},
   "outputs": [],
   "source": [
    "dmap_tseries.opts(width=1000,height=300,framewise=True)"
   ]
  },
  {
   "cell_type": "markdown",
   "metadata": {},
   "source": [
    "---\n",
    "## Vector Tile Sources\n",
    "Modified: Jun 5, 2019"
   ]
  },
  {
   "cell_type": "code",
   "execution_count": null,
   "metadata": {},
   "outputs": [],
   "source": [
    "tile_url ='https://tile.nextzen.org/tilezen/vector/v1/512/all/16/19293/24641.json?api_key=GpjLSbvrQsa98MgMMuodzw'\n",
    "gv.Tiles(tile_url, name=\"vector_tile\").opts(width=600, height=550)\n"
   ]
  },
  {
   "cell_type": "code",
   "execution_count": null,
   "metadata": {},
   "outputs": [],
   "source": [
    "import requests"
   ]
  },
  {
   "cell_type": "code",
   "execution_count": null,
   "metadata": {},
   "outputs": [],
   "source": [
    "%%time\n",
    "r = requests.get(url=tile_url)"
   ]
  },
  {
   "cell_type": "code",
   "execution_count": null,
   "metadata": {},
   "outputs": [],
   "source": [
    "data = r.json()"
   ]
  },
  {
   "cell_type": "code",
   "execution_count": null,
   "metadata": {},
   "outputs": [],
   "source": [
    "import json\n",
    "with open('./temp.geojson', 'w') as f:\n",
    "    json.dump(data,f)"
   ]
  },
  {
   "cell_type": "code",
   "execution_count": null,
   "metadata": {},
   "outputs": [],
   "source": [
    "gdf2 = gpd.read_file('./temp.geojson')\n",
    "gdf2.head()"
   ]
  },
  {
   "cell_type": "code",
   "execution_count": null,
   "metadata": {},
   "outputs": [],
   "source": [
    "test_get_vectile_overlay_at_latlon()"
   ]
  },
  {
   "cell_type": "code",
   "execution_count": null,
   "metadata": {},
   "outputs": [],
   "source": [
    "lat, lon = (-10, 30)\n",
    "z=16\n",
    "display(get_vectile_overlay_at_latlon(lat, lon, z))"
   ]
  },
  {
   "cell_type": "code",
   "execution_count": null,
   "metadata": {},
   "outputs": [],
   "source": [
    "VectorTile.deg2tile_xy(lat,lon,z)"
   ]
  },
  {
   "cell_type": "code",
   "execution_count": null,
   "metadata": {},
   "outputs": [],
   "source": [
    "VectorTile.tile_xyz2deg(19293, 24641, 16)"
   ]
  },
  {
   "cell_type": "code",
   "execution_count": null,
   "metadata": {},
   "outputs": [],
   "source": [
    "vectile = hv.NdOverlay({i:gv.Shape(geom) for i,geom in enumerate(gdf2.geometry)})"
   ]
  },
  {
   "cell_type": "code",
   "execution_count": null,
   "metadata": {},
   "outputs": [],
   "source": [
    "vectile"
   ]
  },
  {
   "cell_type": "code",
   "execution_count": null,
   "metadata": {},
   "outputs": [],
   "source": [
    "f"
   ]
  },
  {
   "cell_type": "code",
   "execution_count": null,
   "metadata": {},
   "outputs": [],
   "source": []
  },
  {
   "cell_type": "code",
   "execution_count": null,
   "metadata": {},
   "outputs": [],
   "source": []
  },
  {
   "cell_type": "code",
   "execution_count": null,
   "metadata": {},
   "outputs": [],
   "source": []
  },
  {
   "cell_type": "code",
   "execution_count": null,
   "metadata": {},
   "outputs": [],
   "source": []
  },
  {
   "cell_type": "code",
   "execution_count": null,
   "metadata": {},
   "outputs": [],
   "source": []
  },
  {
   "cell_type": "code",
   "execution_count": null,
   "metadata": {},
   "outputs": [],
   "source": []
  },
  {
   "cell_type": "code",
   "execution_count": null,
   "metadata": {},
   "outputs": [],
   "source": []
  },
  {
   "cell_type": "code",
   "execution_count": null,
   "metadata": {},
   "outputs": [],
   "source": []
  },
  {
   "cell_type": "code",
   "execution_count": null,
   "metadata": {},
   "outputs": [],
   "source": []
  },
  {
   "cell_type": "code",
   "execution_count": null,
   "metadata": {},
   "outputs": [],
   "source": []
  },
  {
   "cell_type": "code",
   "execution_count": null,
   "metadata": {},
   "outputs": [],
   "source": []
  },
  {
   "cell_type": "code",
   "execution_count": null,
   "metadata": {},
   "outputs": [],
   "source": []
  },
  {
   "cell_type": "code",
   "execution_count": null,
   "metadata": {},
   "outputs": [],
   "source": []
  },
  {
   "cell_type": "markdown",
   "metadata": {},
   "source": [
    "Let's get a better vector features with national boundaries. `geoviews.features` is a warpper of `cartopy.crs.feature` which supports easy feature collection downloading from `Natural Earth Data`.\n",
    "    - [link](https://is.gd/jmmPRV)\n"
   ]
  },
  {
   "cell_type": "code",
   "execution_count": null,
   "metadata": {},
   "outputs": [],
   "source": [
    "gf_land_110 = gv.Feature(cf.NaturalEarthFeature('cultural', 'admin_0_boundary_lines_land', '110m'))\n",
    "\n",
    "# nice bboxfinder\n",
    "# https://is.gd/L163zr\n",
    "extents = (-32.343750,-43.580391,69.257813,47.279229)\n",
    "xlim = (extents[0], extents[2])\n",
    "ylim = (extents[1], extents[3])\n",
    "\n",
    "# reset the extent for visualization only\n",
    "# gf_land_110.extents =  extents\n",
    "# gf_land_110"
   ]
  },
  {
   "cell_type": "code",
   "execution_count": null,
   "metadata": {},
   "outputs": [],
   "source": [
    "timg_ea.bounds"
   ]
  },
  {
   "cell_type": "code",
   "execution_count": null,
   "metadata": {},
   "outputs": [],
   "source": [
    "gf_land_110.extents"
   ]
  },
  {
   "cell_type": "code",
   "execution_count": null,
   "metadata": {},
   "outputs": [],
   "source": [
    "%%opts Feature [global_extent=False]\n",
    "gf_land_110"
   ]
  },
  {
   "cell_type": "code",
   "execution_count": null,
   "metadata": {},
   "outputs": [],
   "source": [
    "%%opts WMTS [global_extent=True, height=500, width=500] Image [height=500, width=500] (alpha=0.7) Image.EA (cmap='kbc') Image.SA (cmap='fire')\n",
    "# gvts.OSM * timg_ea\n",
    "gvts.EsriNatGeo * timg_ea\n",
    "# timg_ea \n",
    "\n"
   ]
  },
  {
   "cell_type": "code",
   "execution_count": null,
   "metadata": {},
   "outputs": [],
   "source": [
    "gvts.OSM"
   ]
  },
  {
   "cell_type": "code",
   "execution_count": null,
   "metadata": {},
   "outputs": [],
   "source": []
  },
  {
   "cell_type": "code",
   "execution_count": null,
   "metadata": {},
   "outputs": [],
   "source": []
  },
  {
   "cell_type": "code",
   "execution_count": null,
   "metadata": {},
   "outputs": [],
   "source": []
  },
  {
   "cell_type": "code",
   "execution_count": null,
   "metadata": {},
   "outputs": [],
   "source": []
  },
  {
   "cell_type": "code",
   "execution_count": null,
   "metadata": {},
   "outputs": [],
   "source": [
    "%%opts  Image [ height=600, width=600] (alpha=0.7) Image.EA (cmap='kbc') Image.SA (cmap='fire')\n",
    "\n",
    "# gf_land_110 * timg_ea"
   ]
  },
  {
   "cell_type": "code",
   "execution_count": null,
   "metadata": {},
   "outputs": [],
   "source": [
    "gf_land_110.extents=tuple([None for i in range(4)])"
   ]
  },
  {
   "cell_type": "code",
   "execution_count": null,
   "metadata": {},
   "outputs": [],
   "source": [
    "gf_land_110"
   ]
  },
  {
   "cell_type": "code",
   "execution_count": null,
   "metadata": {},
   "outputs": [],
   "source": []
  },
  {
   "cell_type": "code",
   "execution_count": null,
   "metadata": {},
   "outputs": [],
   "source": []
  },
  {
   "cell_type": "code",
   "execution_count": null,
   "metadata": {},
   "outputs": [],
   "source": []
  },
  {
   "cell_type": "code",
   "execution_count": null,
   "metadata": {},
   "outputs": [],
   "source": [
    "timg_ea.opts(opts.Image(xlim=xlim, ylim=ylim))"
   ]
  },
  {
   "cell_type": "code",
   "execution_count": null,
   "metadata": {},
   "outputs": [],
   "source": [
    "(timg_ea * timg_sa * gf_land_110)\n"
   ]
  },
  {
   "cell_type": "code",
   "execution_count": null,
   "metadata": {},
   "outputs": [],
   "source": [
    "\n",
    "\n",
    "# ( \n",
    "#     (timg_ea * gf_land_110) + \\\n",
    "#     (timg_sa * gf_land_110) + \\\n",
    "#     (timg_ea * timg_sa * gf_land_110)\n",
    "# ).cols(1)"
   ]
  },
  {
   "cell_type": "code",
   "execution_count": null,
   "metadata": {},
   "outputs": [],
   "source": [
    "%%opts Feature [global_extent=True, height=600, width=1200] Points [global_extent=True] (size=10)\n",
    "# WMTS [projection=ccrs.Geostationary()] Image [projection=ccrs.Geostationary()]\n",
    "lon, lat = 40.0, 8.0\n",
    "pt = gv.Points([(lon,lat)], crs=ccrs.PlateCarree())\n",
    "(gf.land * pt)"
   ]
  },
  {
   "cell_type": "markdown",
   "metadata": {},
   "source": [
    "---\n",
    "## Load vector data using geopandas interface\n",
    "Modified: Jun 4, 2019"
   ]
  },
  {
   "cell_type": "code",
   "execution_count": null,
   "metadata": {},
   "outputs": [],
   "source": [
    "fpath = '../assets/cities.csv'\n",
    "gdf = gpd.read_file(fpath)\n",
    "gdf.head()"
   ]
  },
  {
   "cell_type": "code",
   "execution_count": null,
   "metadata": {},
   "outputs": [],
   "source": []
  },
  {
   "cell_type": "code",
   "execution_count": null,
   "metadata": {},
   "outputs": [],
   "source": []
  },
  {
   "cell_type": "code",
   "execution_count": null,
   "metadata": {},
   "outputs": [],
   "source": []
  },
  {
   "cell_type": "code",
   "execution_count": null,
   "metadata": {},
   "outputs": [],
   "source": []
  },
  {
   "cell_type": "code",
   "execution_count": null,
   "metadata": {},
   "outputs": [],
   "source": []
  },
  {
   "cell_type": "code",
   "execution_count": null,
   "metadata": {},
   "outputs": [],
   "source": []
  },
  {
   "cell_type": "code",
   "execution_count": null,
   "metadata": {},
   "outputs": [],
   "source": []
  },
  {
   "cell_type": "code",
   "execution_count": null,
   "metadata": {},
   "outputs": [],
   "source": []
  },
  {
   "cell_type": "code",
   "execution_count": null,
   "metadata": {},
   "outputs": [],
   "source": []
  },
  {
   "cell_type": "code",
   "execution_count": null,
   "metadata": {},
   "outputs": [],
   "source": []
  },
  {
   "cell_type": "code",
   "execution_count": null,
   "metadata": {},
   "outputs": [],
   "source": []
  },
  {
   "cell_type": "code",
   "execution_count": null,
   "metadata": {},
   "outputs": [],
   "source": []
  },
  {
   "cell_type": "markdown",
   "metadata": {},
   "source": [
    "---\n",
    "## Load dataset using intake"
   ]
  },
  {
   "cell_type": "code",
   "execution_count": null,
   "metadata": {},
   "outputs": [],
   "source": [
    "cat = intake.open_catalog('./fldas_catalog.yml')\n",
    "list(cat)"
   ]
  },
  {
   "cell_type": "code",
   "execution_count": null,
   "metadata": {},
   "outputs": [],
   "source": [
    "ds_ea1 = cat.fldas_noah01_a_regional_daily_single(region='EA', day=2)\n",
    "xr_ea1 = ds_ea1.to_dask()"
   ]
  },
  {
   "cell_type": "code",
   "execution_count": null,
   "metadata": {},
   "outputs": [],
   "source": [
    "xr_ea1"
   ]
  },
  {
   "cell_type": "code",
   "execution_count": null,
   "metadata": {},
   "outputs": [],
   "source": [
    "ds_ea = cat.fldas_noah01_a_regional_daily_all(region='EA')\n",
    "ds_sa = cat.fldas_noah01_a_regional_daily_all(region='SA')"
   ]
  },
  {
   "cell_type": "code",
   "execution_count": null,
   "metadata": {},
   "outputs": [],
   "source": [
    "%%time\n",
    "ea = ds_ea.read()"
   ]
  },
  {
   "cell_type": "code",
   "execution_count": null,
   "metadata": {},
   "outputs": [],
   "source": [
    "%%time\n",
    "sa = ds_sa.read()"
   ]
  },
  {
   "cell_type": "code",
   "execution_count": null,
   "metadata": {},
   "outputs": [],
   "source": [
    "ea = ea.drop_dims('bnds')\n",
    "sa = sa.drop_dims('bnds')"
   ]
  },
  {
   "cell_type": "code",
   "execution_count": null,
   "metadata": {},
   "outputs": [],
   "source": [
    "ea\n"
   ]
  },
  {
   "cell_type": "code",
   "execution_count": null,
   "metadata": {},
   "outputs": [],
   "source": [
    "kdims = ['X', 'Y', 'time']\n",
    "varnames = list(ea.data_vars.keys())\n",
    "print(varnames)\n",
    "\n"
   ]
  },
  {
   "cell_type": "code",
   "execution_count": null,
   "metadata": {},
   "outputs": [],
   "source": [
    "hvd_ea = hv.Dataset(ea, kdims=kdims)\n",
    "hvd_sa = hv.Dataset(sa, kdims=kdims)\n",
    "# print(hvd_ea)"
   ]
  },
  {
   "cell_type": "code",
   "execution_count": null,
   "metadata": {},
   "outputs": [],
   "source": [
    "def get_hvm_var(xr_dset, varname):\n",
    "    \n",
    "    hvd_var = hv.Dataset(xr_dset[varname], kdims=kdims)\n",
    "    hvd_var.to(gv.Image, ['X','Y'], dynamic=True)\n",
    "    \n",
    "get_hvm_var(hvd_sa, varnames[2])"
   ]
  },
  {
   "cell_type": "code",
   "execution_count": null,
   "metadata": {},
   "outputs": [],
   "source": [
    "def get_varimg(xrd, varname, t):\n",
    "    hvd = hv.Dataset(xrd[varname].isel(time=t), kdims=['X','Y'])\n",
    "    return hvd.to(gv.Image, kdims=['X','Y'], vdims=varname)\n",
    "\n",
    "varname = varnames[3]\n",
    "t = 19\n",
    "img0 = get_varimg(ea, varname, t)"
   ]
  },
  {
   "cell_type": "code",
   "execution_count": null,
   "metadata": {},
   "outputs": [],
   "source": [
    "dmap = hv.DynamicMap(lambda varname, t: get_varimg(ea, varname, t),\n",
    "            kdims=['varname', 't'])\n",
    "              "
   ]
  },
  {
   "cell_type": "code",
   "execution_count": null,
   "metadata": {},
   "outputs": [],
   "source": [
    "dmap[varnames[-1,1]"
   ]
  },
  {
   "cell_type": "code",
   "execution_count": null,
   "metadata": {},
   "outputs": [],
   "source": [
    "varname = varnames[1]\n",
    "hv.Dataset(ea[varname], kdims=['X','Y','time']).to(gv.Image, ['X','Y'], dynamic=True)"
   ]
  },
  {
   "cell_type": "markdown",
   "metadata": {},
   "source": [
    "## Playground\n",
    "Modified: Jun 13, 2019"
   ]
  },
  {
   "cell_type": "code",
   "execution_count": null,
   "metadata": {},
   "outputs": [],
   "source": [
    "timg_ea"
   ]
  },
  {
   "cell_type": "code",
   "execution_count": null,
   "metadata": {},
   "outputs": [],
   "source": []
  },
  {
   "cell_type": "code",
   "execution_count": null,
   "metadata": {},
   "outputs": [],
   "source": []
  },
  {
   "cell_type": "code",
   "execution_count": null,
   "metadata": {},
   "outputs": [],
   "source": []
  },
  {
   "cell_type": "code",
   "execution_count": null,
   "metadata": {},
   "outputs": [],
   "source": []
  },
  {
   "cell_type": "code",
   "execution_count": null,
   "metadata": {},
   "outputs": [],
   "source": []
  },
  {
   "cell_type": "code",
   "execution_count": null,
   "metadata": {},
   "outputs": [],
   "source": []
  },
  {
   "cell_type": "code",
   "execution_count": null,
   "metadata": {},
   "outputs": [],
   "source": []
  },
  {
   "cell_type": "code",
   "execution_count": null,
   "metadata": {},
   "outputs": [],
   "source": []
  },
  {
   "cell_type": "code",
   "execution_count": null,
   "metadata": {},
   "outputs": [],
   "source": []
  },
  {
   "cell_type": "code",
   "execution_count": null,
   "metadata": {},
   "outputs": [],
   "source": [
    "tile = gv.tile_sources.EsriImagery\n",
    "tile"
   ]
  },
  {
   "cell_type": "code",
   "execution_count": null,
   "metadata": {},
   "outputs": [],
   "source": [
    "%%opts Overlay [global_extent=True, width=600, height=600]\n",
    "gf.coastline * img0"
   ]
  },
  {
   "cell_type": "code",
   "execution_count": null,
   "metadata": {},
   "outputs": [],
   "source": [
    "img0"
   ]
  },
  {
   "cell_type": "code",
   "execution_count": null,
   "metadata": {},
   "outputs": [],
   "source": []
  },
  {
   "cell_type": "code",
   "execution_count": null,
   "metadata": {},
   "outputs": [],
   "source": []
  },
  {
   "cell_type": "code",
   "execution_count": null,
   "metadata": {},
   "outputs": [],
   "source": []
  },
  {
   "cell_type": "code",
   "execution_count": null,
   "metadata": {},
   "outputs": [],
   "source": []
  },
  {
   "cell_type": "code",
   "execution_count": null,
   "metadata": {},
   "outputs": [],
   "source": []
  },
  {
   "cell_type": "code",
   "execution_count": null,
   "metadata": {},
   "outputs": [],
   "source": []
  },
  {
   "cell_type": "code",
   "execution_count": null,
   "metadata": {},
   "outputs": [],
   "source": []
  },
  {
   "cell_type": "code",
   "execution_count": null,
   "metadata": {},
   "outputs": [],
   "source": []
  }
 ],
 "metadata": {
  "kernelspec": {
   "display_name": "Python [conda env:earthml]",
   "language": "python",
   "name": "conda-env-earthml-py"
  },
  "language_info": {
   "codemirror_mode": {
    "name": "ipython",
    "version": 3
   },
   "file_extension": ".py",
   "mimetype": "text/x-python",
   "name": "python",
   "nbconvert_exporter": "python",
   "pygments_lexer": "ipython3",
   "version": "3.7.1"
  }
 },
 "nbformat": 4,
 "nbformat_minor": 2
}
