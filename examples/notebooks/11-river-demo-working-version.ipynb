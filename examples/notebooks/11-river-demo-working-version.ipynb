{
 "cells": [
  {
   "cell_type": "code",
   "execution_count": null,
   "metadata": {
    "Collapsed": "false"
   },
   "outputs": [],
   "source": []
  },
  {
   "cell_type": "markdown",
   "metadata": {
    "Collapsed": "false"
   },
   "source": [
    "# FLDAS Explorer Dashboard\n",
    "Modified: Jun 13, 2019"
   ]
  },
  {
   "cell_type": "code",
   "execution_count": null,
   "metadata": {
    "Collapsed": "false"
   },
   "outputs": [],
   "source": [
    "%load_ext autoreload\n",
    "%autoreload 2\n",
    "\n",
    "import os, sys, time\n",
    "import datetime as dt\n",
    "import numpy as np, scipy as sp, pandas as pd, geopandas as gpd\n",
    "import intake,param\n",
    "    \n",
    "from pathlib import Path\n",
    "from pprint import pprint as pp\n",
    "p = print \n",
    "\n",
    "import joblib\n",
    "import pdb\n",
    "\n",
    "from tqdm import tqdm, trange\n",
    "import ipywidgets as iw\n",
    "\n",
    "import matplotlib.pyplot as plt\n",
    "%matplotlib inline\n",
    "\n",
    "# ignore warnings\n",
    "import warnings\n",
    "if not sys.warnoptions:\n",
    "    warnings.simplefilter('ignore')\n",
    "    \n",
    "# Don't generate bytecode\n",
    "sys.dont_write_bytecode = True\n"
   ]
  },
  {
   "cell_type": "code",
   "execution_count": null,
   "metadata": {
    "Collapsed": "false"
   },
   "outputs": [],
   "source": [
    "import holoviews as hv\n",
    "import xarray as xr\n",
    "import xarray.ufuncs as xu\n",
    "\n",
    "from holoviews import opts, dim\n",
    "from holoviews.operation.datashader import datashade, shade, dynspread, rasterize\n",
    "from holoviews.streams import Stream, param, Tap, Selection1D, PointerXY, RangeXY\n",
    "from holoviews import streams\n",
    "import geoviews as gv\n",
    "import geoviews.feature as gf\n",
    "from geoviews import tile_sources as gvts\n",
    "\n",
    "import geopandas as gpd\n",
    "import cartopy.crs as ccrs\n",
    "import cartopy.feature as cf\n",
    "\n",
    "hv.notebook_extension('bokeh')\n",
    "hv.Dimension.type_formatters[np.datetime64] = '%Y-%m-%d'\n",
    "\n",
    "import panel as pn\n",
    "pn.extension()"
   ]
  },
  {
   "cell_type": "code",
   "execution_count": null,
   "metadata": {
    "Collapsed": "false"
   },
   "outputs": [],
   "source": [
    "# SP_ROOT = Path.home()/'Playground/Semantic_Road/'\n",
    "# SP_UTILS = SP_ROOT/'scripts'\n",
    "\n",
    "# # Add the utils directorys to the search path\n",
    "CURR_UTILS = Path('../utils').absolute()\n",
    "\n",
    "DIRS2ADD = [CURR_UTILS]#, SP_UTILS]\n",
    "for UTILS_DIR in DIRS2ADD:\n",
    "    assert UTILS_DIR.exists()\n",
    "    if str(UTILS_DIR) not in sys.path:\n",
    "        sys.path.insert(0, str(UTILS_DIR))\n",
    "        print(f\"Added {str(UTILS_DIR)} to sys.path\")"
   ]
  },
  {
   "cell_type": "code",
   "execution_count": null,
   "metadata": {
    "Collapsed": "false"
   },
   "outputs": [],
   "source": [
    "# Grab registered bokeh renderer\n",
    "print(\"Currently available renderers: \", *hv.Store.renderers.keys())\n",
    "renderer = hv.renderer('bokeh')"
   ]
  },
  {
   "cell_type": "code",
   "execution_count": null,
   "metadata": {
    "Collapsed": "false"
   },
   "outputs": [],
   "source": [
    "Path.ls = lambda x: [o.name for o in x.iterdir()]"
   ]
  },
  {
   "cell_type": "code",
   "execution_count": null,
   "metadata": {
    "Collapsed": "false"
   },
   "outputs": [],
   "source": [
    "from shapely.geometry import Polygon, Point\n",
    "from geo_helpers import bounds2poly, crop_gdf_to_bounds, get_polys_at_lonlat\n",
    "from utils import nprint\n",
    "from river_helpers import load_river_csvs, get_basin_id\n"
   ]
  },
  {
   "cell_type": "markdown",
   "metadata": {
    "Collapsed": "false"
   },
   "source": [
    "## Set default holoviews style options"
   ]
  },
  {
   "cell_type": "code",
   "execution_count": null,
   "metadata": {
    "Collapsed": "false"
   },
   "outputs": [],
   "source": [
    "%opts Image [colorbar=True, tools=['hover'], active_tools=['wheel_zoom']] Curve [tools=['hover']]"
   ]
  },
  {
   "cell_type": "code",
   "execution_count": null,
   "metadata": {
    "Collapsed": "false"
   },
   "outputs": [],
   "source": [
    "H,W = 800,1000\n",
    "CURVE_H, CURVE_W = 400, W\n",
    "opts.defaults(\n",
    "    \n",
    "    opts.Image(active_tools=['wheel_zoom'], tools=['hover'], colorbar=True),\n",
    "    opts.Curve(active_tools=['wheel_zoom'], tools=['hover'], padding=0.1,\n",
    "              height=CURVE_H, width=CURVE_W),\n",
    "    opts.Scatter(active_tools=['wheel_zoom'], tools=['hover']),\n",
    "    opts.HLine(active_tools=['wheel_zoom'], tools=['hover']),\n",
    "\n",
    "    opts.RGB(active_tools=['wheel_zoom'], tools=['hover']),\n",
    "    opts.Overlay(active_tools=['wheel_zoom']),\n",
    "    \n",
    "    opts.Points(active_tools=['wheel_zoom'], tools=['hover','tap']),\n",
    "    opts.Path(active_tools=['wheel_zoom'], tools=['hover']),\n",
    "\n",
    "    opts.Polygons(active_tools=['wheel_zoom'], tools=['hover','tap']),\n",
    "    opts.WMTS(height=H, width=W),\n",
    "\n",
    ")\n",
    "\n"
   ]
  },
  {
   "cell_type": "markdown",
   "metadata": {
    "Collapsed": "false"
   },
   "source": [
    "## Basemap tile\n",
    "We need to handle the projection from latlon to web mercator (which is what the hv.tiles expect)."
   ]
  },
  {
   "cell_type": "code",
   "execution_count": null,
   "metadata": {
    "Collapsed": "false"
   },
   "outputs": [],
   "source": [
    "# basemap = gvts.EsriImagery\n",
    "# basemap\n",
    "wmts_url = 'https://maps.wikimedia.org/osm-intl/{Z}/{X}/{Y}@2x.png'\n",
    "\n",
    "# basemap = gv.tile_sources.EsriImagery\n",
    "# basemap = gv.tile_sources.EsriUSATopo\n",
    "# basemap = gv.tile_sources.StamenTerrain\n",
    "topomap = gv.tile_sources.EsriNatGeo\n",
    "labelmap = gv.tile_sources.StamenLabels \n",
    "basemap = topomap #* labelmap\n",
    "\n",
    "# river = gv.feature.rivers\n",
    "# boarders = gv.Feature(cf.BORDERS)\n",
    "# base = basemap * boarders"
   ]
  },
  {
   "cell_type": "markdown",
   "metadata": {
    "Collapsed": "false"
   },
   "source": [
    "---\n",
    "## Load Datasets"
   ]
  },
  {
   "cell_type": "markdown",
   "metadata": {
    "Collapsed": "false"
   },
   "source": [
    " 1. River measurements"
   ]
  },
  {
   "cell_type": "code",
   "execution_count": null,
   "metadata": {
    "Collapsed": "false"
   },
   "outputs": [],
   "source": [
    "data_root = Path.home()/'data/mint'\n",
    "data_dir = data_root/'river'\n",
    "data = load_river_csvs(data_dir)\n",
    "data['geometry'] = gpd.points_from_xy(data.Longitude, data.Latitude)\n"
   ]
  },
  {
   "cell_type": "code",
   "execution_count": 41,
   "metadata": {},
   "outputs": [
    {
     "data": {
      "text/html": [
       "<div>\n",
       "<style scoped>\n",
       "    .dataframe tbody tr th:only-of-type {\n",
       "        vertical-align: middle;\n",
       "    }\n",
       "\n",
       "    .dataframe tbody tr th {\n",
       "        vertical-align: top;\n",
       "    }\n",
       "\n",
       "    .dataframe thead th {\n",
       "        text-align: right;\n",
       "    }\n",
       "</style>\n",
       "<table border=\"1\" class=\"dataframe\">\n",
       "  <thead>\n",
       "    <tr style=\"text-align: right;\">\n",
       "      <th></th>\n",
       "      <th>River_Width</th>\n",
       "      <th>River_Depth</th>\n",
       "      <th>Latitude</th>\n",
       "      <th>Longitude</th>\n",
       "    </tr>\n",
       "  </thead>\n",
       "  <tbody>\n",
       "    <tr>\n",
       "      <td>count</td>\n",
       "      <td>862.000000</td>\n",
       "      <td>862.000000</td>\n",
       "      <td>862.000000</td>\n",
       "      <td>862.000000</td>\n",
       "    </tr>\n",
       "    <tr>\n",
       "      <td>mean</td>\n",
       "      <td>81.461717</td>\n",
       "      <td>4.961415</td>\n",
       "      <td>6.786560</td>\n",
       "      <td>40.057221</td>\n",
       "    </tr>\n",
       "    <tr>\n",
       "      <td>std</td>\n",
       "      <td>49.868098</td>\n",
       "      <td>6.834644</td>\n",
       "      <td>2.274990</td>\n",
       "      <td>2.518878</td>\n",
       "    </tr>\n",
       "    <tr>\n",
       "      <td>min</td>\n",
       "      <td>10.000000</td>\n",
       "      <td>0.000000</td>\n",
       "      <td>3.975110</td>\n",
       "      <td>35.184256</td>\n",
       "    </tr>\n",
       "    <tr>\n",
       "      <td>25%</td>\n",
       "      <td>50.000000</td>\n",
       "      <td>0.540000</td>\n",
       "      <td>5.018036</td>\n",
       "      <td>37.617033</td>\n",
       "    </tr>\n",
       "    <tr>\n",
       "      <td>50%</td>\n",
       "      <td>70.000000</td>\n",
       "      <td>2.230000</td>\n",
       "      <td>6.040065</td>\n",
       "      <td>41.049520</td>\n",
       "    </tr>\n",
       "    <tr>\n",
       "      <td>75%</td>\n",
       "      <td>100.000000</td>\n",
       "      <td>6.395000</td>\n",
       "      <td>8.169607</td>\n",
       "      <td>42.094982</td>\n",
       "    </tr>\n",
       "    <tr>\n",
       "      <td>max</td>\n",
       "      <td>380.000000</td>\n",
       "      <td>31.240000</td>\n",
       "      <td>12.858202</td>\n",
       "      <td>44.143838</td>\n",
       "    </tr>\n",
       "  </tbody>\n",
       "</table>\n",
       "</div>"
      ],
      "text/plain": [
       "       River_Width  River_Depth    Latitude   Longitude\n",
       "count   862.000000   862.000000  862.000000  862.000000\n",
       "mean     81.461717     4.961415    6.786560   40.057221\n",
       "std      49.868098     6.834644    2.274990    2.518878\n",
       "min      10.000000     0.000000    3.975110   35.184256\n",
       "25%      50.000000     0.540000    5.018036   37.617033\n",
       "50%      70.000000     2.230000    6.040065   41.049520\n",
       "75%     100.000000     6.395000    8.169607   42.094982\n",
       "max     380.000000    31.240000   12.858202   44.143838"
      ]
     },
     "execution_count": 41,
     "metadata": {},
     "output_type": "execute_result"
    }
   ],
   "source": [
    "data.describe()\n"
   ]
  },
  {
   "cell_type": "code",
   "execution_count": null,
   "metadata": {
    "Collapsed": "false"
   },
   "outputs": [],
   "source": [
    "# nprint(len(data), data.head(), data.sample(10))\n",
    "c = 0\n",
    "for coord, g in data.groupby( ['Latitude', 'Longitude'] ):\n",
    "    if c >= 5:\n",
    "        break\n",
    "    print(coord, len(g))\n",
    "    c += 1"
   ]
  },
  {
   "cell_type": "code",
   "execution_count": null,
   "metadata": {
    "Collapsed": "false"
   },
   "outputs": [],
   "source": [
    "gvd = gv.Dataset(data, kdims=['Latitude', 'Longitude', 'Time'], vdims=['River_Width', 'River_Depth'])\n",
    "dmap = gvd.to(gv.Points, kdims=['Longitude', 'Latitude'], vdims=['River_Width', 'River_Depth'], \n",
    "             dynamic=True)"
   ]
  },
  {
   "cell_type": "code",
   "execution_count": null,
   "metadata": {
    "Collapsed": "false"
   },
   "outputs": [],
   "source": [
    "dmap.opts(color='River_Width', size='River_Width', cmap='viridis')"
   ]
  },
  {
   "cell_type": "markdown",
   "metadata": {
    "Collapsed": "false"
   },
   "source": [
    "- Get unique points: With Avg. Width"
   ]
  },
  {
   "cell_type": "code",
   "execution_count": null,
   "metadata": {
    "Collapsed": "false"
   },
   "outputs": [],
   "source": [
    "points = []\n",
    "lats, lons = [], []\n",
    "avg_ws = []\n",
    "for (lat,lon), g in data.groupby(['Latitude', 'Longitude']):\n",
    "    points.append(Point(lon, lat))\n",
    "    lats.append(lat)\n",
    "    lons.append(lon)\n",
    "    avg_ws.append(g.River_Width.mean().item())"
   ]
  },
  {
   "cell_type": "code",
   "execution_count": 38,
   "metadata": {
    "Collapsed": "false"
   },
   "outputs": [
    {
     "data": {
      "text/html": [
       "<div>\n",
       "<style scoped>\n",
       "    .dataframe tbody tr th:only-of-type {\n",
       "        vertical-align: middle;\n",
       "    }\n",
       "\n",
       "    .dataframe tbody tr th {\n",
       "        vertical-align: top;\n",
       "    }\n",
       "\n",
       "    .dataframe thead th {\n",
       "        text-align: right;\n",
       "    }\n",
       "</style>\n",
       "<table border=\"1\" class=\"dataframe\">\n",
       "  <thead>\n",
       "    <tr style=\"text-align: right;\">\n",
       "      <th></th>\n",
       "      <th>geometry</th>\n",
       "      <th>Longitude</th>\n",
       "      <th>Latitude</th>\n",
       "      <th>River_Width_Avg</th>\n",
       "    </tr>\n",
       "  </thead>\n",
       "  <tbody>\n",
       "    <tr>\n",
       "      <td>0</td>\n",
       "      <td>POINT (41.6023898046 3.97510993668)</td>\n",
       "      <td>41.602390</td>\n",
       "      <td>3.975110</td>\n",
       "      <td>40.714286</td>\n",
       "    </tr>\n",
       "    <tr>\n",
       "      <td>1</td>\n",
       "      <td>POINT (42.0500776521 4.20486227612)</td>\n",
       "      <td>42.050078</td>\n",
       "      <td>4.204862</td>\n",
       "      <td>49.375000</td>\n",
       "    </tr>\n",
       "    <tr>\n",
       "      <td>2</td>\n",
       "      <td>POINT (42.0364477277 4.21629933074)</td>\n",
       "      <td>42.036448</td>\n",
       "      <td>4.216299</td>\n",
       "      <td>102.000000</td>\n",
       "    </tr>\n",
       "    <tr>\n",
       "      <td>3</td>\n",
       "      <td>POINT (41.939862469 4.32690231886)</td>\n",
       "      <td>41.939862</td>\n",
       "      <td>4.326902</td>\n",
       "      <td>73.750000</td>\n",
       "    </tr>\n",
       "    <tr>\n",
       "      <td>4</td>\n",
       "      <td>POINT (41.8454854208 4.40875839898)</td>\n",
       "      <td>41.845485</td>\n",
       "      <td>4.408758</td>\n",
       "      <td>80.000000</td>\n",
       "    </tr>\n",
       "  </tbody>\n",
       "</table>\n",
       "</div>"
      ],
      "text/plain": [
       "                              geometry  Longitude  Latitude  River_Width_Avg\n",
       "0  POINT (41.6023898046 3.97510993668)  41.602390  3.975110        40.714286\n",
       "1  POINT (42.0500776521 4.20486227612)  42.050078  4.204862        49.375000\n",
       "2  POINT (42.0364477277 4.21629933074)  42.036448  4.216299       102.000000\n",
       "3   POINT (41.939862469 4.32690231886)  41.939862  4.326902        73.750000\n",
       "4  POINT (41.8454854208 4.40875839898)  41.845485  4.408758        80.000000"
      ]
     },
     "execution_count": 38,
     "metadata": {},
     "output_type": "execute_result"
    }
   ],
   "source": [
    "df_avg = pd.DataFrame({'geometry': points,\n",
    "                           'Longitude': lons,\n",
    "                           'Latitude': lats,\n",
    "                           'River_Width_Avg': avg_ws})\n",
    "df_avg.head()\n",
    "                           "
   ]
  },
  {
   "cell_type": "code",
   "execution_count": 40,
   "metadata": {
    "Collapsed": "false"
   },
   "outputs": [
    {
     "data": {
      "application/vnd.holoviews_exec.v0+json": "",
      "text/html": [
       "<div id='2173' style='display: table; margin: 0 auto;'>\n",
       "\n",
       "\n",
       "\n",
       "\n",
       "\n",
       "  <div class=\"bk-root\" id=\"980b09ed-d2e5-4459-88ab-281c827257b2\" data-root-id=\"2173\"></div>\n",
       "</div>\n",
       "<script type=\"application/javascript\">(function(root) {\n",
       "  function embed_document(root) {\n",
       "    \n",
       "  var docs_json = {\"1031ba40-41d0-4261-bfd4-25d2ce1ad5a0\":{\"roots\":{\"references\":[{\"attributes\":{\"below\":[{\"id\":\"2182\",\"type\":\"LinearAxis\"}],\"center\":[{\"id\":\"2186\",\"type\":\"Grid\"},{\"id\":\"2191\",\"type\":\"Grid\"}],\"left\":[{\"id\":\"2187\",\"type\":\"LinearAxis\"}],\"margin\":null,\"min_border_bottom\":10,\"min_border_left\":10,\"min_border_right\":10,\"min_border_top\":10,\"plot_height\":300,\"plot_width\":300,\"renderers\":[{\"id\":\"2213\",\"type\":\"GlyphRenderer\"}],\"sizing_mode\":\"fixed\",\"title\":{\"id\":\"2174\",\"type\":\"Title\"},\"toolbar\":{\"id\":\"2196\",\"type\":\"Toolbar\"},\"x_range\":{\"id\":\"2166\",\"type\":\"Range1d\"},\"x_scale\":{\"id\":\"2178\",\"type\":\"LinearScale\"},\"y_range\":{\"id\":\"2167\",\"type\":\"Range1d\"},\"y_scale\":{\"id\":\"2180\",\"type\":\"LinearScale\"}},\"id\":\"2173\",\"subtype\":\"Figure\",\"type\":\"Plot\"},{\"attributes\":{\"code\":\"\\n        var projections = require(\\\"core/util/projections\\\");\\n        var x = special_vars.data_x\\n        var y = special_vars.data_y\\n        var coords = projections.wgs84_mercator.inverse([x, y])\\n        return \\\"\\\" + (coords[0]).toFixed(4)\\n    \"},\"id\":\"2215\",\"type\":\"CustomJSHover\"},{\"attributes\":{\"data_source\":{\"id\":\"2205\",\"type\":\"ColumnDataSource\"},\"glyph\":{\"id\":\"2208\",\"type\":\"Scatter\"},\"hover_glyph\":{\"id\":\"2211\",\"type\":\"Scatter\"},\"muted_glyph\":{\"id\":\"2212\",\"type\":\"Scatter\"},\"nonselection_glyph\":{\"id\":\"2209\",\"type\":\"Scatter\"},\"selection_glyph\":{\"id\":\"2210\",\"type\":\"Scatter\"},\"view\":{\"id\":\"2214\",\"type\":\"CDSView\"}},\"id\":\"2213\",\"type\":\"GlyphRenderer\"},{\"attributes\":{\"zoom_on_axis\":false},\"id\":\"2168\",\"type\":\"WheelZoomTool\"},{\"attributes\":{\"callback\":null},\"id\":\"2195\",\"type\":\"TapTool\"},{\"attributes\":{\"dimension\":\"lon\"},\"id\":\"2220\",\"type\":\"MercatorTickFormatter\"},{\"attributes\":{\"dimension\":\"lat\"},\"id\":\"2221\",\"type\":\"MercatorTicker\"},{\"attributes\":{\"fill_alpha\":{\"value\":0.1},\"fill_color\":{\"field\":\"color\",\"transform\":{\"id\":\"2204\",\"type\":\"LinearColorMapper\"}},\"line_alpha\":{\"value\":0.1},\"line_color\":{\"field\":\"color\",\"transform\":{\"id\":\"2204\",\"type\":\"LinearColorMapper\"}},\"size\":{\"field\":\"size\",\"units\":\"screen\"},\"x\":{\"field\":\"Longitude\"},\"y\":{\"field\":\"Latitude\"}},\"id\":\"2209\",\"type\":\"Scatter\"},{\"attributes\":{\"active_drag\":\"auto\",\"active_inspect\":\"auto\",\"active_multi\":null,\"active_scroll\":{\"id\":\"2168\",\"type\":\"WheelZoomTool\"},\"active_tap\":\"auto\",\"tools\":[{\"id\":\"2168\",\"type\":\"WheelZoomTool\"},{\"id\":\"2169\",\"type\":\"BoxZoomTool\"},{\"id\":\"2170\",\"type\":\"HoverTool\"},{\"id\":\"2192\",\"type\":\"SaveTool\"},{\"id\":\"2193\",\"type\":\"PanTool\"},{\"id\":\"2194\",\"type\":\"ResetTool\"},{\"id\":\"2195\",\"type\":\"TapTool\"}]},\"id\":\"2196\",\"type\":\"Toolbar\"},{\"attributes\":{\"fill_alpha\":{\"value\":0.2},\"fill_color\":{\"field\":\"color\",\"transform\":{\"id\":\"2204\",\"type\":\"LinearColorMapper\"}},\"line_alpha\":{\"value\":0.2},\"line_color\":{\"field\":\"color\",\"transform\":{\"id\":\"2204\",\"type\":\"LinearColorMapper\"}},\"size\":{\"field\":\"size\",\"units\":\"screen\"},\"x\":{\"field\":\"Longitude\"},\"y\":{\"field\":\"Latitude\"}},\"id\":\"2212\",\"type\":\"Scatter\"},{\"attributes\":{\"dimension\":\"lat\"},\"id\":\"2222\",\"type\":\"MercatorTickFormatter\"},{\"attributes\":{\"dimension\":\"lon\"},\"id\":\"2219\",\"type\":\"MercatorTicker\"},{\"attributes\":{},\"id\":\"2178\",\"type\":\"LinearScale\"},{\"attributes\":{},\"id\":\"2239\",\"type\":\"UnionRenderers\"},{\"attributes\":{\"fill_color\":{\"field\":\"color\",\"transform\":{\"id\":\"2204\",\"type\":\"LinearColorMapper\"}},\"line_color\":{\"field\":\"color\",\"transform\":{\"id\":\"2204\",\"type\":\"LinearColorMapper\"}},\"size\":{\"field\":\"size\",\"units\":\"screen\"},\"x\":{\"field\":\"Longitude\"},\"y\":{\"field\":\"Latitude\"}},\"id\":\"2210\",\"type\":\"Scatter\"},{\"attributes\":{\"bottom_units\":\"screen\",\"fill_alpha\":{\"value\":0.5},\"fill_color\":{\"value\":\"lightgrey\"},\"left_units\":\"screen\",\"level\":\"overlay\",\"line_alpha\":{\"value\":1.0},\"line_color\":{\"value\":\"black\"},\"line_dash\":[4,4],\"line_width\":{\"value\":2},\"render_mode\":\"css\",\"right_units\":\"screen\",\"top_units\":\"screen\"},\"id\":\"2238\",\"type\":\"BoxAnnotation\"},{\"attributes\":{\"fill_color\":{\"field\":\"color\",\"transform\":{\"id\":\"2204\",\"type\":\"LinearColorMapper\"}},\"line_color\":{\"field\":\"color\",\"transform\":{\"id\":\"2204\",\"type\":\"LinearColorMapper\"}},\"size\":{\"field\":\"size\",\"units\":\"screen\"},\"x\":{\"field\":\"Longitude\"},\"y\":{\"field\":\"Latitude\"}},\"id\":\"2211\",\"type\":\"Scatter\"},{\"attributes\":{\"text\":\"\",\"text_color\":{\"value\":\"black\"},\"text_font_size\":{\"value\":\"12pt\"}},\"id\":\"2174\",\"type\":\"Title\"},{\"attributes\":{\"code\":\"\\n        var projections = require(\\\"core/util/projections\\\");\\n        var x = special_vars.data_x\\n        var y = special_vars.data_y\\n        var coords = projections.wgs84_mercator.inverse([x, y])\\n        return \\\"\\\" + (coords[1]).toFixed(4)\\n    \"},\"id\":\"2216\",\"type\":\"CustomJSHover\"},{\"attributes\":{},\"id\":\"2180\",\"type\":\"LinearScale\"},{\"attributes\":{},\"id\":\"2194\",\"type\":\"ResetTool\"},{\"attributes\":{\"callback\":null,\"formatters\":{\"Latitude\":{\"id\":\"2216\",\"type\":\"CustomJSHover\"},\"Longitude\":{\"id\":\"2215\",\"type\":\"CustomJSHover\"}},\"renderers\":[{\"id\":\"2213\",\"type\":\"GlyphRenderer\"}],\"tags\":[\"hv_created\"],\"tooltips\":[[\"Longitude\",\"@{Longitude}{custom}\"],[\"Latitude\",\"@{Latitude}{custom}\"],[\"River_Width_Avg\",\"@{River_Width_Avg}\"]]},\"id\":\"2170\",\"type\":\"HoverTool\"},{\"attributes\":{\"axis_label\":\"Longitude\",\"bounds\":\"auto\",\"formatter\":{\"id\":\"2220\",\"type\":\"MercatorTickFormatter\"},\"major_label_orientation\":\"horizontal\",\"ticker\":{\"id\":\"2219\",\"type\":\"MercatorTicker\"}},\"id\":\"2182\",\"type\":\"LinearAxis\"},{\"attributes\":{},\"id\":\"2183\",\"type\":\"BasicTicker\"},{\"attributes\":{\"grid_line_color\":null,\"ticker\":{\"id\":\"2183\",\"type\":\"BasicTicker\"}},\"id\":\"2186\",\"type\":\"Grid\"},{\"attributes\":{\"fill_color\":{\"field\":\"color\",\"transform\":{\"id\":\"2204\",\"type\":\"LinearColorMapper\"}},\"line_color\":{\"field\":\"color\",\"transform\":{\"id\":\"2204\",\"type\":\"LinearColorMapper\"}},\"size\":{\"field\":\"size\",\"units\":\"screen\"},\"x\":{\"field\":\"Longitude\"},\"y\":{\"field\":\"Latitude\"}},\"id\":\"2208\",\"type\":\"Scatter\"},{\"attributes\":{\"axis_label\":\"Latitude\",\"bounds\":\"auto\",\"formatter\":{\"id\":\"2222\",\"type\":\"MercatorTickFormatter\"},\"major_label_orientation\":\"horizontal\",\"ticker\":{\"id\":\"2221\",\"type\":\"MercatorTicker\"}},\"id\":\"2187\",\"type\":\"LinearAxis\"},{\"attributes\":{},\"id\":\"2188\",\"type\":\"BasicTicker\"},{\"attributes\":{\"bounds\":[-20037508.342789244,20037508.342789244],\"callback\":null,\"end\":4914069.451080015,\"min_interval\":5,\"reset_end\":4914069.451080015,\"reset_start\":3916693.6218374176,\"start\":3916693.6218374176,\"tags\":[[[\"Longitude\",\"Longitude\",null]]]},\"id\":\"2166\",\"type\":\"Range1d\"},{\"attributes\":{\"callback\":null,\"data\":{\"Latitude\":{\"__ndarray__\":\"Hif5i7oHG0EQs795X5gcQaXLNu1RrBxBpR6sMTxtHUFQtb4SB/wdQS3j9cZx2x5B0hyIxR1RH0H9I6XY2FwfQWOy27yzlh9BJ7IRay2gH0GJfIGkJ88fQaQBZ5+x1x9Bs0yISp4pIEG+cfB3/6sgQQhPk1uxESFBhDKgxDA3IUGkuUnL0ZwhQRMPE0PqSyJB2Ctd7qxvIkG9TJWeLMYiQfc4Y4XuFSNBGwov7isWI0GClFynjR0jQWy7OO04MSNBJg4EQpNkI0GQmZ5BqJMjQSdswcD5lCNBXIidmMuyI0EtPNOyePkjQS1jTnW6NiRBWBBfVSFqJEHEcC+Gs44kQfDt4SqcriRBKIfuWhLtJEHLzKx2tgklQVWKqbvnWCVBVx9KCYakJUGa41zK/KwlQe/8x4aLwCVBgfzY6KdWJkE6ZQHlRcgmQeoH8GnNoClBZKm0vpUUK0EFLXGukxsrQewPSZwr2StBtTsujHglLEHWc3OV0SosQc1mxR8nKDFBNXLgc4FPMUHLPTRD0GAyQUe814URaTJBGffpw16EMkEOguAl264yQZvkOmz9ujJBXtxxxNAGNkE=\",\"dtype\":\"float64\",\"shape\":[55]},\"Longitude\":{\"__ndarray__\":\"uEBTNp2qUUGq5dlOSNtRQV3rK/3M2VFBn0aTCE3PUUFhNEKICsVRQSp3NVMhulFB1CK5Fiq3UUHmFxp5dbBRQauaCxYiO1FB/xb0dZOuUUFpNx4uQDhRQX7ojK220FBBWjytbfCUTkFV4ioeKaNRQcKJa257llFBXH4SgmefTkF1gYP5maFOQdKvuFDPqE5BTFh71NyEUUERkySn3HxOQRlRVH8XeFFBelr+Y+W+UkGPE3QgV9tQQQznZ8hqeVFBQA3V7YJuUUFNWKR2O59SQZrQZ04NnVJBEktQqUOZUkGvOP6dY41OQZb6v5PRelJB2o97B9xTUkFLF0qVFUpSQSphmoUcPlJBWeXycMIxUkEATAGh5CxSQZrOroKtIlJB4HBbQpL0UUFFhA9hyPRRQf+HJVj+8VFBhFvr/yngUUHk8WQvlFVPQfH3KE+kzU9BKJDuprrxT0FZAQN7uvJPQU+JYFn68U9B1x1JilPdT0ErMZDJyN5PQff/mbRCMVBBIUc27L9GUEHeIeIxc1pQQdv66xu1W1BB39h30G9aUEFt/zgEAVtQQcymWMHK4U1BtnvQBpNsUEE=\",\"dtype\":\"float64\",\"shape\":[55]},\"River_Width_Avg\":{\"__ndarray__\":\"t23btm1bREAAAAAAALBIQAAAAAAAgFlAAAAAAABwUkAAAAAAAABUQKuqqqqqqlVAx3Ecx3HcWEAtLS0tLS1VQAAAAAAAgFFAAAAAAACgWUAvuuiiiy5XQLdt27Zt21FASZIkSZKkWEAAAAAAAGBTQHZiJ3Zip1JAVVVVVVXVVkC3bdu2bZtfQAAAAAAAwFdAjC666KKLQ0CrqqqqqipVQFVVVVVVVUdAkiRJkiRJPUAAAAAAAABPQNu2bdu2bUVA27Zt27ZtVUBVVVVVVVVBQCd2Yid2Yk5AVVVVVVVVR0AAAAAAAABmQKuqqqqqqkNAAAAAAADAPECrqqqqqqpMQAAAAAAAwEJAPDw8PDw8UkAAAAAAAKBZQKuqqqqqqktAAAAAAAAAW0BVVVVVVVVQQIiHh4eHh0dAq6qqqqrqVkBJkiRJkiRRQHIcx3EcR1RADMMwDMOwUkCe53me5/lRQNPS0tLS0kxA2FBeQ3kNUECH8hrKayhSQF100UUXfWhAspCFLGShVUBvetOb3vRVQBQ7sRM7MVRAh/IaymsoR0AAAAAAAIBVQCd2Yid2Ym5Aq6qqqqrqYUA=\",\"dtype\":\"float64\",\"shape\":[55]},\"color\":{\"__ndarray__\":\"vVtzk8eUrD+IGlWPoKK4P0pTpj+F39U/8hx0+fTfyj9MdlKqgZvOPxKvfTNhS9E/6zdK6Ckc1T/bbvtTfbXQP4gaVY+gosg/YkKGE74F1j/SjCcsrRrTP+65VNwJfck/N8emSW3Z1D9bH5NjSR3NP7vOGIhDZMs/nWZSQh6w0j9SGWP47yrdP/k/Z6lpyNM/2xJ1NQC0qD+y8v3jfbLQPyjeC/Z7ZrU/cPH2N995ZD+FN1cThtvDPwyMuLCf2bA/8Hkob5MC0T961EgIskScPyKyzZ1aH8M/KN4L9ntmtT+cRo7eL/zlP50mynpBSKk/AAAAAAAAAABuyK31CxLBPy7Bdt4T56Q/K9vbLUxkyj9iQoYTvgXWP1ufXK2KwL8/a4glLi+q1z9wq6txJtnFP7xEp3Vl3rU/AwY9epnJ0j8je1VCN8jHP0byw8lhRc8/2S2pOqp6yz8O76mg18XJPw+LhfUCQsE/QDYujXwtxT82Jdu+9jTKPwj2bOQm9eg//CbrBE1A0T/A7xGoAqTRP6tpyNMcEc8/6nQ9xzH7tD9HcKjDahjRPwAAAAAAAPA/NMSlKpob4T8=\",\"dtype\":\"float64\",\"shape\":[55]},\"size\":{\"__ndarray__\":\"VhkovPzcAUAqYSqzSMsOQBzoj49mVytAF5LoG/nLIEDwiXMKMSEjQNYaXYA5niVA5sVcYjRjKkCSSvqo3OIkQCphKrNIyx5A+tJnmC2HK0AGcDF3WOEnQGroaVNM3B9ABXkQnMgPKkCZ8zveTTIiQDWBDzWqHiFARADn0iVcJ0DT7z371ToyQPcPwROEuihAklfSQgDh/j9eb/1cHd8kQLLVjvMawApAzK30BVeYuT9mBS2YZ9IYQA+v5pwHEAVAbJjySjhDJUDMhC1F76rxP6oeQUUx5xdAstWO8xrACkBD2DHWO3s7QESwfNlRmv8/AAAAAAAAAACKOhnzjlYVQHpxFNbYIPo/+2ipnK9+IED60meYLYcrQJnjWaxW2BNAhuqu+bqULUBMlhYOcE8bQOsVEdP+VQtAhEfM2P97J0Ds2eoSRbodQGx3Gh5diyNAqLypZKosIUBpNWrEphsgQNPt5rKDkhVA0MN5sNt4GkBC90g3GmEgQIoziJ1wMj9Au/AlRmCQJUCwaxZSAw0mQAtCXQSyaiNAJNIMOf45CkBZjJJ0hV4lQAAAAAAAAERAQTVPtYBiNUA=\",\"dtype\":\"float64\",\"shape\":[55]}},\"selected\":{\"id\":\"2206\",\"type\":\"Selection\"},\"selection_policy\":{\"id\":\"2239\",\"type\":\"UnionRenderers\"}},\"id\":\"2205\",\"type\":\"ColumnDataSource\"},{\"attributes\":{\"dimension\":1,\"grid_line_color\":null,\"ticker\":{\"id\":\"2188\",\"type\":\"BasicTicker\"}},\"id\":\"2191\",\"type\":\"Grid\"},{\"attributes\":{},\"id\":\"2206\",\"type\":\"Selection\"},{\"attributes\":{\"match_aspect\":true,\"overlay\":{\"id\":\"2238\",\"type\":\"BoxAnnotation\"}},\"id\":\"2169\",\"type\":\"BoxZoomTool\"},{\"attributes\":{\"bounds\":[-20037508.342789255,20037508.342789244],\"callback\":null,\"end\":1443536.6531796178,\"min_interval\":5,\"reset_end\":1443536.6531796178,\"reset_start\":442862.74828057375,\"start\":442862.74828057375,\"tags\":[[[\"Latitude\",\"Latitude\",null]]]},\"id\":\"2167\",\"type\":\"Range1d\"},{\"attributes\":{},\"id\":\"2192\",\"type\":\"SaveTool\"},{\"attributes\":{},\"id\":\"2193\",\"type\":\"PanTool\"},{\"attributes\":{\"high\":1.0,\"low\":0.0,\"palette\":[\"#000000\",\"#060000\",\"#0d0000\",\"#120000\",\"#160000\",\"#190000\",\"#1c0000\",\"#1f0000\",\"#220000\",\"#240000\",\"#260000\",\"#280000\",\"#2b0000\",\"#2d0000\",\"#2e0000\",\"#300000\",\"#320000\",\"#340000\",\"#350000\",\"#370000\",\"#380000\",\"#3a0000\",\"#3b0000\",\"#3d0000\",\"#3e0000\",\"#400000\",\"#410000\",\"#430000\",\"#440000\",\"#460000\",\"#470000\",\"#490000\",\"#4a0000\",\"#4c0000\",\"#4d0000\",\"#4f0000\",\"#500000\",\"#520000\",\"#530000\",\"#550000\",\"#560000\",\"#580000\",\"#590100\",\"#5b0100\",\"#5d0100\",\"#5e0100\",\"#600100\",\"#610100\",\"#630100\",\"#650100\",\"#660100\",\"#680100\",\"#690100\",\"#6b0100\",\"#6d0100\",\"#6e0100\",\"#700100\",\"#710100\",\"#730100\",\"#750100\",\"#760100\",\"#780200\",\"#7a0200\",\"#7b0200\",\"#7d0200\",\"#7f0200\",\"#800200\",\"#820200\",\"#840200\",\"#850200\",\"#870200\",\"#890200\",\"#8a0200\",\"#8c0300\",\"#8e0300\",\"#900300\",\"#910300\",\"#930300\",\"#950300\",\"#960300\",\"#980300\",\"#9a0300\",\"#9c0300\",\"#9d0400\",\"#9f0400\",\"#a10400\",\"#a20400\",\"#a40400\",\"#a60400\",\"#a80400\",\"#a90400\",\"#ab0500\",\"#ad0500\",\"#af0500\",\"#b00500\",\"#b20500\",\"#b40500\",\"#b60600\",\"#b80600\",\"#b90600\",\"#bb0600\",\"#bd0600\",\"#bf0700\",\"#c00700\",\"#c20700\",\"#c40700\",\"#c60800\",\"#c80800\",\"#c90800\",\"#cb0800\",\"#cd0900\",\"#cf0900\",\"#d10900\",\"#d20a00\",\"#d40a00\",\"#d60a00\",\"#d80b00\",\"#da0b00\",\"#db0c00\",\"#dd0c00\",\"#df0d00\",\"#e10d00\",\"#e30e00\",\"#e40f00\",\"#e60f00\",\"#e81000\",\"#ea1100\",\"#eb1300\",\"#ed1400\",\"#ee1600\",\"#f01800\",\"#f11b00\",\"#f21d00\",\"#f32000\",\"#f52300\",\"#f62600\",\"#f62900\",\"#f72c00\",\"#f82f00\",\"#f93200\",\"#f93500\",\"#fa3800\",\"#fa3b00\",\"#fb3d00\",\"#fb4000\",\"#fb4300\",\"#fc4600\",\"#fc4900\",\"#fc4b00\",\"#fd4e00\",\"#fd5100\",\"#fd5300\",\"#fd5600\",\"#fd5800\",\"#fe5b00\",\"#fe5d00\",\"#fe5f00\",\"#fe6200\",\"#fe6400\",\"#fe6600\",\"#fe6800\",\"#fe6b00\",\"#fe6d00\",\"#fe6f00\",\"#fe7100\",\"#fe7300\",\"#fe7500\",\"#fe7700\",\"#fe7900\",\"#fe7c00\",\"#ff7e00\",\"#ff8000\",\"#ff8200\",\"#ff8300\",\"#ff8500\",\"#ff8700\",\"#ff8900\",\"#ff8b00\",\"#ff8d00\",\"#ff8f00\",\"#ff9100\",\"#ff9300\",\"#ff9400\",\"#ff9600\",\"#ff9800\",\"#ff9a00\",\"#ff9c00\",\"#ff9d00\",\"#ff9f00\",\"#ffa100\",\"#ffa300\",\"#ffa401\",\"#ffa601\",\"#ffa801\",\"#ffaa01\",\"#ffab01\",\"#ffad01\",\"#ffaf01\",\"#ffb001\",\"#ffb202\",\"#ffb402\",\"#ffb502\",\"#ffb702\",\"#ffb902\",\"#ffba02\",\"#ffbc03\",\"#ffbd03\",\"#ffbf03\",\"#ffc103\",\"#ffc204\",\"#ffc404\",\"#ffc604\",\"#ffc704\",\"#ffc905\",\"#ffca05\",\"#ffcc05\",\"#ffce06\",\"#ffcf06\",\"#ffd106\",\"#ffd207\",\"#ffd407\",\"#ffd508\",\"#ffd708\",\"#ffd909\",\"#ffda09\",\"#ffdc0a\",\"#ffdd0a\",\"#ffdf0b\",\"#ffe00b\",\"#ffe20c\",\"#ffe30d\",\"#ffe50e\",\"#ffe60f\",\"#ffe810\",\"#ffea11\",\"#ffeb12\",\"#ffed14\",\"#ffee17\",\"#fff01a\",\"#fff11e\",\"#fff324\",\"#fff42a\",\"#fff532\",\"#fff73b\",\"#fff847\",\"#fff953\",\"#fffb62\",\"#fffb72\",\"#fffc83\",\"#fffd95\",\"#fffea8\",\"#fffeba\",\"#fffecc\",\"#fffede\",\"#fffeee\",\"#ffffff\"]},\"id\":\"2204\",\"type\":\"LinearColorMapper\"},{\"attributes\":{\"source\":{\"id\":\"2205\",\"type\":\"ColumnDataSource\"}},\"id\":\"2214\",\"type\":\"CDSView\"}],\"root_ids\":[\"2173\"]},\"title\":\"Bokeh Application\",\"version\":\"1.3.4\"}};\n",
       "  var render_items = [{\"docid\":\"1031ba40-41d0-4261-bfd4-25d2ce1ad5a0\",\"roots\":{\"2173\":\"980b09ed-d2e5-4459-88ab-281c827257b2\"}}];\n",
       "  root.Bokeh.embed.embed_items_notebook(docs_json, render_items);\n",
       "\n",
       "  }\n",
       "  if (root.Bokeh !== undefined) {\n",
       "    embed_document(root);\n",
       "  } else {\n",
       "    var attempts = 0;\n",
       "    var timer = setInterval(function(root) {\n",
       "      if (root.Bokeh !== undefined) {\n",
       "        embed_document(root);\n",
       "        clearInterval(timer);\n",
       "      }\n",
       "      attempts++;\n",
       "      if (attempts > 100) {\n",
       "        console.log(\"Bokeh: ERROR: Unable to run BokehJS code because BokehJS library is missing\");\n",
       "        clearInterval(timer);\n",
       "      }\n",
       "    }, 10, root)\n",
       "  }\n",
       "})(window);</script>"
      ],
      "text/plain": [
       ":Points   [Longitude,Latitude]   (River_Width_Avg)"
      ]
     },
     "execution_count": 40,
     "metadata": {
      "application/vnd.holoviews_exec.v0+json": {
       "id": "2173"
      }
     },
     "output_type": "execute_result"
    }
   ],
   "source": [
    "gv_avg = gv.Points(df_avg, \n",
    "                   ['Longitude', 'Latitude'], \n",
    "                   'River_Width_Avg').opts(\n",
    "    color=dim('River_Width_Avg').norm(), \n",
    "    size=dim('River_Width_Avg').norm()*40)\n",
    "gv_avg"
   ]
  },
  {
   "cell_type": "code",
   "execution_count": null,
   "metadata": {
    "Collapsed": "false"
   },
   "outputs": [],
   "source": [
    "def get_gv_avg(scale):\n",
    "    gv_avg = gv.Points(df_avg, \n",
    "                       ['Longitude', 'Latitude'], \n",
    "                       'River_Width_Avg')\n",
    "    return gv_avg.opts(color=dim('River_Width_Avg').norm(), \n",
    "                       size=dim('River_Width_Avg').norm()*scale)\n",
    "\n",
    "# parameterized class as a strem\n",
    "class Scale(param.Parameterized):\n",
    "    scale = param.Number(default=15, bounds=(10,30))\n",
    "    \n",
    "# Add flexibility to set the size of points\n",
    "scale = Scale()\n",
    "scale_stream = streams.Params(scale)\n",
    "dmap_gv_avg = hv.DynamicMap(get_gv_avg, \n",
    "                            streams=[scale_stream])\n",
    "# dmap_gv_avg\n",
    "    "
   ]
  },
  {
   "cell_type": "markdown",
   "metadata": {
    "Collapsed": "false"
   },
   "source": [
    "2. Basins data"
   ]
  },
  {
   "cell_type": "code",
   "execution_count": null,
   "metadata": {
    "Collapsed": "false"
   },
   "outputs": [],
   "source": [
    "basin_dir = data_root/'hybas_world_lev05_v1c'; assert basin_dir.exists()\n",
    "bounds = (32.95418, 3.42206, 47.78942, 14.95943)#todo\n",
    "\n",
    "gdf_basins = crop_gdf_to_bounds( gpd.read_file(basin_dir)[['HYBAS_ID', 'geometry']],\n",
    "                                bounds,\n",
    "                                remove_empty=True).reset_index().drop('index', axis=1)\n",
    "gdf_basins['HYBAS_ID']=gdf_basins.HYBAS_ID.astype(str)\n",
    "print(len(gdf_basins))\n",
    "# gdf_basins.head()"
   ]
  },
  {
   "cell_type": "code",
   "execution_count": null,
   "metadata": {
    "Collapsed": "false"
   },
   "outputs": [],
   "source": [
    "gv_basins = gv.Polygons(gdf_basins, vdims=['HYBAS_ID'])"
   ]
  },
  {
   "cell_type": "code",
   "execution_count": null,
   "metadata": {
    "Collapsed": "false"
   },
   "outputs": [],
   "source": [
    "# %%opts WMTS [height=H, width=W] Polygons(alpha=0.5)\n",
    "# basemap * gv_basins * dmap * dmap_gv_avg"
   ]
  },
  {
   "cell_type": "markdown",
   "metadata": {
    "Collapsed": "false"
   },
   "source": [
    "3. Assign basin_id to points in river measurement data"
   ]
  },
  {
   "cell_type": "code",
   "execution_count": null,
   "metadata": {
    "Collapsed": "false"
   },
   "outputs": [],
   "source": [
    "## GeoPandas from river pandas dataframe\n",
    "bids = []\n",
    "c = 0\n",
    "for lon, lat in zip(data.Longitude, data.Latitude):\n",
    "    bid = get_basin_id(gdf_basins, lon,lat)\n",
    "    bids.append(bid)\n",
    "#     if c%30==0: print(lon, lat, bid)\n",
    "    c += 1\n",
    "    "
   ]
  },
  {
   "cell_type": "code",
   "execution_count": null,
   "metadata": {
    "Collapsed": "false"
   },
   "outputs": [],
   "source": [
    "data['HYBAS_ID'] = bids"
   ]
  },
  {
   "cell_type": "code",
   "execution_count": null,
   "metadata": {
    "Collapsed": "false"
   },
   "outputs": [],
   "source": [
    "# Geopadnas river measurement data\n",
    "gdf_data = gpd.GeoDataFrame(data)\n",
    "gdf_data.crs = {'init': 'epsg:4326'}\n",
    "# gdf_data.head()"
   ]
  },
  {
   "cell_type": "markdown",
   "metadata": {
    "Collapsed": "false"
   },
   "source": [
    "---\n",
    "## Add LatLon Tab selector stream\n",
    "- Fetch the lat/lon of the mouse click position on the basemap\n",
    "\n",
    "    1. Define callbacks"
   ]
  },
  {
   "cell_type": "code",
   "execution_count": 37,
   "metadata": {
    "Collapsed": "false"
   },
   "outputs": [],
   "source": [
    "def select_data_at_lonlat(data, lon, lat):\n",
    "    \"\"\"\n",
    "    data: dataFrame or GeoDataFrame\n",
    "    lat: float\n",
    "    lon: float\n",
    "    \"\"\"\n",
    "    return data[np.isclose(data.Longitude, lon) & np.isclose(data.Latitude, lat)]\n",
    "\n",
    "def tseries_from_lonlat(data, lon, lat):\n",
    "    df = select_data_at_latlon(data, lon, lat)\n",
    "    curve_w = hv.Curve(df, 'Time', 'River_Width', label='width')\n",
    "    curve_d = hv.Curve(df, 'Time', 'River_Depth', label='depth')\n",
    "    return curve_w * curve_d \n",
    "\n",
    "def tseries_from_index(data, \n",
    "                       index_src, \n",
    "                       index):\n",
    "    print('index clicked: ', index[0])\n",
    "    if len(index) < 1:\n",
    "        return hv.Curve([])\n",
    "    elif len(index) > 1:\n",
    "        print('Warning: multiple points were selected. Only care for the first point')\n",
    "        index = index[:1]\n",
    "              \n",
    "    lon,lat = index_src.iloc[index].Longitude.item(),index_src.iloc[index].Latitude.item()\n",
    "    print(lon, type(lon),lat, type(lat))\n",
    "    df = select_data_at_lonlat(data, lon, lat)\n",
    "    curve_w = hv.Curve(df, 'Time', 'River_Width', label='width')\n",
    "    curve_d = hv.Curve(df, 'Time', 'River_Depth', label='depth')\n",
    "    return curve_w * curve_d "
   ]
  },
  {
   "cell_type": "markdown",
   "metadata": {
    "Collapsed": "false"
   },
   "source": [
    "    2. Register streams"
   ]
  },
  {
   "cell_type": "code",
   "execution_count": null,
   "metadata": {
    "Collapsed": "false"
   },
   "outputs": [],
   "source": [
    "# stream_xy = PointerXY(name='lonlat', \n",
    "#                     x=34., y=9., source=gv_basins)"
   ]
  },
  {
   "cell_type": "code",
   "execution_count": null,
   "metadata": {
    "Collapsed": "false"
   },
   "outputs": [],
   "source": [
    "stream_tab = Selection1D(name='tab', source=gv_avg, index=[0])\n",
    "dmap_tab = hv.DynamicMap(lambda index: hv.Div(f'point index:  {index}'),\n",
    "                        streams=[stream_tab])\n",
    "dmap_tseries = hv.DynamicMap(lambda index: tseries_from_index(data, df_avg, index),\n",
    "                             streams=[stream_tab])"
   ]
  },
  {
   "cell_type": "code",
   "execution_count": 36,
   "metadata": {
    "Collapsed": "false"
   },
   "outputs": [
    {
     "data": {
      "application/vnd.holoviews_exec.v0+json": "",
      "text/html": [
       "<div id='2031'>\n",
       "\n",
       "\n",
       "\n",
       "\n",
       "\n",
       "  <div class=\"bk-root\" id=\"d530fdc2-07ce-4737-9ae7-0e2b939f235b\" data-root-id=\"2031\"></div>\n",
       "</div>\n",
       "<script type=\"application/javascript\">\n",
       "    function msg_handler(msg) {\n",
       "      var metadata = msg.metadata;\n",
       "      var buffers = msg.buffers;\n",
       "      var msg = msg.content.data;\n",
       "      if ((metadata.msg_type == \"Ready\")) {\n",
       "        if (metadata.content) {\n",
       "          console.log(\"Python callback returned following output:\", metadata.content);\n",
       "        }\n",
       "      } else if (metadata.msg_type == \"Error\") {\n",
       "        console.log(\"Python failed with the following traceback:\", metadata.traceback)\n",
       "      } else {\n",
       "        \n",
       "var plot_id = \"2031\";\n",
       "if (plot_id in window.PyViz.plot_index) {\n",
       "  var plot = window.PyViz.plot_index[plot_id];\n",
       "} else {\n",
       "  var plot = Bokeh.index[plot_id];\n",
       "}\n",
       "\n",
       "if (plot_id in window.PyViz.receivers) {\n",
       "  var receiver = window.PyViz.receivers[plot_id];\n",
       "} else if (Bokeh.protocol === undefined) {\n",
       "  return;\n",
       "} else {\n",
       "  var receiver = new Bokeh.protocol.Receiver();\n",
       "  window.PyViz.receivers[plot_id] = receiver;\n",
       "}\n",
       "\n",
       "if ((buffers != undefined) && (buffers.length > 0)) {\n",
       "  receiver.consume(buffers[0].buffer)\n",
       "} else {\n",
       "  receiver.consume(msg)\n",
       "}\n",
       "\n",
       "const comm_msg = receiver.message;\n",
       "if ((comm_msg != null) && (Object.keys(comm_msg.content).length > 0)) {\n",
       "  plot.model.document.apply_json_patch(comm_msg.content, comm_msg.buffers)\n",
       "}\n",
       "\n",
       "      }\n",
       "    }\n",
       "    if ((window.PyViz == undefined) || (!window.PyViz.comm_manager)) {\n",
       "      console.log(\"Could not find comm manager\")\n",
       "    } else {\n",
       "      window.PyViz.comm_manager.register_target('2031', 'd16252c9f39d434e894322406fad1045', msg_handler);\n",
       "    }\n",
       "    \n",
       "(function(root) {\n",
       "  function embed_document(root) {\n",
       "    \n",
       "  var docs_json = {\"adf7a65f-9b35-4bed-abc4-d75aec2992c4\":{\"roots\":{\"references\":[{\"attributes\":{\"height\":300,\"text\":\"point index:  [0]\",\"width\":300},\"id\":\"2106\",\"type\":\"Div\"},{\"attributes\":{\"source\":{\"id\":\"2073\",\"type\":\"ColumnDataSource\"}},\"id\":\"2082\",\"type\":\"CDSView\"},{\"attributes\":{\"callback\":null},\"id\":\"2063\",\"type\":\"TapTool\"},{\"attributes\":{\"text\":\"\",\"text_color\":{\"value\":\"black\"},\"text_font_size\":{\"value\":\"12pt\"}},\"id\":\"2042\",\"type\":\"Title\"},{\"attributes\":{},\"id\":\"2062\",\"type\":\"ResetTool\"},{\"attributes\":{},\"id\":\"2061\",\"type\":\"PanTool\"},{\"attributes\":{},\"id\":\"2048\",\"type\":\"LinearScale\"},{\"attributes\":{\"code\":\"\\n        var projections = require(\\\"core/util/projections\\\");\\n        var x = special_vars.data_x\\n        var y = special_vars.data_y\\n        var coords = projections.wgs84_mercator.inverse([x, y])\\n        return \\\"\\\" + (coords[0]).toFixed(4)\\n    \"},\"id\":\"2083\",\"type\":\"CustomJSHover\"},{\"attributes\":{\"fill_alpha\":{\"value\":0.2},\"fill_color\":{\"field\":\"color\",\"transform\":{\"id\":\"2072\",\"type\":\"LinearColorMapper\"}},\"line_alpha\":{\"value\":0.2},\"line_color\":{\"field\":\"color\",\"transform\":{\"id\":\"2072\",\"type\":\"LinearColorMapper\"}},\"size\":{\"field\":\"size\",\"units\":\"screen\"},\"x\":{\"field\":\"Longitude\"},\"y\":{\"field\":\"Latitude\"}},\"id\":\"2080\",\"type\":\"Scatter\"},{\"attributes\":{},\"id\":\"2046\",\"type\":\"LinearScale\"},{\"attributes\":{\"children\":[[{\"id\":\"2041\",\"subtype\":\"Figure\",\"type\":\"Plot\"},0,0],[{\"id\":\"2106\",\"type\":\"Div\"},0,1]]},\"id\":\"2112\",\"type\":\"GridBox\"},{\"attributes\":{\"active_drag\":\"auto\",\"active_inspect\":\"auto\",\"active_multi\":null,\"active_scroll\":{\"id\":\"2036\",\"type\":\"WheelZoomTool\"},\"active_tap\":\"auto\",\"tools\":[{\"id\":\"2036\",\"type\":\"WheelZoomTool\"},{\"id\":\"2037\",\"type\":\"BoxZoomTool\"},{\"id\":\"2038\",\"type\":\"HoverTool\"},{\"id\":\"2060\",\"type\":\"SaveTool\"},{\"id\":\"2061\",\"type\":\"PanTool\"},{\"id\":\"2062\",\"type\":\"ResetTool\"},{\"id\":\"2063\",\"type\":\"TapTool\"}]},\"id\":\"2064\",\"type\":\"Toolbar\"},{\"attributes\":{\"fill_color\":{\"field\":\"color\",\"transform\":{\"id\":\"2072\",\"type\":\"LinearColorMapper\"}},\"line_color\":{\"field\":\"color\",\"transform\":{\"id\":\"2072\",\"type\":\"LinearColorMapper\"}},\"size\":{\"field\":\"size\",\"units\":\"screen\"},\"x\":{\"field\":\"Longitude\"},\"y\":{\"field\":\"Latitude\"}},\"id\":\"2078\",\"type\":\"Scatter\"},{\"attributes\":{},\"id\":\"2056\",\"type\":\"BasicTicker\"},{\"attributes\":{\"children\":[{\"id\":\"2114\",\"type\":\"ToolbarBox\"},{\"id\":\"2112\",\"type\":\"GridBox\"}]},\"id\":\"2115\",\"type\":\"Column\"},{\"attributes\":{},\"id\":\"2060\",\"type\":\"SaveTool\"},{\"attributes\":{\"dimension\":\"lon\"},\"id\":\"2088\",\"type\":\"MercatorTickFormatter\"},{\"attributes\":{\"axis_label\":\"Longitude\",\"bounds\":\"auto\",\"formatter\":{\"id\":\"2088\",\"type\":\"MercatorTickFormatter\"},\"major_label_orientation\":\"horizontal\",\"ticker\":{\"id\":\"2087\",\"type\":\"MercatorTicker\"}},\"id\":\"2050\",\"type\":\"LinearAxis\"},{\"attributes\":{\"match_aspect\":true,\"overlay\":{\"id\":\"2108\",\"type\":\"BoxAnnotation\"}},\"id\":\"2037\",\"type\":\"BoxZoomTool\"},{\"attributes\":{\"code\":\"\\n        var projections = require(\\\"core/util/projections\\\");\\n        var x = special_vars.data_x\\n        var y = special_vars.data_y\\n        var coords = projections.wgs84_mercator.inverse([x, y])\\n        return \\\"\\\" + (coords[1]).toFixed(4)\\n    \"},\"id\":\"2084\",\"type\":\"CustomJSHover\"},{\"attributes\":{\"children\":[{\"id\":\"2115\",\"type\":\"Column\"}],\"margin\":[0,0,0,0],\"name\":\"Row05362\"},\"id\":\"2031\",\"type\":\"Row\"},{\"attributes\":{\"fill_color\":{\"field\":\"color\",\"transform\":{\"id\":\"2072\",\"type\":\"LinearColorMapper\"}},\"line_color\":{\"field\":\"color\",\"transform\":{\"id\":\"2072\",\"type\":\"LinearColorMapper\"}},\"size\":{\"field\":\"size\",\"units\":\"screen\"},\"x\":{\"field\":\"Longitude\"},\"y\":{\"field\":\"Latitude\"}},\"id\":\"2076\",\"type\":\"Scatter\"},{\"attributes\":{\"zoom_on_axis\":false},\"id\":\"2036\",\"type\":\"WheelZoomTool\"},{\"attributes\":{\"dimension\":1,\"grid_line_color\":null,\"ticker\":{\"id\":\"2056\",\"type\":\"BasicTicker\"}},\"id\":\"2059\",\"type\":\"Grid\"},{\"attributes\":{\"toolbar\":{\"id\":\"2113\",\"type\":\"ProxyToolbar\"},\"toolbar_location\":\"above\"},\"id\":\"2114\",\"type\":\"ToolbarBox\"},{\"attributes\":{\"data_source\":{\"id\":\"2073\",\"type\":\"ColumnDataSource\"},\"glyph\":{\"id\":\"2076\",\"type\":\"Scatter\"},\"hover_glyph\":{\"id\":\"2079\",\"type\":\"Scatter\"},\"muted_glyph\":{\"id\":\"2080\",\"type\":\"Scatter\"},\"nonselection_glyph\":{\"id\":\"2077\",\"type\":\"Scatter\"},\"selection_glyph\":{\"id\":\"2078\",\"type\":\"Scatter\"},\"view\":{\"id\":\"2082\",\"type\":\"CDSView\"}},\"id\":\"2081\",\"type\":\"GlyphRenderer\"},{\"attributes\":{\"tools\":[{\"id\":\"2036\",\"type\":\"WheelZoomTool\"},{\"id\":\"2037\",\"type\":\"BoxZoomTool\"},{\"id\":\"2038\",\"type\":\"HoverTool\"},{\"id\":\"2060\",\"type\":\"SaveTool\"},{\"id\":\"2061\",\"type\":\"PanTool\"},{\"id\":\"2062\",\"type\":\"ResetTool\"},{\"id\":\"2063\",\"type\":\"TapTool\"}]},\"id\":\"2113\",\"type\":\"ProxyToolbar\"},{\"attributes\":{\"bottom_units\":\"screen\",\"fill_alpha\":{\"value\":0.5},\"fill_color\":{\"value\":\"lightgrey\"},\"left_units\":\"screen\",\"level\":\"overlay\",\"line_alpha\":{\"value\":1.0},\"line_color\":{\"value\":\"black\"},\"line_dash\":[4,4],\"line_width\":{\"value\":2},\"render_mode\":\"css\",\"right_units\":\"screen\",\"top_units\":\"screen\"},\"id\":\"2108\",\"type\":\"BoxAnnotation\"},{\"attributes\":{\"axis_label\":\"Latitude\",\"bounds\":\"auto\",\"formatter\":{\"id\":\"2090\",\"type\":\"MercatorTickFormatter\"},\"major_label_orientation\":\"horizontal\",\"ticker\":{\"id\":\"2089\",\"type\":\"MercatorTicker\"}},\"id\":\"2055\",\"type\":\"LinearAxis\"},{\"attributes\":{\"fill_alpha\":{\"value\":0.1},\"fill_color\":{\"field\":\"color\",\"transform\":{\"id\":\"2072\",\"type\":\"LinearColorMapper\"}},\"line_alpha\":{\"value\":0.1},\"line_color\":{\"field\":\"color\",\"transform\":{\"id\":\"2072\",\"type\":\"LinearColorMapper\"}},\"size\":{\"field\":\"size\",\"units\":\"screen\"},\"x\":{\"field\":\"Longitude\"},\"y\":{\"field\":\"Latitude\"}},\"id\":\"2077\",\"type\":\"Scatter\"},{\"attributes\":{\"callback\":null,\"data\":{\"Latitude\":{\"__ndarray__\":\"Hif5i7oHG0EQs795X5gcQaXLNu1RrBxBpR6sMTxtHUFQtb4SB/wdQS3j9cZx2x5B0hyIxR1RH0H9I6XY2FwfQWOy27yzlh9BJ7IRay2gH0GJfIGkJ88fQaQBZ5+x1x9Bs0yISp4pIEG+cfB3/6sgQQhPk1uxESFBhDKgxDA3IUGkuUnL0ZwhQRMPE0PqSyJB2Ctd7qxvIkG9TJWeLMYiQfc4Y4XuFSNBGwov7isWI0GClFynjR0jQWy7OO04MSNBJg4EQpNkI0GQmZ5BqJMjQSdswcD5lCNBXIidmMuyI0EtPNOyePkjQS1jTnW6NiRBWBBfVSFqJEHEcC+Gs44kQfDt4SqcriRBKIfuWhLtJEHLzKx2tgklQVWKqbvnWCVBVx9KCYakJUGa41zK/KwlQe/8x4aLwCVBgfzY6KdWJkE6ZQHlRcgmQeoH8GnNoClBZKm0vpUUK0EFLXGukxsrQewPSZwr2StBtTsujHglLEHWc3OV0SosQc1mxR8nKDFBNXLgc4FPMUHLPTRD0GAyQUe814URaTJBGffpw16EMkEOguAl264yQZvkOmz9ujJBXtxxxNAGNkE=\",\"dtype\":\"float64\",\"shape\":[55]},\"Longitude\":{\"__ndarray__\":\"uEBTNp2qUUGq5dlOSNtRQV3rK/3M2VFBn0aTCE3PUUFhNEKICsVRQSp3NVMhulFB1CK5Fiq3UUHmFxp5dbBRQauaCxYiO1FB/xb0dZOuUUFpNx4uQDhRQX7ojK220FBBWjytbfCUTkFV4ioeKaNRQcKJa257llFBXH4SgmefTkF1gYP5maFOQdKvuFDPqE5BTFh71NyEUUERkySn3HxOQRlRVH8XeFFBelr+Y+W+UkGPE3QgV9tQQQznZ8hqeVFBQA3V7YJuUUFNWKR2O59SQZrQZ04NnVJBEktQqUOZUkGvOP6dY41OQZb6v5PRelJB2o97B9xTUkFLF0qVFUpSQSphmoUcPlJBWeXycMIxUkEATAGh5CxSQZrOroKtIlJB4HBbQpL0UUFFhA9hyPRRQf+HJVj+8VFBhFvr/yngUUHk8WQvlFVPQfH3KE+kzU9BKJDuprrxT0FZAQN7uvJPQU+JYFn68U9B1x1JilPdT0ErMZDJyN5PQff/mbRCMVBBIUc27L9GUEHeIeIxc1pQQdv66xu1W1BB39h30G9aUEFt/zgEAVtQQcymWMHK4U1BtnvQBpNsUEE=\",\"dtype\":\"float64\",\"shape\":[55]},\"River_Width_Avg\":{\"__ndarray__\":\"t23btm1bREAAAAAAALBIQAAAAAAAgFlAAAAAAABwUkAAAAAAAABUQKuqqqqqqlVAx3Ecx3HcWEAtLS0tLS1VQAAAAAAAgFFAAAAAAACgWUAvuuiiiy5XQLdt27Zt21FASZIkSZKkWEAAAAAAAGBTQHZiJ3Zip1JAVVVVVVXVVkC3bdu2bZtfQAAAAAAAwFdAjC666KKLQ0CrqqqqqipVQFVVVVVVVUdAkiRJkiRJPUAAAAAAAABPQNu2bdu2bUVA27Zt27ZtVUBVVVVVVVVBQCd2Yid2Yk5AVVVVVVVVR0AAAAAAAABmQKuqqqqqqkNAAAAAAADAPECrqqqqqqpMQAAAAAAAwEJAPDw8PDw8UkAAAAAAAKBZQKuqqqqqqktAAAAAAAAAW0BVVVVVVVVQQIiHh4eHh0dAq6qqqqrqVkBJkiRJkiRRQHIcx3EcR1RADMMwDMOwUkCe53me5/lRQNPS0tLS0kxA2FBeQ3kNUECH8hrKayhSQF100UUXfWhAspCFLGShVUBvetOb3vRVQBQ7sRM7MVRAh/IaymsoR0AAAAAAAIBVQCd2Yid2Ym5Aq6qqqqrqYUA=\",\"dtype\":\"float64\",\"shape\":[55]},\"color\":{\"__ndarray__\":\"vVtzk8eUrD+IGlWPoKK4P0pTpj+F39U/8hx0+fTfyj9MdlKqgZvOPxKvfTNhS9E/6zdK6Ckc1T/bbvtTfbXQP4gaVY+gosg/YkKGE74F1j/SjCcsrRrTP+65VNwJfck/N8emSW3Z1D9bH5NjSR3NP7vOGIhDZMs/nWZSQh6w0j9SGWP47yrdP/k/Z6lpyNM/2xJ1NQC0qD+y8v3jfbLQPyjeC/Z7ZrU/cPH2N995ZD+FN1cThtvDPwyMuLCf2bA/8Hkob5MC0T961EgIskScPyKyzZ1aH8M/KN4L9ntmtT+cRo7eL/zlP50mynpBSKk/AAAAAAAAAABuyK31CxLBPy7Bdt4T56Q/K9vbLUxkyj9iQoYTvgXWP1ufXK2KwL8/a4glLi+q1z9wq6txJtnFP7xEp3Vl3rU/AwY9epnJ0j8je1VCN8jHP0byw8lhRc8/2S2pOqp6yz8O76mg18XJPw+LhfUCQsE/QDYujXwtxT82Jdu+9jTKPwj2bOQm9eg//CbrBE1A0T/A7xGoAqTRP6tpyNMcEc8/6nQ9xzH7tD9HcKjDahjRPwAAAAAAAPA/NMSlKpob4T8=\",\"dtype\":\"float64\",\"shape\":[55]},\"size\":{\"__ndarray__\":\"VhkovPzcAUAqYSqzSMsOQBzoj49mVytAF5LoG/nLIEDwiXMKMSEjQNYaXYA5niVA5sVcYjRjKkCSSvqo3OIkQCphKrNIyx5A+tJnmC2HK0AGcDF3WOEnQGroaVNM3B9ABXkQnMgPKkCZ8zveTTIiQDWBDzWqHiFARADn0iVcJ0DT7z371ToyQPcPwROEuihAklfSQgDh/j9eb/1cHd8kQLLVjvMawApAzK30BVeYuT9mBS2YZ9IYQA+v5pwHEAVAbJjySjhDJUDMhC1F76rxP6oeQUUx5xdAstWO8xrACkBD2DHWO3s7QESwfNlRmv8/AAAAAAAAAACKOhnzjlYVQHpxFNbYIPo/+2ipnK9+IED60meYLYcrQJnjWaxW2BNAhuqu+bqULUBMlhYOcE8bQOsVEdP+VQtAhEfM2P97J0Ds2eoSRbodQGx3Gh5diyNAqLypZKosIUBpNWrEphsgQNPt5rKDkhVA0MN5sNt4GkBC90g3GmEgQIoziJ1wMj9Au/AlRmCQJUCwaxZSAw0mQAtCXQSyaiNAJNIMOf45CkBZjJJ0hV4lQAAAAAAAAERAQTVPtYBiNUA=\",\"dtype\":\"float64\",\"shape\":[55]}},\"selected\":{\"id\":\"2074\",\"type\":\"Selection\"},\"selection_policy\":{\"id\":\"2109\",\"type\":\"UnionRenderers\"}},\"id\":\"2073\",\"type\":\"ColumnDataSource\"},{\"attributes\":{\"bounds\":[-20037508.342789244,20037508.342789244],\"callback\":null,\"end\":4914069.451080015,\"min_interval\":5,\"reset_end\":4914069.451080015,\"reset_start\":3916693.6218374176,\"start\":3916693.6218374176,\"tags\":[[[\"Longitude\",\"Longitude\",null]]]},\"id\":\"2034\",\"type\":\"Range1d\"},{\"attributes\":{\"js_property_callbacks\":{\"change:indices\":[{\"id\":\"2103\",\"type\":\"CustomJS\"}]}},\"id\":\"2074\",\"type\":\"Selection\"},{\"attributes\":{\"dimension\":\"lat\"},\"id\":\"2090\",\"type\":\"MercatorTickFormatter\"},{\"attributes\":{},\"id\":\"2051\",\"type\":\"BasicTicker\"},{\"attributes\":{\"dimension\":\"lon\"},\"id\":\"2087\",\"type\":\"MercatorTicker\"},{\"attributes\":{\"callback\":null,\"formatters\":{\"Latitude\":{\"id\":\"2084\",\"type\":\"CustomJSHover\"},\"Longitude\":{\"id\":\"2083\",\"type\":\"CustomJSHover\"}},\"renderers\":[{\"id\":\"2081\",\"type\":\"GlyphRenderer\"}],\"tags\":[\"hv_created\"],\"tooltips\":[[\"Longitude\",\"@{Longitude}{custom}\"],[\"Latitude\",\"@{Latitude}{custom}\"],[\"River_Width_Avg\",\"@{River_Width_Avg}\"]]},\"id\":\"2038\",\"type\":\"HoverTool\"},{\"attributes\":{},\"id\":\"2109\",\"type\":\"UnionRenderers\"},{\"attributes\":{\"args\":{\"selected\":{\"id\":\"2074\",\"type\":\"Selection\"}},\"code\":\"var data = {};\\ndata[\\\"index\\\"] = cb_obj[\\\"indices\\\"];\\n\\nfunction unique_events(events) {\\n  // Processes the event queue ignoring duplicate events\\n  // of the same type\\n  var unique = [];\\n  var unique_events = [];\\n  for (var i=0; i<events.length; i++) {\\n    var _tmpevent = events[i];\\n    event = _tmpevent[0];\\n    data = _tmpevent[1];\\n    if (unique_events.indexOf(event)===-1) {\\n      unique.unshift(data);\\n      unique_events.push(event);\\n      }\\n  }\\n  return unique;\\n}\\n\\nfunction process_events(comm_status) {\\n  // Iterates over event queue and sends events via Comm\\n  var events = unique_events(comm_status.event_buffer);\\n  for (var i=0; i<events.length; i++) {\\n    var data = events[i];\\n    var comm = window.PyViz.comms[data[\\\"comm_id\\\"]];\\n    comm.send(data);\\n  }\\n  comm_status.event_buffer = [];\\n}\\n\\nfunction on_msg(msg) {\\n  // Receives acknowledgement from Python, processing event\\n  // and unblocking Comm if event queue empty\\n  var metadata = msg.metadata;\\n  var comm_id = metadata.comm_id\\n  var comm_status = window.PyViz.comm_status[comm_id];\\n  if (comm_status.event_buffer.length) {\\n    process_events(comm_status);\\n    comm_status.blocked = true;\\n    comm_status.time = Date.now()+20;\\n  } else {\\n    comm_status.blocked = false;\\n  }\\n  comm_status.event_buffer = [];\\n  if ((metadata.msg_type == \\\"Ready\\\") && metadata.content) {\\n    console.log(\\\"Python callback returned following output:\\\", metadata.content);\\n  } else if (metadata.msg_type == \\\"Error\\\") {\\n    console.log(\\\"Python failed with the following traceback:\\\", metadata.traceback)\\n  }\\n}\\n\\n// Initialize Comm\\nif ((window.PyViz == undefined) || (window.PyViz.comm_manager == undefined)) { return }\\ncomm = window.PyViz.comm_manager.get_client_comm(\\\"2031\\\", \\\"f219339b8dd34dc99ab381c6938aa607\\\", on_msg);\\nif (!comm) {\\n  return\\n}\\n\\n// Initialize event queue and timeouts for Comm\\nvar comm_status = window.PyViz.comm_status[\\\"f219339b8dd34dc99ab381c6938aa607\\\"];\\nif (comm_status === undefined) {\\n  comm_status = {event_buffer: [], blocked: false, time: Date.now()}\\n  window.PyViz.comm_status[\\\"f219339b8dd34dc99ab381c6938aa607\\\"] = comm_status\\n}\\n\\n// Add current event to queue and process queue if not blocked\\nevent_name = cb_obj.event_name\\ndata['comm_id'] = \\\"f219339b8dd34dc99ab381c6938aa607\\\";\\ntimeout = comm_status.time + 20000;\\nif ((comm_status.blocked && (Date.now() < timeout))) {\\n  comm_status.event_buffer.unshift([event_name, data]);\\n} else {\\n  comm_status.event_buffer.unshift([event_name, data]);\\n  setTimeout(function() { process_events(comm_status); }, 20);\\n  comm_status.blocked = true;\\n  comm_status.time = Date.now()+20;\\n}\\n\"},\"id\":\"2103\",\"type\":\"CustomJS\"},{\"attributes\":{\"dimension\":\"lat\"},\"id\":\"2089\",\"type\":\"MercatorTicker\"},{\"attributes\":{\"grid_line_color\":null,\"ticker\":{\"id\":\"2051\",\"type\":\"BasicTicker\"}},\"id\":\"2054\",\"type\":\"Grid\"},{\"attributes\":{\"bounds\":[-20037508.342789255,20037508.342789244],\"callback\":null,\"end\":1443536.6531796178,\"min_interval\":5,\"reset_end\":1443536.6531796178,\"reset_start\":442862.74828057375,\"start\":442862.74828057375,\"tags\":[[[\"Latitude\",\"Latitude\",null]]]},\"id\":\"2035\",\"type\":\"Range1d\"},{\"attributes\":{\"below\":[{\"id\":\"2050\",\"type\":\"LinearAxis\"}],\"center\":[{\"id\":\"2054\",\"type\":\"Grid\"},{\"id\":\"2059\",\"type\":\"Grid\"}],\"left\":[{\"id\":\"2055\",\"type\":\"LinearAxis\"}],\"margin\":null,\"min_border_bottom\":10,\"min_border_left\":10,\"min_border_right\":10,\"min_border_top\":10,\"plot_height\":300,\"plot_width\":300,\"renderers\":[{\"id\":\"2081\",\"type\":\"GlyphRenderer\"}],\"sizing_mode\":\"fixed\",\"title\":{\"id\":\"2042\",\"type\":\"Title\"},\"toolbar\":{\"id\":\"2064\",\"type\":\"Toolbar\"},\"toolbar_location\":null,\"x_range\":{\"id\":\"2034\",\"type\":\"Range1d\"},\"x_scale\":{\"id\":\"2046\",\"type\":\"LinearScale\"},\"y_range\":{\"id\":\"2035\",\"type\":\"Range1d\"},\"y_scale\":{\"id\":\"2048\",\"type\":\"LinearScale\"}},\"id\":\"2041\",\"subtype\":\"Figure\",\"type\":\"Plot\"},{\"attributes\":{\"high\":1.0,\"low\":0.0,\"palette\":[\"#0c0786\",\"#100787\",\"#130689\",\"#15068a\",\"#18068b\",\"#1b068c\",\"#1d068d\",\"#1f058e\",\"#21058f\",\"#230590\",\"#250591\",\"#270592\",\"#290593\",\"#2b0594\",\"#2d0494\",\"#2f0495\",\"#310496\",\"#330497\",\"#340498\",\"#360498\",\"#380499\",\"#3a049a\",\"#3b039a\",\"#3d039b\",\"#3f039c\",\"#40039c\",\"#42039d\",\"#44039e\",\"#45039e\",\"#47029f\",\"#49029f\",\"#4a02a0\",\"#4c02a1\",\"#4e02a1\",\"#4f02a2\",\"#5101a2\",\"#5201a3\",\"#5401a3\",\"#5601a3\",\"#5701a4\",\"#5901a4\",\"#5a00a5\",\"#5c00a5\",\"#5e00a5\",\"#5f00a6\",\"#6100a6\",\"#6200a6\",\"#6400a7\",\"#6500a7\",\"#6700a7\",\"#6800a7\",\"#6a00a7\",\"#6c00a8\",\"#6d00a8\",\"#6f00a8\",\"#7000a8\",\"#7200a8\",\"#7300a8\",\"#7500a8\",\"#7601a8\",\"#7801a8\",\"#7901a8\",\"#7b02a8\",\"#7c02a7\",\"#7e03a7\",\"#7f03a7\",\"#8104a7\",\"#8204a7\",\"#8405a6\",\"#8506a6\",\"#8607a6\",\"#8807a5\",\"#8908a5\",\"#8b09a4\",\"#8c0aa4\",\"#8e0ca4\",\"#8f0da3\",\"#900ea3\",\"#920fa2\",\"#9310a1\",\"#9511a1\",\"#9612a0\",\"#9713a0\",\"#99149f\",\"#9a159e\",\"#9b179e\",\"#9d189d\",\"#9e199c\",\"#9f1a9b\",\"#a01b9b\",\"#a21c9a\",\"#a31d99\",\"#a41e98\",\"#a51f97\",\"#a72197\",\"#a82296\",\"#a92395\",\"#aa2494\",\"#ac2593\",\"#ad2692\",\"#ae2791\",\"#af2890\",\"#b02a8f\",\"#b12b8f\",\"#b22c8e\",\"#b42d8d\",\"#b52e8c\",\"#b62f8b\",\"#b7308a\",\"#b83289\",\"#b93388\",\"#ba3487\",\"#bb3586\",\"#bc3685\",\"#bd3784\",\"#be3883\",\"#bf3982\",\"#c03b81\",\"#c13c80\",\"#c23d80\",\"#c33e7f\",\"#c43f7e\",\"#c5407d\",\"#c6417c\",\"#c7427b\",\"#c8447a\",\"#c94579\",\"#ca4678\",\"#cb4777\",\"#cc4876\",\"#cd4975\",\"#ce4a75\",\"#cf4b74\",\"#d04d73\",\"#d14e72\",\"#d14f71\",\"#d25070\",\"#d3516f\",\"#d4526e\",\"#d5536d\",\"#d6556d\",\"#d7566c\",\"#d7576b\",\"#d8586a\",\"#d95969\",\"#da5a68\",\"#db5b67\",\"#dc5d66\",\"#dc5e66\",\"#dd5f65\",\"#de6064\",\"#df6163\",\"#df6262\",\"#e06461\",\"#e16560\",\"#e26660\",\"#e3675f\",\"#e3685e\",\"#e46a5d\",\"#e56b5c\",\"#e56c5b\",\"#e66d5a\",\"#e76e5a\",\"#e87059\",\"#e87158\",\"#e97257\",\"#ea7356\",\"#ea7455\",\"#eb7654\",\"#ec7754\",\"#ec7853\",\"#ed7952\",\"#ed7b51\",\"#ee7c50\",\"#ef7d4f\",\"#ef7e4e\",\"#f0804d\",\"#f0814d\",\"#f1824c\",\"#f2844b\",\"#f2854a\",\"#f38649\",\"#f38748\",\"#f48947\",\"#f48a47\",\"#f58b46\",\"#f58d45\",\"#f68e44\",\"#f68f43\",\"#f69142\",\"#f79241\",\"#f79341\",\"#f89540\",\"#f8963f\",\"#f8983e\",\"#f9993d\",\"#f99a3c\",\"#fa9c3b\",\"#fa9d3a\",\"#fa9f3a\",\"#faa039\",\"#fba238\",\"#fba337\",\"#fba436\",\"#fca635\",\"#fca735\",\"#fca934\",\"#fcaa33\",\"#fcac32\",\"#fcad31\",\"#fdaf31\",\"#fdb030\",\"#fdb22f\",\"#fdb32e\",\"#fdb52d\",\"#fdb62d\",\"#fdb82c\",\"#fdb92b\",\"#fdbb2b\",\"#fdbc2a\",\"#fdbe29\",\"#fdc029\",\"#fdc128\",\"#fdc328\",\"#fdc427\",\"#fdc626\",\"#fcc726\",\"#fcc926\",\"#fccb25\",\"#fccc25\",\"#fcce25\",\"#fbd024\",\"#fbd124\",\"#fbd324\",\"#fad524\",\"#fad624\",\"#fad824\",\"#f9d924\",\"#f9db24\",\"#f8dd24\",\"#f8df24\",\"#f7e024\",\"#f7e225\",\"#f6e425\",\"#f6e525\",\"#f5e726\",\"#f5e926\",\"#f4ea26\",\"#f3ec26\",\"#f3ee26\",\"#f2f026\",\"#f2f126\",\"#f1f326\",\"#f0f525\",\"#f0f623\",\"#eff821\"]},\"id\":\"2072\",\"type\":\"LinearColorMapper\"},{\"attributes\":{\"fill_color\":{\"field\":\"color\",\"transform\":{\"id\":\"2072\",\"type\":\"LinearColorMapper\"}},\"line_color\":{\"field\":\"color\",\"transform\":{\"id\":\"2072\",\"type\":\"LinearColorMapper\"}},\"size\":{\"field\":\"size\",\"units\":\"screen\"},\"x\":{\"field\":\"Longitude\"},\"y\":{\"field\":\"Latitude\"}},\"id\":\"2079\",\"type\":\"Scatter\"}],\"root_ids\":[\"2031\"]},\"title\":\"Bokeh Application\",\"version\":\"1.3.4\"}};\n",
       "  var render_items = [{\"docid\":\"adf7a65f-9b35-4bed-abc4-d75aec2992c4\",\"roots\":{\"2031\":\"d530fdc2-07ce-4737-9ae7-0e2b939f235b\"}}];\n",
       "  root.Bokeh.embed.embed_items_notebook(docs_json, render_items);\n",
       "\n",
       "  }\n",
       "  if (root.Bokeh !== undefined) {\n",
       "    embed_document(root);\n",
       "  } else {\n",
       "    var attempts = 0;\n",
       "    var timer = setInterval(function(root) {\n",
       "      if (root.Bokeh !== undefined) {\n",
       "        embed_document(root);\n",
       "        clearInterval(timer);\n",
       "      }\n",
       "      attempts++;\n",
       "      if (attempts > 100) {\n",
       "        console.log(\"Bokeh: ERROR: Unable to run BokehJS code because BokehJS library is missing\");\n",
       "        clearInterval(timer);\n",
       "      }\n",
       "    }, 10, root)\n",
       "  }\n",
       "})(window);</script>"
      ],
      "text/plain": [
       "HoloViews(Layout)"
      ]
     },
     "execution_count": 36,
     "metadata": {
      "application/vnd.holoviews_exec.v0+json": {
       "id": "2031"
      }
     },
     "output_type": "execute_result"
    }
   ],
   "source": [
    "pn.Pane(gv_avg + dmap_tab).servable()"
   ]
  },
  {
   "cell_type": "code",
   "execution_count": null,
   "metadata": {
    "Collapsed": "false"
   },
   "outputs": [],
   "source": [
    "stream_btab = Selection1D(name='btap', source=gv_basins, index=[0])\n",
    "debug_btab = hv.DynamicMap(lambda index: hv.Div(f'basin index:  {index}'),\n",
    "                        streams=[stream_btab])\n",
    "# gv_basins + debug_btab"
   ]
  },
  {
   "cell_type": "code",
   "execution_count": null,
   "metadata": {
    "Collapsed": "false"
   },
   "outputs": [],
   "source": [
    "min_val = np.min(data[['River_Width', 'River_Depth']].min().to_list())\n",
    "max_val = np.max(data[['River_Width', 'River_Depth']].max().to_list())"
   ]
  },
  {
   "cell_type": "code",
   "execution_count": null,
   "metadata": {
    "Collapsed": "false"
   },
   "outputs": [],
   "source": [
    "#overlay\n",
    "#cmap for points:  plt.cm.gist_earth, plasma, inferno, fire, visidis\n",
    "scale.sacle=40\n",
    "\n",
    "app = (\n",
    "    basemap \n",
    "    * gv_avg.opts(cmap='plasma') #* dmap_gv_avg \n",
    "    * gv_basins.opts(alpha=0.1)\n",
    "    + dmap_tseries.opts(\n",
    "     opts.Curve(framewise=True, \n",
    "                show_grid=True, \n",
    "                ylim=(min_val,max_val)\n",
    "               )\n",
    " )\n",
    ").cols(1)\n",
    "\n"
   ]
  },
  {
   "cell_type": "code",
   "execution_count": null,
   "metadata": {
    "Collapsed": "false"
   },
   "outputs": [],
   "source": [
    "pane = pn.panel(app)"
   ]
  },
  {
   "cell_type": "code",
   "execution_count": null,
   "metadata": {
    "Collapsed": "false"
   },
   "outputs": [],
   "source": [
    "pane.servable()"
   ]
  },
  {
   "cell_type": "code",
   "execution_count": null,
   "metadata": {
    "Collapsed": "false"
   },
   "outputs": [],
   "source": [
    "gv_avg + dmap_tab"
   ]
  },
  {
   "cell_type": "code",
   "execution_count": null,
   "metadata": {
    "Collapsed": "false"
   },
   "outputs": [],
   "source": [
    "stream_tab.contents"
   ]
  },
  {
   "cell_type": "code",
   "execution_count": null,
   "metadata": {
    "Collapsed": "false"
   },
   "outputs": [],
   "source": []
  },
  {
   "cell_type": "code",
   "execution_count": null,
   "metadata": {
    "Collapsed": "false"
   },
   "outputs": [],
   "source": []
  },
  {
   "cell_type": "code",
   "execution_count": null,
   "metadata": {
    "Collapsed": "false"
   },
   "outputs": [],
   "source": []
  },
  {
   "cell_type": "code",
   "execution_count": null,
   "metadata": {
    "Collapsed": "false"
   },
   "outputs": [],
   "source": []
  },
  {
   "cell_type": "code",
   "execution_count": null,
   "metadata": {
    "Collapsed": "false"
   },
   "outputs": [],
   "source": []
  },
  {
   "cell_type": "code",
   "execution_count": null,
   "metadata": {
    "Collapsed": "false"
   },
   "outputs": [],
   "source": []
  },
  {
   "cell_type": "code",
   "execution_count": null,
   "metadata": {
    "Collapsed": "false"
   },
   "outputs": [],
   "source": []
  },
  {
   "cell_type": "code",
   "execution_count": null,
   "metadata": {
    "Collapsed": "false"
   },
   "outputs": [],
   "source": []
  },
  {
   "cell_type": "code",
   "execution_count": null,
   "metadata": {
    "Collapsed": "false"
   },
   "outputs": [],
   "source": []
  },
  {
   "cell_type": "code",
   "execution_count": null,
   "metadata": {
    "Collapsed": "false"
   },
   "outputs": [],
   "source": []
  }
 ],
 "metadata": {
  "kernelspec": {
   "display_name": "Python 3",
   "language": "python",
   "name": "python3"
  },
  "language_info": {
   "codemirror_mode": {
    "name": "ipython",
    "version": 3
   },
   "file_extension": ".py",
   "mimetype": "text/x-python",
   "name": "python",
   "nbconvert_exporter": "python",
   "pygments_lexer": "ipython3",
   "version": "3.7.3"
  }
 },
 "nbformat": 4,
 "nbformat_minor": 4
}
