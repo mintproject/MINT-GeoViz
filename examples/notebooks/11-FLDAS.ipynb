{
 "cells": [
  {
   "cell_type": "code",
   "execution_count": null,
   "metadata": {
    "Collapsed": "false"
   },
   "outputs": [],
   "source": []
  },
  {
   "cell_type": "code",
   "execution_count": null,
   "metadata": {
    "Collapsed": "false"
   },
   "outputs": [],
   "source": [
    "%load_ext autoreload\n",
    "%autoreload 2\n",
    "\n",
    "import os, sys, time\n",
    "import datetime as dt\n",
    "import numpy as np\n",
    "import scipy as sp\n",
    "import pandas as pd\n",
    "import geopandas as gpd\n",
    "import intake,param\n",
    "    \n",
    "from pathlib import Path\n",
    "from pprint import pprint as pp\n",
    "p = print \n",
    "\n",
    "from sklearn.externals import joblib\n",
    "import pdb\n",
    "\n",
    "from tqdm import tqdm, trange\n",
    "import ipywidgets as iw\n",
    "\n",
    "import matplotlib.pyplot as plt\n",
    "%matplotlib inline\n",
    "\n",
    "# ignore warnings\n",
    "import warnings\n",
    "if not sys.warnoptions:\n",
    "    warnings.simplefilter('ignore')\n",
    "    \n",
    "# Don't generate bytecode\n",
    "sys.dont_write_bytecode = True"
   ]
  },
  {
   "cell_type": "code",
   "execution_count": null,
   "metadata": {
    "Collapsed": "false"
   },
   "outputs": [],
   "source": [
    "import holoviews as hv\n",
    "import xarray as xr\n",
    "import xarray.ufuncs as xu\n",
    "\n",
    "from holoviews import opts\n",
    "from holoviews.util import Dynamic\n",
    "from holoviews.operation.datashader import datashade, shade, dynspread, rasterize\n",
    "\n",
    "from holoviews.streams import *\n",
    "from holoviews import streams\n",
    "import geoviews as gv\n",
    "import geoviews.feature as gf\n",
    "from geoviews import tile_sources as gvts\n",
    "\n",
    "import panel as pn\n",
    "\n",
    "import geopandas as gpd\n",
    "import cartopy.crs as ccrs\n",
    "import cartopy.feature as cf\n",
    "\n",
    "\n",
    "hv.notebook_extension('bokeh')\n",
    "hv.Dimension.type_formatters[np.datetime64] = '%Y-%m-%d'\n",
    "pn.extension()\n",
    "\n",
    "# set pandas dataframe float precision \n",
    "pd.set_option('display.precision',2)\n"
   ]
  },
  {
   "cell_type": "code",
   "execution_count": null,
   "metadata": {
    "Collapsed": "false"
   },
   "outputs": [],
   "source": [
    "# Add the utils directory to the search path\n",
    "UTILS_DIR = Path('../utils').absolute()\n",
    "assert UTILS_DIR.exists()\n",
    "if str(UTILS_DIR) not in sys.path:\n",
    "    sys.path.insert(0, str(UTILS_DIR))\n",
    "    print(f\"Added {str(UTILS_DIR)} to sys.path\")    "
   ]
  },
  {
   "cell_type": "code",
   "execution_count": null,
   "metadata": {
    "Collapsed": "false"
   },
   "outputs": [],
   "source": [
    "import utils as u\n",
    "import hv_utils as  hvu\n"
   ]
  },
  {
   "cell_type": "code",
   "execution_count": null,
   "metadata": {
    "Collapsed": "false"
   },
   "outputs": [],
   "source": []
  },
  {
   "cell_type": "code",
   "execution_count": null,
   "metadata": {
    "Collapsed": "false"
   },
   "outputs": [],
   "source": [
    "mro = u.get_mro"
   ]
  },
  {
   "cell_type": "code",
   "execution_count": null,
   "metadata": {
    "Collapsed": "false"
   },
   "outputs": [],
   "source": [
    "# Grab registered bokeh renderer\n",
    "print(\"Currently available renderers: \", *hv.Store.renderers.keys())\n",
    "renderer = hv.renderer('bokeh')"
   ]
  },
  {
   "cell_type": "markdown",
   "metadata": {
    "Collapsed": "false"
   },
   "source": [
    "## Set default holoviews style options"
   ]
  },
  {
   "cell_type": "code",
   "execution_count": null,
   "metadata": {
    "Collapsed": "false"
   },
   "outputs": [],
   "source": [
    "%opts Image [colorbar=True, tools=['hover'], active_tools=['wheel_zoom']] Curve [tools=['hover']]"
   ]
  },
  {
   "cell_type": "code",
   "execution_count": null,
   "metadata": {
    "Collapsed": "false"
   },
   "outputs": [],
   "source": [
    "opts.defaults(\n",
    "    opts.WMTS(active_tools=['wheel_zoom']),\n",
    "    opts.Image(active_tools=['wheel_zoom'], tools=['hover'], colorbar=True),\n",
    "    opts.Curve(active_tools=['wheel_zoom'], tools=['hover']),\n",
    "    opts.Scatter(active_tools=['wheel_zoom'], tools=['hover']),\n",
    "    opts.HLine(active_tools=['wheel_zoom'], tools=['hover']),\n",
    "\n",
    "    opts.RGB(active_tools=['wheel_zoom']),\n",
    "    opts.Overlay(active_tools=['wheel_zoom']),\n",
    ")\n"
   ]
  },
  {
   "cell_type": "code",
   "execution_count": null,
   "metadata": {
    "Collapsed": "false"
   },
   "outputs": [],
   "source": [
    "H,W = 500,500"
   ]
  },
  {
   "cell_type": "markdown",
   "metadata": {
    "Collapsed": "false"
   },
   "source": [
    "---\n",
    "## Load Datasets"
   ]
  },
  {
   "cell_type": "code",
   "execution_count": null,
   "metadata": {
    "Collapsed": "false"
   },
   "outputs": [],
   "source": [
    "# Southern Africa Dataset\n",
    "data_dir = Path.home()/'data'\n",
    "fpath_sa = str(\n",
    "    data_dir/'mint/FLDAS/FLDAS_NOAH01_A_SA_D.001/2019/04/FLDAS_NOAH01_A_SA_D.A201904*.001.nc'\n",
    ")\n",
    "fpath_ea = str(\n",
    "    data_dir/'mint/FLDAS/FLDAS_NOAH01_A_EA_D.001/2019/04/FLDAS_NOAH01_A_EA_D.A201904*.001.nc'\n",
    ")\n",
    "ds_sa = xr.open_mfdataset(fpath_sa)\n",
    "ds_sa = ds_sa.drop_dims('bnds')\n",
    "\n",
    "ds_ea = xr.open_mfdataset(fpath_ea)\n",
    "ds_ea = ds_ea.drop_dims('bnds')\n",
    "\n",
    "         \n",
    "# print(ds_ea)\n",
    "# print(ds_sa)"
   ]
  },
  {
   "cell_type": "code",
   "execution_count": null,
   "metadata": {
    "Collapsed": "false"
   },
   "outputs": [],
   "source": [
    "xrd_ea = ds_ea.persist()\n",
    "xrd_sa = ds_sa.persist()"
   ]
  },
  {
   "cell_type": "code",
   "execution_count": null,
   "metadata": {
    "Collapsed": "false"
   },
   "outputs": [],
   "source": [
    "# data variable list\n",
    "varnames_ea = list(ds_ea.data_vars.keys())\n",
    "varnames_sa = list(ds_sa.data_vars.keys())\n",
    "varnames = varnames_ea\n",
    "varname = varnames[3]\n",
    "print(varname)\n",
    "\n",
    "# create holoviews dataset containers \n",
    "kdims = ['X','Y','time']\n",
    "hvd_ea = hv.Dataset(xrd_ea, kdims)\n",
    "hvd_sa = hv.Dataset(xrd_sa, kdims)\n"
   ]
  },
  {
   "cell_type": "code",
   "execution_count": null,
   "metadata": {
    "Collapsed": "false"
   },
   "outputs": [],
   "source": [
    "# colormaps\n",
    "## discretize it conveniently using holoview's \"color_level\" option\n",
    "t_fixed = '2019-04-05'\n",
    "varname = varnames[5] \n",
    "print(\"Selecting a datavariable at a fixed time point: \", t_fixed, varname)\n",
    "\n",
    "# timg_ea = hvd_ea.select(time=t_fixed).to(gv.Image, kdims=['X', 'Y'], vdims=varname) #this returns a holomap, not a hv.Image object\n",
    "# To construct an hv.Image object, we need to pass in the xr.DataArray (ie. one value variable)\n",
    "print(xrd_ea[varname].isel(time=3) )\n",
    "timg_ea = gv.Image(xrd_ea[varname].isel(time=3) , ['X','Y'], crs=ccrs.PlateCarree()) #Opt: vdims=varname\n",
    "timg_sa = gv.Image(xrd_sa[varname].isel(time=3) , ['X','Y'], crs=ccrs.PlateCarree()) #Opt: vdims=varname\n",
    "# print(timg_sa)\n",
    "# gv.tile_sources.Wikipedia * timg_ea.opts(alpha=0.5,width=W_IMG, height=H_IMG) #+ timg_sa.opts(width=W_IMG, height=H_IMG)"
   ]
  },
  {
   "cell_type": "markdown",
   "metadata": {
    "Collapsed": "false"
   },
   "source": [
    "## Basemap tile\n",
    "\n",
    "We need to handle the projection from latlon to web mercator (which is what the hv.tiles expect).\n"
   ]
  },
  {
   "cell_type": "code",
   "execution_count": null,
   "metadata": {
    "Collapsed": "false"
   },
   "outputs": [],
   "source": [
    "wmts_url = 'https://maps.wikimedia.org/osm-intl/{Z}/{X}/{Y}@2x.png'\n",
    "basemap = gv.tile_sources.EsriImagery"
   ]
  },
  {
   "cell_type": "markdown",
   "metadata": {
    "Collapsed": "false"
   },
   "source": [
    "---\n",
    "## Back to FLDAS\n",
    "Modified: Jun 25, 2019\n",
    "\n",
    "Combining holoviews objects with Bokeh models for custome interactive visualization\n"
   ]
  },
  {
   "cell_type": "code",
   "execution_count": null,
   "metadata": {
    "Collapsed": "false"
   },
   "outputs": [],
   "source": [
    "# Set extra style opts (in addition to default from above)\n",
    "W_IMG = 500; H_IMG = 500\n",
    "W_PLOT = 300; H_PLOT = 300"
   ]
  },
  {
   "cell_type": "code",
   "execution_count": null,
   "metadata": {
    "Collapsed": "false"
   },
   "outputs": [],
   "source": [
    "scatter_opts = dict(width=W_PLOT, height=H_PLOT,\n",
    "                    tools=['hover', 'tap'], \n",
    "                    framewise = True)\n",
    "curve_opts = dict(width=W_PLOT, height=H_PLOT,\n",
    "                  framewise=True)\n",
    "img_opts = dict(width=W_IMG, height=H_IMG,\n",
    "                axiswise=True, \n",
    "                framewise=False,\n",
    "                tools=['hover', 'tap'],\n",
    "                colorbar=True\n",
    "               )\n",
    "wmts_opts = dict(width=W_IMG, height=H_IMG)\n",
    "\n",
    "tbl_opts = dict(width = W_PLOT)\n",
    "\n",
    "# datashader opts\n",
    "ds_opts = dict(width=W_IMG, height=H_IMG,\n",
    "#             x_sampling=0.5, \n",
    "#             y_sampling=0.5,\n",
    "            )"
   ]
  },
  {
   "cell_type": "markdown",
   "metadata": {
    "Collapsed": "false"
   },
   "source": [
    "## Put the holoviews objects together \n",
    "- to form a parameterized class object\n",
    "\n",
    "Modified: Jun 27, 2019\n"
   ]
  },
  {
   "cell_type": "code",
   "execution_count": null,
   "metadata": {
    "Collapsed": "false"
   },
   "outputs": [],
   "source": [
    "trange = list(map(pd.Timestamp, hvd_ea.range('time')))\n",
    "\n",
    "class ZonalExplorer(param.Parameterized):\n",
    "    \n",
    "    ################################################################################\n",
    "    ## Parameters\n",
    "    ################################################################################\n",
    "    region = param.ObjectSelector(default='EA', objects=['EA', 'SA'])\n",
    "    varname = param.ObjectSelector(default=varnames[10], objects=varnames)\n",
    "    \n",
    "    \n",
    "    ################################################################################\n",
    "    ## Initialize instance\n",
    "    ################################################################################\n",
    "    def __init__(self, **params):\n",
    "        super().__init__(**params)\n",
    "        self._update()\n",
    "        \n",
    "#         self._init_streams()\n",
    "#         self._set_dyn_main()\n",
    "#         self._set_dyn_funcs()\n",
    "        \n",
    "    @param.depends('region', 'varname', watch=True)\n",
    "    def _update(self):\n",
    "        \"\"\"\n",
    "        (Re)Set main attributes: region data, time_values, empty_tplot\n",
    "        in reaction to region and variable name parameter change from the user\n",
    "        \"\"\"\n",
    "        print(\"Update is called\")\n",
    "        self.xrd = xrd_ea if self.region == 'EA' else xrd_sa\n",
    "        self.time_values = u.to_datetime(self.xrd.get_index('time'))\n",
    "        self.empty_tplot = self.get_empty_tplot()\n",
    "        self.vlines = self.get_dmap_vlines()\n",
    "        self.dmap_timg = self.get_dmap_timg()\n",
    "        self.realize_dmaps()\n",
    "        \n",
    "        # add polygons and reset boxedit stream\n",
    "        self.polys = gv.Polygons([], crs=ccrs.PlateCarree())\n",
    "        self.box_stream = BoxEdit(source=self.polys)\n",
    "        self.dmap_timg = basemap * self.dmap_timg * self.polys\n",
    "        self.dmap_roi_curves = hv.DynamicMap(self.roi_curves, streams=[self.box_stream])\n",
    "        print(\"Finished updating xrd, time_values, empty_tplot, dmap_vlines)\")\n",
    "        \n",
    "    def _set_streams(self):\n",
    "        # Set BoxEdit stream\n",
    "        self.polys = gv.Polygons([], crs=ccrs.PlateCarree())\n",
    "        self.box_stream = BoxEdit(source=self.polys)\n",
    "\n",
    "    ################################################################################\n",
    "    ## Basic Building Blocks -- generic functions\n",
    "    ################################################################################  \n",
    "    def get_empty_tplot(self):\n",
    "        \"\"\"\n",
    "        Get an 'empty' time curve (hv.Curve) with the xaxis set as dt.datetime values\n",
    "        correpsonding to self.time_values. This can serve as the background plot for \n",
    "        hv.VLine and roi_curves for boxedit selection functionality\n",
    "        \n",
    "        Returns:\n",
    "        - hv.Curve\n",
    "        \"\"\"\n",
    "        print(\"get_empty_tplot is called\")\n",
    "        dummy_df = pd.DataFrame({'time': self.time_values, \n",
    "                                 self.varname: np.zeros(len(self.time_values))})\n",
    "        empty_tplot= hv.Curve(dummy_df, 'time', self.varname).opts(line_alpha=0., \n",
    "                                                                  bgcolor=(0,0,0,0))\n",
    "        return empty_tplot\n",
    "    \n",
    "    def get_dmap_vlines(self, **vline_opts):\n",
    "        \"\"\"\n",
    "        Construct a hv.Holomap of VLines at each time point in self.time_values\n",
    "        \n",
    "        Returns:\n",
    "        hv.Holomap of hv.VLines with kdims of time\n",
    "        \"\"\"\n",
    "        vlines = hv.DynamicMap(lambda time: self.empty_tplot * hv.VLine(time), kdims='time') \n",
    "        return vlines#.opts(**vline_opts)\n",
    "        \n",
    "    def get_dmap_timg(self):\n",
    "        dmap_timg = datashade(hv.DynamicMap(self.get_timg, kdims='time'),\n",
    "                      **ds_opts)\n",
    "        return dmap_timg\n",
    "\n",
    "    def get_timg(self, time):\n",
    "        print(\"Getting a new timg...\")\n",
    "        print(f'-- Time: {time}, Region: {self.region}, Variable: {self.varname}')\n",
    "        \n",
    "        data = self.xrd[self.varname].sel(time=time)\n",
    "        return gv.Image(data, ['X','Y'], self.varname, crs=ccrs.PlateCarree())\n",
    "    \n",
    "    def realize_dmaps(self):\n",
    "        \"\"\"\n",
    "        Set the values for dimensions of dynamic maps\n",
    "        Inplace operation on any dynamic map type attributes\n",
    "        \"\"\"\n",
    "        self.vlines = self.vlines.redim.values(time=self.time_values)\n",
    "        self.dmap_timg = self.dmap_timg.redim.values(time=self.time_values)\n",
    "\n",
    "        \n",
    "    ################################################################################\n",
    "    ## Link streams Callbacks\n",
    "    ################################################################################\n",
    "    def roi_curves(self, data):\n",
    "        if not data or not any(len(d) for d in data.values()):\n",
    "            return hv.NdOverlay({0: self.empty_tplot})\n",
    "        curves = {}\n",
    "        data = zip(data['x0'], data['x1'], data['y0'], data['y1'])\n",
    "        for i, (x0,x1,y0,y1) in enumerate(data):\n",
    "            selection = hv.Dataset( self.xrd[self.varname].sel(X=slice(x0,x1), Y=slice(y0,y1)), \n",
    "                                   kdims=['X','Y','time'])\n",
    "            curves[i] = hv.Curve(selection.aggregate('time', np.nanmean), 'time', self.varname)\n",
    "        return hv.NdOverlay(curves, label='roi_curves').opts(\n",
    "            opts.Curve(framewise=True))\n",
    "    \n",
    "    \n",
    "    ################################################################################\n",
    "    ## Print states\n",
    "    ################################################################################ \n",
    "    def pp(self):\n",
    "        self.print_param_values()\n",
    "        \n",
    "    ################################################################################\n",
    "    ## Layouts and Views\n",
    "    ################################################################################\n",
    "    @param.depends('region', 'varname', watch=True)\n",
    "    def panel_roi(self):\n",
    "        w_img = int(W_IMG*1.8)\n",
    "        h_img = int(W_IMG*1.8)\n",
    "        w_plot = w_img\n",
    "        h_plot = H_PLOT\n",
    "        layout = (self.dmap_timg + self.dmap_roi_curves*self.vlines).opts(\n",
    "                opts.WMTS(width=w_img, height=h_img),\n",
    "                opts.Image(width=w_img, height=h_img),\n",
    "                opts.RGB(width=w_img,height=h_img),\n",
    "                opts.Curve(width=w_plot, #height=h_plot,\n",
    "                           framewise=True),\n",
    "                opts.VLine(color='black'),\n",
    "                opts.Polygons(fill_alpha=0.2, line_color='white', fill_color='orange'), \n",
    "                ).cols(1)\n",
    "        p = pn.panel(layout)\n",
    "        roi_twidget =  p[1][0]\n",
    "        roi_main = p[0]\n",
    "        # Customize the components and final arrangement\n",
    "        \n",
    "        return pn.Row(\n",
    "            pn.Pane(roi_twidget, width=300),\n",
    "            roi_main)\n",
    "    \n",
    "    \n",
    "    \n",
    "    "
   ]
  },
  {
   "cell_type": "code",
   "execution_count": null,
   "metadata": {
    "Collapsed": "false"
   },
   "outputs": [],
   "source": [
    "ze = ZonalExplorer()"
   ]
  },
  {
   "cell_type": "code",
   "execution_count": null,
   "metadata": {
    "Collapsed": "false"
   },
   "outputs": [],
   "source": [
    "## initialization test\n",
    "# ex.pp()\n",
    "ze.panel_roi()"
   ]
  },
  {
   "cell_type": "code",
   "execution_count": null,
   "metadata": {
    "Collapsed": "false"
   },
   "outputs": [],
   "source": [
    "# ex.vlines\n",
    "# ex.empty_tplot\n",
    "# ex.dmap_timg + ex.vlines"
   ]
  },
  {
   "cell_type": "code",
   "execution_count": null,
   "metadata": {
    "Collapsed": "false"
   },
   "outputs": [],
   "source": [
    "#test\n",
    "# pn.Column(\n",
    "#     pn.panel(ze.param),\n",
    "#     pn.panel(ze.panel_roi)\n",
    "# )#.servable()\n",
    "# Thank goodness! this works:)"
   ]
  },
  {
   "cell_type": "markdown",
   "metadata": {
    "Collapsed": "false"
   },
   "source": [
    "## Finally putting everything together\n",
    "Modified: Jun 27, 2019\n"
   ]
  },
  {
   "cell_type": "code",
   "execution_count": null,
   "metadata": {
    "Collapsed": "false"
   },
   "outputs": [],
   "source": [
    "# Set extra style opts (in addition to default from above)\n",
    "W_IMG = 400; H_IMG = 400\n",
    "W_PLOT = 800; H_PLOT = 300"
   ]
  },
  {
   "cell_type": "code",
   "execution_count": null,
   "metadata": {
    "Collapsed": "false"
   },
   "outputs": [],
   "source": [
    "scatter_opts = dict(width=W_PLOT, height=H_PLOT,\n",
    "                    tools=['hover', 'tap'], \n",
    "                    framewise = True)\n",
    "curve_opts = dict(width=W_PLOT, height=H_PLOT,\n",
    "                  framewise=True)\n",
    "img_opts = dict(width=W_IMG, height=H_IMG,\n",
    "                axiswise=True, \n",
    "                framewise=False,\n",
    "                tools=['hover', 'tap'],\n",
    "                colorbar=True\n",
    "               )\n",
    "\n",
    "tbl_opts = dict(width = W_PLOT)\n",
    "\n",
    "wmts_opts = dict(width=W_IMG, height=H_IMG)\n",
    "geoline_opts = opts.Shape(line_color='black', line_dash='dashed')\n",
    "inverted_curve_opts = opts.Curve('InvertedAxes', yaxis='right', invert_axes=True, show_title=False)\n",
    "# curve_y_opts(opts.Curve(yaxis='right', invert_axes=True\n",
    "\n",
    "# datashader opts\n",
    "ds_opts = dict(width=W_IMG, height=H_IMG,\n",
    "#             x_sampling=0.5, \n",
    "#             y_sampling=0.5,\n",
    "            )"
   ]
  },
  {
   "cell_type": "code",
   "execution_count": null,
   "metadata": {
    "Collapsed": "false"
   },
   "outputs": [],
   "source": [
    "import datetime as dt\n",
    "\n",
    "\n",
    "trange = list(map(pd.Timestamp, hvd_ea.range('time')))\n",
    "basemap.opts(**wmts_opts)\n",
    "\n",
    "class FLDASExplorer(param.Parameterized):\n",
    "\n",
    "    ################################################################################\n",
    "    ## Parameters\n",
    "    ################################################################################\n",
    "    region = param.ObjectSelector(default='EA', objects=['EA', 'SA'])\n",
    "    varname = param.ObjectSelector(default=varnames[0],objects=varnames)\n",
    "    time = param.Date(trange[0], bounds=trange)\n",
    "#     time_slider= param.Date(trange[0], bounds=trange)\n",
    "\n",
    "\n",
    "    ################################################################################\n",
    "    ## Initialize instance\n",
    "    ################################################################################\n",
    "    def __init__(self):\n",
    "        super().__init__()\n",
    "        self._init_streams()\n",
    "        self._init_debug_box()\n",
    "        self._set_dyn_main()\n",
    "        self._set_dyn_funcs()\n",
    "        \n",
    "        \n",
    "    ################################################################################\n",
    "    ## Initialize Link streams inbetween static components\n",
    "    ################################################################################\n",
    "    @param.depends('region', 'varname', 'time', watch=True)\n",
    "    def _set_dyn_main(self):\n",
    "        print(\"Setting main plot dynamically...\")\n",
    "        print('\\tTime: ', self.time, type(self.time))\n",
    "        dmap_img = hv.DynamicMap(self.get_main_img)\n",
    "        dyn_img = datashade(Dynamic(dmap_img),**ds_opts)\n",
    "\n",
    "        self.dyn_main = basemap * dyn_img\n",
    "    \n",
    "        # must relink the streams \n",
    "        self.dyn_img = dyn_img\n",
    "        self.tap_stream.source = self.dyn_img\n",
    "    \n",
    "    def _set_dyn_funcs(self):\n",
    "        # todo: add set_dyn_main\n",
    "        \n",
    "        self.dyn_tseries = hv.DynamicMap(self.cb_tseries, streams=[self.tap_stream] )\n",
    "        self.dyn_tstats = hv.DynamicMap(self.cb_tstats, streams=[self.tap_stream])\n",
    "        self.dyn_second_plot = basemap* datashade(hv.DynamicMap(self.cb_second_plot, streams=[self.sel_stream]),\n",
    "                              **ds_opts)\n",
    "        self.dyn_third_plot = basemap * datashade(hv.DynamicMap)\n",
    "\n",
    "        \n",
    "        \n",
    "    def _init_streams(self):\n",
    "        self.tap_stream = Tap(name='tap_latlon', x=35.0, y=0.0)#, source=self.main_plot)\n",
    "        self.sel_stream = Selection1D()\n",
    "        self.dummy = Tap(name='dummy', x=0, y=0)\n",
    "        self.streams = [self.tap_stream, self.sel_stream]\n",
    "        print(\"Created initial tap and selection1d stream instances...\")\n",
    "\n",
    "    def _init_debug_box(self):\n",
    "        print(\"Initialing a debug box...\")\n",
    "        self.debug_box = hv.Div(\"\"\"\n",
    "        <h1 style='color:blue;border:1px solid blue'>Debug Box</h1>\n",
    "        \"\"\")\n",
    "        self.debug_dmap = hv.DynamicMap(self.get_updated_debug_box, \n",
    "                                       streams=self.streams)\n",
    "        print('Initiated debug_dmap with current streams to debug_box')\n",
    "        \n",
    "    def get_updated_debug_box(self, *args, **kwargs):\n",
    "        hvu.append_to_div(self.debug_box, str(args))\n",
    "        hvu.append_to_div(self.debug_box, str(kwargs))\n",
    "        return self.debug_box\n",
    "    \n",
    "    \n",
    "    ################################################################################\n",
    "    ## Dynamic Building Blocks (hv.DynamicMaps)\n",
    "    ################################################################################        \n",
    "    @param.depends('region', 'varname', 'time')#, watch=True)\n",
    "    def get_main_img(self):\n",
    "        print(\"Getting a new main img...\")\n",
    "        print(f'\\tTime: {self.time}, Region: {self.region}')\n",
    "        xrd = xrd_ea if self.region == 'EA' else xrd_sa\n",
    "        img = hvu.get_img(xrd, self.varname, self.time)\n",
    "        # debug\n",
    "        \n",
    "        return img.relabel(self.varname).opts(**img_opts)\n",
    "\n",
    "        \n",
    "    ################################################################################\n",
    "    ## Link streams Callbacks\n",
    "    ################################################################################\n",
    "    @param.depends('region', 'varname')\n",
    "    def cb_tseries(self, x, y, method='nearest'):\n",
    "        \"\"\"\n",
    "        Affects:\n",
    "        - Until the first time this callback  called by the instance, there is no\n",
    "        self.tscatter attribute \n",
    "        - Everytime it is called, self.tscatter is updated to the new scatter plot \n",
    "        object that resides in the caller hv.DynamicMap.plot instance\n",
    "            - The reason to maintain which self.tscatter we use is to \n",
    "        \"\"\"\n",
    "        print(f'cb_tseries is called. x,y: {x,y, self.region,self.varname}\"')\n",
    "        xrd = xrd_ea if self.region == 'EA' else xrd_sa  \n",
    "        tseries = xrd[self.varname].sel(X=x, Y=y, method=method)\n",
    "        tseries_label = f\"Time Series for {self.varname} at Lon,Lat = ({x:.2f},{y:.2f}) \"\n",
    "\n",
    "        # Time series as Scatter and Curve\n",
    "        print('\\tself.scatter is updated')\n",
    "        self.tscatter = hv.Scatter(tseries, label=self.varname)\n",
    "        curve = hv.Curve(tseries)\n",
    "\n",
    "        # Important! Connect the self.sel_stream to this new tscatter\n",
    "        print(\"\\tself.sel_stream's source is changed to the new self.tscatter object\")\n",
    "        self.sel_stream.source = self.tscatter\n",
    "\n",
    "        # Add HLine at mean over time\n",
    "        mean = hvu.extract_item(tseries.mean())\n",
    "        mean_line = hv.HLine(mean, label='tseries_mean')\n",
    "        t_midpoint = pd.Timestamp(hvu.extract_item(tseries.coords['time'][len(tseries)//2]))\n",
    "        mean_label = hv.Labels([(t_midpoint, mean, f'mean: {mean:.3f}')])\n",
    "\n",
    "        # Put together to an Overlay\n",
    "        overlay = (\n",
    "            curve.opts(alpha=0.5, line_width=2, **curve_opts) \n",
    "            * self.tscatter.opts(padding=0.2, size=10, **scatter_opts) \n",
    "            * mean_line.opts(color='black', alpha=0.5, line_width=1)\n",
    "            * mean_label.opts(text_font_size='8pt',text_alpha=0.5)\n",
    "        ) \n",
    "        overlay = overlay.relabel(tseries_label)\n",
    "#         self.overlay = overlay\n",
    "\n",
    "        return overlay #vs. self.overlay\n",
    "    \n",
    "    @param.depends('region', 'varname')\n",
    "    def cb_tstats(self, x, y, \n",
    "                  method='nearest',show_as_timestamp=True, decimals=3):\n",
    "        print(f\"cb_tstats is called: {x, y, self.region, self.varname}\")\n",
    "        xrd = xrd_ea if self.region == 'EA' else xrd_sa  \n",
    "        tseries = xrd[self.varname].sel(X=x, Y=y, method=method)\n",
    "        df = hvu.get_stats(tseries, \n",
    "                           show_as_timestamp=show_as_timestamp, decimals=decimals)\n",
    "\n",
    "        # Add metadata on selected latlon point\n",
    "    #     df['point_idx'] = index[0]#\n",
    "        df['lat'] = y\n",
    "        df['lon'] = x\n",
    "\n",
    "        cols = df.columns.to_list()\n",
    "        cols = cols[-2:] + cols[:-2]\n",
    "        df = df[cols]\n",
    "        label = f\"Time Series Stats for {self.varname} at Lon,Lat = ({x:.2f},{y:.2f}) \"\n",
    "        print(\"\\tUpdated self.tstats_table\")\n",
    "        self.tstats_table = hv.Table(df, label=label).opts(**tbl_opts)\n",
    "        return self.tstats_table\n",
    "    \n",
    "    @param.depends('region', 'varname')\n",
    "    def cb_second_plot(self, index):\n",
    "        print('Callback from the scatter plot is called. Selected indices: ', index)\n",
    "        if not index:\n",
    "            index = [0] #todo: current tindex\n",
    "        tidx = index[0]\n",
    "        \n",
    "        xrd = xrd_ea if self.region == 'EA' else xrd_sa \n",
    "        img = hvu.get_img(xrd, self.varname, tidx)\n",
    "        label = f\"{self.varname} on {self.time.strftime('%Y/%m/%d')}\"\n",
    "        return img\n",
    "    \n",
    "    @param.depends('region', 'varname')\n",
    "    def cb_third_plot(self, x,y, method='nearest'):\n",
    "        print('cb_third_plot is called. x,y clicked: ', x, y)\n",
    "        \n",
    "        xrd = xrd_ea if self.region == 'EA' else xrd_sa \n",
    "        img = hvu.get_img(xrd, self.varname, tidx)\n",
    "        label = f\"{self.varname} on {self.time.strftime('%Y/%m/%d')}\"\n",
    "        return img\n",
    "    \n",
    "\n",
    "    ################################################################################\n",
    "    ## Build views\n",
    "    ################################################################################\n",
    "    @param.depends('region', 'varname', 'time')\n",
    "    def view(self):\n",
    "        row1 = (self.dyn_main + self.dyn_second_plot).opts(\n",
    "            opts.Image(**img_opts))\n",
    "        row2 = self.dyn_tseries.opts(\n",
    "            opts.Scatter(**scatter_opts),\n",
    "            opts.Curve(**curve_opts))\n",
    "        row3 = self.dyn_tstats.opts(opts.Table(**tbl_opts) )\n",
    "\n",
    "        return pn.Column(row1, row2, row3)"
   ]
  },
  {
   "cell_type": "code",
   "execution_count": null,
   "metadata": {
    "Collapsed": "false"
   },
   "outputs": [],
   "source": []
  },
  {
   "cell_type": "code",
   "execution_count": null,
   "metadata": {
    "Collapsed": "false"
   },
   "outputs": [],
   "source": []
  },
  {
   "cell_type": "code",
   "execution_count": null,
   "metadata": {
    "Collapsed": "false"
   },
   "outputs": [],
   "source": []
  },
  {
   "cell_type": "code",
   "execution_count": null,
   "metadata": {
    "Collapsed": "false"
   },
   "outputs": [],
   "source": []
  },
  {
   "cell_type": "code",
   "execution_count": null,
   "metadata": {
    "Collapsed": "false"
   },
   "outputs": [],
   "source": []
  },
  {
   "cell_type": "code",
   "execution_count": null,
   "metadata": {
    "Collapsed": "false"
   },
   "outputs": [],
   "source": []
  },
  {
   "cell_type": "code",
   "execution_count": null,
   "metadata": {
    "Collapsed": "false"
   },
   "outputs": [],
   "source": []
  },
  {
   "cell_type": "markdown",
   "metadata": {
    "Collapsed": "false"
   },
   "source": [
    "## Instruction Template"
   ]
  },
  {
   "cell_type": "code",
   "execution_count": null,
   "metadata": {
    "Collapsed": "false"
   },
   "outputs": [],
   "source": [
    "title = \"\"\"#MINT Interactive Visualization for Spatiotemporal Data\"\"\"\n",
    "instruction = \"\"\"\n",
    "This is a demo of an interactive visualization for a large set of spatiotemporal data. \n",
    "Here we use the FLDAS NOAH01 daily data in Southern Africa (SA) and Eastern Africa (EA) for the month of April in 2019.\n",
    "This demo supports a **correct** visualization of a **large** dataset without falling into common visualization [mistakes](#) \n",
    "such as overplotting and deceptive colormapping via [Datashader]() and [Colorcet]().\n",
    "\n",
    "\n",
    "## Instructions\n",
    "\n",
    "1. Dataset selection\n",
    "\n",
    "    - dropdown boxes: choose `region`, `variable`, `time`  of interest\n",
    "    - To specify `time`, a user can either type a specific time to the `Time` input box\n",
    "    or use the time slider to navigate through multiple time points\n",
    "\n",
    "2. All maps are responsive to user inputs from the mouse or trackpad.\n",
    "\n",
    "    - pan or zoom: navigate the map\n",
    "    - mouse hover or click: get its value or see through multiple time points at a specific (Lat, Lon)\n",
    "    - drag or box-select: compute zonal statistics in the selected area\n",
    "\n",
    "3. The time-series plot also supports interactivity\n",
    "\n",
    "    - pan, zoom, mouse-hover as above\n",
    "    - click on a point: allows to see the data at the current timepoint over the entire region\n",
    "\n",
    "\"\"\"\n",
    "\n",
    "viz_title = \"\"\"#FLDAS Explorer POC\"\"\"\n",
    "tseries_title = \"\"\"##Time Series Analysis\"\"\"\n",
    "zonal_title = \"\"\"##FLDAS ROI Explorer\"\"\"\n",
    "\n",
    "zonal_instruction = \"\"\"\n",
    "The dashboard additionally supports users to explore multiple ROIs across time. In the following map, we can\n",
    "first choose the dataset by specifying the region and data varialbe using the dropdown boxes. The timeslider\n",
    "allows you to navigate the dataset over all available time points. \n",
    "\n",
    "Plot\n",
    "To define an ROI, select the 'Box edit' tool and double click to start defining the ROI and double click to \n",
    "finish placing the ROI\n",
    "\n",
    "Upon the selection of ROI, the measurements aggregated over the ROI at each time point is ploted as a time \n",
    "series.  This is similar to the time seires of point measurements at a specific (lat,lon) above, but the \n",
    "measurements are aggregated over space. \n",
    "\n",
    "You can select multiple ROIs and the time series plots will be updated as more ROIs are added. \n",
    "\n",
    "Additionally, you can use the time slider to see both the measurements for the entire region and the aggregated\n",
    "data at specific time.\n",
    "\"\"\"\n",
    "\n",
    "\n",
    "contact = \"\"\"\n",
    "## Suggestions?\n",
    "We would like to know what kind of functionalities users are most interested in.  \n",
    "Please drop a line for requests on this google [doc](https://docs.google.com/spreadsheets/d/14NtyaHcdWnwerDDANt8SOCIIZl_rQzGKzl9GvH0_uk8/edit#gid=0), and we'll start working on adding supports for popular requests!\n",
    "\n",
    "## Questions?\n",
    "Please feel free to contact haejinso@usc.edu for any questions.\n",
    "\"\"\""
   ]
  },
  {
   "cell_type": "code",
   "execution_count": null,
   "metadata": {
    "Collapsed": "false"
   },
   "outputs": [],
   "source": [
    "# Set up dashboards\n",
    "explorer = FLDASExplorer()\n",
    "widgets = pn.Param(explorer.param, widgets={\n",
    "    'time': pn.widgets.DatePicker\n",
    "})\n"
   ]
  },
  {
   "cell_type": "code",
   "execution_count": null,
   "metadata": {
    "Collapsed": "false"
   },
   "outputs": [],
   "source": [
    "ze = ZonalExplorer()"
   ]
  },
  {
   "cell_type": "code",
   "execution_count": null,
   "metadata": {
    "Collapsed": "false"
   },
   "outputs": [],
   "source": [
    "# Panel UI components\n",
    "W_HEADER = 300 + W_IMG*2\n",
    "texts = pn.Column( pn.Pane(title, width=W_HEADER),\n",
    "          pn.Pane(instruction, width=W_HEADER))\n",
    "viz_title = pn.Pane(viz_title)\n",
    "\n",
    "tseries_title = pn.Pane(tseries_title)\n",
    "\n",
    "zonal_title = pn.Pane(zonal_title)\n",
    "zonal_text = pn.Pane(zonal_instruction, width=W_HEADER)\n",
    "\n",
    "contact_text = pn.Pane(contact, width=W_HEADER)"
   ]
  },
  {
   "cell_type": "code",
   "execution_count": null,
   "metadata": {
    "Collapsed": "false"
   },
   "outputs": [],
   "source": [
    "# 1. First dashboard\n",
    "## main viz panel components\n",
    "header = pn.Column(texts,viz_title)\n",
    "viz_panel = pn.Column(explorer.view)\n",
    "row1 = pn.Row(widgets, viz_panel)\n",
    "dashboard1 = pn.Column(header, row1)#.servable()"
   ]
  },
  {
   "cell_type": "code",
   "execution_count": null,
   "metadata": {
    "Collapsed": "false"
   },
   "outputs": [],
   "source": [
    "# 2. Second roi explorer dashboard\n",
    "dashboard2 = pn.Column(\n",
    "  zonal_title,\n",
    "  zonal_text,\n",
    "    pn.panel(ze.param),\n",
    "    pn.panel(ze.panel_roi)\n",
    ")#.servable()"
   ]
  },
  {
   "cell_type": "code",
   "execution_count": null,
   "metadata": {
    "Collapsed": "false"
   },
   "outputs": [],
   "source": [
    "pn.Column(dashboard1, \n",
    "#           pn.layout.HSpacer(),\n",
    "\n",
    "          dashboard2,\n",
    "         contact_text).servable()"
   ]
  },
  {
   "cell_type": "markdown",
   "metadata": {
    "Collapsed": "false"
   },
   "source": [
    "---\n",
    "Modified: Jul 7, 2019\n",
    "\n",
    "## Histogram-based visualizations\n",
    "\n",
    "todo\n",
    "- [ ] Click on a point and append the regional values as a curve\n",
    "- [ ] colorbar informationn -- how to do it for `datashade` output?\n",
    "\n",
    "\n"
   ]
  },
  {
   "cell_type": "code",
   "execution_count": null,
   "metadata": {
    "Collapsed": "false"
   },
   "outputs": [],
   "source": [
    "timg_ea.hist()"
   ]
  },
  {
   "cell_type": "code",
   "execution_count": null,
   "metadata": {
    "Collapsed": "false"
   },
   "outputs": [],
   "source": [
    "timg_ea.data"
   ]
  },
  {
   "cell_type": "code",
   "execution_count": null,
   "metadata": {
    "Collapsed": "false"
   },
   "outputs": [],
   "source": [
    "temp"
   ]
  },
  {
   "cell_type": "code",
   "execution_count": null,
   "metadata": {
    "Collapsed": "false"
   },
   "outputs": [],
   "source": [
    "curve_at_x = hv.Curve(temp.sel(X=50, method='nearest'),'Y', varname).opts(padding=0.1)"
   ]
  },
  {
   "cell_type": "code",
   "execution_count": null,
   "metadata": {
    "Collapsed": "false"
   },
   "outputs": [],
   "source": [
    "subset = temp.sel(X=50, method='nearest')"
   ]
  },
  {
   "cell_type": "code",
   "execution_count": null,
   "metadata": {
    "Collapsed": "false"
   },
   "outputs": [],
   "source": [
    "subset\n"
   ]
  },
  {
   "cell_type": "code",
   "execution_count": null,
   "metadata": {
    "Collapsed": "false"
   },
   "outputs": [],
   "source": [
    "gv.Image(timg_ea) * gv.VLine(50) # << curve_at_x << curve_at_x"
   ]
  },
  {
   "cell_type": "code",
   "execution_count": null,
   "metadata": {
    "Collapsed": "false"
   },
   "outputs": [],
   "source": [
    "gv.Shape(LinkedStream)"
   ]
  },
  {
   "cell_type": "code",
   "execution_count": null,
   "metadata": {
    "Collapsed": "false"
   },
   "outputs": [],
   "source": [
    "from shapely.geometry import LineString"
   ]
  },
  {
   "cell_type": "code",
   "execution_count": null,
   "metadata": {
    "Collapsed": "false"
   },
   "outputs": [],
   "source": [
    "# Helper \n",
    "def get_minmax(dataset, dimname):\n",
    "    vals = dataset.coords.get(dimname)\n",
    "    return vals.min().item(), vals.max().item()"
   ]
  },
  {
   "cell_type": "code",
   "execution_count": null,
   "metadata": {
    "Collapsed": "false"
   },
   "outputs": [],
   "source": [
    "data = timg_ea.data\n",
    "xmin,xmax = get_minmax(data, 'X')\n",
    "ymin, ymax = get_minmax(data, 'Y')\n",
    "\n",
    "# Draw stright lines at mouse click\n",
    "def line_at_x(x, yrange=None):\n",
    "    if yrange is None:\n",
    "        ymin, ymax = get_minmax(data, 'Y')\n",
    "    else:\n",
    "        ymin, ymax = yrange\n",
    "        \n",
    "    l = LineString([(x,ymin), (x,ymax)])\n",
    "    return gv.Shape(l).opts(line_color='red', line_width=5)\n",
    "    \n",
    "def line_at_y(y, xrange=None):\n",
    "    if xrange is None:\n",
    "        xmin, xmax = get_minmax(data, 'X')\n",
    "    else:\n",
    "        xmin, xmax = xrange\n",
    "        \n",
    "    l = LineString([(xmin,y), (xmax,y)])\n",
    "    return gv.Shape(l).opts(line_color='red', line_width=5)\n",
    "\n",
    "# Get curve at x along the other dimention (ie. y), and vice versa for a fixed point Y=y\n",
    "## depends on varname, data (at region, varname, time t)\n",
    "def curve_at_x(data, x):\n",
    "    return hv.Curve(data.sel(X=x, method='nearest'),'Y', varname, group='InvertedAxes').opts(padding=0.1)\n",
    "def curve_at_y(data, y):\n",
    "    return hv.Curve(data.sel(Y=y, method='nearest'),'X', varname).opts(padding=0.1)"
   ]
  },
  {
   "cell_type": "code",
   "execution_count": null,
   "metadata": {
    "Collapsed": "false"
   },
   "outputs": [],
   "source": [
    "# test1\n",
    "timg_ea * line_at_x(30).opts(line_color='black', line_dash='dashed') * line_at_y(10).opts(line_color='black', line_dash='dashed')"
   ]
  },
  {
   "cell_type": "code",
   "execution_count": null,
   "metadata": {
    "Collapsed": "false"
   },
   "outputs": [],
   "source": [
    "# Define dmap for the stringt lines at mouse click location\n",
    "dmap_geolines = hv.DynamicMap(lambda x,y: line_at_x(x) * line_at_y(y), streams=[xystream])\n",
    "dmap_curve_at_x = hv.DynamicMap(lambda x,y: curve_at_x(data, x).opts(inverted_curve_opts), streams=[xystream])\n",
    "dmap_curve_at_y = hv.DynamicMap(lambda x,y: curve_at_y(data, y), streams=[xystream])"
   ]
  },
  {
   "cell_type": "code",
   "execution_count": null,
   "metadata": {
    "Collapsed": "false"
   },
   "outputs": [],
   "source": [
    "# Register stream on the image\n",
    "xystream = Tap(x=35., y=0., source=timg_ea)\n",
    "xystream.print_param_values()"
   ]
  },
  {
   "cell_type": "code",
   "execution_count": null,
   "metadata": {
    "Collapsed": "false"
   },
   "outputs": [],
   "source": [
    "timg_ea"
   ]
  },
  {
   "cell_type": "code",
   "execution_count": null,
   "metadata": {
    "Collapsed": "false"
   },
   "outputs": [],
   "source": [
    "dmap_curve_at_x"
   ]
  },
  {
   "cell_type": "code",
   "execution_count": null,
   "metadata": {
    "Collapsed": "false"
   },
   "outputs": [],
   "source": [
    "(datashade(timg_ea) + dmap_curve_at_x).opts(shared_axes=False)\n"
   ]
  },
  {
   "cell_type": "code",
   "execution_count": null,
   "metadata": {
    "Collapsed": "false"
   },
   "outputs": [],
   "source": [
    "# Putting them toegether\n",
    "(\n",
    "    datashade(timg_ea) * dmap_geolines \n",
    "    + dmap_curve_at_x.opts(curve_x_opts)\n",
    "    + dmap_curve_at_y.opts()\n",
    "    \n",
    ").opts(shared_axes=False)"
   ]
  },
  {
   "cell_type": "code",
   "execution_count": null,
   "metadata": {
    "Collapsed": "false"
   },
   "outputs": [],
   "source": [
    "%%opts Overlay(axiswise=True)\n",
    "p1 = pn.panel(dmap_curve_at_y.opts(height=H_PLOT, width=W_IMG))\n",
    "p2 = pn.panel( basemap * (datashade(timg_ea) * dmap_geolines).opts(height=H_IMG, width=W_IMG) )\n",
    "p3 = pn.panel(dmap_curve_at_x.opts(height=H_IMG, width=H_PLOT))\n",
    "pn.Column(p1,\n",
    "         pn.Row(p2,p3))\n"
   ]
  },
  {
   "cell_type": "code",
   "execution_count": null,
   "metadata": {
    "Collapsed": "false"
   },
   "outputs": [],
   "source": [
    "dmap_curve_at_y.opts.info()"
   ]
  },
  {
   "cell_type": "code",
   "execution_count": null,
   "metadata": {
    "Collapsed": "false"
   },
   "outputs": [],
   "source": [
    "dmap_curve_at_x.opts.info()"
   ]
  },
  {
   "cell_type": "code",
   "execution_count": null,
   "metadata": {
    "Collapsed": "false"
   },
   "outputs": [],
   "source": []
  },
  {
   "cell_type": "code",
   "execution_count": null,
   "metadata": {
    "Collapsed": "false"
   },
   "outputs": [],
   "source": []
  },
  {
   "cell_type": "code",
   "execution_count": null,
   "metadata": {
    "Collapsed": "false"
   },
   "outputs": [],
   "source": []
  },
  {
   "cell_type": "code",
   "execution_count": null,
   "metadata": {
    "Collapsed": "false"
   },
   "outputs": [],
   "source": [
    "hv.help(hv.Curve)"
   ]
  },
  {
   "cell_type": "code",
   "execution_count": null,
   "metadata": {
    "Collapsed": "false"
   },
   "outputs": [],
   "source": []
  }
 ],
 "metadata": {
  "kernelspec": {
   "display_name": "Python [conda env:earthml]",
   "language": "python",
   "name": "conda-env-earthml-py"
  },
  "language_info": {
   "codemirror_mode": {
    "name": "ipython",
    "version": 3
   },
   "file_extension": ".py",
   "mimetype": "text/x-python",
   "name": "python",
   "nbconvert_exporter": "python",
   "pygments_lexer": "ipython3",
   "version": "3.7.3"
  }
 },
 "nbformat": 4,
 "nbformat_minor": 4
}
