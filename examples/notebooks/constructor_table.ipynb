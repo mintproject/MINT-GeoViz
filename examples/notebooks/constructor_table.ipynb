{
 "cells": [
  {
   "cell_type": "code",
   "execution_count": null,
   "metadata": {},
   "outputs": [],
   "source": [
    "%load_ext autoreload\n",
    "%autoreload 2\n",
    "\n",
    "import os, sys\n",
    "import numpy as np\n",
    "import scipy as sp\n",
    "import pandas as pd\n",
    "import intake\n",
    "    \n",
    "from pathlib import Path\n",
    "from pprint import pprint\n",
    "from sklearn.externals import joblib\n",
    "import pdb\n",
    "\n",
    "import matplotlib.pyplot as plt\n",
    "%matplotlib inline\n",
    "\n",
    "# ignore warnings\n",
    "import warnings\n",
    "if not sys.warnoptions:\n",
    "    warnings.simplefilter('ignore')\n",
    "    \n",
    "# Don't generate bytecode\n",
    "sys.dont_write_bytecode = True\n",
    "\n",
    "import holoviews as hv\n",
    "import xarray as xr\n",
    "import pandas as pd\n",
    "from holoviews import opts\n",
    "hv.notebook_extension('bokeh')"
   ]
  },
  {
   "cell_type": "code",
   "execution_count": null,
   "metadata": {},
   "outputs": [],
   "source": [
    "# Create a table of variable names\n",
    "\n",
    "# Python dictionary to hv.Table\n",
    "t1 = hv.Table({'x': [1,2,3], 'y':[10,20,30]})\n",
    "t12 = hv.Table({'x': [1,2,3], 'y':[10,20,30]}, 'x','y')\n",
    "t13 = hv.Table({'x': [1,2,3], 'y':[10,20,30]}, 'col1', 'col2')\n",
    "\n",
    "# Pandas DataFrame to hv.Table\n",
    "df = pd.DataFrame({'x': [1,2,3], 'y':[10,20,30]})\n",
    "# t2 = hv.Table(df)\n",
    "t2 = hv.Table(df, 'col1', 'col2')\n",
    "\n",
    "\n",
    "# Tuple of lists\n",
    "t3 = hv.Table( ([1,2,3], [10,20,30]), 'col1', 'col2' )\n",
    "\n",
    "# List of tuples\n",
    "t4 = hv.Table( [ (1,10), (2,20), (3,30), (4,40) ], 'col1', 'col2')\n",
    "\n",
    "(t1 + t12 + t13 + t2 + t3 + t4).cols(3)"
   ]
  },
  {
   "cell_type": "code",
   "execution_count": null,
   "metadata": {},
   "outputs": [],
   "source": [
    "hv.Element?"
   ]
  },
  {
   "cell_type": "code",
   "execution_count": null,
   "metadata": {},
   "outputs": [],
   "source": []
  }
 ],
 "metadata": {
  "kernelspec": {
   "display_name": "Python [conda env:earthml]",
   "language": "python",
   "name": "conda-env-earthml-py"
  },
  "language_info": {
   "codemirror_mode": {
    "name": "ipython",
    "version": 3
   },
   "file_extension": ".py",
   "mimetype": "text/x-python",
   "name": "python",
   "nbconvert_exporter": "python",
   "pygments_lexer": "ipython3",
   "version": "3.7.1"
  }
 },
 "nbformat": 4,
 "nbformat_minor": 2
}
