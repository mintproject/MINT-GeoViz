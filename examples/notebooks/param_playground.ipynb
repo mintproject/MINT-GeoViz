{
 "cells": [
  {
   "cell_type": "code",
   "execution_count": null,
   "metadata": {},
   "outputs": [],
   "source": []
  },
  {
   "cell_type": "code",
   "execution_count": null,
   "metadata": {},
   "outputs": [],
   "source": [
    "%load_ext autoreload\n",
    "%autoreload 2\n",
    "\n",
    "import os, sys, time\n",
    "import datetime as dt\n",
    "import numpy as np\n",
    "import scipy as sp\n",
    "import pandas as pd\n",
    "import geopandas as gpd\n",
    "import intake,param\n",
    "    \n",
    "from pathlib import Path\n",
    "from pprint import pprint as pp\n",
    "p = print \n",
    "\n",
    "from sklearn.externals import joblib\n",
    "import pdb\n",
    "\n",
    "from tqdm import tqdm, trange\n",
    "import ipywidgets as iw\n",
    "\n",
    "import matplotlib.pyplot as plt\n",
    "%matplotlib inline\n",
    "\n",
    "# ignore warnings\n",
    "import warnings\n",
    "if not sys.warnoptions:\n",
    "    warnings.simplefilter('ignore')\n",
    "    \n",
    "# Don't generate bytecode\n",
    "sys.dont_write_bytecode = True"
   ]
  },
  {
   "cell_type": "code",
   "execution_count": null,
   "metadata": {},
   "outputs": [],
   "source": [
    "import holoviews as hv\n",
    "import xarray as xr\n",
    "import xarray.ufuncs as xu\n",
    "\n",
    "from holoviews import opts\n",
    "from holoviews.util import Dynamic\n",
    "from holoviews.operation.datashader import datashade, shade, dynspread, rasterize\n",
    "\n",
    "from holoviews.streams import Stream, param\n",
    "from holoviews import streams\n",
    "import geoviews as gv\n",
    "import geoviews.feature as gf\n",
    "from geoviews import tile_sources as gvts\n",
    "\n",
    "import panel as pn\n",
    "\n",
    "import geopandas as gpd\n",
    "import cartopy.crs as ccrs\n",
    "import cartopy.feature as cf\n",
    "\n",
    "\n",
    "hv.notebook_extension('bokeh')\n",
    "hv.Dimension.type_formatters[np.datetime64] = '%Y-%m-%d'\n",
    "pn.extension()\n",
    "\n",
    "# set pandas dataframe float precision \n",
    "pd.set_option('display.precision',2)\n"
   ]
  },
  {
   "cell_type": "code",
   "execution_count": null,
   "metadata": {},
   "outputs": [],
   "source": [
    "# Add the utils directory to the search path\n",
    "UTILS_DIR = Path('../utils').absolute()\n",
    "assert UTILS_DIR.exists()\n",
    "if str(UTILS_DIR) not in sys.path:\n",
    "    sys.path.insert(0, str(UTILS_DIR))\n",
    "    print(f\"Added {str(UTILS_DIR)} to sys.path\")    "
   ]
  },
  {
   "cell_type": "code",
   "execution_count": null,
   "metadata": {},
   "outputs": [],
   "source": [
    "import utils as u\n",
    "import hv_utils as  hvu\n"
   ]
  },
  {
   "cell_type": "code",
   "execution_count": null,
   "metadata": {},
   "outputs": [],
   "source": [
    "mro = u.get_mro"
   ]
  },
  {
   "cell_type": "code",
   "execution_count": null,
   "metadata": {},
   "outputs": [],
   "source": [
    "# Grab registered bokeh renderer\n",
    "print(\"Currently available renderers: \", *hv.Store.renderers.keys())\n",
    "renderer = hv.renderer('bokeh')"
   ]
  },
  {
   "cell_type": "markdown",
   "metadata": {},
   "source": [
    "## Set default holoviews style options"
   ]
  },
  {
   "cell_type": "code",
   "execution_count": null,
   "metadata": {},
   "outputs": [],
   "source": [
    "%opts Image [colorbar=True, tools=['hover'], active_tools=['wheel_zoom']] Curve [tools=['hover']]"
   ]
  },
  {
   "cell_type": "code",
   "execution_count": null,
   "metadata": {},
   "outputs": [],
   "source": [
    "opts.defaults(\n",
    "    opts.WMTS(active_tools=['wheel_zoom']),\n",
    "    opts.Image(active_tools=['wheel_zoom'], tools=['hover'], colorbar=True),\n",
    "    opts.Curve(active_tools=['wheel_zoom'], tools=['hover']),\n",
    "    opts.Scatter(active_tools=['wheel_zoom'], tools=['hover']),\n",
    "    opts.HLine(active_tools=['wheel_zoom'], tools=['hover']),\n",
    "\n",
    "    opts.RGB(active_tools=['wheel_zoom']),\n",
    "    opts.Overlay(active_tools=['wheel_zoom']),\n",
    ")\n"
   ]
  },
  {
   "cell_type": "code",
   "execution_count": null,
   "metadata": {},
   "outputs": [],
   "source": [
    "H,W = 500,500"
   ]
  },
  {
   "cell_type": "markdown",
   "metadata": {},
   "source": [
    "---\n",
    "## Load Datasets"
   ]
  },
  {
   "cell_type": "code",
   "execution_count": null,
   "metadata": {},
   "outputs": [],
   "source": [
    "# Southern Africa Dataset\n",
    "data_dir = Path.home()/'data'\n",
    "fpath_sa = str(\n",
    "    data_dir/'mint/FLDAS/FLDAS_NOAH01_A_SA_D.001/2019/04/FLDAS_NOAH01_A_SA_D.A201904*.001.nc'\n",
    ")\n",
    "fpath_ea = str(\n",
    "    data_dir/'mint/FLDAS/FLDAS_NOAH01_A_EA_D.001/2019/04/FLDAS_NOAH01_A_EA_D.A201904*.001.nc'\n",
    ")\n",
    "ds_sa = xr.open_mfdataset(fpath_sa)\n",
    "ds_sa = ds_sa.drop_dims('bnds')\n",
    "\n",
    "ds_ea = xr.open_mfdataset(fpath_ea)\n",
    "ds_ea = ds_ea.drop_dims('bnds')\n",
    "\n",
    "         \n",
    "# print(ds_ea)\n",
    "# print(ds_sa)"
   ]
  },
  {
   "cell_type": "code",
   "execution_count": null,
   "metadata": {},
   "outputs": [],
   "source": [
    "xrd_ea = ds_ea.persist()\n",
    "xrd_sa = ds_sa.persist()"
   ]
  },
  {
   "cell_type": "code",
   "execution_count": null,
   "metadata": {},
   "outputs": [],
   "source": [
    "# data variable list\n",
    "varnames_ea = list(ds_ea.data_vars.keys())\n",
    "varnames_sa = list(ds_sa.data_vars.keys())\n",
    "varnames = varnames_ea\n",
    "varname = varnames[3]\n",
    "print(varname)\n",
    "\n",
    "# create holoviews dataset containers \n",
    "kdims = ['X','Y','time']\n",
    "hvd_ea = hv.Dataset(xrd_ea, kdims)\n",
    "hvd_sa = hv.Dataset(xrd_sa, kdims)\n"
   ]
  },
  {
   "cell_type": "code",
   "execution_count": null,
   "metadata": {},
   "outputs": [],
   "source": [
    "# colormaps\n",
    "## discretize it conveniently using holoview's \"color_level\" option\n",
    "t_fixed = '2019-04-05'\n",
    "varname = varnames[5] \n",
    "print(\"Selecting a datavariable at a fixed time point: \", t_fixed, varname)\n",
    "\n",
    "# timg_ea = hvd_ea.select(time=t_fixed).to(gv.Image, kdims=['X', 'Y'], vdims=varname) #this returns a holomap, not a hv.Image object\n",
    "# To construct an hv.Image object, we need to pass in the xr.DataArray (ie. one value variable)\n",
    "print(xrd_ea[varname].isel(time=3) )\n",
    "timg_ea = gv.Image(xrd_ea[varname].isel(time=3) , ['X','Y'], crs=ccrs.PlateCarree()) #Opt: vdims=varname\n",
    "timg_sa = gv.Image(xrd_sa[varname].isel(time=3) , ['X','Y'], crs=ccrs.PlateCarree()) #Opt: vdims=varname\n",
    "# print(timg_sa)\n",
    "# gv.tile_sources.Wikipedia * timg_ea.opts(alpha=0.5,width=W_IMG, height=H_IMG) #+ timg_sa.opts(width=W_IMG, height=H_IMG)"
   ]
  },
  {
   "cell_type": "markdown",
   "metadata": {},
   "source": [
    "## Basemap tile\n",
    "\n",
    "We need to handle the projection from latlon to web mercator (which is what the hv.tiles expect).\n"
   ]
  },
  {
   "cell_type": "code",
   "execution_count": null,
   "metadata": {},
   "outputs": [],
   "source": [
    "wmts_url = 'https://maps.wikimedia.org/osm-intl/{Z}/{X}/{Y}@2x.png'\n",
    "basemap = gv.tile_sources.EsriImagery"
   ]
  },
  {
   "cell_type": "markdown",
   "metadata": {},
   "source": [
    "---\n",
    "## Panel"
   ]
  },
  {
   "cell_type": "code",
   "execution_count": null,
   "metadata": {},
   "outputs": [],
   "source": [
    "from bokeh.plotting import figure"
   ]
  },
  {
   "cell_type": "code",
   "execution_count": null,
   "metadata": {},
   "outputs": [],
   "source": [
    "class Shape(param.Parameterized):\n",
    "    # parameters\n",
    "    radius = param.Number(default=1., bounds=(0,1))\n",
    "    \n",
    "    # initialization/state managmenet\n",
    "    # Define other state attributes that are non-parametric\n",
    "    def __init__(self, **params):\n",
    "        super().__init__(**params)\n",
    "        self.figure = figure(x_range=(-1,1), y_range=(-1,1))\n",
    "        self.renderer = self.figure.line(*self._get_coords())\n",
    "    def _get_coords(self):\n",
    "        return [],[]\n",
    "    def view(self):\n",
    "        return self.figure\n",
    "    \n",
    "class Circle(Shape):\n",
    "    n = param.Integer(default=100, precedence=-1) \n",
    "    # precedence < pn.Param.display_threshold will not be `widgetized`\n",
    "    \n",
    "    def __init__(self, **params):\n",
    "        super().__init__(**params)\n",
    "        \n",
    "    @param.depends('n', 'radius')\n",
    "    def _get_coords(self):\n",
    "        angles = np.linspace(0, 2*np.pi, num=self.n+1)\n",
    "        return (self.radius*np.sin(angles),\n",
    "                self.radius*np.cos(angles))\n",
    "    \n",
    "    @param.depends('radius', watch=True)\n",
    "    def update(self):\n",
    "        xs,ys= self._get_coords()\n",
    "        self.renderer.data_source.data.update({'x': xs, 'y':ys})\n",
    "        \n",
    "class NGon(Circle):\n",
    "    n = param.Integer(default=3, bounds=(3,10),\n",
    "                      precedence=1)\n",
    "    \n",
    "    @param.depends('radius', 'n', watch=True)\n",
    "    def update(self):\n",
    "        xs,ys = self._get_coords()\n",
    "        self.renderer.data_source.data.update({'x': xs, 'y': ys})\n",
    "        "
   ]
  },
  {
   "cell_type": "code",
   "execution_count": null,
   "metadata": {},
   "outputs": [],
   "source": [
    "hexagon = NGon(n=6, radius=0.3)\n",
    "show(hexagon.view())"
   ]
  },
  {
   "cell_type": "code",
   "execution_count": null,
   "metadata": {},
   "outputs": [],
   "source": [
    "c,show(c.view())"
   ]
  },
  {
   "cell_type": "code",
   "execution_count": null,
   "metadata": {},
   "outputs": [],
   "source": [
    "# c.set_param(n=10)\n",
    "# show(c.view())\n",
    "c.set_param(radius=0.5)\n",
    "show(c.view())"
   ]
  },
  {
   "cell_type": "code",
   "execution_count": null,
   "metadata": {},
   "outputs": [],
   "source": [
    "shapes = [hexagon, c]\n",
    "class ShapeViewer(param.Parameterized):\n",
    "    \n",
    "    # parameter\n",
    "    shape = param.ObjectSelector(default=shapes[0], objects=shapes)\n",
    "    \n",
    "    @param.depends('shape')\n",
    "    def view(self):\n",
    "        return self.shape.view()\n",
    "    \n",
    "    @param.depends('shape')\n",
    "    def title(self):\n",
    "        return f\"{type(self.shape).__name__}, r={self.shape.radius}\"\n",
    "    \n",
    "    def panel(self):\n",
    "        return pn.Column(self.title(), self.view())"
   ]
  },
  {
   "cell_type": "code",
   "execution_count": null,
   "metadata": {},
   "outputs": [],
   "source": [
    "sv = ShapeViewer()\n",
    "pn.Row(sv.param, sv.panel())"
   ]
  },
  {
   "cell_type": "markdown",
   "metadata": {},
   "source": [
    "---\n",
    "## Panel Pipelines\n",
    "Modified: Jun 25, 2019"
   ]
  },
  {
   "cell_type": "code",
   "execution_count": null,
   "metadata": {},
   "outputs": [],
   "source": [
    "pn.extension('katex')\n",
    "\n",
    "pipeline = pn.pipeline.Pipeline()\n",
    "\n",
    "class Stage1(param.Parameterized):\n",
    "    a = param.Number(default=5, bounds=(0,10))\n",
    "    b = param.Number(default=5, bounds=(0,10))\n",
    "    \n",
    "    @param.output(c=param.Number, d=param.Number)\n",
    "    def output(self):\n",
    "        return self.a*self.b, self.a**self.b\n",
    "    \n",
    "#     @param.depends('a','b')\n",
    "    def view(self):\n",
    "        c,d = self.output()\n",
    "        return pn.pane.LaTeX(f\"\"\"\n",
    "        ${self.a} * {self.b} = {c}$, \n",
    "        ${self.a} ** {self.b} = {d}$\n",
    "        \"\"\")\n",
    "    def panel(self):\n",
    "        return pn.Row(self.param, self.view())\n",
    "    \n",
    "s1 = Stage1()\n",
    "s1.panel()\n",
    "        "
   ]
  },
  {
   "cell_type": "code",
   "execution_count": null,
   "metadata": {},
   "outputs": [],
   "source": [
    "s1.param.outputs()"
   ]
  },
  {
   "cell_type": "code",
   "execution_count": null,
   "metadata": {},
   "outputs": [],
   "source": [
    "s1.panel()\n"
   ]
  },
  {
   "cell_type": "code",
   "execution_count": null,
   "metadata": {},
   "outputs": [],
   "source": [
    "pipeline.add_stage('Stage1',s1)"
   ]
  },
  {
   "cell_type": "code",
   "execution_count": null,
   "metadata": {},
   "outputs": [],
   "source": [
    "## Second stage\n",
    "class Stage2(param.Parameterized):\n",
    "    c = param.Number(default=5, bounds=(0,None), precedence=-1)\n",
    "    exp = param.Number(default=0.1, bounds=(0,3))\n",
    "    \n",
    "#     @param.depends('c','exp')\n",
    "    def view(self):\n",
    "        return pn.pane.LaTeX(f\"\"\"\n",
    "        ${self.c}**{self.exp} = {self.c**self.exp}$\n",
    "        \"\"\")\n",
    "    \n",
    "    def panel(self):\n",
    "        return pn.Row(self.param, self.view)\n",
    "s2 = Stage2()\n",
    "s2.panel()"
   ]
  },
  {
   "cell_type": "code",
   "execution_count": null,
   "metadata": {},
   "outputs": [],
   "source": [
    "pipeline.add_stage('Stage2', s2)"
   ]
  },
  {
   "cell_type": "code",
   "execution_count": null,
   "metadata": {},
   "outputs": [],
   "source": [
    "pipeline.layout"
   ]
  },
  {
   "cell_type": "code",
   "execution_count": null,
   "metadata": {},
   "outputs": [],
   "source": []
  },
  {
   "cell_type": "code",
   "execution_count": null,
   "metadata": {},
   "outputs": [],
   "source": []
  },
  {
   "cell_type": "code",
   "execution_count": null,
   "metadata": {},
   "outputs": [],
   "source": []
  },
  {
   "cell_type": "markdown",
   "metadata": {},
   "source": [
    "---\n",
    "## Bokeh basics\n",
    "Modified: Jun 25, 2019"
   ]
  },
  {
   "cell_type": "code",
   "execution_count": null,
   "metadata": {},
   "outputs": [],
   "source": [
    "from bokeh.plotting import figure, output_file, output_notebook, show\n",
    "# 1. Define the output destination\n",
    "output_notebook()"
   ]
  },
  {
   "cell_type": "code",
   "execution_count": null,
   "metadata": {},
   "outputs": [],
   "source": [
    "# 2. Prepare data\n",
    "x = [1,2,3,4,5]\n",
    "y = [3,2,1,4,5]\n",
    "\n",
    "# 3. Configure the settings for visualization\n",
    "##  call `figure`\n",
    "p = figure(title='bokeh_test', \n",
    "           x_axis_label='x',\n",
    "           y_axis_label='y')\n",
    "##  Add renders for your glyphs\n",
    "p.line(x,y, legend='temperature', line_width=2\n",
    "      )\n",
    "\n",
    "## Serve the result plot(aka. figure) using eg `show` or `save\n",
    "show(p)"
   ]
  },
  {
   "cell_type": "code",
   "execution_count": null,
   "metadata": {},
   "outputs": [],
   "source": [
    "# data2\n",
    "N = 100\n",
    "x = np.random.random(size=N) *10\n",
    "y = np.random.random(size=N)*10\n",
    "radii = np.random.random(size=N) *1.5\n",
    "colors = [f\"#{int(r):02x}{int(g):02x}{int(150):02x}\" \n",
    "          for (r,g) in zip(20*x+50, 20*y+50)]\n",
    "TOOLS = 'crosshair,pan,wheel_zoom,box_zoom,reset,box_select,lasso_select'\n",
    "\n",
    "p = figure(tools=TOOLS, x_range=(0,10), y_range=(0,10))\n",
    "p.circle(x,y, radius=radii, fill_color=colors, fill_alpha=0.5)\n",
    "\n",
    "show(p)"
   ]
  },
  {
   "cell_type": "code",
   "execution_count": null,
   "metadata": {},
   "outputs": [],
   "source": [
    "# example 3\n",
    "from bokeh.layouts import gridplot\n",
    "# data\n",
    "n = 100\n",
    "xs = np.linspace(-2*np.pi, 2*np.pi, num=n)\n",
    "ys1 = np.sin(xs)\n",
    "ys2 = np.cos(xs)\n",
    "\n",
    "# get plots/figures\n",
    "f1 = figure(width=200, height=200)\n",
    "f2 = figure(width=200, height=200,\n",
    "            x_range=f1.x_range)#, y_range=f1.y_range) # links x and y ranges for linked panning"
   ]
  },
  {
   "cell_type": "code",
   "execution_count": null,
   "metadata": {},
   "outputs": [],
   "source": [
    "f1.x_range, f2.x_range"
   ]
  },
  {
   "cell_type": "code",
   "execution_count": null,
   "metadata": {},
   "outputs": [],
   "source": [
    "# add renders to the plot\n",
    "f1.line(xs,ys1,color='yellow',legend='sin')\n",
    "f2.line(xs,ys2,color='red',legend='cos')"
   ]
  },
  {
   "cell_type": "code",
   "execution_count": null,
   "metadata": {},
   "outputs": [],
   "source": [
    "# show results\n",
    "layout = gridplot([[f1,f2]])"
   ]
  },
  {
   "cell_type": "code",
   "execution_count": null,
   "metadata": {},
   "outputs": [],
   "source": [
    "show(layout)"
   ]
  },
  {
   "cell_type": "markdown",
   "metadata": {},
   "source": [
    "## Linked brushing\n",
    "a selection on one plot causes a selection to update on the other plots\n",
    "- Done by sharing a `ColumnDataSource` between two figures\n"
   ]
  },
  {
   "cell_type": "code",
   "execution_count": null,
   "metadata": {},
   "outputs": [],
   "source": [
    "# NEW: create a column data source for the plots to share\n",
    "from bokeh.models import ColumnDataSource"
   ]
  },
  {
   "cell_type": "code",
   "execution_count": null,
   "metadata": {},
   "outputs": [],
   "source": [
    "# source = ColumnDataSource("
   ]
  },
  {
   "cell_type": "code",
   "execution_count": null,
   "metadata": {},
   "outputs": [],
   "source": [
    "data = {'col1': [1,2,3,4], 'col2': np.array([10.0, 20.0, 30.0, 40.0])}\n",
    "# data = dict(x=xs, y1=ys1, y2=ys2)\n",
    "source = ColumnDataSource(data)\n",
    "source, #data"
   ]
  },
  {
   "cell_type": "code",
   "execution_count": null,
   "metadata": {},
   "outputs": [],
   "source": [
    "id(source.data), id(data), (source.data is data)"
   ]
  },
  {
   "cell_type": "code",
   "execution_count": null,
   "metadata": {},
   "outputs": [],
   "source": [
    "source.to_df().head()"
   ]
  },
  {
   "cell_type": "markdown",
   "metadata": {},
   "source": [
    "- Create a new plot and add a renderer for your glyph with a constructor that takes in the source (of `ColumnDataSource` instance) and its column names to select `x` and `y` data\n"
   ]
  },
  {
   "cell_type": "code",
   "execution_count": null,
   "metadata": {},
   "outputs": [],
   "source": [
    "p1 = figure(width=300, height=300, tools=TOOLS)\n",
    "p2 = figure(width=300, height=300, tools=TOOLS)\n",
    "p1.circle(x='x', y='y1',source=source)\n",
    "p2.circle(x='x', y='y2',source=source)\n",
    "\n",
    "show(gridplot([[p1,p2]]))"
   ]
  },
  {
   "cell_type": "code",
   "execution_count": null,
   "metadata": {},
   "outputs": [],
   "source": [
    "p3 = figure(width=500, height=300, x_axis_type='datetime')\n",
    "xs = pd.date_range('2019-04-01', '2019-04-30', freq='D')\n",
    "x_ind = np.linspace(0,2*np.pi,len(xs))\n",
    "x_ind"
   ]
  },
  {
   "cell_type": "code",
   "execution_count": null,
   "metadata": {},
   "outputs": [],
   "source": [
    "y1 = np.sin(x_ind)\n",
    "p3.circle(x=xs, y=y1)\n",
    "show(p3)"
   ]
  },
  {
   "cell_type": "code",
   "execution_count": null,
   "metadata": {},
   "outputs": [],
   "source": [
    "p3.xaxis.axis_label='Date'\n",
    "p3.yaxis.axis_label='yval'"
   ]
  },
  {
   "cell_type": "code",
   "execution_count": null,
   "metadata": {},
   "outputs": [],
   "source": [
    "show(p3)"
   ]
  },
  {
   "cell_type": "markdown",
   "metadata": {},
   "source": [
    "---\n",
    "## Back to FLDAS\n",
    "Modified: Jun 25, 2019\n",
    "\n",
    "Combining holoviews objects with Bokeh models for custome interactive visualization\n"
   ]
  },
  {
   "cell_type": "code",
   "execution_count": null,
   "metadata": {},
   "outputs": [],
   "source": [
    "# Set extra style opts (in addition to default from above)\n",
    "W_IMG = 500; H_IMG = 500\n",
    "W_PLOT = 300; H_PLOT = 300"
   ]
  },
  {
   "cell_type": "code",
   "execution_count": null,
   "metadata": {},
   "outputs": [],
   "source": [
    "scatter_opts = dict(width=W_PLOT, height=H_PLOT,\n",
    "                    tools=['hover', 'tap'], \n",
    "                    framewise = True)\n",
    "curve_opts = dict(width=W_PLOT, height=H_PLOT,\n",
    "                  framewise=True)\n",
    "img_opts = dict(width=W_IMG, height=H_IMG,\n",
    "                axiswise=True, \n",
    "                framewise=False,\n",
    "                tools=['hover', 'tap'],\n",
    "                colorbar=True\n",
    "               )\n",
    "wmts_opts = dict(width=W_IMG, height=H_IMG)\n",
    "\n",
    "tbl_opts = dict(width = W_PLOT)\n",
    "\n",
    "# datashader opts\n",
    "ds_opts = dict(width=W_IMG, height=H_IMG,\n",
    "#             x_sampling=0.5, \n",
    "#             y_sampling=0.5,\n",
    "            )"
   ]
  },
  {
   "cell_type": "code",
   "execution_count": null,
   "metadata": {},
   "outputs": [],
   "source": [
    "import inspect\n",
    "\n",
    "trange = list(map(pd.Timestamp, hvd_ea.range('time')))\n",
    "\n",
    "class ZonalExplorer(param.Parameterized):\n",
    "    \n",
    "    ################################################################################\n",
    "    ## Parameters\n",
    "    ################################################################################\n",
    "    print(\"Initializing parameter...\")\n",
    "    region = param.ObjectSelector(default='EA', objects=['EA', 'SA'])\n",
    "    varname = param.ObjectSelector(default=varnames[10],objects=varnames)\n",
    "    time_slider= param.Date(trange[0], bounds=trange)\n",
    "\n",
    "    \n",
    "    ################################################################################\n",
    "    ## Computations\n",
    "    ################################################################################\n",
    "    def __init__(self, **params):\n",
    "        print(\"Called: \", inspect.currentframe().f_code.co_name, 'from ', inspect.currentframe().f_back.f_code.co_name)\n",
    "\n",
    "        super().__init__(**params)\n",
    "        self.xrd = xrd_ea if self.region == 'EA' else xrd_sa\n",
    "        self.time_values = self.xrd.get_index('time')\n",
    "        self._set_empty_tplot()\n",
    "        \n",
    "    @param.depends('region', 'varname', 'time_slider', watch=True)\n",
    "    def dyn_timg(self): #update_timg\n",
    "        print(\"Called: \", inspect.currentframe().f_code.co_name, 'from ', inspect.currentframe().f_back.f_code.co_name)\n",
    "\n",
    "        self.xrd = xrd_ea if self.region == 'EA' else xrd_sa\n",
    "        self.time_values = self.xrd.get_index('time')\n",
    "        data = self.xrd[self.varname].sel(time=self.time_slider)\n",
    "        hvimg = gv.Image(data, ['X','Y'], self.varname,\n",
    "                         crs=ccrs.PlateCarree(),\n",
    "                         label=self.varname).opts(**img_opts)\n",
    "        self.timg = timg\n",
    "        \n",
    "        return basemap * datashade(self.timg, **ds_opts)\n",
    "    \n",
    "    @param.depends('varname') #no need to be updated ie. watching `varname` parameter\n",
    "    def _set_empty_tplot(self):\n",
    "        print(\"Called: \", inspect.currentframe().f_code.co_name, 'from ', inspect.currentframe().f_back.f_code.co_name)\n",
    "\n",
    "        self.empty_tplot = hv.Curve( \n",
    "            (self.time_values, np.empty(len(self.time_values))), \n",
    "            'time', self.varname).opts(line_alpha=0.)\n",
    "        return self.empty_tplot\n",
    "    \n",
    "    @param.depends('time_slider', watch=True)\n",
    "    def dyn_vline(self):\n",
    "        #todo\n",
    "        # 1. set datetime axes for holoviews \n",
    "        ## set an empty plot and add the vline there\n",
    "        print('type of timeslider val: ', type(self.time_slider))\n",
    "        print(\"Called: \", inspect.currentframe().f_code.co_name, 'from ', inspect.currentframe().f_back.f_code.co_name)\n",
    "        \n",
    "        self.vline = self.empty_tplot * hv.VLine(self.time_slider).opts(color='black')\n",
    "\n",
    "        return self.vline\n",
    "\n",
    "        \n",
    "    def panel(self):\n",
    "        return pn.Row(self.param, self.dyn_timg(), self.dyn_vline())\n",
    "    \n",
    "    "
   ]
  },
  {
   "cell_type": "code",
   "execution_count": null,
   "metadata": {},
   "outputs": [],
   "source": [
    "ze = ZonalExplorer()\n",
    "# ze.empty_tplot * hv.VLine(ze.time_values[10]).opts(color='black')\n",
    "# ze.panel().servable()"
   ]
  },
  {
   "cell_type": "code",
   "execution_count": null,
   "metadata": {},
   "outputs": [],
   "source": [
    "z = ze.empty_tplot"
   ]
  },
  {
   "cell_type": "code",
   "execution_count": null,
   "metadata": {},
   "outputs": [],
   "source": [
    "# todo: change "
   ]
  },
  {
   "cell_type": "code",
   "execution_count": null,
   "metadata": {},
   "outputs": [],
   "source": [
    "temp_img = ze.timg()\n",
    "temp_pimg = renderer.get_plot(temp_img)\n",
    "temp_ds = datashade(temp_img)\n",
    "temp_pds = renderer.get_plot(temp_ds)\n",
    "print(temp_img, temp_ds, id(temp_img), id(temp_ds))\n",
    "print(temp_pimg, temp_pds, id(temp_pimg), id(temp_pds))\n",
    "\n",
    "\n",
    "\n"
   ]
  },
  {
   "cell_type": "code",
   "execution_count": null,
   "metadata": {},
   "outputs": [],
   "source": [
    "print(temp_img)"
   ]
  },
  {
   "cell_type": "markdown",
   "metadata": {},
   "source": [
    "---\n",
    "## Dummy Explorer\n",
    "Modified: Jun 26, 2019\n",
    "\n"
   ]
  },
  {
   "cell_type": "code",
   "execution_count": null,
   "metadata": {},
   "outputs": [],
   "source": [
    "from bokeh.sampledata.iris import flowers\n",
    "from bokeh.sampledata.autompg import autompg_clean\n",
    "from bokeh.sampledata.population import data"
   ]
  },
  {
   "cell_type": "code",
   "execution_count": null,
   "metadata": {},
   "outputs": [],
   "source": [
    "class Dummy(param.Parameterized):\n",
    "    title = param.String(default=\"Data summary\")\n",
    "    dataset = param.ObjectSelector(default='iris', objects=['iris', 'autompg', 'population'])\n",
    "    rows = param.Integer(default=10, bounds=(0, 100))\n",
    "\n",
    "    def data(self):\n",
    "        if self.dataset == 'iris':\n",
    "            return flowers\n",
    "        elif self.dataset == 'autompg':\n",
    "            return autompg_clean\n",
    "        else:\n",
    "            return data"
   ]
  },
  {
   "cell_type": "code",
   "execution_count": null,
   "metadata": {},
   "outputs": [],
   "source": []
  },
  {
   "cell_type": "code",
   "execution_count": null,
   "metadata": {},
   "outputs": [],
   "source": []
  },
  {
   "cell_type": "code",
   "execution_count": null,
   "metadata": {},
   "outputs": [],
   "source": []
  },
  {
   "cell_type": "code",
   "execution_count": null,
   "metadata": {},
   "outputs": [],
   "source": []
  },
  {
   "cell_type": "code",
   "execution_count": null,
   "metadata": {},
   "outputs": [],
   "source": []
  },
  {
   "cell_type": "code",
   "execution_count": null,
   "metadata": {},
   "outputs": [],
   "source": []
  },
  {
   "cell_type": "markdown",
   "metadata": {},
   "source": [
    "---\n",
    "## Experiment: DynamicMap and its HV Plot object\n",
    "With `param`'s parameter and \\@param.depends"
   ]
  },
  {
   "cell_type": "code",
   "execution_count": null,
   "metadata": {},
   "outputs": [],
   "source": []
  },
  {
   "cell_type": "code",
   "execution_count": null,
   "metadata": {},
   "outputs": [],
   "source": [
    "class Dummy(param.Parameterized):\n",
    "    # parameter\n",
    "    n = param.Integer(default=3)\n",
    "    \n",
    "    # Initialization\n",
    "    def __init__(self, **params):\n",
    "        super().__init__(**params)\n",
    "#         init_dmap()\n",
    "        \n",
    "    # computations\n",
    "    def get_points_static(self):\n",
    "        return hv.Points(np.arange(4)).opts(color='red')\n",
    "    \n",
    "    @param.depends('n')\n",
    "    def get_points(self):\n",
    "        ys = np.arange(self.n)\n",
    "#         print(\"Is it updating the dmap_fig/plot or just the image?\")\n",
    "#         print('\\tdmap_fig: ', self.dmap_fig)\n",
    "        return hv.Points(ys)\n",
    "    \n",
    "#     @param.depends\n",
    "    def dmap(self):\n",
    "        self.dmap = hv.DynamicMap(self.get_points)\n",
    "        self.dmap_fig = renderer.get_plot(self.dmap)\n",
    "        print('dmap_fig: ', self.dmap_fig)\n",
    "        pdb.set_trace()\n",
    "        return self.dmap\n",
    "        \n",
    "    def view(self):\n",
    "        return self.get_points()\n",
    "                                  \n",
    "    def panel(self):\n",
    "        return pn.Row(self.param, self.view)"
   ]
  },
  {
   "cell_type": "code",
   "execution_count": null,
   "metadata": {},
   "outputs": [],
   "source": [
    "dummy = Dummy()\n"
   ]
  },
  {
   "cell_type": "code",
   "execution_count": null,
   "metadata": {},
   "outputs": [],
   "source": [
    "dummy.dmap()\n"
   ]
  },
  {
   "cell_type": "code",
   "execution_count": null,
   "metadata": {},
   "outputs": [],
   "source": [
    "mro(pn.panel(dummy.dmap)), display(pn.panel(dummy.dmap))"
   ]
  },
  {
   "cell_type": "code",
   "execution_count": null,
   "metadata": {},
   "outputs": [],
   "source": [
    "mro(dummy.get_points_static())"
   ]
  },
  {
   "cell_type": "code",
   "execution_count": null,
   "metadata": {},
   "outputs": [],
   "source": [
    "static_method_panel = pn.panel(dummy.get_points_static)\n",
    "mro(static_method_panel)"
   ]
  },
  {
   "cell_type": "code",
   "execution_count": null,
   "metadata": {},
   "outputs": [],
   "source": [
    "dependent_method_panel = pn.panel(dummy.get_points)\n",
    "u.nprint(mro(dependent_method_panel))\n",
    "u.nprint(dependent_method_panel._callbacks)"
   ]
  },
  {
   "cell_type": "code",
   "execution_count": null,
   "metadata": {},
   "outputs": [],
   "source": [
    "dmap_panel = pn.panel(dummy.dmap)\n",
    "mro(dmap_panel)"
   ]
  },
  {
   "cell_type": "code",
   "execution_count": null,
   "metadata": {},
   "outputs": [],
   "source": [
    "static_method_panel.object\n",
    "# mro(static_method_panel.get_root())"
   ]
  },
  {
   "cell_type": "code",
   "execution_count": null,
   "metadata": {},
   "outputs": [],
   "source": [
    "static_method_panel._callbacks"
   ]
  },
  {
   "cell_type": "code",
   "execution_count": null,
   "metadata": {},
   "outputs": [],
   "source": []
  },
  {
   "cell_type": "code",
   "execution_count": null,
   "metadata": {},
   "outputs": [],
   "source": []
  },
  {
   "cell_type": "code",
   "execution_count": null,
   "metadata": {},
   "outputs": [],
   "source": []
  },
  {
   "cell_type": "code",
   "execution_count": null,
   "metadata": {},
   "outputs": [],
   "source": []
  },
  {
   "cell_type": "code",
   "execution_count": null,
   "metadata": {},
   "outputs": [],
   "source": [
    "print(dmap_panel.object)"
   ]
  },
  {
   "cell_type": "code",
   "execution_count": null,
   "metadata": {},
   "outputs": [],
   "source": []
  },
  {
   "cell_type": "code",
   "execution_count": null,
   "metadata": {},
   "outputs": [],
   "source": []
  },
  {
   "cell_type": "code",
   "execution_count": null,
   "metadata": {},
   "outputs": [],
   "source": []
  },
  {
   "cell_type": "code",
   "execution_count": null,
   "metadata": {},
   "outputs": [],
   "source": []
  },
  {
   "cell_type": "code",
   "execution_count": null,
   "metadata": {},
   "outputs": [],
   "source": []
  },
  {
   "cell_type": "code",
   "execution_count": null,
   "metadata": {},
   "outputs": [],
   "source": []
  },
  {
   "cell_type": "code",
   "execution_count": null,
   "metadata": {},
   "outputs": [],
   "source": [
    "p = dummy.panel()"
   ]
  },
  {
   "cell_type": "code",
   "execution_count": null,
   "metadata": {},
   "outputs": [],
   "source": [
    "p"
   ]
  },
  {
   "cell_type": "code",
   "execution_count": null,
   "metadata": {},
   "outputs": [],
   "source": [
    "row = pn.Row(dummy.view)"
   ]
  },
  {
   "cell_type": "code",
   "execution_count": null,
   "metadata": {},
   "outputs": [],
   "source": [
    "type(row)\n"
   ]
  },
  {
   "cell_type": "code",
   "execution_count": null,
   "metadata": {},
   "outputs": [],
   "source": [
    "row.objects"
   ]
  },
  {
   "cell_type": "code",
   "execution_count": null,
   "metadata": {},
   "outputs": [],
   "source": [
    "dummy.view, mro(dummy.view)\n",
    "\n"
   ]
  },
  {
   "cell_type": "code",
   "execution_count": null,
   "metadata": {},
   "outputs": [],
   "source": [
    "r2 = pn.Row(dummy.param, dummy.view)"
   ]
  },
  {
   "cell_type": "code",
   "execution_count": null,
   "metadata": {},
   "outputs": [],
   "source": [
    "r2"
   ]
  },
  {
   "cell_type": "code",
   "execution_count": null,
   "metadata": {},
   "outputs": [],
   "source": [
    "r2.objects\n"
   ]
  },
  {
   "cell_type": "code",
   "execution_count": null,
   "metadata": {},
   "outputs": [],
   "source": [
    "pn.panel(dummy.get_points)"
   ]
  },
  {
   "cell_type": "code",
   "execution_count": null,
   "metadata": {},
   "outputs": [],
   "source": [
    "mro(pn.panel(dummy.get_points))"
   ]
  },
  {
   "cell_type": "code",
   "execution_count": null,
   "metadata": {},
   "outputs": [],
   "source": [
    "pn.panel(dummy.get_points())"
   ]
  },
  {
   "cell_type": "code",
   "execution_count": null,
   "metadata": {},
   "outputs": [],
   "source": [
    "mro(pn.panel(dummy.get_points()))"
   ]
  },
  {
   "cell_type": "markdown",
   "metadata": {},
   "source": [
    "---\n",
    "## Clean BoxEdit from Scratch\n",
    "Modified: Jun 26, 2019\n",
    "\n",
    "- Incoporating HoloMap and DynamicMap objects\n",
    "    - [src](http://holoviews.org/user_guide/Live_Data.html)"
   ]
  },
  {
   "cell_type": "code",
   "execution_count": null,
   "metadata": {},
   "outputs": [],
   "source": [
    "xrd=xrd_ea\n",
    "varname=varnames[7]\n",
    "t = '2019-04-10'\n",
    "time_values = xrd.get_index('time')\n",
    "# time_values = pd.date_range('2019-04-01', '2019-04-30', freq='D')\n",
    "\n",
    "data = xrd[varname]#.sel(time=t)\n",
    "hvd = gv.Dataset(data, ['X','Y','time'], varname, crs=ccrs.PlateCarree())\n",
    "\n",
    "def get_timg(time):\n",
    "    data = xrd[varname].sel(time=time)\n",
    "    return gv.Image(data, ['X','Y'], varname, crs=ccrs.PlateCarree())\n",
    "dmap_timg = datashade(hv.DynamicMap(get_timg, kdims='time'),\n",
    "                      **ds_opts)"
   ]
  },
  {
   "cell_type": "code",
   "execution_count": null,
   "metadata": {},
   "outputs": [],
   "source": [
    "# dmap_realized = dmap_timg.redim.values(time=time_values)\n",
    "# pn.panel(dmap_realized)"
   ]
  },
  {
   "cell_type": "code",
   "execution_count": null,
   "metadata": {},
   "outputs": [],
   "source": [
    "# Set BoxEdit stream\n",
    "polys = gv.Polygons([], crs=ccrs.PlateCarree())\n",
    "box_stream = streams.BoxEdit(source=polys)\n"
   ]
  },
  {
   "cell_type": "code",
   "execution_count": null,
   "metadata": {},
   "outputs": [],
   "source": [
    "def get_empty_tplot():\n",
    "    # Set empty tplot and vlines\n",
    "    dummy_df = pd.DataFrame({'time': time_values, \n",
    "                             varname:np.zeros(len(time_values))})\n",
    "    empty_tplot= hv.Curve(dummy_df, 'time', varname).opts(line_alpha=0.)\n",
    "    return empty_tplot\n",
    "\n",
    "def get_hvmap_vlines(vline_opts={}):\n",
    "    # Set empty tplot and vlines\n",
    "    empty_tplot= get_empty_tplot()\n",
    "    vlines = hv.HoloMap({t: hv.VLine(t).opts(**vline_opts) for t in time_values},\n",
    "                        kdims='time')\n",
    "#     return empty_tplot * vlines\n",
    "    return vlines\n",
    "\n",
    "empty_tplot = get_empty_tplot()\n",
    "vlines = get_hvmap_vlines(dict(color='green')) \n",
    "print(vlines)"
   ]
  },
  {
   "cell_type": "code",
   "execution_count": null,
   "metadata": {},
   "outputs": [],
   "source": [
    "# pn.panel(dmap_timg + hvmap_vlines)"
   ]
  },
  {
   "cell_type": "markdown",
   "metadata": {},
   "source": [
    "Success!!!"
   ]
  },
  {
   "cell_type": "code",
   "execution_count": null,
   "metadata": {},
   "outputs": [],
   "source": [
    "def roi_curves(data):\n",
    "    if not data or not any(len(d) for d in data.values()):\n",
    "        return hv.NdOverlay({0: empty_tplot})\n",
    "    curves = {}\n",
    "    data = zip(data['x0'], data['x1'], data['y0'], data['y1'])\n",
    "    for i, (x0,x1,y0,y1) in enumerate(data):\n",
    "        selection = hv.Dataset( xrd[varname].sel(X=slice(x0,x1), Y=slice(y0,y1)), kdims=['X','Y','time'])\n",
    "        curves[i] = hv.Curve(selection.aggregate('time', np.nanmean), 'time', varname)\n",
    "    return hv.NdOverlay(curves, label='roi_curves', kdims='roi')\n",
    "\n",
    "dmap_roi_curves = hv.DynamicMap(roi_curves, streams=[box_stream])"
   ]
  },
  {
   "cell_type": "code",
   "execution_count": null,
   "metadata": {},
   "outputs": [],
   "source": [
    "print(dmap_roi_curves)\n",
    "dmap_roi_curves"
   ]
  },
  {
   "cell_type": "code",
   "execution_count": null,
   "metadata": {},
   "outputs": [],
   "source": [
    "comp1 = dmap_timg*polys + vlines*empty_tplot\n",
    "print(comp1)\n",
    "print(dmap_roi_curves)"
   ]
  },
  {
   "cell_type": "code",
   "execution_count": null,
   "metadata": {},
   "outputs": [],
   "source": [
    "empty_tplot * dmap_roi_curves "
   ]
  },
  {
   "cell_type": "code",
   "execution_count": null,
   "metadata": {},
   "outputs": [],
   "source": [
    "print(vlines)"
   ]
  },
  {
   "cell_type": "code",
   "execution_count": null,
   "metadata": {},
   "outputs": [],
   "source": [
    "test_rois = {'x0': [28.484264530634945, 23.75232112846949], \n",
    "             'y0': [5.161857571360065, -4.790934173611567], \n",
    "             'x1': [39.80125756910407, 35.76445237820839], \n",
    "             'y1': [16.341892860897076, 10.938420208725127]}\n",
    "# test_rois\n",
    "box_stream.event(data=test_rois)\n",
    "# box_stream.event(data={})"
   ]
  },
  {
   "cell_type": "code",
   "execution_count": null,
   "metadata": {},
   "outputs": [],
   "source": []
  },
  {
   "cell_type": "code",
   "execution_count": null,
   "metadata": {},
   "outputs": [],
   "source": [
    "trange = list(map(pd.Timestamp, hvd_ea.range('time')))\n",
    "class Time(param.Parameterized):\n",
    "    \n",
    "    time= param.Date(trange[0], bounds=trange)\n",
    "    "
   ]
  },
  {
   "cell_type": "code",
   "execution_count": null,
   "metadata": {},
   "outputs": [],
   "source": [
    "# time stream\n",
    "tparam = Time()\n",
    "tparam\n",
    "stream = streams.Params(tparam)\n",
    "twidget =pn.panel(tparam.param\n",
    "         , widgets={'time': pn.widgets.DateSlider})"
   ]
  },
  {
   "cell_type": "code",
   "execution_count": null,
   "metadata": {},
   "outputs": [],
   "source": [
    "## better way\n",
    "\n",
    "from holoviews.streams import Stream, param\n",
    "# Time = Stream.define('Time', t=0.0)\n",
    "Time = Stream.define('Time', time=param.Date(trange[0], bounds=trange, doc='a time parameter'))\n",
    "tparam = Time()\n",
    "print(tparam)\n",
    "hv.help(Time)"
   ]
  },
  {
   "cell_type": "code",
   "execution_count": null,
   "metadata": {},
   "outputs": [],
   "source": [
    "u.nprint(tparam, twidget.objects, stream)"
   ]
  },
  {
   "cell_type": "code",
   "execution_count": null,
   "metadata": {},
   "outputs": [],
   "source": [
    "dmap_debug = hv.DynamicMap( hvu.get_debug_div, streams=[tparam])"
   ]
  },
  {
   "cell_type": "code",
   "execution_count": null,
   "metadata": {},
   "outputs": [],
   "source": [
    "dmap_vline = hv.DynamicMap(lambda time: hv.VLine(time), streams=[tparam])"
   ]
  },
  {
   "cell_type": "code",
   "execution_count": null,
   "metadata": {},
   "outputs": [],
   "source": [
    "dmap_img = hv.DynamicMap(lambda time: get_timg(time), streams=[tparam])\n",
    "dmap = dmap_img * polys"
   ]
  },
  {
   "cell_type": "code",
   "execution_count": null,
   "metadata": {},
   "outputs": [],
   "source": [
    "stream.event(time=pd.Timestamp('2019-04-12'))\n",
    "stream"
   ]
  },
  {
   "cell_type": "code",
   "execution_count": null,
   "metadata": {},
   "outputs": [],
   "source": [
    "pn.Row(tparam, dmap_img + dmap_debug).servable()"
   ]
  },
  {
   "cell_type": "code",
   "execution_count": null,
   "metadata": {},
   "outputs": [],
   "source": [
    "tparam.event(time=pd.Timestamp('2019-04-05'))"
   ]
  },
  {
   "cell_type": "code",
   "execution_count": null,
   "metadata": {},
   "outputs": [],
   "source": [
    "dmap_img.streams, dmap_debug.streams"
   ]
  },
  {
   "cell_type": "code",
   "execution_count": null,
   "metadata": {},
   "outputs": [],
   "source": [
    "dmap_debug"
   ]
  },
  {
   "cell_type": "code",
   "execution_count": null,
   "metadata": {},
   "outputs": [],
   "source": [
    "pn.panel(tparam.param\n",
    "         , widgets={'time': pn.widgets.DateSlider})"
   ]
  },
  {
   "cell_type": "code",
   "execution_count": null,
   "metadata": {},
   "outputs": [],
   "source": []
  },
  {
   "cell_type": "code",
   "execution_count": null,
   "metadata": {},
   "outputs": [],
   "source": []
  },
  {
   "cell_type": "code",
   "execution_count": null,
   "metadata": {},
   "outputs": [],
   "source": [
    "stream.tr"
   ]
  },
  {
   "cell_type": "code",
   "execution_count": null,
   "metadata": {},
   "outputs": [],
   "source": [
    "tparam"
   ]
  },
  {
   "cell_type": "code",
   "execution_count": null,
   "metadata": {},
   "outputs": [],
   "source": [
    "mro(tparam)"
   ]
  },
  {
   "cell_type": "code",
   "execution_count": null,
   "metadata": {},
   "outputs": [],
   "source": [
    "tparam"
   ]
  },
  {
   "cell_type": "code",
   "execution_count": null,
   "metadata": {},
   "outputs": [],
   "source": []
  }
 ],
 "metadata": {
  "kernelspec": {
   "display_name": "Python [conda env:earthml]",
   "language": "python",
   "name": "conda-env-earthml-py"
  },
  "language_info": {
   "codemirror_mode": {
    "name": "ipython",
    "version": 3
   },
   "file_extension": ".py",
   "mimetype": "text/x-python",
   "name": "python",
   "nbconvert_exporter": "python",
   "pygments_lexer": "ipython3",
   "version": "3.7.3"
  }
 },
 "nbformat": 4,
 "nbformat_minor": 2
}
