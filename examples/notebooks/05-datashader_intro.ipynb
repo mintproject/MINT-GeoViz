{
 "cells": [
  {
   "cell_type": "markdown",
   "metadata": {},
   "source": [
    "# Introduction to Datashader + Holoviews\n",
    "Modified: Jun 11, 2019"
   ]
  },
  {
   "cell_type": "code",
   "execution_count": null,
   "metadata": {},
   "outputs": [],
   "source": [
    "import holoviews as hv\n",
    "import pandas as pd\n",
    "\n",
    "import numpy as np\n",
    "import datashader as ds\n",
    "import datashader.transfer_functions as tf \n",
    "hv.extension('bokeh')"
   ]
  },
  {
   "cell_type": "code",
   "execution_count": null,
   "metadata": {},
   "outputs": [],
   "source": [
    "points = [(0.1*i, np.sin(0.1*i)) for i in range(100)]\n",
    "curve = hv.Curve(points)"
   ]
  },
  {
   "cell_type": "code",
   "execution_count": null,
   "metadata": {},
   "outputs": [],
   "source": [
    "r = hv.renderer('bokeh')"
   ]
  },
  {
   "cell_type": "code",
   "execution_count": null,
   "metadata": {},
   "outputs": [],
   "source": [
    "plot = r.get_plot(curve);print(plot)"
   ]
  },
  {
   "cell_type": "code",
   "execution_count": null,
   "metadata": {},
   "outputs": [],
   "source": [
    "atts = [str(att) for att in dir(plot) if not att.startswith('_')]\n",
    "print(len(atts))\n",
    "n_atts = len(atts)\n",
    "hv.Table(pd.DataFrame(atts, columns=['att']))"
   ]
  },
  {
   "cell_type": "code",
   "execution_count": null,
   "metadata": {},
   "outputs": [],
   "source": [
    "plot.ranges"
   ]
  },
  {
   "cell_type": "code",
   "execution_count": null,
   "metadata": {},
   "outputs": [],
   "source": [
    "type(plot)"
   ]
  },
  {
   "cell_type": "code",
   "execution_count": null,
   "metadata": {},
   "outputs": [],
   "source": [
    "plot.__class__.mro()"
   ]
  },
  {
   "cell_type": "code",
   "execution_count": null,
   "metadata": {},
   "outputs": [],
   "source": [
    "    plot.\n"
   ]
  },
  {
   "cell_type": "code",
   "execution_count": null,
   "metadata": {},
   "outputs": [],
   "source": [
    "plot.set_param(height=500)"
   ]
  },
  {
   "cell_type": "code",
   "execution_count": null,
   "metadata": {},
   "outputs": [],
   "source": [
    "fig  = plot.state\n",
    "from bokeh.plotting import show"
   ]
  },
  {
   "cell_type": "code",
   "execution_count": null,
   "metadata": {},
   "outputs": [],
   "source": [
    "show(fig)"
   ]
  },
  {
   "cell_type": "code",
   "execution_count": null,
   "metadata": {},
   "outputs": [],
   "source": [
    "from IPython.display import display_html\n",
    "display_html(r.html(curve), raw=True)"
   ]
  },
  {
   "cell_type": "code",
   "execution_count": null,
   "metadata": {},
   "outputs": [],
   "source": [
    "hmap = hv.HoloMap({i: hv.Image(np.random.rand(10, 10)) for i in range(3)})\n",
    "widget = r.get_widget(hmap, ')\n",
    "widget"
   ]
  },
  {
   "cell_type": "code",
   "execution_count": null,
   "metadata": {},
   "outputs": [],
   "source": [
    "dimx = curve.get_dimension('x')"
   ]
  },
  {
   "cell_type": "code",
   "execution_count": null,
   "metadata": {},
   "outputs": [],
   "source": [
    "dimx.pprint_label"
   ]
  },
  {
   "cell_type": "code",
   "execution_count": null,
   "metadata": {},
   "outputs": [],
   "source": [
    "plot.sub\n"
   ]
  },
  {
   "cell_type": "code",
   "execution_count": null,
   "metadata": {},
   "outputs": [],
   "source": [
    "import holoviews as hv\n",
    "hv.extension('bokeh')\n",
    "import pandas as pd\n",
    "hm = hv.HoloMap(enumerate([hv.Ellipse(i, i, 1).opts(framewise=False) for i in range(10)]))"
   ]
  },
  {
   "cell_type": "code",
   "execution_count": null,
   "metadata": {},
   "outputs": [],
   "source": [
    "hm"
   ]
  },
  {
   "cell_type": "code",
   "execution_count": null,
   "metadata": {},
   "outputs": [],
   "source": [
    "from collections import OrderedDict as odict\n",
    "\n",
    "n_points = 10000\n",
    "np.random.seed(1)\n",
    "\n",
    "dists = {cat: pd.DataFrame(odict(x= np.random.normal(center_x, std, n_points),\n",
    "                                y= np.random.normal(center_y, std, n_points),\n",
    "                                 val=val,\n",
    "                                label=cat))\n",
    "         for (cat, center_x, center_y, std, val) in [\n",
    "             [0, 0., 0., 0.1, 10],\n",
    "             [1, 5., 0., 1, 20 ],\n",
    "             [2, -5, 0, 0.1, 30],\n",
    "         ]\n",
    "        }\n",
    "\n",
    "dists = pd.concat(dists, ignore_index=True)\n",
    "dists['label'] = dists['label'].astype('category');"
   ]
  },
  {
   "cell_type": "code",
   "execution_count": null,
   "metadata": {},
   "outputs": [],
   "source": [
    "img_h, img_w = 500,500\n",
    "\n",
    "arr = ds.Canvas(plot_width=img_w, plot_height=img_h, x_range=(-8,8), y_range=(-8,8)).points(dists, 'x', 'y')\n",
    "img = tf.shade(arr)\n"
   ]
  },
  {
   "cell_type": "code",
   "execution_count": null,
   "metadata": {},
   "outputs": [],
   "source": [
    "canvas = ds.Canvas(plot_width=img_w, plot_height=img_h, x_range=(-10,10), y_range=(-10,10))\n",
    "arr = canvas.points(dists, 'x','y', agg=ds.count())"
   ]
  },
  {
   "cell_type": "code",
   "execution_count": null,
   "metadata": {},
   "outputs": [],
   "source": [
    "tf.Images(\n",
    "    tf.shade(canvas.points(dists, 'x','y', agg=ds.count()), name='count()'),\n",
    "    tf.shade( canvas.points(dists, 'x','y', agg=ds.any()), name='any()'),\n",
    "    tf.shade( canvas.points(dists, 'x','y', agg=ds.mean('y')), name='mean(y)') \n",
    ")\n",
    "    "
   ]
  },
  {
   "cell_type": "code",
   "execution_count": null,
   "metadata": {},
   "outputs": [],
   "source": [
    "arr"
   ]
  },
  {
   "cell_type": "code",
   "execution_count": null,
   "metadata": {},
   "outputs": [],
   "source": [
    "tf.shade( arr.where(arr>=np.percentile(arr, 99)) )"
   ]
  },
  {
   "cell_type": "code",
   "execution_count": null,
   "metadata": {},
   "outputs": [],
   "source": [
    "aggc = canvas.points(dists, 'x', 'y', ds.count_cat('label'))\n",
    "aggc"
   ]
  },
  {
   "cell_type": "code",
   "execution_count": null,
   "metadata": {},
   "outputs": [],
   "source": [
    "tf.Images(\n",
    "    tf.shade(aggc.sel(label=0), name='label=0'),\n",
    "    tf.shade(aggc.sel(label=1), name='label=1'),\n",
    "    tf.shade(aggc.sel(label=2), name='label=2')\n",
    ")"
   ]
  },
  {
   "cell_type": "code",
   "execution_count": null,
   "metadata": {},
   "outputs": [],
   "source": [
    "agg_01 = aggc.sel(label=0) + aggc.sel(label=1)\n",
    "tf.shade(agg_01)"
   ]
  },
  {
   "cell_type": "code",
   "execution_count": null,
   "metadata": {},
   "outputs": [],
   "source": [
    "agg_0gt1 = agg_01.where(aggc.sel(label=0) > aggc.sel(label=1))\n",
    "tf.shade(agg_0gt1)\n"
   ]
  },
  {
   "cell_type": "code",
   "execution_count": null,
   "metadata": {},
   "outputs": [],
   "source": [
    "tf.shade(aggc)"
   ]
  },
  {
   "cell_type": "code",
   "execution_count": null,
   "metadata": {},
   "outputs": [],
   "source": [
    "\n",
    "tf.Images(\n",
    "    tf.shade(agg),\n",
    "    tf.shade(agg, how='linear')\n",
    ")"
   ]
  },
  {
   "cell_type": "code",
   "execution_count": null,
   "metadata": {},
   "outputs": [],
   "source": [
    "tf.Images(\n",
    "    tf.set_backgroundtf.spread(img, px=1, name='spread 1px'),\n",
    "    tf.spread(img, px=2, name='spread 2px'),\n",
    "    tf.spread(img, px=5, name='spread 5px'),\n",
    "    tf.spread(img, px=5, shape='square', name='spread 5px, square')\n",
    ")\n",
    "\n"
   ]
  },
  {
   "cell_type": "code",
   "execution_count": null,
   "metadata": {},
   "outputs": [],
   "source": [
    "tf.Images(\n",
    "    tf.set_background(\n",
    "        tf.spread(img, px=1, name='spread 1px'),\n",
    "        color='black',\n",
    "        name='black'\n",
    "    ))\n",
    "    \n",
    "     "
   ]
  },
  {
   "cell_type": "code",
   "execution_count": null,
   "metadata": {},
   "outputs": [],
   "source": []
  }
 ],
 "metadata": {
  "kernelspec": {
   "display_name": "Python [conda env:pyviz-tutorial]",
   "language": "python",
   "name": "conda-env-pyviz-tutorial-py"
  },
  "language_info": {
   "codemirror_mode": {
    "name": "ipython",
    "version": 3
   },
   "file_extension": ".py",
   "mimetype": "text/x-python",
   "name": "python",
   "nbconvert_exporter": "python",
   "pygments_lexer": "ipython3",
   "version": "3.6.7"
  }
 },
 "nbformat": 4,
 "nbformat_minor": 2
}
