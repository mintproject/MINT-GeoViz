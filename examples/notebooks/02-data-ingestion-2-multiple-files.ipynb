{
 "cells": [
  {
   "cell_type": "markdown",
   "metadata": {},
   "source": [
    "# Demo Part 2: Multiple file loading using `intake`\n",
    "- author: hjsong\n",
    "- date: 05/22/2019\n",
    "\n",
    "todo: add description\n"
   ]
  },
  {
   "cell_type": "code",
   "execution_count": 22,
   "metadata": {},
   "outputs": [],
   "source": [
    "%load_ext autoreload\n",
    "%autoreload 2"
   ]
  },
  {
   "cell_type": "code",
   "execution_count": 9,
   "metadata": {},
   "outputs": [
    {
     "name": "stdout",
     "output_type": "stream",
     "text": [
      "Added /home/hayley/Playground/Geo/EarthML/examples/tutorial/../utils to sys.path\n",
      "['/home/hayley/Playground/Geo/EarthML/examples/tutorial/../utils',\n",
      " '',\n",
      " '/home/hayley/Playground/Geo/EarthML/examples/tutorial',\n",
      " '/home/hayley/miniconda3/envs/earthml/lib/python37.zip',\n",
      " '/home/hayley/miniconda3/envs/earthml/lib/python3.7',\n",
      " '/home/hayley/miniconda3/envs/earthml/lib/python3.7/lib-dynload',\n",
      " '/home/hayley/miniconda3/envs/earthml/lib/python3.7/site-packages',\n",
      " '/home/hayley/miniconda3/envs/earthml/lib/python3.7/site-packages/IPython/extensions',\n",
      " '/home/hayley/.ipython']\n"
     ]
    }
   ],
   "source": [
    "import os, sys\n",
    "from pathlib import Path\n",
    "from pprint import pprint\n",
    "\n",
    "UTILS_DIR = Path('../utils').absolute()\n",
    "assert UTILS_DIR.exists()\n",
    "if str(UTILS_DIR) not in sys.path:\n",
    "    sys.path.insert(0, str(UTILS_DIR))\n",
    "    print(f\"Added {str(UTILS_DIR)} to sys.path\")\n",
    "\n",
    "pprint(sys.path)\n",
    "    "
   ]
  },
  {
   "cell_type": "code",
   "execution_count": 10,
   "metadata": {},
   "outputs": [],
   "source": [
    "from utils import get_mro as mro, nprint, dict2json, display_dict2json"
   ]
  },
  {
   "cell_type": "code",
   "execution_count": 11,
   "metadata": {},
   "outputs": [
    {
     "name": "stdout",
     "output_type": "stream",
     "text": [
      "[('once', None, <class 'Warning'>, None, 0),\n",
      " ('error',\n",
      "  None,\n",
      "  <class 'IPython.core.completer.ProvisionalCompleterWarning'>,\n",
      "  None,\n",
      "  0),\n",
      " ('default', None, <class 'DeprecationWarning'>, '__main__', 0),\n",
      " ('ignore', None, <class 'DeprecationWarning'>, None, 0),\n",
      " ('ignore', None, <class 'PendingDeprecationWarning'>, None, 0),\n",
      " ('ignore', None, <class 'ImportWarning'>, None, 0),\n",
      " ('ignore', None, <class 'ResourceWarning'>, None, 0)]\n"
     ]
    }
   ],
   "source": [
    "# Don't want to see deprecation warnings\n",
    "# https://docs.python.org/3/library/warnings.html#warning-filter\n",
    "# jupyternotebooks are run as '__main__' module\n",
    "# print(__name___) #at the console\n",
    "      \n",
    "import warnings\n",
    "pprint(warnings.filters)"
   ]
  },
  {
   "cell_type": "code",
   "execution_count": 12,
   "metadata": {},
   "outputs": [],
   "source": [
    "if not sys.warnoptions:\n",
    "    warnings.simplefilter('ignore')"
   ]
  },
  {
   "cell_type": "markdown",
   "metadata": {},
   "source": [
    "## Inline loading\n",
    "\n",
    "We'll start with the simple case of loading small local datasets, such as a .csv file for Pandas:"
   ]
  },
  {
   "cell_type": "code",
   "execution_count": 29,
   "metadata": {},
   "outputs": [
    {
     "name": "stdout",
     "output_type": "stream",
     "text": [
      "['airline_flights', 'us_crime', 'states']\n",
      "{'datashape': None,\n",
      " 'dtype': {'Aggravated assault': 'int64',\n",
      "           'Aggravated assault rate': 'float64',\n",
      "           'Burglary': 'int64',\n",
      "           'Burglary rate': 'float64',\n",
      "           'Larceny-theft': 'int64',\n",
      "           'Larceny-theft rate': 'float64',\n",
      "           'Legacy rape /1': 'int64',\n",
      "           'Legacy rape rate /1': 'float64',\n",
      "           'Motor vehicle theft': 'int64',\n",
      "           'Motor vehicle theft rate': 'float64',\n",
      "           'Murder and nonnegligent Manslaughter': 'int64',\n",
      "           'Murder and nonnegligent manslaughter rate': 'float64',\n",
      "           'Population': 'int64',\n",
      "           'Property crime rate': 'float64',\n",
      "           'Property crime total': 'int64',\n",
      "           'Revised rape /2': 'float64',\n",
      "           'Revised rape rate /2': 'float64',\n",
      "           'Robbery': 'int64',\n",
      "           'Robbery rate': 'float64',\n",
      "           'Violent Crime rate': 'float64',\n",
      "           'Violent crime total': 'int64',\n",
      "           'Year': 'int64'},\n",
      " 'metadata': {'cache': [],\n",
      "              'catalog_dir': '/home/hayley/miniconda3/envs/earthml/share/intake/',\n",
      "              'plots': {'example': {'kind': 'line',\n",
      "                                    'x': 'Year',\n",
      "                                    'y': ['Robbery', 'Burglary']}}},\n",
      " 'npartitions': 1,\n",
      " 'shape': (None, 22)}\n"
     ]
    }
   ],
   "source": [
    "import intake\n",
    "print(list(intake.cat))\n",
    "\n",
    "cat_crime = intake.cat.us_crime\n",
    "pprint(cat_crime.discover())"
   ]
  }
 ],
 "metadata": {
  "kernelspec": {
   "display_name": "Python [conda env:earthml]",
   "language": "python",
   "name": "conda-env-earthml-py"
  },
  "language_info": {
   "codemirror_mode": {
    "name": "ipython",
    "version": 3
   },
   "file_extension": ".py",
   "mimetype": "text/x-python",
   "name": "python",
   "nbconvert_exporter": "python",
   "pygments_lexer": "ipython3",
   "version": "3.7.1"
  }
 },
 "nbformat": 4,
 "nbformat_minor": 2
}
